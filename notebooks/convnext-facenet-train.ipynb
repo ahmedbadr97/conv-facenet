{
 "cells": [
  {
   "cell_type": "markdown",
   "metadata": {
    "pycharm": {
     "name": "#%% md\n"
    }
   },
   "source": [
    "# Imports\n"
   ]
  },
  {
   "cell_type": "code",
   "execution_count": 3,
   "metadata": {
    "pycharm": {
     "name": "#%%\n"
    }
   },
   "outputs": [],
   "source": [
    "from src.convfacenet_train import data_load,models_train,utils,generate_dataset,evaluation\n",
    "import matplotlib.pyplot as plt\n",
    "from torch.utils.data import DataLoader\n",
    "from src.convfacenet import face_descriptor\n",
    "from torchvision import transforms\n",
    "import pandas as pd\n",
    "import time\n"
   ]
  },
  {
   "cell_type": "code",
   "execution_count": 4,
   "metadata": {
    "pycharm": {
     "name": "#%%\n"
    }
   },
   "outputs": [],
   "source": [
    "dataset_path = \"../dataset/preprocessed/img_celeb_full\"\n",
    "model_weights_path=\"../model_weights/convnext_tiny\"\n",
    "train_data_save_path=\"../training log/convnext\"\n",
    "lfw_dataset_path=\"../dataset/preprocessed/lfw_prep\"\n",
    "img_celeb_subset=\"../dataset/preprocessed/img_celeb_test\"\n",
    "batch_size=8\n",
    "stop_n_layers=5\n",
    "\n",
    "train_transform = transforms.Compose([transforms.RandomHorizontalFlip(),transforms.RandomRotation(10),transforms.ToTensor(),transforms.Normalize([0.485, 0.456, 0.406],[0.229, 0.224, 0.225])])\n",
    "test_transform=transforms.Compose([transforms.ToTensor(),transforms.Normalize([0.485, 0.456, 0.406],[0.229, 0.224, 0.225])])"
   ]
  },
  {
   "cell_type": "code",
   "execution_count": 5,
   "metadata": {
    "pycharm": {
     "name": "#%%\n"
    }
   },
   "outputs": [],
   "source": [
    "train_history=pd.read_csv(train_data_save_path+\"/train_data.csv\",index_col=False)"
   ]
  },
  {
   "cell_type": "code",
   "execution_count": 5,
   "metadata": {
    "pycharm": {
     "name": "#%%\n"
    }
   },
   "outputs": [],
   "source": []
  },
  {
   "cell_type": "code",
   "execution_count": 6,
   "metadata": {
    "pycharm": {
     "name": "#%%\n"
    }
   },
   "outputs": [
    {
     "data": {
      "text/plain": "     Train Loss  no train rows  Test Loss  No test rows  Time taken (M)  \\\n0      1.010731           1000   0.993768           500             4.5   \n1      1.010334           1000   0.995591           500             4.5   \n2      1.014047           1000   0.988849           500             4.5   \n3      1.011530           1000   0.999809           500             4.5   \n4      1.006939           1000   0.999730           500             6.0   \n..          ...            ...        ...           ...             ...   \n280    0.277700          10000   0.052551          5000            50.6   \n281    0.278854          10000   0.041266          5000            51.9   \n282    0.276347          10000   0.049603          5000            51.5   \n283    0.270502          10000   0.040039          5000            50.7   \n284    0.276937          10000   0.046459          5000            50.7   \n\n                                                 Notes        Date      Time  \n0    descriptor without input standardization class...  03/06/2022  16:42:00  \n1    descriptor without input standardization class...  03/06/2022  16:46:00  \n2    descriptor without input standardization class...  03/06/2022  16:51:00  \n3    descriptor without input standardization class...  03/06/2022  16:55:00  \n4    descriptor without input standardization class...  03/06/2022  17:01:00  \n..                                                 ...         ...       ...  \n280  descriptor hard negative selection from 10 not...  13/06/2022  06:57:00  \n281  descriptor hard negative selection from 10 not...  13/06/2022  07:49:00  \n282  descriptor hard negative selection from 10 not...  13/06/2022  08:41:00  \n283  descriptor hard negative selection from 10 not...  13/06/2022  09:31:00  \n284  descriptor hard negative selection from 10 not...  13/06/2022  10:22:00  \n\n[285 rows x 8 columns]",
      "text/html": "<div>\n<style scoped>\n    .dataframe tbody tr th:only-of-type {\n        vertical-align: middle;\n    }\n\n    .dataframe tbody tr th {\n        vertical-align: top;\n    }\n\n    .dataframe thead th {\n        text-align: right;\n    }\n</style>\n<table border=\"1\" class=\"dataframe\">\n  <thead>\n    <tr style=\"text-align: right;\">\n      <th></th>\n      <th>Train Loss</th>\n      <th>no train rows</th>\n      <th>Test Loss</th>\n      <th>No test rows</th>\n      <th>Time taken (M)</th>\n      <th>Notes</th>\n      <th>Date</th>\n      <th>Time</th>\n    </tr>\n  </thead>\n  <tbody>\n    <tr>\n      <th>0</th>\n      <td>1.010731</td>\n      <td>1000</td>\n      <td>0.993768</td>\n      <td>500</td>\n      <td>4.5</td>\n      <td>descriptor without input standardization class...</td>\n      <td>03/06/2022</td>\n      <td>16:42:00</td>\n    </tr>\n    <tr>\n      <th>1</th>\n      <td>1.010334</td>\n      <td>1000</td>\n      <td>0.995591</td>\n      <td>500</td>\n      <td>4.5</td>\n      <td>descriptor without input standardization class...</td>\n      <td>03/06/2022</td>\n      <td>16:46:00</td>\n    </tr>\n    <tr>\n      <th>2</th>\n      <td>1.014047</td>\n      <td>1000</td>\n      <td>0.988849</td>\n      <td>500</td>\n      <td>4.5</td>\n      <td>descriptor without input standardization class...</td>\n      <td>03/06/2022</td>\n      <td>16:51:00</td>\n    </tr>\n    <tr>\n      <th>3</th>\n      <td>1.011530</td>\n      <td>1000</td>\n      <td>0.999809</td>\n      <td>500</td>\n      <td>4.5</td>\n      <td>descriptor without input standardization class...</td>\n      <td>03/06/2022</td>\n      <td>16:55:00</td>\n    </tr>\n    <tr>\n      <th>4</th>\n      <td>1.006939</td>\n      <td>1000</td>\n      <td>0.999730</td>\n      <td>500</td>\n      <td>6.0</td>\n      <td>descriptor without input standardization class...</td>\n      <td>03/06/2022</td>\n      <td>17:01:00</td>\n    </tr>\n    <tr>\n      <th>...</th>\n      <td>...</td>\n      <td>...</td>\n      <td>...</td>\n      <td>...</td>\n      <td>...</td>\n      <td>...</td>\n      <td>...</td>\n      <td>...</td>\n    </tr>\n    <tr>\n      <th>280</th>\n      <td>0.277700</td>\n      <td>10000</td>\n      <td>0.052551</td>\n      <td>5000</td>\n      <td>50.6</td>\n      <td>descriptor hard negative selection from 10 not...</td>\n      <td>13/06/2022</td>\n      <td>06:57:00</td>\n    </tr>\n    <tr>\n      <th>281</th>\n      <td>0.278854</td>\n      <td>10000</td>\n      <td>0.041266</td>\n      <td>5000</td>\n      <td>51.9</td>\n      <td>descriptor hard negative selection from 10 not...</td>\n      <td>13/06/2022</td>\n      <td>07:49:00</td>\n    </tr>\n    <tr>\n      <th>282</th>\n      <td>0.276347</td>\n      <td>10000</td>\n      <td>0.049603</td>\n      <td>5000</td>\n      <td>51.5</td>\n      <td>descriptor hard negative selection from 10 not...</td>\n      <td>13/06/2022</td>\n      <td>08:41:00</td>\n    </tr>\n    <tr>\n      <th>283</th>\n      <td>0.270502</td>\n      <td>10000</td>\n      <td>0.040039</td>\n      <td>5000</td>\n      <td>50.7</td>\n      <td>descriptor hard negative selection from 10 not...</td>\n      <td>13/06/2022</td>\n      <td>09:31:00</td>\n    </tr>\n    <tr>\n      <th>284</th>\n      <td>0.276937</td>\n      <td>10000</td>\n      <td>0.046459</td>\n      <td>5000</td>\n      <td>50.7</td>\n      <td>descriptor hard negative selection from 10 not...</td>\n      <td>13/06/2022</td>\n      <td>10:22:00</td>\n    </tr>\n  </tbody>\n</table>\n<p>285 rows × 8 columns</p>\n</div>"
     },
     "execution_count": 6,
     "metadata": {},
     "output_type": "execute_result"
    }
   ],
   "source": [
    "train_history"
   ]
  },
  {
   "cell_type": "markdown",
   "metadata": {
    "pycharm": {
     "name": "#%% md\n"
    }
   },
   "source": [
    "# Face descriptor model train"
   ]
  },
  {
   "cell_type": "code",
   "execution_count": 65,
   "metadata": {
    "pycharm": {
     "name": "#%%\n"
    }
   },
   "outputs": [],
   "source": [
    "train_dataset = data_load.FacesTripletDataset(f\"{dataset_path}/train\", 5000, train_transform,load_imgs_from_dict=False)\n",
    "test_dataset=data_load.FacesTripletDataset(f\"{dataset_path}/test\", 2500, test_transform,False)\n"
   ]
  },
  {
   "cell_type": "code",
   "execution_count": 66,
   "metadata": {
    "pycharm": {
     "name": "#%%\n"
    }
   },
   "outputs": [],
   "source": [
    "train_loader = DataLoader(train_dataset, batch_size=batch_size, shuffle=False)\n",
    "test_loader = DataLoader(test_dataset, batch_size=batch_size, shuffle=False)"
   ]
  },
  {
   "cell_type": "code",
   "execution_count": 18,
   "outputs": [],
   "source": [
    "\n",
    "face_descriptor_model=face_descriptor.FaceDescriptorModel()\n",
    "face_descriptor_model.load_local_weights(utils.get_last_weights_path(model_weights_path))"
   ],
   "metadata": {
    "collapsed": false,
    "pycharm": {
     "name": "#%%\n"
    }
   }
  },
  {
   "cell_type": "code",
   "execution_count": 19,
   "outputs": [],
   "source": [
    "face_descriptor_model=face_descriptor.FaceDescriptorModel()\n",
    "face_descriptor_model.load_local_weights(utils.get_last_weights_path(model_weights_path))\n"
   ],
   "metadata": {
    "collapsed": false,
    "pycharm": {
     "name": "#%%\n"
    }
   }
  },
  {
   "cell_type": "code",
   "execution_count": 20,
   "outputs": [
    {
     "data": {
      "text/plain": "Sequential(\n  (0): LayerNorm2d((768,), eps=1e-06, elementwise_affine=True)\n  (1): Flatten(start_dim=1, end_dim=-1)\n  (2): Linear(in_features=768, out_features=128, bias=True)\n)"
     },
     "execution_count": 20,
     "metadata": {},
     "output_type": "execute_result"
    }
   ],
   "source": [
    "face_descriptor_model.classifier"
   ],
   "metadata": {
    "collapsed": false,
    "pycharm": {
     "name": "#%%\n"
    }
   }
  },
  {
   "cell_type": "code",
   "execution_count": 67,
   "metadata": {
    "pycharm": {
     "name": "#%%\n"
    }
   },
   "outputs": [
    {
     "name": "stderr",
     "output_type": "stream",
     "text": [
      "Clipping input data to the valid range for imshow with RGB data ([0..1] for floats or [0..255] for integers).\n",
      "Clipping input data to the valid range for imshow with RGB data ([0..1] for floats or [0..255] for integers).\n",
      "Clipping input data to the valid range for imshow with RGB data ([0..1] for floats or [0..255] for integers).\n",
      "Clipping input data to the valid range for imshow with RGB data ([0..1] for floats or [0..255] for integers).\n",
      "Clipping input data to the valid range for imshow with RGB data ([0..1] for floats or [0..255] for integers).\n",
      "Clipping input data to the valid range for imshow with RGB data ([0..1] for floats or [0..255] for integers).\n",
      "Clipping input data to the valid range for imshow with RGB data ([0..1] for floats or [0..255] for integers).\n",
      "Clipping input data to the valid range for imshow with RGB data ([0..1] for floats or [0..255] for integers).\n",
      "Clipping input data to the valid range for imshow with RGB data ([0..1] for floats or [0..255] for integers).\n"
     ]
    },
    {
     "name": "stdout",
     "output_type": "stream",
     "text": [
      "0.2230520248413086\n"
     ]
    },
    {
     "data": {
      "text/plain": "<Figure size 432x288 with 3 Axes>",
      "image/png": "[encoded data removed]"
     },
     "metadata": {
      "needs_background": "light"
     },
     "output_type": "display_data"
    },
    {
     "data": {
      "text/plain": "<Figure size 432x288 with 3 Axes>",
      "image/png": "[encoded data removed]"
     },
     "metadata": {
      "needs_background": "light"
     },
     "output_type": "display_data"
    },
    {
     "data": {
      "text/plain": "<Figure size 432x288 with 3 Axes>",
      "image/png": "[encoded data removed]"
     },
     "metadata": {
      "needs_background": "light"
     },
     "output_type": "display_data"
    }
   ],
   "source": [
    "ts=time.time()\n",
    "a_batch, p_batch, n_batch = next(iter(train_loader))\n",
    "print(time.time()-ts)\n",
    "for i in range(3):\n",
    "    fig, ax = plt.subplots(1, 3)\n",
    "    ax[0].set_title(\"anchor\")\n",
    "    ax[0].imshow(a_batch[i].numpy().transpose([1,2,0]))\n",
    "\n",
    "\n",
    "    ax[1].set_title(\"positive\")\n",
    "    ax[1].imshow(p_batch[i].numpy().transpose([1,2,0]))\n",
    "\n",
    "\n",
    "\n",
    "    ax[2].set_title(\"negative\")\n",
    "    ax[2].imshow(n_batch[i].numpy().transpose([1,2,0]))\n",
    "\n"
   ]
  },
  {
   "cell_type": "markdown",
   "source": [
    "### Stop Layers in descriptor"
   ],
   "metadata": {
    "collapsed": false,
    "pycharm": {
     "name": "#%% md\n"
    }
   }
  },
  {
   "cell_type": "code",
   "execution_count": 13,
   "outputs": [],
   "source": [
    "for i in range (len(face_descriptor_model.features)):\n",
    "      for parm in face_descriptor_model.features[i].parameters():\n",
    "            parm.requires_grad=True"
   ],
   "metadata": {
    "collapsed": false,
    "pycharm": {
     "name": "#%%\n"
    }
   }
  },
  {
   "cell_type": "code",
   "execution_count": 22,
   "outputs": [],
   "source": [
    "for i in range(stop_n_layers):\n",
    "  for parm in face_descriptor_model.features[i].parameters():\n",
    "    parm.requires_grad=False\n"
   ],
   "metadata": {
    "collapsed": false,
    "pycharm": {
     "name": "#%%\n"
    }
   }
  },
  {
   "cell_type": "code",
   "execution_count": 10,
   "outputs": [],
   "source": [
    "for parm in face_descriptor_model.parameters():\n",
    "    parm.requires_grad=True"
   ],
   "metadata": {
    "collapsed": false,
    "pycharm": {
     "name": "#%%\n"
    }
   }
  },
  {
   "cell_type": "code",
   "execution_count": 26,
   "outputs": [
    {
     "data": {
      "text/plain": "Sequential(\n  (0): LayerNorm2d((768,), eps=1e-06, elementwise_affine=True)\n  (1): Flatten(start_dim=1, end_dim=-1)\n  (2): Dropout(p=0.35, inplace=False)\n  (3): Linear(in_features=768, out_features=256, bias=True)\n)"
     },
     "execution_count": 26,
     "metadata": {},
     "output_type": "execute_result"
    }
   ],
   "source": [
    "face_descriptor_model.classifier"
   ],
   "metadata": {
    "collapsed": false,
    "pycharm": {
     "name": "#%%\n"
    }
   }
  },
  {
   "cell_type": "markdown",
   "source": [
    "## Descriptor Random anchor negative selection"
   ],
   "metadata": {
    "collapsed": false,
    "pycharm": {
     "name": "#%% md\n"
    }
   }
  },
  {
   "cell_type": "code",
   "execution_count": 23,
   "outputs": [],
   "source": [
    "epochs=15\n",
    "learning_rate=0.00001\n",
    "train_notes=\"descriptor with  transforms.Normalize([0.485, 0.456, 0.406],[0.229, 0.224, 0.225] classifier (768,256)\"\n"
   ],
   "metadata": {
    "collapsed": false,
    "pycharm": {
     "name": "#%%\n"
    }
   }
  },
  {
   "cell_type": "code",
   "execution_count": 24,
   "metadata": {
    "pycharm": {
     "name": "#%%\n"
    }
   },
   "outputs": [
    {
     "name": "stdout",
     "output_type": "stream",
     "text": [
      "Testing before training ...\n",
      " Testing  [==========] time taken (m) = 1.801401 Avg Test_Loss=0.0595219712Test Loss before Training=0.05961648559570312\n",
      "-----------------------------------------------------\n",
      " epoch 1 [==========] time Taken (git m) = 7.222138 Avg Train_Loss=0.117005\n",
      "mean of unique pictures usage count = 1.807 and std = 1.922 , no of unique pictures used =91875\n",
      " Testing  [==========] time taken (m) = 1.791488 Avg Test_Loss=0.0523692537 epoch 1 train_loss =0.1170054539680481 test_loss=0.05245314044952393\n",
      "new minimum test loss 0.052453  achieved, model weights saved \n",
      "-----------------------------------------------------\n",
      " epoch 2 [==========] time Taken (git m) = 7.223016 Avg Train_Loss=0.110924\n",
      "mean of unique pictures usage count = 1.882 and std = 2.167 , no of unique pictures used =96199\n",
      " Testing  [==========] time taken (m) = 1.791807 Avg Test_Loss=0.0496439652 epoch 2 train_loss =0.11092490615844726 test_loss=0.04972331619262695\n",
      "new minimum test loss 0.049723  achieved, model weights saved \n",
      "-----------------------------------------------------\n",
      " epoch 3 [==========] time Taken (git m) = 7.210151 Avg Train_Loss=0.097952\n",
      "mean of unique pictures usage count = 1.957 and std = 2.441 , no of unique pictures used =100173\n",
      " Testing  [==========] time taken (m) = 1.788620 Avg Test_Loss=0.0541884362 epoch 3 train_loss =0.09795265712738037 test_loss=0.05427513198852539\n",
      "-----------------------------------------------------\n",
      " epoch 4 [==========] time Taken (git m) = 7.198804 Avg Train_Loss=0.090275\n",
      "mean of unique pictures usage count = 2.03 and std = 2.712 , no of unique pictures used =103926\n",
      " Testing  [==========] time taken (m) = 1.787694 Avg Test_Loss=0.0529083078 epoch 4 train_loss =0.09027584228515625 test_loss=0.05299346351623535\n",
      "-----------------------------------------------------\n",
      " epoch 5 [==========] time Taken (git m) = 7.188490 Avg Train_Loss=0.080545\n",
      "mean of unique pictures usage count = 2.106 and std = 3.015 , no of unique pictures used =107315\n",
      " Testing  [==========] time taken (m) = 1.785981 Avg Test_Loss=0.0456865832 epoch 5 train_loss =0.08054586925506592 test_loss=0.045759664154052734\n",
      "new minimum test loss 0.045759  achieved, model weights saved \n",
      "-----------------------------------------------------\n",
      " epoch 6 [==========] time Taken (git m) = 7.186479 Avg Train_Loss=0.078009\n",
      "mean of unique pictures usage count = 2.183 and std = 3.318 , no of unique pictures used =110387\n",
      " Testing  [==========] time taken (m) = 1.785575 Avg Test_Loss=0.0680408258 epoch 6 train_loss =0.07800933513641357 test_loss=0.06814911785125732\n",
      "-----------------------------------------------------\n",
      " epoch 7 [==========] time Taken (git m) = 7.186708 Avg Train_Loss=0.074645\n",
      "mean of unique pictures usage count = 2.261 and std = 3.63 , no of unique pictures used =113227\n",
      " Testing  [==========] time taken (m) = 1.787718 Avg Test_Loss=0.0541054278 epoch 7 train_loss =0.07464526901245117 test_loss=0.054191895294189454\n",
      "-----------------------------------------------------\n",
      " epoch 8 [==========] time Taken (git m) = 7.187034 Avg Train_Loss=0.078246\n",
      "mean of unique pictures usage count = 2.341 and std = 3.989 , no of unique pictures used =115770\n",
      " Testing  [==========] time taken (m) = 1.782641 Avg Test_Loss=0.0517611300 epoch 8 train_loss =0.07824675693511964 test_loss=0.05184440212249756\n",
      "-----------------------------------------------------\n",
      " epoch 9 [==========] time Taken (git m) = 7.183890 Avg Train_Loss=0.077737\n",
      "mean of unique pictures usage count = 2.418 and std = 4.332 , no of unique pictures used =118277\n",
      " Testing  [==========] time taken (m) = 1.782173 Avg Test_Loss=0.0565896739 epoch 9 train_loss =0.0777377227783203 test_loss=0.0566801643371582\n",
      "-----------------------------------------------------\n",
      " epoch 10 [==========] time Taken (git m) = 7.183342 Avg Train_Loss=0.070171\n",
      "mean of unique pictures usage count = 2.496 and std = 4.693 , no of unique pictures used =120612\n",
      " Testing  [==========] time taken (m) = 1.782726 Avg Test_Loss=0.0520032170 epoch 10 train_loss =0.07017104969024658 test_loss=0.052086851692199704\n",
      "-----------------------------------------------------\n",
      " epoch 11 [==========] time Taken (git m) = 7.185372 Avg Train_Loss=0.061564\n",
      "mean of unique pictures usage count = 2.577 and std = 5.081 , no of unique pictures used =122645\n",
      " Testing  [==========] time taken (m) = 1.784127 Avg Test_Loss=0.0530692995 epoch 11 train_loss =0.061564274406433105 test_loss=0.05315477790832519\n",
      "-----------------------------------------------------\n",
      " epoch 12 [==========] time Taken (git m) = 7.183465 Avg Train_Loss=0.056637\n",
      "mean of unique pictures usage count = 2.659 and std = 5.478 , no of unique pictures used =124463\n",
      " Testing  [==========] time taken (m) = 1.785552 Avg Test_Loss=0.0506510813 epoch 12 train_loss =0.05663777751922607 test_loss=0.05073260536193848\n",
      "-----------------------------------------------------\n",
      " epoch 13 [==========] time Taken (git m) = 7.183683 Avg Train_Loss=0.069464\n",
      "mean of unique pictures usage count = 2.741 and std = 5.872 , no of unique pictures used =126230\n",
      " Testing  [==========] time taken (m) = 1.782213 Avg Test_Loss=0.0489459102 epoch 13 train_loss =0.06946449375152589 test_loss=0.049023735427856444\n",
      "-----------------------------------------------------\n",
      " epoch 14 [==========] time Taken (git m) = 7.183011 Avg Train_Loss=0.059535\n",
      "mean of unique pictures usage count = 2.823 and std = 6.291 , no of unique pictures used =127877\n",
      " Testing  [==========] time taken (m) = 1.781445 Avg Test_Loss=0.0541304303 epoch 14 train_loss =0.059535780143737796 test_loss=0.05421665725708008\n",
      "-----------------------------------------------------\n",
      " epoch 15 [==========] time Taken (git m) = 7.182697 Avg Train_Loss=0.064901\n",
      "mean of unique pictures usage count = 2.905 and std = 6.715 , no of unique pictures used =129418\n",
      " Testing  [==========] time taken (m) = 1.782594 Avg Test_Loss=0.0543774551 epoch 15 train_loss =0.06490157928466797 test_loss=0.05446456069946289\n",
      "-----------------------------------------------------\n"
     ]
    }
   ],
   "source": [
    "train_losses=models_train.model_train(face_descriptor_model,epochs=15,learn_rate=0.00001,train_loader=train_loader,test_loader=test_loader,train_mod=\"triplet\",cuda=True,weight_saving_path=model_weights_path,epoch_data_saving_path=train_data_save_path,notes=train_notes)"
   ]
  },
  {
   "cell_type": "markdown",
   "source": [
    "## Descriptor Hard anchor negative selection"
   ],
   "metadata": {
    "collapsed": false,
    "pycharm": {
     "name": "#%% md\n"
    }
   }
  },
  {
   "cell_type": "code",
   "execution_count": 52,
   "outputs": [],
   "source": [
    "\n",
    "face_descriptor_model=face_descriptor.FaceDescriptorModel()\n",
    "face_descriptor_model.load_local_weights(utils.get_last_weights_path(model_weights_path))\n"
   ],
   "metadata": {
    "collapsed": false,
    "pycharm": {
     "name": "#%%\n"
    }
   }
  },
  {
   "cell_type": "code",
   "execution_count": 23,
   "outputs": [
    {
     "data": {
      "text/plain": "Sequential(\n  (0): LayerNorm2d((768,), eps=1e-06, elementwise_affine=True)\n  (1): Flatten(start_dim=1, end_dim=-1)\n  (2): Linear(in_features=768, out_features=128, bias=True)\n)"
     },
     "execution_count": 23,
     "metadata": {},
     "output_type": "execute_result"
    }
   ],
   "source": [
    "face_descriptor_model.classifier"
   ],
   "metadata": {
    "collapsed": false,
    "pycharm": {
     "name": "#%%\n"
    }
   }
  },
  {
   "cell_type": "code",
   "execution_count": 8,
   "outputs": [],
   "source": [
    "img_features=None\n",
    "stop_n_layers=5"
   ],
   "metadata": {
    "collapsed": false,
    "pycharm": {
     "name": "#%%\n"
    }
   }
  },
  {
   "cell_type": "code",
   "execution_count": 24,
   "outputs": [
    {
     "name": "stdout",
     "output_type": "stream",
     "text": [
      " Testing  [==========] time taken (m) = 1.950635 Avg Test_Loss=0.0549355111"
     ]
    },
    {
     "data": {
      "text/plain": "0.05502334232330322"
     },
     "execution_count": 24,
     "metadata": {},
     "output_type": "execute_result"
    }
   ],
   "source": [
    "import torch.nn as nn\n",
    "models_train.model_test(model=face_descriptor_model,test_loader=test_loader,loss_function=nn.TripletMarginLoss(),test_mod=\"triplet\",cuda=True)"
   ],
   "metadata": {
    "collapsed": false,
    "pycharm": {
     "name": "#%%\n"
    }
   }
  },
  {
   "cell_type": "code",
   "execution_count": 39,
   "outputs": [],
   "source": [
    "for param in face_descriptor_model.features.parameters():\n",
    "    param.requires_grad=False"
   ],
   "metadata": {
    "collapsed": false,
    "pycharm": {
     "name": "#%%\n"
    }
   }
  },
  {
   "cell_type": "code",
   "execution_count": 40,
   "outputs": [
    {
     "data": {
      "text/plain": "Sequential(\n  (0): LayerNorm2d((768,), eps=1e-06, elementwise_affine=True)\n  (1): Flatten(start_dim=1, end_dim=-1)\n)"
     },
     "execution_count": 40,
     "metadata": {},
     "output_type": "execute_result"
    }
   ],
   "source": [
    "face_descriptor_model.classifier"
   ],
   "metadata": {
    "collapsed": false,
    "pycharm": {
     "name": "#%%\n"
    }
   }
  },
  {
   "cell_type": "code",
   "execution_count": 42,
   "outputs": [],
   "source": [
    "import torch\n",
    "epochs=25\n",
    "learning_rate=0.00001\n",
    "train_notes=\"descriptor hard negative selection from 10 not 5 , starting with test 0.2 loss calculation fixed\"\n"
   ],
   "metadata": {
    "collapsed": false,
    "pycharm": {
     "name": "#%%\n"
    }
   }
  },
  {
   "cell_type": "code",
   "execution_count": 43,
   "outputs": [],
   "source": [
    "optimizer=torch.optim.Adam(params=face_descriptor_model.parameters(),lr=learning_rate)\n"
   ],
   "metadata": {
    "collapsed": false,
    "pycharm": {
     "name": "#%%\n"
    }
   }
  },
  {
   "cell_type": "code",
   "execution_count": 9,
   "outputs": [],
   "source": [
    "img_features=None"
   ],
   "metadata": {
    "collapsed": false,
    "pycharm": {
     "name": "#%%\n"
    }
   }
  },
  {
   "cell_type": "code",
   "execution_count": 10,
   "outputs": [
    {
     "name": "stdout",
     "output_type": "stream",
     "text": [
      " data processed [==========] time remaing=-0.00\n"
     ]
    }
   ],
   "source": [
    "train_dataset = data_load.FacesHardTripletDataset(face_descriptor_model,True,f\"{dataset_path}/train\", 10000, train_transform,load_imgs_from_dict=False,img_features_dict=img_features,select_from_negative_cnt=50)\n",
    "test_dataset=data_load.FacesTripletDataset(f\"{dataset_path}/test\", 5000, test_transform,False)"
   ],
   "metadata": {
    "collapsed": false,
    "pycharm": {
     "name": "#%%\n"
    }
   }
  },
  {
   "cell_type": "code",
   "execution_count": 45,
   "outputs": [],
   "source": [
    "train_loader = DataLoader(train_dataset, batch_size=16, shuffle=False)\n",
    "test_loader = DataLoader(test_dataset, batch_size=16, shuffle=False)"
   ],
   "metadata": {
    "collapsed": false,
    "pycharm": {
     "name": "#%%\n"
    }
   }
  },
  {
   "cell_type": "code",
   "execution_count": null,
   "outputs": [],
   "source": [
    "train_losses=models_train.model_train(face_descriptor_model,epochs=epochs,learn_rate=learning_rate,train_loader=train_loader,test_loader=test_loader,train_mod=\"triplet\",cuda=True,weight_saving_path=model_weights_path,epoch_data_saving_path=train_data_save_path,notes=train_notes,optimizer=optimizer)"
   ],
   "metadata": {
    "collapsed": false,
    "pycharm": {
     "name": "#%%\n",
     "is_executing": true
    }
   }
  },
  {
   "cell_type": "code",
   "execution_count": 37,
   "outputs": [],
   "source": [
    "face_descriptor_model.save_weights(\"_0.028_loss.pt\")"
   ],
   "metadata": {
    "collapsed": false,
    "pycharm": {
     "name": "#%%\n"
    }
   }
  },
  {
   "cell_type": "markdown",
   "source": [
    "# Face descriptor evaluation"
   ],
   "metadata": {
    "collapsed": false
   }
  },
  {
   "cell_type": "code",
   "execution_count": 53,
   "outputs": [],
   "source": [
    "# face_descriptor_model.load_local_weights(get_last_weights_path(model_weights_path))\n",
    "face_descriptor_model.load_local_weights('../model_weights/convnext_tiny/06_12 21_44 Train_(0.309603) Test_(0.045603).pt')\n"
   ],
   "metadata": {
    "collapsed": false,
    "pycharm": {
     "name": "#%%\n"
    }
   }
  },
  {
   "cell_type": "markdown",
   "source": [
    "## ImgCelbA"
   ],
   "metadata": {
    "collapsed": false
   }
  },
  {
   "cell_type": "code",
   "execution_count": 8,
   "outputs": [],
   "source": [
    "img_celeb_features_dict=utils.load_dict_from_json(\"face_features_test_imgcelba.json\")\n"
   ],
   "metadata": {
    "collapsed": false,
    "pycharm": {
     "name": "#%%\n"
    }
   }
  },
  {
   "cell_type": "code",
   "execution_count": 26,
   "outputs": [
    {
     "name": "stdout",
     "output_type": "stream",
     "text": [
      " data processed [==========] time remaing=-0.00\n"
     ]
    }
   ],
   "source": [
    "img_celeb_features_dict=data_load.get_pic_features_dict(dataset_path+\"/test\",face_descriptor_model,test_transform,cuda=True,batch_size=10)"
   ],
   "metadata": {
    "collapsed": false,
    "pycharm": {
     "name": "#%%\n"
    }
   }
  },
  {
   "cell_type": "code",
   "execution_count": 28,
   "outputs": [],
   "source": [
    "utils.save_dict_to_json(\"face_features_test_imgcelba.json\",img_celeb_features_dict)"
   ],
   "metadata": {
    "collapsed": false,
    "pycharm": {
     "name": "#%%\n"
    }
   }
  },
  {
   "cell_type": "code",
   "execution_count": 9,
   "metadata": {
    "pycharm": {
     "name": "#%%\n"
    }
   },
   "outputs": [],
   "source": [
    "test_data_pd_full=pd.DataFrame(generate_dataset.generate_testing_data_set_frame(dataset_path+'/test',False))"
   ]
  },
  {
   "cell_type": "code",
   "execution_count": 24,
   "outputs": [],
   "source": [
    "full_test_data_pd = test_data_pd_full.sample(frac=1)\n",
    "test_data_pd = full_test_data_pd"
   ],
   "metadata": {
    "collapsed": false,
    "pycharm": {
     "name": "#%%\n"
    }
   }
  },
  {
   "cell_type": "markdown",
   "source": [
    "### Euclidean distance"
   ],
   "metadata": {
    "collapsed": false,
    "pycharm": {
     "name": "#%% md\n"
    }
   }
  },
  {
   "cell_type": "code",
   "execution_count": 25,
   "outputs": [
    {
     "name": "stdout",
     "output_type": "stream",
     "text": [
      " Testing  [==========] time remaining = 0.0 Accuracy =93.909Accuracy now equal --> 93.9085%\n"
     ]
    }
   ],
   "source": [
    "error_table,confusion_matrix=evaluation.model_test(img_celeb_features_dict, test_data_pd, results_path=\"\",distance_method=utils.euclidean_distance ,threshold=8.5)"
   ],
   "metadata": {
    "collapsed": false,
    "pycharm": {
     "name": "#%%\n"
    }
   }
  },
  {
   "cell_type": "code",
   "execution_count": 26,
   "outputs": [
    {
     "data": {
      "text/plain": "                              Mertic        Value\n0                     processed rows  1090258.000\n1  Model accuracy on Proceed Faces %       93.910\n2                     False Positive    21713.000\n3                     False Negative    44700.000\n4                          precision        0.958\n5                             recall        0.918\n6                        fbeta-score        0.938\n7           avg same person distance        6.572\n8           avg diff person distance       11.552\n9                    Model tolerance        8.500",
      "text/html": "<div>\n<style scoped>\n    .dataframe tbody tr th:only-of-type {\n        vertical-align: middle;\n    }\n\n    .dataframe tbody tr th {\n        vertical-align: top;\n    }\n\n    .dataframe thead th {\n        text-align: right;\n    }\n</style>\n<table border=\"1\" class=\"dataframe\">\n  <thead>\n    <tr style=\"text-align: right;\">\n      <th></th>\n      <th>Mertic</th>\n      <th>Value</th>\n    </tr>\n  </thead>\n  <tbody>\n    <tr>\n      <th>0</th>\n      <td>processed rows</td>\n      <td>1090258.000</td>\n    </tr>\n    <tr>\n      <th>1</th>\n      <td>Model accuracy on Proceed Faces %</td>\n      <td>93.910</td>\n    </tr>\n    <tr>\n      <th>2</th>\n      <td>False Positive</td>\n      <td>21713.000</td>\n    </tr>\n    <tr>\n      <th>3</th>\n      <td>False Negative</td>\n      <td>44700.000</td>\n    </tr>\n    <tr>\n      <th>4</th>\n      <td>precision</td>\n      <td>0.958</td>\n    </tr>\n    <tr>\n      <th>5</th>\n      <td>recall</td>\n      <td>0.918</td>\n    </tr>\n    <tr>\n      <th>6</th>\n      <td>fbeta-score</td>\n      <td>0.938</td>\n    </tr>\n    <tr>\n      <th>7</th>\n      <td>avg same person distance</td>\n      <td>6.572</td>\n    </tr>\n    <tr>\n      <th>8</th>\n      <td>avg diff person distance</td>\n      <td>11.552</td>\n    </tr>\n    <tr>\n      <th>9</th>\n      <td>Model tolerance</td>\n      <td>8.500</td>\n    </tr>\n  </tbody>\n</table>\n</div>"
     },
     "execution_count": 26,
     "metadata": {},
     "output_type": "execute_result"
    }
   ],
   "source": [
    "error_table"
   ],
   "metadata": {
    "collapsed": false,
    "pycharm": {
     "name": "#%%\n"
    }
   }
  },
  {
   "cell_type": "code",
   "execution_count": 29,
   "outputs": [
    {
     "data": {
      "text/plain": "                 Actual True  Actual False\nPredicted True        500429         21713\nPredicted False        44700        523416",
      "text/html": "<div>\n<style scoped>\n    .dataframe tbody tr th:only-of-type {\n        vertical-align: middle;\n    }\n\n    .dataframe tbody tr th {\n        vertical-align: top;\n    }\n\n    .dataframe thead th {\n        text-align: right;\n    }\n</style>\n<table border=\"1\" class=\"dataframe\">\n  <thead>\n    <tr style=\"text-align: right;\">\n      <th></th>\n      <th>Actual True</th>\n      <th>Actual False</th>\n    </tr>\n  </thead>\n  <tbody>\n    <tr>\n      <th>Predicted True</th>\n      <td>500429</td>\n      <td>21713</td>\n    </tr>\n    <tr>\n      <th>Predicted False</th>\n      <td>44700</td>\n      <td>523416</td>\n    </tr>\n  </tbody>\n</table>\n</div>"
     },
     "execution_count": 29,
     "metadata": {},
     "output_type": "execute_result"
    }
   ],
   "source": [
    "confusion_matrix"
   ],
   "metadata": {
    "collapsed": false,
    "pycharm": {
     "name": "#%%\n"
    }
   }
  },
  {
   "cell_type": "markdown",
   "source": [
    "### cosine distance\n",
    "- cosine distance=1-cosine similarity"
   ],
   "metadata": {
    "collapsed": false,
    "pycharm": {
     "name": "#%% md\n"
    }
   }
  },
  {
   "cell_type": "code",
   "execution_count": 46,
   "outputs": [],
   "source": [
    "full_test_data_pd = test_data_pd_full.sample(frac=1)\n",
    "test_data_pd = full_test_data_pd"
   ],
   "metadata": {
    "collapsed": false,
    "pycharm": {
     "name": "#%%\n"
    }
   }
  },
  {
   "cell_type": "code",
   "execution_count": 47,
   "outputs": [
    {
     "name": "stdout",
     "output_type": "stream",
     "text": [
      " Testing  [==========] time remaining = 0.0 Accuracy =92.149Accuracy now equal --> 92.1493%\n"
     ]
    }
   ],
   "source": [
    "error_table, confusion_matrix = evaluation.model_test(img_celeb_features_dict, test_data_pd, results_path=\"\",\n",
    "                                                      distance_method=utils.findCosineDistance, threshold=0.42)"
   ],
   "metadata": {
    "collapsed": false,
    "pycharm": {
     "name": "#%%\n"
    }
   }
  },
  {
   "cell_type": "code",
   "execution_count": 48,
   "outputs": [
    {
     "data": {
      "text/plain": "                              Mertic        Value\n0                     processed rows  1090258.000\n1  Model accuracy on Proceed Faces %       92.150\n2                     False Positive    21739.000\n3                     False Negative    63854.000\n4                          precision        0.957\n5                             recall        0.883\n6                        fbeta-score        0.918\n7           avg same person distance        0.269\n8           avg diff person distance        0.801\n9                    Model tolerance        0.420",
      "text/html": "<div>\n<style scoped>\n    .dataframe tbody tr th:only-of-type {\n        vertical-align: middle;\n    }\n\n    .dataframe tbody tr th {\n        vertical-align: top;\n    }\n\n    .dataframe thead th {\n        text-align: right;\n    }\n</style>\n<table border=\"1\" class=\"dataframe\">\n  <thead>\n    <tr style=\"text-align: right;\">\n      <th></th>\n      <th>Mertic</th>\n      <th>Value</th>\n    </tr>\n  </thead>\n  <tbody>\n    <tr>\n      <th>0</th>\n      <td>processed rows</td>\n      <td>1090258.000</td>\n    </tr>\n    <tr>\n      <th>1</th>\n      <td>Model accuracy on Proceed Faces %</td>\n      <td>92.150</td>\n    </tr>\n    <tr>\n      <th>2</th>\n      <td>False Positive</td>\n      <td>21739.000</td>\n    </tr>\n    <tr>\n      <th>3</th>\n      <td>False Negative</td>\n      <td>63854.000</td>\n    </tr>\n    <tr>\n      <th>4</th>\n      <td>precision</td>\n      <td>0.957</td>\n    </tr>\n    <tr>\n      <th>5</th>\n      <td>recall</td>\n      <td>0.883</td>\n    </tr>\n    <tr>\n      <th>6</th>\n      <td>fbeta-score</td>\n      <td>0.918</td>\n    </tr>\n    <tr>\n      <th>7</th>\n      <td>avg same person distance</td>\n      <td>0.269</td>\n    </tr>\n    <tr>\n      <th>8</th>\n      <td>avg diff person distance</td>\n      <td>0.801</td>\n    </tr>\n    <tr>\n      <th>9</th>\n      <td>Model tolerance</td>\n      <td>0.420</td>\n    </tr>\n  </tbody>\n</table>\n</div>"
     },
     "execution_count": 48,
     "metadata": {},
     "output_type": "execute_result"
    }
   ],
   "source": [
    "error_table"
   ],
   "metadata": {
    "collapsed": false,
    "pycharm": {
     "name": "#%%\n"
    }
   }
  },
  {
   "cell_type": "code",
   "execution_count": 50,
   "outputs": [
    {
     "data": {
      "text/plain": "                 Actual True  Actual False\nPredicted True        481275         21739\nPredicted False        63854        523390",
      "text/html": "<div>\n<style scoped>\n    .dataframe tbody tr th:only-of-type {\n        vertical-align: middle;\n    }\n\n    .dataframe tbody tr th {\n        vertical-align: top;\n    }\n\n    .dataframe thead th {\n        text-align: right;\n    }\n</style>\n<table border=\"1\" class=\"dataframe\">\n  <thead>\n    <tr style=\"text-align: right;\">\n      <th></th>\n      <th>Actual True</th>\n      <th>Actual False</th>\n    </tr>\n  </thead>\n  <tbody>\n    <tr>\n      <th>Predicted True</th>\n      <td>481275</td>\n      <td>21739</td>\n    </tr>\n    <tr>\n      <th>Predicted False</th>\n      <td>63854</td>\n      <td>523390</td>\n    </tr>\n  </tbody>\n</table>\n</div>"
     },
     "execution_count": 50,
     "metadata": {},
     "output_type": "execute_result"
    }
   ],
   "source": [
    "confusion_matrix"
   ],
   "metadata": {
    "collapsed": false,
    "pycharm": {
     "name": "#%%\n"
    }
   }
  },
  {
   "cell_type": "markdown",
   "source": [
    "## Labled Faces in the Wild"
   ],
   "metadata": {
    "collapsed": false,
    "pycharm": {
     "name": "#%% md\n"
    }
   }
  },
  {
   "cell_type": "code",
   "execution_count": null,
   "outputs": [],
   "source": [
    "lfw_features_dict=utils.load_dict_from_json(\"face_features_lfw.json\")\n"
   ],
   "metadata": {
    "collapsed": false,
    "pycharm": {
     "name": "#%%\n"
    }
   }
  },
  {
   "cell_type": "code",
   "execution_count": 55,
   "outputs": [],
   "source": [
    "eval_transform = transforms.Compose([transforms.Resize((240,240)),transforms.ToTensor(),transforms.Normalize([0.485, 0.456, 0.406],[0.229, 0.224, 0.225])])"
   ],
   "metadata": {
    "collapsed": false,
    "pycharm": {
     "name": "#%%\n"
    }
   }
  },
  {
   "cell_type": "code",
   "execution_count": 56,
   "outputs": [
    {
     "name": "stdout",
     "output_type": "stream",
     "text": [
      " data processed [==========] time remaing=-0.00\n"
     ]
    }
   ],
   "source": [
    "lfw_features_dict = data_load.get_pic_features_dict(lfw_dataset_path, face_descriptor_model, eval_transform,\n",
    "                                                cuda=True, batch_size=10)\n"
   ],
   "metadata": {
    "collapsed": false,
    "pycharm": {
     "name": "#%%\n"
    }
   }
  },
  {
   "cell_type": "code",
   "execution_count": 57,
   "outputs": [],
   "source": [
    "utils.save_dict_to_json(\"face_features_lfw.json\",lfw_features_dict)\n"
   ],
   "metadata": {
    "collapsed": false,
    "pycharm": {
     "name": "#%%\n"
    }
   }
  },
  {
   "cell_type": "code",
   "execution_count": 58,
   "outputs": [],
   "source": [
    "test_lfw_data_pd_full = pd.DataFrame(generate_dataset.generate_testing_data_set_frame(lfw_dataset_path, True))\n"
   ],
   "metadata": {
    "collapsed": false,
    "pycharm": {
     "name": "#%%\n"
    }
   }
  },
  {
   "cell_type": "code",
   "execution_count": 60,
   "outputs": [],
   "source": [
    "full_test_lfw_data_pd = test_lfw_data_pd_full.sample(frac=1)\n",
    "test_data_lfw_pd = full_test_lfw_data_pd"
   ],
   "metadata": {
    "collapsed": false,
    "pycharm": {
     "name": "#%%\n"
    }
   }
  },
  {
   "cell_type": "code",
   "execution_count": 61,
   "outputs": [
    {
     "name": "stdout",
     "output_type": "stream",
     "text": [
      " Testing  [==========] time remaining = 0.0 Accuracy =95.799Accuracy now equal --> 95.7988%\n"
     ]
    }
   ],
   "source": [
    "error_table, confusion_matrix = evaluation.model_test(lfw_features_dict, test_data_lfw_pd, results_path=\"\", threshold=7.65)\n"
   ],
   "metadata": {
    "collapsed": false,
    "pycharm": {
     "name": "#%%\n"
    }
   }
  },
  {
   "cell_type": "code",
   "execution_count": 29,
   "outputs": [
    {
     "data": {
      "text/plain": "                              Mertic       Value\n0                     processed rows  484414.000\n1  Model accuracy on Proceed Faces %      95.820\n2                     False Positive   10364.000\n3                     False Negative    9873.000\n4                          precision       0.957\n5                             recall       0.959\n6                        fbeta-score       0.958\n7           avg same person distance       5.998\n8           avg diff person distance      10.303\n9                    Model tolerance       7.650",
      "text/html": "<div>\n<style scoped>\n    .dataframe tbody tr th:only-of-type {\n        vertical-align: middle;\n    }\n\n    .dataframe tbody tr th {\n        vertical-align: top;\n    }\n\n    .dataframe thead th {\n        text-align: right;\n    }\n</style>\n<table border=\"1\" class=\"dataframe\">\n  <thead>\n    <tr style=\"text-align: right;\">\n      <th></th>\n      <th>Mertic</th>\n      <th>Value</th>\n    </tr>\n  </thead>\n  <tbody>\n    <tr>\n      <th>0</th>\n      <td>processed rows</td>\n      <td>484414.000</td>\n    </tr>\n    <tr>\n      <th>1</th>\n      <td>Model accuracy on Proceed Faces %</td>\n      <td>95.820</td>\n    </tr>\n    <tr>\n      <th>2</th>\n      <td>False Positive</td>\n      <td>10364.000</td>\n    </tr>\n    <tr>\n      <th>3</th>\n      <td>False Negative</td>\n      <td>9873.000</td>\n    </tr>\n    <tr>\n      <th>4</th>\n      <td>precision</td>\n      <td>0.957</td>\n    </tr>\n    <tr>\n      <th>5</th>\n      <td>recall</td>\n      <td>0.959</td>\n    </tr>\n    <tr>\n      <th>6</th>\n      <td>fbeta-score</td>\n      <td>0.958</td>\n    </tr>\n    <tr>\n      <th>7</th>\n      <td>avg same person distance</td>\n      <td>5.998</td>\n    </tr>\n    <tr>\n      <th>8</th>\n      <td>avg diff person distance</td>\n      <td>10.303</td>\n    </tr>\n    <tr>\n      <th>9</th>\n      <td>Model tolerance</td>\n      <td>7.650</td>\n    </tr>\n  </tbody>\n</table>\n</div>"
     },
     "execution_count": 29,
     "metadata": {},
     "output_type": "execute_result"
    }
   ],
   "source": [
    "error_table"
   ],
   "metadata": {
    "collapsed": false,
    "pycharm": {
     "name": "#%%\n"
    }
   }
  },
  {
   "cell_type": "code",
   "execution_count": null,
   "outputs": [],
   "source": [],
   "metadata": {
    "collapsed": false,
    "pycharm": {
     "name": "#%%\n"
    }
   }
  },
  {
   "cell_type": "markdown",
   "source": [
    "### cosine distance\n",
    "- cosine distance=1-cosine similarity"
   ],
   "metadata": {
    "collapsed": false
   }
  },
  {
   "cell_type": "code",
   "execution_count": 58,
   "outputs": [],
   "source": [
    "test_lfw_data_pd_full = pd.DataFrame(generate_dataset.generate_testing_data_set_frame(lfw_dataset_path, True))\n"
   ],
   "metadata": {
    "collapsed": false,
    "pycharm": {
     "name": "#%%\n"
    }
   }
  },
  {
   "cell_type": "code",
   "execution_count": 85,
   "outputs": [],
   "source": [
    "full_test_lfw_data_pd = test_lfw_data_pd_full.sample(frac=1)\n",
    "test_data_lfw_pd = full_test_lfw_data_pd"
   ],
   "metadata": {
    "collapsed": false,
    "pycharm": {
     "name": "#%%\n"
    }
   }
  },
  {
   "cell_type": "code",
   "execution_count": 86,
   "outputs": [
    {
     "name": "stdout",
     "output_type": "stream",
     "text": [
      " Testing  [==========] time remaining = 0.0 Accuracy =95.074Accuracy now equal --> 95.0738%\n"
     ]
    }
   ],
   "source": [
    "error_table, confusion_matrix = evaluation.model_test(lfw_features_dict, test_data_lfw_pd, results_path=\"\",\n",
    "                                                      distance_method=utils.findCosineDistance, threshold=0.34)"
   ],
   "metadata": {
    "collapsed": false,
    "pycharm": {
     "name": "#%%\n"
    }
   }
  },
  {
   "cell_type": "code",
   "execution_count": 84,
   "outputs": [
    {
     "data": {
      "text/plain": "                              Mertic      Value\n0                     processed rows  10000.000\n1  Model accuracy on Proceed Faces %     95.150\n2                     False Positive    203.000\n3                     False Negative    282.000\n4                          precision      0.958\n5                             recall      0.943\n6                        fbeta-score      0.951\n7           avg same person distance      0.214\n8           avg diff person distance      0.659\n9                    Model tolerance      0.340",
      "text/html": "<div>\n<style scoped>\n    .dataframe tbody tr th:only-of-type {\n        vertical-align: middle;\n    }\n\n    .dataframe tbody tr th {\n        vertical-align: top;\n    }\n\n    .dataframe thead th {\n        text-align: right;\n    }\n</style>\n<table border=\"1\" class=\"dataframe\">\n  <thead>\n    <tr style=\"text-align: right;\">\n      <th></th>\n      <th>Mertic</th>\n      <th>Value</th>\n    </tr>\n  </thead>\n  <tbody>\n    <tr>\n      <th>0</th>\n      <td>processed rows</td>\n      <td>10000.000</td>\n    </tr>\n    <tr>\n      <th>1</th>\n      <td>Model accuracy on Proceed Faces %</td>\n      <td>95.150</td>\n    </tr>\n    <tr>\n      <th>2</th>\n      <td>False Positive</td>\n      <td>203.000</td>\n    </tr>\n    <tr>\n      <th>3</th>\n      <td>False Negative</td>\n      <td>282.000</td>\n    </tr>\n    <tr>\n      <th>4</th>\n      <td>precision</td>\n      <td>0.958</td>\n    </tr>\n    <tr>\n      <th>5</th>\n      <td>recall</td>\n      <td>0.943</td>\n    </tr>\n    <tr>\n      <th>6</th>\n      <td>fbeta-score</td>\n      <td>0.951</td>\n    </tr>\n    <tr>\n      <th>7</th>\n      <td>avg same person distance</td>\n      <td>0.214</td>\n    </tr>\n    <tr>\n      <th>8</th>\n      <td>avg diff person distance</td>\n      <td>0.659</td>\n    </tr>\n    <tr>\n      <th>9</th>\n      <td>Model tolerance</td>\n      <td>0.340</td>\n    </tr>\n  </tbody>\n</table>\n</div>"
     },
     "execution_count": 84,
     "metadata": {},
     "output_type": "execute_result"
    }
   ],
   "source": [
    "error_table"
   ],
   "metadata": {
    "collapsed": false,
    "pycharm": {
     "name": "#%%\n"
    }
   }
  },
  {
   "cell_type": "code",
   "execution_count": 87,
   "outputs": [
    {
     "data": {
      "text/plain": "                 Actual True  Actual False\nPredicted True        228773         10429\nPredicted False        13434        231778",
      "text/html": "<div>\n<style scoped>\n    .dataframe tbody tr th:only-of-type {\n        vertical-align: middle;\n    }\n\n    .dataframe tbody tr th {\n        vertical-align: top;\n    }\n\n    .dataframe thead th {\n        text-align: right;\n    }\n</style>\n<table border=\"1\" class=\"dataframe\">\n  <thead>\n    <tr style=\"text-align: right;\">\n      <th></th>\n      <th>Actual True</th>\n      <th>Actual False</th>\n    </tr>\n  </thead>\n  <tbody>\n    <tr>\n      <th>Predicted True</th>\n      <td>228773</td>\n      <td>10429</td>\n    </tr>\n    <tr>\n      <th>Predicted False</th>\n      <td>13434</td>\n      <td>231778</td>\n    </tr>\n  </tbody>\n</table>\n</div>"
     },
     "execution_count": 87,
     "metadata": {},
     "output_type": "execute_result"
    }
   ],
   "source": [
    "confusion_matrix"
   ],
   "metadata": {
    "collapsed": false,
    "pycharm": {
     "name": "#%%\n"
    }
   }
  },
  {
   "cell_type": "markdown",
   "metadata": {
    "pycharm": {
     "name": "#%% md\n"
    }
   },
   "source": [
    "# conv-Facenet classifier model train (testing only)\n",
    "- the trained descriptor + classifier\n",
    "- trying to increase accuracy by using classifier instead of euclidean distance or cosine distance\n",
    "- also i will try here to increase accuracy by including face landmarks (eye pos , face borders  coordinates ) in the classifer"
   ]
  },
  {
   "cell_type": "code",
   "execution_count": 4,
   "metadata": {
    "pycharm": {
     "name": "#%%\n"
    }
   },
   "outputs": [],
   "source": [
    "# descriptor_weights=\"../model_weights/training/05_26 18_02 Train_(0.022302) Test_(0.018650).pt\"\n",
    "descriptor_weights=\"../model_weights/convnext_tiny/07_01 14_53 Train_(0.080545) Test_(0.045759).pt\"\n",
    "effnet_weights_path=\"../model_weights/classifier\""
   ]
  },
  {
   "cell_type": "code",
   "execution_count": 7,
   "metadata": {
    "pycharm": {
     "name": "#%%\n"
    }
   },
   "outputs": [
    {
     "ename": "TypeError",
     "evalue": "FacesHardTripletDataset.__init__() missing 1 required positional argument: 'no_of_rows'",
     "output_type": "error",
     "traceback": [
      "\u001B[1;31m---------------------------------------------------------------------------\u001B[0m",
      "\u001B[1;31mTypeError\u001B[0m                                 Traceback (most recent call last)",
      "Input \u001B[1;32mIn [7]\u001B[0m, in \u001B[0;36m<cell line: 1>\u001B[1;34m()\u001B[0m\n\u001B[1;32m----> 1\u001B[0m pair_train_dataset\u001B[38;5;241m=\u001B[39m\u001B[43mdata_load\u001B[49m\u001B[38;5;241;43m.\u001B[39;49m\u001B[43mFacesHardTripletDataset\u001B[49m\u001B[43m(\u001B[49m\u001B[38;5;124;43mf\u001B[39;49m\u001B[38;5;124;43m\"\u001B[39;49m\u001B[38;5;132;43;01m{\u001B[39;49;00m\u001B[43mdataset_path\u001B[49m\u001B[38;5;132;43;01m}\u001B[39;49;00m\u001B[38;5;124;43m/train\u001B[39;49m\u001B[38;5;124;43m\"\u001B[39;49m\u001B[43m,\u001B[49m\u001B[38;5;241;43m10000\u001B[39;49m\u001B[43m,\u001B[49m\u001B[43mtrain_transform\u001B[49m\u001B[43m)\u001B[49m\n\u001B[0;32m      2\u001B[0m pair_test_dataset\u001B[38;5;241m=\u001B[39mdata_load\u001B[38;5;241m.\u001B[39mFacesPairDataset(\u001B[38;5;124mf\u001B[39m\u001B[38;5;124m\"\u001B[39m\u001B[38;5;132;01m{\u001B[39;00mdataset_path\u001B[38;5;132;01m}\u001B[39;00m\u001B[38;5;124m/test\u001B[39m\u001B[38;5;124m\"\u001B[39m,\u001B[38;5;241m5000\u001B[39m,test_transform)\n",
      "\u001B[1;31mTypeError\u001B[0m: FacesHardTripletDataset.__init__() missing 1 required positional argument: 'no_of_rows'"
     ]
    }
   ],
   "source": [
    "pair_train_dataset=data_load.FacesHardTripletDataset(f\"{dataset_path}/train\",10000,train_transform)\n",
    "pair_test_dataset=data_load.FacesPairDataset(f\"{dataset_path}/test\",5000,test_transform)"
   ]
  },
  {
   "cell_type": "code",
   "execution_count": 17,
   "metadata": {
    "pycharm": {
     "name": "#%%\n"
    }
   },
   "outputs": [
    {
     "ename": "NameError",
     "evalue": "name 'pair_train_dataset' is not defined",
     "output_type": "error",
     "traceback": [
      "\u001B[1;31m---------------------------------------------------------------------------\u001B[0m",
      "\u001B[1;31mNameError\u001B[0m                                 Traceback (most recent call last)",
      "Input \u001B[1;32mIn [17]\u001B[0m, in \u001B[0;36m<cell line: 1>\u001B[1;34m()\u001B[0m\n\u001B[1;32m----> 1\u001B[0m pair_train_loader\u001B[38;5;241m=\u001B[39mDataLoader(\u001B[43mpair_train_dataset\u001B[49m,\u001B[38;5;241m8\u001B[39m,shuffle\u001B[38;5;241m=\u001B[39m\u001B[38;5;28;01mFalse\u001B[39;00m)\n\u001B[0;32m      2\u001B[0m pair_test_loader\u001B[38;5;241m=\u001B[39mDataLoader(pair_test_dataset,\u001B[38;5;241m8\u001B[39m,shuffle\u001B[38;5;241m=\u001B[39m\u001B[38;5;28;01mFalse\u001B[39;00m)\n",
      "\u001B[1;31mNameError\u001B[0m: name 'pair_train_dataset' is not defined"
     ]
    }
   ],
   "source": [
    "pair_train_loader=DataLoader(pair_train_dataset,8,shuffle=False)\n",
    "pair_test_loader=DataLoader(pair_test_dataset,8,shuffle=False)"
   ]
  },
  {
   "cell_type": "code",
   "execution_count": 8,
   "metadata": {
    "pycharm": {
     "name": "#%%\n"
    }
   },
   "outputs": [],
   "source": [
    "efficient_facenet=face_descriptor.FacenetClassifier(256)\n",
    "efficient_facenet.cuda()\n",
    "efficient_facenet.load_local_weights(utils.get_last_weights_path(effnet_weights_path))\n"
   ]
  },
  {
   "cell_type": "code",
   "execution_count": 18,
   "outputs": [
    {
     "name": "stdout",
     "output_type": "stream",
     "text": [
      " data processed [==========] time remaing=-0.00\n"
     ]
    }
   ],
   "source": [
    "\n",
    "img_features = None\n",
    "train_dataset = data_load.FacesHardTripletDataset(efficient_facenet.descriptor, True, f\"{dataset_path}/train\", 10000,\n",
    "                                                  train_transform, load_imgs_from_dict=False,\n",
    "                                                  img_features_dict=img_features, select_from_negative_cnt=50)\n",
    "test_dataset = data_load.FacesTripletDataset(f\"{dataset_path}/test\", 5000, test_transform, False)\n"
   ],
   "metadata": {
    "collapsed": false,
    "pycharm": {
     "name": "#%%\n"
    }
   }
  },
  {
   "cell_type": "code",
   "execution_count": 19,
   "outputs": [],
   "source": [
    "train_loader = DataLoader(train_dataset, batch_size=16, shuffle=False)\n",
    "test_loader = DataLoader(test_dataset, batch_size=16, shuffle=False)"
   ],
   "metadata": {
    "collapsed": false,
    "pycharm": {
     "name": "#%%\n"
    }
   }
  },
  {
   "cell_type": "code",
   "execution_count": 8,
   "outputs": [
    {
     "data": {
      "text/plain": "Sequential(\n  (0): Linear(in_features=512, out_features=128, bias=True)\n  (1): ReLU(inplace=True)\n  (2): Dropout(p=0.5, inplace=False)\n  (3): Linear(in_features=128, out_features=1, bias=True)\n  (4): Sigmoid()\n)"
     },
     "execution_count": 8,
     "metadata": {},
     "output_type": "execute_result"
    }
   ],
   "source": [
    "efficient_facenet.classifier"
   ],
   "metadata": {
    "collapsed": false,
    "pycharm": {
     "name": "#%%\n"
    }
   }
  },
  {
   "cell_type": "code",
   "execution_count": 32,
   "metadata": {
    "pycharm": {
     "name": "#%%\n"
    }
   },
   "outputs": [],
   "source": [
    "for i in range(4):\n",
    "    for param in efficient_facenet.descriptor.features[i]:\n",
    "        param.requires_grad=False"
   ]
  },
  {
   "cell_type": "code",
   "execution_count": 53,
   "outputs": [],
   "source": [
    "for param in efficient_facenet.parameters():\n",
    "    param.requires_grad=True"
   ],
   "metadata": {
    "collapsed": false,
    "pycharm": {
     "name": "#%%\n"
    }
   }
  },
  {
   "cell_type": "code",
   "execution_count": 20,
   "outputs": [],
   "source": [
    "for param in efficient_facenet.descriptor.parameters():\n",
    "    param.requires_grad=False"
   ],
   "metadata": {
    "collapsed": false,
    "pycharm": {
     "name": "#%%\n"
    }
   }
  },
  {
   "cell_type": "code",
   "execution_count": 21,
   "metadata": {
    "pycharm": {
     "name": "#%%\n"
    }
   },
   "outputs": [],
   "source": [
    "train_notes=\" facenet classifier with convnext backens descriptor train classifier only (256,128),Relu,(128.1) , Sigmoid dec learn rate to 0.0001 Hard Triplet Train\"\n",
    "model_weights_path=\"../model_weights/classifier\"\n",
    "train_data_save_path=\"../training log/classifier/convnext\""
   ]
  },
  {
   "cell_type": "code",
   "execution_count": 16,
   "outputs": [],
   "source": [
    "efficient_facenet.descriptor.load_local_weights(\"../model_weights/convnext_tiny/06_06 12_02 Train_(0.239315) Test_(0.055797).pt\")"
   ],
   "metadata": {
    "collapsed": false,
    "pycharm": {
     "name": "#%%\n"
    }
   }
  },
  {
   "cell_type": "code",
   "execution_count": 9,
   "outputs": [],
   "source": [
    "efficient_facenet.descriptor.load_local_weights(descriptor_weights)"
   ],
   "metadata": {
    "collapsed": false,
    "pycharm": {
     "name": "#%%\n"
    }
   }
  },
  {
   "cell_type": "code",
   "execution_count": 22,
   "outputs": [],
   "source": [
    "from torch.optim import Adam\n",
    "optimizer = Adam(efficient_facenet.parameters(), lr=0.0001)"
   ],
   "metadata": {
    "collapsed": false,
    "pycharm": {
     "name": "#%%\n"
    }
   }
  },
  {
   "cell_type": "code",
   "execution_count": 12,
   "outputs": [],
   "source": [
    "train_dataset.no_of_rows=100\n",
    "test_dataset.no_of_rows=100\n"
   ],
   "metadata": {
    "collapsed": false,
    "pycharm": {
     "name": "#%%\n"
    }
   }
  },
  {
   "cell_type": "code",
   "execution_count": 24,
   "metadata": {
    "pycharm": {
     "name": "#%%\n"
    }
   },
   "outputs": [
    {
     "name": "stdout",
     "output_type": "stream",
     "text": [
      "Testing before training ...\n",
      " Testing  [==========] time taken (m) = 4.627585 Avg Test_Loss=0.5734333079Test Loss before Training=0.5743512360572814\n",
      "-----------------------------------------------------\n",
      " data processed [==========] time remaing=-0.00\n",
      " epoch 1 [==========] time Taken (git m) = 9.314739 Avg Train_Loss=1.288029\n",
      "mean of unique pictures usage count = 1.539 and std = 0.934 , no of unique pictures used =77987\n",
      " Testing  [==========] time taken (m) = 4.580849 Avg Test_Loss=0.5647295265 epoch 1 train_loss =1.2880298742294312 test_loss=0.56563311252594\n",
      "new minimum test loss 0.565633  achieved, model weights saved \n",
      "-----------------------------------------------------\n",
      " data processed [==========] time remaing=-0.00\n",
      " epoch 2 [==========] time Taken (git m) = 9.318509 Avg Train_Loss=1.274474\n",
      "mean of unique pictures usage count = 1.687 and std = 1.308 , no of unique pictures used =88912\n",
      " Testing  [==========] time taken (m) = 4.594837 Avg Test_Loss=0.5666285141 epoch 2 train_loss =1.2744746970176697 test_loss=0.5675349462509155\n",
      "-----------------------------------------------------\n",
      " data processed [==========] time remaing=-0.00\n",
      " epoch 3 [==========] time Taken (git m) = 9.338746 Avg Train_Loss=1.269564\n",
      "mean of unique pictures usage count = 1.836 and std = 1.718 , no of unique pictures used =98061\n",
      " Testing  [==========] time taken (m) = 4.600927 Avg Test_Loss=0.5723512830 epoch 3 train_loss =1.2695642848968507 test_loss=0.5732671409606933\n",
      "-----------------------------------------------------\n",
      " data processed [==========] time remaing=0.002\n",
      " epoch 4 [==========] time Taken (git m) = 9.321723 Avg Train_Loss=1.251035\n",
      "mean of unique pictures usage count = 1.988 and std = 2.186 , no of unique pictures used =105610\n",
      " Testing  [==========] time taken (m) = 4.591754 Avg Test_Loss=0.5806077821 epoch 4 train_loss =1.2510352938652038 test_loss=0.5815368184089661\n",
      "-----------------------------------------------------\n",
      " data processed [==========] time remaing=0.002\n",
      " epoch 5 [===.......] time remaining (m) = 6.206821 Avg Train_Loss=1.255330"
     ]
    },
    {
     "ename": "KeyboardInterrupt",
     "evalue": "",
     "output_type": "error",
     "traceback": [
      "\u001B[1;31m---------------------------------------------------------------------------\u001B[0m",
      "\u001B[1;31mKeyboardInterrupt\u001B[0m                         Traceback (most recent call last)",
      "Input \u001B[1;32mIn [24]\u001B[0m, in \u001B[0;36m<cell line: 1>\u001B[1;34m()\u001B[0m\n\u001B[1;32m----> 1\u001B[0m \u001B[43mmodels_train\u001B[49m\u001B[38;5;241;43m.\u001B[39;49m\u001B[43mmodel_train\u001B[49m\u001B[43m(\u001B[49m\u001B[43mefficient_facenet\u001B[49m\u001B[43m,\u001B[49m\u001B[38;5;241;43m100\u001B[39;49m\u001B[43m,\u001B[49m\u001B[38;5;241;43m0.00001\u001B[39;49m\u001B[43m,\u001B[49m\u001B[43mtrain_loader\u001B[49m\u001B[43m,\u001B[49m\u001B[43mtest_loader\u001B[49m\u001B[43m,\u001B[49m\u001B[38;5;124;43m\"\u001B[39;49m\u001B[38;5;124;43mpair\u001B[39;49m\u001B[38;5;124;43m\"\u001B[39;49m\u001B[43m,\u001B[49m\u001B[43mcuda\u001B[49m\u001B[38;5;241;43m=\u001B[39;49m\u001B[38;5;28;43;01mTrue\u001B[39;49;00m\u001B[43m,\u001B[49m\u001B[43mweight_saving_path\u001B[49m\u001B[38;5;241;43m=\u001B[39;49m\u001B[43mmodel_weights_path\u001B[49m\u001B[43m,\u001B[49m\u001B[43mepoch_data_saving_path\u001B[49m\u001B[38;5;241;43m=\u001B[39;49m\u001B[43mtrain_data_save_path\u001B[49m\u001B[43m,\u001B[49m\u001B[43mnotes\u001B[49m\u001B[38;5;241;43m=\u001B[39;49m\u001B[43mtrain_notes\u001B[49m\u001B[43m,\u001B[49m\u001B[43moptimizer\u001B[49m\u001B[38;5;241;43m=\u001B[39;49m\u001B[43moptimizer\u001B[49m\u001B[43m)\u001B[49m\n",
      "File \u001B[1;32mC:\\graduation_project\\efficient-facenet\\src\\efficentnet_train\\models_train.py:94\u001B[0m, in \u001B[0;36mmodel_train\u001B[1;34m(model, epochs, learn_rate, train_loader, test_loader, train_mod, cuda, weight_saving_path, epoch_data_saving_path, notes, **kwargs)\u001B[0m\n\u001B[0;32m     92\u001B[0m cnt \u001B[38;5;241m=\u001B[39m \u001B[38;5;241m0.0\u001B[39m\n\u001B[0;32m     93\u001B[0m time_sum \u001B[38;5;241m=\u001B[39m \u001B[38;5;241m0.0\u001B[39m\n\u001B[1;32m---> 94\u001B[0m \u001B[38;5;28;01mfor\u001B[39;00m data \u001B[38;5;129;01min\u001B[39;00m train_loader:\n\u001B[0;32m     95\u001B[0m     batch_start_t \u001B[38;5;241m=\u001B[39m time\u001B[38;5;241m.\u001B[39mtime()\n\u001B[0;32m     97\u001B[0m     anchor_img, positive_img, negative_img \u001B[38;5;241m=\u001B[39m data\n",
      "File \u001B[1;32mC:\\graduation_project\\efficient-facenet\\venv\\lib\\site-packages\\torch\\utils\\data\\dataloader.py:530\u001B[0m, in \u001B[0;36m_BaseDataLoaderIter.__next__\u001B[1;34m(self)\u001B[0m\n\u001B[0;32m    528\u001B[0m \u001B[38;5;28;01mif\u001B[39;00m \u001B[38;5;28mself\u001B[39m\u001B[38;5;241m.\u001B[39m_sampler_iter \u001B[38;5;129;01mis\u001B[39;00m \u001B[38;5;28;01mNone\u001B[39;00m:\n\u001B[0;32m    529\u001B[0m     \u001B[38;5;28mself\u001B[39m\u001B[38;5;241m.\u001B[39m_reset()\n\u001B[1;32m--> 530\u001B[0m data \u001B[38;5;241m=\u001B[39m \u001B[38;5;28;43mself\u001B[39;49m\u001B[38;5;241;43m.\u001B[39;49m\u001B[43m_next_data\u001B[49m\u001B[43m(\u001B[49m\u001B[43m)\u001B[49m\n\u001B[0;32m    531\u001B[0m \u001B[38;5;28mself\u001B[39m\u001B[38;5;241m.\u001B[39m_num_yielded \u001B[38;5;241m+\u001B[39m\u001B[38;5;241m=\u001B[39m \u001B[38;5;241m1\u001B[39m\n\u001B[0;32m    532\u001B[0m \u001B[38;5;28;01mif\u001B[39;00m \u001B[38;5;28mself\u001B[39m\u001B[38;5;241m.\u001B[39m_dataset_kind \u001B[38;5;241m==\u001B[39m _DatasetKind\u001B[38;5;241m.\u001B[39mIterable \u001B[38;5;129;01mand\u001B[39;00m \\\n\u001B[0;32m    533\u001B[0m         \u001B[38;5;28mself\u001B[39m\u001B[38;5;241m.\u001B[39m_IterableDataset_len_called \u001B[38;5;129;01mis\u001B[39;00m \u001B[38;5;129;01mnot\u001B[39;00m \u001B[38;5;28;01mNone\u001B[39;00m \u001B[38;5;129;01mand\u001B[39;00m \\\n\u001B[0;32m    534\u001B[0m         \u001B[38;5;28mself\u001B[39m\u001B[38;5;241m.\u001B[39m_num_yielded \u001B[38;5;241m>\u001B[39m \u001B[38;5;28mself\u001B[39m\u001B[38;5;241m.\u001B[39m_IterableDataset_len_called:\n",
      "File \u001B[1;32mC:\\graduation_project\\efficient-facenet\\venv\\lib\\site-packages\\torch\\utils\\data\\dataloader.py:570\u001B[0m, in \u001B[0;36m_SingleProcessDataLoaderIter._next_data\u001B[1;34m(self)\u001B[0m\n\u001B[0;32m    568\u001B[0m \u001B[38;5;28;01mdef\u001B[39;00m \u001B[38;5;21m_next_data\u001B[39m(\u001B[38;5;28mself\u001B[39m):\n\u001B[0;32m    569\u001B[0m     index \u001B[38;5;241m=\u001B[39m \u001B[38;5;28mself\u001B[39m\u001B[38;5;241m.\u001B[39m_next_index()  \u001B[38;5;66;03m# may raise StopIteration\u001B[39;00m\n\u001B[1;32m--> 570\u001B[0m     data \u001B[38;5;241m=\u001B[39m \u001B[38;5;28;43mself\u001B[39;49m\u001B[38;5;241;43m.\u001B[39;49m\u001B[43m_dataset_fetcher\u001B[49m\u001B[38;5;241;43m.\u001B[39;49m\u001B[43mfetch\u001B[49m\u001B[43m(\u001B[49m\u001B[43mindex\u001B[49m\u001B[43m)\u001B[49m  \u001B[38;5;66;03m# may raise StopIteration\u001B[39;00m\n\u001B[0;32m    571\u001B[0m     \u001B[38;5;28;01mif\u001B[39;00m \u001B[38;5;28mself\u001B[39m\u001B[38;5;241m.\u001B[39m_pin_memory:\n\u001B[0;32m    572\u001B[0m         data \u001B[38;5;241m=\u001B[39m _utils\u001B[38;5;241m.\u001B[39mpin_memory\u001B[38;5;241m.\u001B[39mpin_memory(data)\n",
      "File \u001B[1;32mC:\\graduation_project\\efficient-facenet\\venv\\lib\\site-packages\\torch\\utils\\data\\_utils\\fetch.py:32\u001B[0m, in \u001B[0;36m_IterableDatasetFetcher.fetch\u001B[1;34m(self, possibly_batched_index)\u001B[0m\n\u001B[0;32m     30\u001B[0m \u001B[38;5;28;01mfor\u001B[39;00m _ \u001B[38;5;129;01min\u001B[39;00m possibly_batched_index:\n\u001B[0;32m     31\u001B[0m     \u001B[38;5;28;01mtry\u001B[39;00m:\n\u001B[1;32m---> 32\u001B[0m         data\u001B[38;5;241m.\u001B[39mappend(\u001B[38;5;28;43mnext\u001B[39;49m\u001B[43m(\u001B[49m\u001B[38;5;28;43mself\u001B[39;49m\u001B[38;5;241;43m.\u001B[39;49m\u001B[43mdataset_iter\u001B[49m\u001B[43m)\u001B[49m)\n\u001B[0;32m     33\u001B[0m     \u001B[38;5;28;01mexcept\u001B[39;00m \u001B[38;5;167;01mStopIteration\u001B[39;00m:\n\u001B[0;32m     34\u001B[0m         \u001B[38;5;28mself\u001B[39m\u001B[38;5;241m.\u001B[39mended \u001B[38;5;241m=\u001B[39m \u001B[38;5;28;01mTrue\u001B[39;00m\n",
      "File \u001B[1;32mC:\\graduation_project\\efficient-facenet\\src\\efficentnet_train\\data_load.py:308\u001B[0m, in \u001B[0;36mFacesHardTripletDataset.__iter__\u001B[1;34m(self)\u001B[0m\n\u001B[0;32m    306\u001B[0m a_img \u001B[38;5;241m=\u001B[39m \u001B[38;5;28mself\u001B[39m\u001B[38;5;241m.\u001B[39mload_img(a_img_name)\n\u001B[0;32m    307\u001B[0m p_img \u001B[38;5;241m=\u001B[39m \u001B[38;5;28mself\u001B[39m\u001B[38;5;241m.\u001B[39mload_img(p_img_name)\n\u001B[1;32m--> 308\u001B[0m n_img \u001B[38;5;241m=\u001B[39m \u001B[38;5;28;43mself\u001B[39;49m\u001B[38;5;241;43m.\u001B[39;49m\u001B[43mload_img\u001B[49m\u001B[43m(\u001B[49m\u001B[43mn_img_name\u001B[49m\u001B[43m)\u001B[49m\n\u001B[0;32m    310\u001B[0m \u001B[38;5;28mself\u001B[39m\u001B[38;5;241m.\u001B[39madd_to_img_used_pics(a_img_name)\n\u001B[0;32m    311\u001B[0m \u001B[38;5;28mself\u001B[39m\u001B[38;5;241m.\u001B[39madd_to_img_used_pics(p_img_name)\n",
      "File \u001B[1;32mC:\\graduation_project\\efficient-facenet\\src\\efficentnet_train\\data_load.py:157\u001B[0m, in \u001B[0;36mFacesDataset.load_img\u001B[1;34m(self, img_path)\u001B[0m\n\u001B[0;32m    155\u001B[0m \u001B[38;5;28;01mdef\u001B[39;00m \u001B[38;5;21mload_img\u001B[39m(\u001B[38;5;28mself\u001B[39m, img_path):\n\u001B[0;32m    156\u001B[0m     \u001B[38;5;28;01mif\u001B[39;00m \u001B[38;5;129;01mnot\u001B[39;00m \u001B[38;5;28mself\u001B[39m\u001B[38;5;241m.\u001B[39mload_imgs_from_dict \u001B[38;5;129;01mor\u001B[39;00m img_path \u001B[38;5;129;01mnot\u001B[39;00m \u001B[38;5;129;01min\u001B[39;00m \u001B[38;5;28mself\u001B[39m\u001B[38;5;241m.\u001B[39mimages_dict:\n\u001B[1;32m--> 157\u001B[0m         img \u001B[38;5;241m=\u001B[39m \u001B[43mImage\u001B[49m\u001B[38;5;241;43m.\u001B[39;49m\u001B[43mopen\u001B[49m\u001B[43m(\u001B[49m\u001B[38;5;28;43mself\u001B[39;49m\u001B[38;5;241;43m.\u001B[39;49m\u001B[43mdataset_path\u001B[49m\u001B[43m \u001B[49m\u001B[38;5;241;43m+\u001B[39;49m\u001B[43m \u001B[49m\u001B[38;5;124;43m\"\u001B[39;49m\u001B[38;5;124;43m/\u001B[39;49m\u001B[38;5;124;43m\"\u001B[39;49m\u001B[43m \u001B[49m\u001B[38;5;241;43m+\u001B[39;49m\u001B[43m \u001B[49m\u001B[43mimg_path\u001B[49m\u001B[43m)\u001B[49m\n\u001B[0;32m    158\u001B[0m     \u001B[38;5;28;01melse\u001B[39;00m:\n\u001B[0;32m    159\u001B[0m         img \u001B[38;5;241m=\u001B[39m \u001B[38;5;28mself\u001B[39m\u001B[38;5;241m.\u001B[39mimages_dict[img_path]\n",
      "File \u001B[1;32mC:\\graduation_project\\efficient-facenet\\venv\\lib\\site-packages\\PIL\\Image.py:3077\u001B[0m, in \u001B[0;36mopen\u001B[1;34m(fp, mode, formats)\u001B[0m\n\u001B[0;32m   3074\u001B[0m     fp \u001B[38;5;241m=\u001B[39m io\u001B[38;5;241m.\u001B[39mBytesIO(fp\u001B[38;5;241m.\u001B[39mread())\n\u001B[0;32m   3075\u001B[0m     exclusive_fp \u001B[38;5;241m=\u001B[39m \u001B[38;5;28;01mTrue\u001B[39;00m\n\u001B[1;32m-> 3077\u001B[0m prefix \u001B[38;5;241m=\u001B[39m \u001B[43mfp\u001B[49m\u001B[38;5;241;43m.\u001B[39;49m\u001B[43mread\u001B[49m\u001B[43m(\u001B[49m\u001B[38;5;241;43m16\u001B[39;49m\u001B[43m)\u001B[49m\n\u001B[0;32m   3079\u001B[0m preinit()\n\u001B[0;32m   3081\u001B[0m accept_warnings \u001B[38;5;241m=\u001B[39m []\n",
      "\u001B[1;31mKeyboardInterrupt\u001B[0m: "
     ]
    }
   ],
   "source": [
    "models_train.model_train(efficient_facenet,100,0.1,train_loader,test_loader,\"pair\",cuda=True,weight_saving_path=model_weights_path,epoch_data_saving_path=train_data_save_path,notes=train_notes,optimizer=optimizer)"
   ]
  },
  {
   "cell_type": "code",
   "execution_count": 11,
   "metadata": {
    "pycharm": {
     "name": "#%%\n"
    }
   },
   "outputs": [],
   "source": [
    "efficient_facenet.load_local_weights(utils.get_last_weights_path(effnet_weights_path),True)"
   ]
  },
  {
   "cell_type": "code",
   "execution_count": 41,
   "metadata": {
    "pycharm": {
     "name": "#%%\n"
    }
   },
   "outputs": [
    {
     "name": "stdout",
     "output_type": "stream",
     "text": [
      " data processed [==========] time remaing=-0.00\n"
     ]
    }
   ],
   "source": [
    "celeb_subset_data_path=\"../dataset/preprocessed/img_celeb_full/test\"\n",
    "imgs_features_dict=data_load.get_pic_features_dict(celeb_subset_data_path,model=efficient_facenet.descriptor,transform=test_transform,cuda=True,batch_size=10)"
   ]
  },
  {
   "cell_type": "code",
   "execution_count": 48,
   "outputs": [],
   "source": [
    "\n",
    "imgs_features_dict=utils.load_dict_from_json(\"face_features.json\")"
   ],
   "metadata": {
    "collapsed": false,
    "pycharm": {
     "name": "#%%\n"
    }
   }
  },
  {
   "cell_type": "code",
   "execution_count": null,
   "outputs": [],
   "source": [
    "imgs_features_dict=features_dict"
   ],
   "metadata": {
    "collapsed": false,
    "pycharm": {
     "name": "#%%\n"
    }
   }
  },
  {
   "cell_type": "code",
   "execution_count": 15,
   "metadata": {
    "pycharm": {
     "name": "#%%\n"
    }
   },
   "outputs": [],
   "source": [
    "utils.save_dict_to_json(\"lfw_face_features.json\",imgs_features_dict)\n"
   ]
  },
  {
   "cell_type": "code",
   "execution_count": 11,
   "metadata": {
    "pycharm": {
     "name": "#%%\n"
    }
   },
   "outputs": [],
   "source": [
    "imgs_features_dict=utils.load_dict_from_json(\"face_features.json\")"
   ]
  },
  {
   "cell_type": "code",
   "execution_count": 42,
   "metadata": {
    "pycharm": {
     "name": "#%%\n"
    }
   },
   "outputs": [],
   "source": [
    "full_test_data_pd=pd.DataFrame(generate_dataset.generate_testing_data_set_frame(img_celeb_subset,False))"
   ]
  },
  {
   "cell_type": "code",
   "execution_count": 14,
   "metadata": {
    "pycharm": {
     "name": "#%%\n"
    }
   },
   "outputs": [
    {
     "data": {
      "text/plain": "EfficientFacenet(\n  (descriptor): FaceDescriptorModel(\n    (features): Sequential(\n      (0): ConvNormActivation(\n        (0): Conv2d(3, 96, kernel_size=(4, 4), stride=(4, 4))\n        (1): LayerNorm2d((96,), eps=1e-06, elementwise_affine=True)\n      )\n      (1): Sequential(\n        (0): CNBlock(\n          (block): Sequential(\n            (0): Conv2d(96, 96, kernel_size=(7, 7), stride=(1, 1), padding=(3, 3), groups=96)\n            (1): Permute()\n            (2): LayerNorm((96,), eps=1e-06, elementwise_affine=True)\n            (3): Linear(in_features=96, out_features=384, bias=True)\n            (4): GELU()\n            (5): Linear(in_features=384, out_features=96, bias=True)\n            (6): Permute()\n          )\n          (stochastic_depth): StochasticDepth(p=0.0, mode=row)\n        )\n        (1): CNBlock(\n          (block): Sequential(\n            (0): Conv2d(96, 96, kernel_size=(7, 7), stride=(1, 1), padding=(3, 3), groups=96)\n            (1): Permute()\n            (2): LayerNorm((96,), eps=1e-06, elementwise_affine=True)\n            (3): Linear(in_features=96, out_features=384, bias=True)\n            (4): GELU()\n            (5): Linear(in_features=384, out_features=96, bias=True)\n            (6): Permute()\n          )\n          (stochastic_depth): StochasticDepth(p=0.0058823529411764705, mode=row)\n        )\n        (2): CNBlock(\n          (block): Sequential(\n            (0): Conv2d(96, 96, kernel_size=(7, 7), stride=(1, 1), padding=(3, 3), groups=96)\n            (1): Permute()\n            (2): LayerNorm((96,), eps=1e-06, elementwise_affine=True)\n            (3): Linear(in_features=96, out_features=384, bias=True)\n            (4): GELU()\n            (5): Linear(in_features=384, out_features=96, bias=True)\n            (6): Permute()\n          )\n          (stochastic_depth): StochasticDepth(p=0.011764705882352941, mode=row)\n        )\n      )\n      (2): Sequential(\n        (0): LayerNorm2d((96,), eps=1e-06, elementwise_affine=True)\n        (1): Conv2d(96, 192, kernel_size=(2, 2), stride=(2, 2))\n      )\n      (3): Sequential(\n        (0): CNBlock(\n          (block): Sequential(\n            (0): Conv2d(192, 192, kernel_size=(7, 7), stride=(1, 1), padding=(3, 3), groups=192)\n            (1): Permute()\n            (2): LayerNorm((192,), eps=1e-06, elementwise_affine=True)\n            (3): Linear(in_features=192, out_features=768, bias=True)\n            (4): GELU()\n            (5): Linear(in_features=768, out_features=192, bias=True)\n            (6): Permute()\n          )\n          (stochastic_depth): StochasticDepth(p=0.017647058823529415, mode=row)\n        )\n        (1): CNBlock(\n          (block): Sequential(\n            (0): Conv2d(192, 192, kernel_size=(7, 7), stride=(1, 1), padding=(3, 3), groups=192)\n            (1): Permute()\n            (2): LayerNorm((192,), eps=1e-06, elementwise_affine=True)\n            (3): Linear(in_features=192, out_features=768, bias=True)\n            (4): GELU()\n            (5): Linear(in_features=768, out_features=192, bias=True)\n            (6): Permute()\n          )\n          (stochastic_depth): StochasticDepth(p=0.023529411764705882, mode=row)\n        )\n        (2): CNBlock(\n          (block): Sequential(\n            (0): Conv2d(192, 192, kernel_size=(7, 7), stride=(1, 1), padding=(3, 3), groups=192)\n            (1): Permute()\n            (2): LayerNorm((192,), eps=1e-06, elementwise_affine=True)\n            (3): Linear(in_features=192, out_features=768, bias=True)\n            (4): GELU()\n            (5): Linear(in_features=768, out_features=192, bias=True)\n            (6): Permute()\n          )\n          (stochastic_depth): StochasticDepth(p=0.029411764705882353, mode=row)\n        )\n      )\n      (4): Sequential(\n        (0): LayerNorm2d((192,), eps=1e-06, elementwise_affine=True)\n        (1): Conv2d(192, 384, kernel_size=(2, 2), stride=(2, 2))\n      )\n      (5): Sequential(\n        (0): CNBlock(\n          (block): Sequential(\n            (0): Conv2d(384, 384, kernel_size=(7, 7), stride=(1, 1), padding=(3, 3), groups=384)\n            (1): Permute()\n            (2): LayerNorm((384,), eps=1e-06, elementwise_affine=True)\n            (3): Linear(in_features=384, out_features=1536, bias=True)\n            (4): GELU()\n            (5): Linear(in_features=1536, out_features=384, bias=True)\n            (6): Permute()\n          )\n          (stochastic_depth): StochasticDepth(p=0.03529411764705883, mode=row)\n        )\n        (1): CNBlock(\n          (block): Sequential(\n            (0): Conv2d(384, 384, kernel_size=(7, 7), stride=(1, 1), padding=(3, 3), groups=384)\n            (1): Permute()\n            (2): LayerNorm((384,), eps=1e-06, elementwise_affine=True)\n            (3): Linear(in_features=384, out_features=1536, bias=True)\n            (4): GELU()\n            (5): Linear(in_features=1536, out_features=384, bias=True)\n            (6): Permute()\n          )\n          (stochastic_depth): StochasticDepth(p=0.0411764705882353, mode=row)\n        )\n        (2): CNBlock(\n          (block): Sequential(\n            (0): Conv2d(384, 384, kernel_size=(7, 7), stride=(1, 1), padding=(3, 3), groups=384)\n            (1): Permute()\n            (2): LayerNorm((384,), eps=1e-06, elementwise_affine=True)\n            (3): Linear(in_features=384, out_features=1536, bias=True)\n            (4): GELU()\n            (5): Linear(in_features=1536, out_features=384, bias=True)\n            (6): Permute()\n          )\n          (stochastic_depth): StochasticDepth(p=0.047058823529411764, mode=row)\n        )\n        (3): CNBlock(\n          (block): Sequential(\n            (0): Conv2d(384, 384, kernel_size=(7, 7), stride=(1, 1), padding=(3, 3), groups=384)\n            (1): Permute()\n            (2): LayerNorm((384,), eps=1e-06, elementwise_affine=True)\n            (3): Linear(in_features=384, out_features=1536, bias=True)\n            (4): GELU()\n            (5): Linear(in_features=1536, out_features=384, bias=True)\n            (6): Permute()\n          )\n          (stochastic_depth): StochasticDepth(p=0.052941176470588235, mode=row)\n        )\n        (4): CNBlock(\n          (block): Sequential(\n            (0): Conv2d(384, 384, kernel_size=(7, 7), stride=(1, 1), padding=(3, 3), groups=384)\n            (1): Permute()\n            (2): LayerNorm((384,), eps=1e-06, elementwise_affine=True)\n            (3): Linear(in_features=384, out_features=1536, bias=True)\n            (4): GELU()\n            (5): Linear(in_features=1536, out_features=384, bias=True)\n            (6): Permute()\n          )\n          (stochastic_depth): StochasticDepth(p=0.058823529411764705, mode=row)\n        )\n        (5): CNBlock(\n          (block): Sequential(\n            (0): Conv2d(384, 384, kernel_size=(7, 7), stride=(1, 1), padding=(3, 3), groups=384)\n            (1): Permute()\n            (2): LayerNorm((384,), eps=1e-06, elementwise_affine=True)\n            (3): Linear(in_features=384, out_features=1536, bias=True)\n            (4): GELU()\n            (5): Linear(in_features=1536, out_features=384, bias=True)\n            (6): Permute()\n          )\n          (stochastic_depth): StochasticDepth(p=0.06470588235294118, mode=row)\n        )\n        (6): CNBlock(\n          (block): Sequential(\n            (0): Conv2d(384, 384, kernel_size=(7, 7), stride=(1, 1), padding=(3, 3), groups=384)\n            (1): Permute()\n            (2): LayerNorm((384,), eps=1e-06, elementwise_affine=True)\n            (3): Linear(in_features=384, out_features=1536, bias=True)\n            (4): GELU()\n            (5): Linear(in_features=1536, out_features=384, bias=True)\n            (6): Permute()\n          )\n          (stochastic_depth): StochasticDepth(p=0.07058823529411766, mode=row)\n        )\n        (7): CNBlock(\n          (block): Sequential(\n            (0): Conv2d(384, 384, kernel_size=(7, 7), stride=(1, 1), padding=(3, 3), groups=384)\n            (1): Permute()\n            (2): LayerNorm((384,), eps=1e-06, elementwise_affine=True)\n            (3): Linear(in_features=384, out_features=1536, bias=True)\n            (4): GELU()\n            (5): Linear(in_features=1536, out_features=384, bias=True)\n            (6): Permute()\n          )\n          (stochastic_depth): StochasticDepth(p=0.07647058823529412, mode=row)\n        )\n        (8): CNBlock(\n          (block): Sequential(\n            (0): Conv2d(384, 384, kernel_size=(7, 7), stride=(1, 1), padding=(3, 3), groups=384)\n            (1): Permute()\n            (2): LayerNorm((384,), eps=1e-06, elementwise_affine=True)\n            (3): Linear(in_features=384, out_features=1536, bias=True)\n            (4): GELU()\n            (5): Linear(in_features=1536, out_features=384, bias=True)\n            (6): Permute()\n          )\n          (stochastic_depth): StochasticDepth(p=0.0823529411764706, mode=row)\n        )\n      )\n      (6): Sequential(\n        (0): LayerNorm2d((384,), eps=1e-06, elementwise_affine=True)\n        (1): Conv2d(384, 768, kernel_size=(2, 2), stride=(2, 2))\n      )\n      (7): Sequential(\n        (0): CNBlock(\n          (block): Sequential(\n            (0): Conv2d(768, 768, kernel_size=(7, 7), stride=(1, 1), padding=(3, 3), groups=768)\n            (1): Permute()\n            (2): LayerNorm((768,), eps=1e-06, elementwise_affine=True)\n            (3): Linear(in_features=768, out_features=3072, bias=True)\n            (4): GELU()\n            (5): Linear(in_features=3072, out_features=768, bias=True)\n            (6): Permute()\n          )\n          (stochastic_depth): StochasticDepth(p=0.08823529411764706, mode=row)\n        )\n        (1): CNBlock(\n          (block): Sequential(\n            (0): Conv2d(768, 768, kernel_size=(7, 7), stride=(1, 1), padding=(3, 3), groups=768)\n            (1): Permute()\n            (2): LayerNorm((768,), eps=1e-06, elementwise_affine=True)\n            (3): Linear(in_features=768, out_features=3072, bias=True)\n            (4): GELU()\n            (5): Linear(in_features=3072, out_features=768, bias=True)\n            (6): Permute()\n          )\n          (stochastic_depth): StochasticDepth(p=0.09411764705882353, mode=row)\n        )\n        (2): CNBlock(\n          (block): Sequential(\n            (0): Conv2d(768, 768, kernel_size=(7, 7), stride=(1, 1), padding=(3, 3), groups=768)\n            (1): Permute()\n            (2): LayerNorm((768,), eps=1e-06, elementwise_affine=True)\n            (3): Linear(in_features=768, out_features=3072, bias=True)\n            (4): GELU()\n            (5): Linear(in_features=3072, out_features=768, bias=True)\n            (6): Permute()\n          )\n          (stochastic_depth): StochasticDepth(p=0.1, mode=row)\n        )\n      )\n    )\n    (classifier): Sequential(\n      (0): LayerNorm2d((768,), eps=1e-06, elementwise_affine=True)\n      (1): Flatten(start_dim=1, end_dim=-1)\n      (2): Dropout(p=0.35, inplace=False)\n      (3): Linear(in_features=768, out_features=256, bias=True)\n    )\n    (avgpool): AdaptiveAvgPool2d(output_size=1)\n  )\n  (classifier): Sequential(\n    (0): Linear(in_features=512, out_features=128, bias=True)\n    (1): ReLU(inplace=True)\n    (2): Dropout(p=0.5, inplace=False)\n    (3): Linear(in_features=128, out_features=1, bias=True)\n    (4): Sigmoid()\n  )\n)"
     },
     "execution_count": 14,
     "metadata": {},
     "output_type": "execute_result"
    }
   ],
   "source": [
    "efficient_facenet.cuda()"
   ]
  },
  {
   "cell_type": "code",
   "execution_count": 43,
   "outputs": [],
   "source": [
    "full_test_data_pd=full_test_data_pd.sample(frac=1)\n",
    "test_data_pd=full_test_data_pd"
   ],
   "metadata": {
    "collapsed": false,
    "pycharm": {
     "name": "#%%\n"
    }
   }
  },
  {
   "cell_type": "code",
   "execution_count": 44,
   "metadata": {
    "pycharm": {
     "name": "#%%\n"
    }
   },
   "outputs": [
    {
     "name": "stdout",
     "output_type": "stream",
     "text": [
      " Testing  [==========] time remaining = 0.0 Accuracy =92.311Accuracy now equal --> 92.3114%\n"
     ]
    }
   ],
   "source": [
    "error_table, confusion_table=evaluation.model_test(imgs_features_dict,test_data_pd,results_path=\"\",threshold=0.65,classifier=efficient_facenet.classify_face_features,cuda=True)"
   ]
  },
  {
   "cell_type": "code",
   "execution_count": 45,
   "outputs": [
    {
     "data": {
      "text/plain": "                              Mertic       Value\n0                     processed rows  399058.000\n1  Model accuracy on Proceed Faces %      92.310\n2                     False Positive   15996.000\n3                     False Negative   14686.000\n4                          precision       0.920\n5                             recall       0.926\n6                        fbeta-score       0.923\n7           avg same person distance       0.878\n8           avg diff person distance       0.139\n9                    Model tolerance       0.650",
      "text/html": "<div>\n<style scoped>\n    .dataframe tbody tr th:only-of-type {\n        vertical-align: middle;\n    }\n\n    .dataframe tbody tr th {\n        vertical-align: top;\n    }\n\n    .dataframe thead th {\n        text-align: right;\n    }\n</style>\n<table border=\"1\" class=\"dataframe\">\n  <thead>\n    <tr style=\"text-align: right;\">\n      <th></th>\n      <th>Mertic</th>\n      <th>Value</th>\n    </tr>\n  </thead>\n  <tbody>\n    <tr>\n      <th>0</th>\n      <td>processed rows</td>\n      <td>399058.000</td>\n    </tr>\n    <tr>\n      <th>1</th>\n      <td>Model accuracy on Proceed Faces %</td>\n      <td>92.310</td>\n    </tr>\n    <tr>\n      <th>2</th>\n      <td>False Positive</td>\n      <td>15996.000</td>\n    </tr>\n    <tr>\n      <th>3</th>\n      <td>False Negative</td>\n      <td>14686.000</td>\n    </tr>\n    <tr>\n      <th>4</th>\n      <td>precision</td>\n      <td>0.920</td>\n    </tr>\n    <tr>\n      <th>5</th>\n      <td>recall</td>\n      <td>0.926</td>\n    </tr>\n    <tr>\n      <th>6</th>\n      <td>fbeta-score</td>\n      <td>0.923</td>\n    </tr>\n    <tr>\n      <th>7</th>\n      <td>avg same person distance</td>\n      <td>0.878</td>\n    </tr>\n    <tr>\n      <th>8</th>\n      <td>avg diff person distance</td>\n      <td>0.139</td>\n    </tr>\n    <tr>\n      <th>9</th>\n      <td>Model tolerance</td>\n      <td>0.650</td>\n    </tr>\n  </tbody>\n</table>\n</div>"
     },
     "execution_count": 45,
     "metadata": {},
     "output_type": "execute_result"
    }
   ],
   "source": [
    "error_table"
   ],
   "metadata": {
    "collapsed": false,
    "pycharm": {
     "name": "#%%\n"
    }
   }
  },
  {
   "cell_type": "code",
   "execution_count": 75,
   "outputs": [
    {
     "data": {
      "text/plain": "                              Mertic         Value\n0                     processed rows       10000.0\n1  Model accuracy on Proceed Faces %         85.29\n2                     False Positive           765\n3                     False Negative           706\n4                          precision      0.850186\n5                             recall      0.860111\n6                        fbeta-score      0.441012\n7           avg same person distance  [0.77617145]\n8           avg diff person distance  [0.28642783]\n9                    Model tolerance          0.65",
      "text/html": "<div>\n<style scoped>\n    .dataframe tbody tr th:only-of-type {\n        vertical-align: middle;\n    }\n\n    .dataframe tbody tr th {\n        vertical-align: top;\n    }\n\n    .dataframe thead th {\n        text-align: right;\n    }\n</style>\n<table border=\"1\" class=\"dataframe\">\n  <thead>\n    <tr style=\"text-align: right;\">\n      <th></th>\n      <th>Mertic</th>\n      <th>Value</th>\n    </tr>\n  </thead>\n  <tbody>\n    <tr>\n      <th>0</th>\n      <td>processed rows</td>\n      <td>10000.0</td>\n    </tr>\n    <tr>\n      <th>1</th>\n      <td>Model accuracy on Proceed Faces %</td>\n      <td>85.29</td>\n    </tr>\n    <tr>\n      <th>2</th>\n      <td>False Positive</td>\n      <td>765</td>\n    </tr>\n    <tr>\n      <th>3</th>\n      <td>False Negative</td>\n      <td>706</td>\n    </tr>\n    <tr>\n      <th>4</th>\n      <td>precision</td>\n      <td>0.850186</td>\n    </tr>\n    <tr>\n      <th>5</th>\n      <td>recall</td>\n      <td>0.860111</td>\n    </tr>\n    <tr>\n      <th>6</th>\n      <td>fbeta-score</td>\n      <td>0.441012</td>\n    </tr>\n    <tr>\n      <th>7</th>\n      <td>avg same person distance</td>\n      <td>[0.77617145]</td>\n    </tr>\n    <tr>\n      <th>8</th>\n      <td>avg diff person distance</td>\n      <td>[0.28642783]</td>\n    </tr>\n    <tr>\n      <th>9</th>\n      <td>Model tolerance</td>\n      <td>0.65</td>\n    </tr>\n  </tbody>\n</table>\n</div>"
     },
     "execution_count": 75,
     "metadata": {},
     "output_type": "execute_result"
    }
   ],
   "source": [
    "error_table"
   ],
   "metadata": {
    "collapsed": false,
    "pycharm": {
     "name": "#%%\n"
    }
   }
  },
  {
   "cell_type": "code",
   "execution_count": 68,
   "outputs": [
    {
     "data": {
      "text/plain": "                              Mertic         Value\n0                     processed rows       10000.0\n1  Model accuracy on Proceed Faces %         85.59\n2                     False Positive           923\n3                     False Negative           518\n4                          precision      0.829079\n5                             recall      0.896221\n6                        fbeta-score       0.44155\n7           avg same person distance   [0.7575226]\n8           avg diff person distance  [0.28016078]\n9                    Model tolerance          0.57",
      "text/html": "<div>\n<style scoped>\n    .dataframe tbody tr th:only-of-type {\n        vertical-align: middle;\n    }\n\n    .dataframe tbody tr th {\n        vertical-align: top;\n    }\n\n    .dataframe thead th {\n        text-align: right;\n    }\n</style>\n<table border=\"1\" class=\"dataframe\">\n  <thead>\n    <tr style=\"text-align: right;\">\n      <th></th>\n      <th>Mertic</th>\n      <th>Value</th>\n    </tr>\n  </thead>\n  <tbody>\n    <tr>\n      <th>0</th>\n      <td>processed rows</td>\n      <td>10000.0</td>\n    </tr>\n    <tr>\n      <th>1</th>\n      <td>Model accuracy on Proceed Faces %</td>\n      <td>85.59</td>\n    </tr>\n    <tr>\n      <th>2</th>\n      <td>False Positive</td>\n      <td>923</td>\n    </tr>\n    <tr>\n      <th>3</th>\n      <td>False Negative</td>\n      <td>518</td>\n    </tr>\n    <tr>\n      <th>4</th>\n      <td>precision</td>\n      <td>0.829079</td>\n    </tr>\n    <tr>\n      <th>5</th>\n      <td>recall</td>\n      <td>0.896221</td>\n    </tr>\n    <tr>\n      <th>6</th>\n      <td>fbeta-score</td>\n      <td>0.44155</td>\n    </tr>\n    <tr>\n      <th>7</th>\n      <td>avg same person distance</td>\n      <td>[0.7575226]</td>\n    </tr>\n    <tr>\n      <th>8</th>\n      <td>avg diff person distance</td>\n      <td>[0.28016078]</td>\n    </tr>\n    <tr>\n      <th>9</th>\n      <td>Model tolerance</td>\n      <td>0.57</td>\n    </tr>\n  </tbody>\n</table>\n</div>"
     },
     "execution_count": 68,
     "metadata": {},
     "output_type": "execute_result"
    }
   ],
   "source": [
    "error_table"
   ],
   "metadata": {
    "collapsed": false,
    "pycharm": {
     "name": "#%%\n"
    }
   }
  },
  {
   "cell_type": "code",
   "execution_count": 85,
   "outputs": [
    {
     "data": {
      "text/plain": "                              Mertic         Value\n0                     processed rows       10000.0\n1  Model accuracy on Proceed Faces %         86.31\n2                     False Positive           848\n3                     False Negative           521\n4                          precision      0.840653\n5                             recall      0.895621\n6                        fbeta-score      0.446928\n7           avg same person distance  [0.76668626]\n8           avg diff person distance  [0.22067705]\n9                    Model tolerance          0.56",
      "text/html": "<div>\n<style scoped>\n    .dataframe tbody tr th:only-of-type {\n        vertical-align: middle;\n    }\n\n    .dataframe tbody tr th {\n        vertical-align: top;\n    }\n\n    .dataframe thead th {\n        text-align: right;\n    }\n</style>\n<table border=\"1\" class=\"dataframe\">\n  <thead>\n    <tr style=\"text-align: right;\">\n      <th></th>\n      <th>Mertic</th>\n      <th>Value</th>\n    </tr>\n  </thead>\n  <tbody>\n    <tr>\n      <th>0</th>\n      <td>processed rows</td>\n      <td>10000.0</td>\n    </tr>\n    <tr>\n      <th>1</th>\n      <td>Model accuracy on Proceed Faces %</td>\n      <td>86.31</td>\n    </tr>\n    <tr>\n      <th>2</th>\n      <td>False Positive</td>\n      <td>848</td>\n    </tr>\n    <tr>\n      <th>3</th>\n      <td>False Negative</td>\n      <td>521</td>\n    </tr>\n    <tr>\n      <th>4</th>\n      <td>precision</td>\n      <td>0.840653</td>\n    </tr>\n    <tr>\n      <th>5</th>\n      <td>recall</td>\n      <td>0.895621</td>\n    </tr>\n    <tr>\n      <th>6</th>\n      <td>fbeta-score</td>\n      <td>0.446928</td>\n    </tr>\n    <tr>\n      <th>7</th>\n      <td>avg same person distance</td>\n      <td>[0.76668626]</td>\n    </tr>\n    <tr>\n      <th>8</th>\n      <td>avg diff person distance</td>\n      <td>[0.22067705]</td>\n    </tr>\n    <tr>\n      <th>9</th>\n      <td>Model tolerance</td>\n      <td>0.56</td>\n    </tr>\n  </tbody>\n</table>\n</div>"
     },
     "execution_count": 85,
     "metadata": {},
     "output_type": "execute_result"
    }
   ],
   "source": [
    "error_table"
   ],
   "metadata": {
    "collapsed": false,
    "pycharm": {
     "name": "#%%\n"
    }
   }
  },
  {
   "cell_type": "code",
   "execution_count": 86,
   "outputs": [
    {
     "data": {
      "text/plain": "                 Actual True  Actual False\nPredicted True          4479           848\nPredicted False          521          4152",
      "text/html": "<div>\n<style scoped>\n    .dataframe tbody tr th:only-of-type {\n        vertical-align: middle;\n    }\n\n    .dataframe tbody tr th {\n        vertical-align: top;\n    }\n\n    .dataframe thead th {\n        text-align: right;\n    }\n</style>\n<table border=\"1\" class=\"dataframe\">\n  <thead>\n    <tr style=\"text-align: right;\">\n      <th></th>\n      <th>Actual True</th>\n      <th>Actual False</th>\n    </tr>\n  </thead>\n  <tbody>\n    <tr>\n      <th>Predicted True</th>\n      <td>4479</td>\n      <td>848</td>\n    </tr>\n    <tr>\n      <th>Predicted False</th>\n      <td>521</td>\n      <td>4152</td>\n    </tr>\n  </tbody>\n</table>\n</div>"
     },
     "execution_count": 86,
     "metadata": {},
     "output_type": "execute_result"
    }
   ],
   "source": [
    "confusion_table"
   ],
   "metadata": {
    "collapsed": false,
    "pycharm": {
     "name": "#%%\n"
    }
   }
  },
  {
   "cell_type": "code",
   "execution_count": 14,
   "metadata": {
    "pycharm": {
     "name": "#%%\n"
    }
   },
   "outputs": [],
   "source": [
    "import torch\n",
    "x=torch.tensor([1,2])\n",
    "y=[1,2]"
   ]
  },
  {
   "cell_type": "code",
   "execution_count": 16,
   "metadata": {
    "pycharm": {
     "name": "#%%\n"
    }
   },
   "outputs": [
    {
     "name": "stdout",
     "output_type": "stream",
     "text": [
      "False\n"
     ]
    }
   ],
   "source": [
    "print(isinstance(y,torch.Tensor))"
   ]
  },
  {
   "cell_type": "code",
   "execution_count": 17,
   "metadata": {
    "pycharm": {
     "name": "#%%\n"
    }
   },
   "outputs": [
    {
     "data": {
      "text/plain": [
       "array([1, 2], dtype=int64)"
      ]
     },
     "execution_count": 17,
     "metadata": {},
     "output_type": "execute_result"
    }
   ],
   "source": [
    "x.numpy()"
   ]
  },
  {
   "cell_type": "code",
   "execution_count": 34,
   "metadata": {
    "pycharm": {
     "name": "#%%\n"
    }
   },
   "outputs": [
    {
     "data": {
      "text/html": [
       "<div>\n",
       "<style scoped>\n",
       "    .dataframe tbody tr th:only-of-type {\n",
       "        vertical-align: middle;\n",
       "    }\n",
       "\n",
       "    .dataframe tbody tr th {\n",
       "        vertical-align: top;\n",
       "    }\n",
       "\n",
       "    .dataframe thead th {\n",
       "        text-align: right;\n",
       "    }\n",
       "</style>\n",
       "<table border=\"1\" class=\"dataframe\">\n",
       "  <thead>\n",
       "    <tr style=\"text-align: right;\">\n",
       "      <th></th>\n",
       "      <th>0</th>\n",
       "      <th>1</th>\n",
       "      <th>2</th>\n",
       "    </tr>\n",
       "  </thead>\n",
       "  <tbody>\n",
       "    <tr>\n",
       "      <th>0</th>\n",
       "      <td>9236/042921.jpg</td>\n",
       "      <td>9236/052346.jpg</td>\n",
       "      <td>1</td>\n",
       "    </tr>\n",
       "    <tr>\n",
       "      <th>1</th>\n",
       "      <td>9236/042921.jpg</td>\n",
       "      <td>8647/101929.jpg</td>\n",
       "      <td>0</td>\n",
       "    </tr>\n",
       "    <tr>\n",
       "      <th>2</th>\n",
       "      <td>9236/042921.jpg</td>\n",
       "      <td>9236/071430.jpg</td>\n",
       "      <td>1</td>\n",
       "    </tr>\n",
       "    <tr>\n",
       "      <th>3</th>\n",
       "      <td>9236/042921.jpg</td>\n",
       "      <td>281/129193.jpg</td>\n",
       "      <td>0</td>\n",
       "    </tr>\n",
       "    <tr>\n",
       "      <th>4</th>\n",
       "      <td>9236/042921.jpg</td>\n",
       "      <td>9236/082375.jpg</td>\n",
       "      <td>1</td>\n",
       "    </tr>\n",
       "  </tbody>\n",
       "</table>\n",
       "</div>"
      ],
      "text/plain": [
       "                 0                1  2\n",
       "0  9236/042921.jpg  9236/052346.jpg  1\n",
       "1  9236/042921.jpg  8647/101929.jpg  0\n",
       "2  9236/042921.jpg  9236/071430.jpg  1\n",
       "3  9236/042921.jpg   281/129193.jpg  0\n",
       "4  9236/042921.jpg  9236/082375.jpg  1"
      ]
     },
     "execution_count": 34,
     "metadata": {},
     "output_type": "execute_result"
    }
   ],
   "source": [
    "test_data_pd.head()"
   ]
  },
  {
   "cell_type": "code",
   "execution_count": 72,
   "outputs": [
    {
     "data": {
      "text/plain": "EfficientFacenet(\n  (descriptor): FaceDescriptorModel(\n    (features): Sequential(\n      (0): ConvNormActivation(\n        (0): Conv2d(3, 32, kernel_size=(3, 3), stride=(2, 2), padding=(1, 1), bias=False)\n        (1): BatchNorm2d(32, eps=1e-05, momentum=0.1, affine=True, track_running_stats=True)\n        (2): SiLU(inplace=True)\n      )\n      (1): Sequential(\n        (0): MBConv(\n          (block): Sequential(\n            (0): ConvNormActivation(\n              (0): Conv2d(32, 32, kernel_size=(3, 3), stride=(1, 1), padding=(1, 1), groups=32, bias=False)\n              (1): BatchNorm2d(32, eps=1e-05, momentum=0.1, affine=True, track_running_stats=True)\n              (2): SiLU(inplace=True)\n            )\n            (1): SqueezeExcitation(\n              (avgpool): AdaptiveAvgPool2d(output_size=1)\n              (fc1): Conv2d(32, 8, kernel_size=(1, 1), stride=(1, 1))\n              (fc2): Conv2d(8, 32, kernel_size=(1, 1), stride=(1, 1))\n              (activation): SiLU(inplace=True)\n              (scale_activation): Sigmoid()\n            )\n            (2): ConvNormActivation(\n              (0): Conv2d(32, 16, kernel_size=(1, 1), stride=(1, 1), bias=False)\n              (1): BatchNorm2d(16, eps=1e-05, momentum=0.1, affine=True, track_running_stats=True)\n            )\n          )\n          (stochastic_depth): StochasticDepth(p=0.0, mode=row)\n        )\n        (1): MBConv(\n          (block): Sequential(\n            (0): ConvNormActivation(\n              (0): Conv2d(16, 16, kernel_size=(3, 3), stride=(1, 1), padding=(1, 1), groups=16, bias=False)\n              (1): BatchNorm2d(16, eps=1e-05, momentum=0.1, affine=True, track_running_stats=True)\n              (2): SiLU(inplace=True)\n            )\n            (1): SqueezeExcitation(\n              (avgpool): AdaptiveAvgPool2d(output_size=1)\n              (fc1): Conv2d(16, 4, kernel_size=(1, 1), stride=(1, 1))\n              (fc2): Conv2d(4, 16, kernel_size=(1, 1), stride=(1, 1))\n              (activation): SiLU(inplace=True)\n              (scale_activation): Sigmoid()\n            )\n            (2): ConvNormActivation(\n              (0): Conv2d(16, 16, kernel_size=(1, 1), stride=(1, 1), bias=False)\n              (1): BatchNorm2d(16, eps=1e-05, momentum=0.1, affine=True, track_running_stats=True)\n            )\n          )\n          (stochastic_depth): StochasticDepth(p=0.008695652173913044, mode=row)\n        )\n      )\n      (2): Sequential(\n        (0): MBConv(\n          (block): Sequential(\n            (0): ConvNormActivation(\n              (0): Conv2d(16, 96, kernel_size=(1, 1), stride=(1, 1), bias=False)\n              (1): BatchNorm2d(96, eps=1e-05, momentum=0.1, affine=True, track_running_stats=True)\n              (2): SiLU(inplace=True)\n            )\n            (1): ConvNormActivation(\n              (0): Conv2d(96, 96, kernel_size=(3, 3), stride=(2, 2), padding=(1, 1), groups=96, bias=False)\n              (1): BatchNorm2d(96, eps=1e-05, momentum=0.1, affine=True, track_running_stats=True)\n              (2): SiLU(inplace=True)\n            )\n            (2): SqueezeExcitation(\n              (avgpool): AdaptiveAvgPool2d(output_size=1)\n              (fc1): Conv2d(96, 4, kernel_size=(1, 1), stride=(1, 1))\n              (fc2): Conv2d(4, 96, kernel_size=(1, 1), stride=(1, 1))\n              (activation): SiLU(inplace=True)\n              (scale_activation): Sigmoid()\n            )\n            (3): ConvNormActivation(\n              (0): Conv2d(96, 24, kernel_size=(1, 1), stride=(1, 1), bias=False)\n              (1): BatchNorm2d(24, eps=1e-05, momentum=0.1, affine=True, track_running_stats=True)\n            )\n          )\n          (stochastic_depth): StochasticDepth(p=0.017391304347826087, mode=row)\n        )\n        (1): MBConv(\n          (block): Sequential(\n            (0): ConvNormActivation(\n              (0): Conv2d(24, 144, kernel_size=(1, 1), stride=(1, 1), bias=False)\n              (1): BatchNorm2d(144, eps=1e-05, momentum=0.1, affine=True, track_running_stats=True)\n              (2): SiLU(inplace=True)\n            )\n            (1): ConvNormActivation(\n              (0): Conv2d(144, 144, kernel_size=(3, 3), stride=(1, 1), padding=(1, 1), groups=144, bias=False)\n              (1): BatchNorm2d(144, eps=1e-05, momentum=0.1, affine=True, track_running_stats=True)\n              (2): SiLU(inplace=True)\n            )\n            (2): SqueezeExcitation(\n              (avgpool): AdaptiveAvgPool2d(output_size=1)\n              (fc1): Conv2d(144, 6, kernel_size=(1, 1), stride=(1, 1))\n              (fc2): Conv2d(6, 144, kernel_size=(1, 1), stride=(1, 1))\n              (activation): SiLU(inplace=True)\n              (scale_activation): Sigmoid()\n            )\n            (3): ConvNormActivation(\n              (0): Conv2d(144, 24, kernel_size=(1, 1), stride=(1, 1), bias=False)\n              (1): BatchNorm2d(24, eps=1e-05, momentum=0.1, affine=True, track_running_stats=True)\n            )\n          )\n          (stochastic_depth): StochasticDepth(p=0.026086956521739136, mode=row)\n        )\n        (2): MBConv(\n          (block): Sequential(\n            (0): ConvNormActivation(\n              (0): Conv2d(24, 144, kernel_size=(1, 1), stride=(1, 1), bias=False)\n              (1): BatchNorm2d(144, eps=1e-05, momentum=0.1, affine=True, track_running_stats=True)\n              (2): SiLU(inplace=True)\n            )\n            (1): ConvNormActivation(\n              (0): Conv2d(144, 144, kernel_size=(3, 3), stride=(1, 1), padding=(1, 1), groups=144, bias=False)\n              (1): BatchNorm2d(144, eps=1e-05, momentum=0.1, affine=True, track_running_stats=True)\n              (2): SiLU(inplace=True)\n            )\n            (2): SqueezeExcitation(\n              (avgpool): AdaptiveAvgPool2d(output_size=1)\n              (fc1): Conv2d(144, 6, kernel_size=(1, 1), stride=(1, 1))\n              (fc2): Conv2d(6, 144, kernel_size=(1, 1), stride=(1, 1))\n              (activation): SiLU(inplace=True)\n              (scale_activation): Sigmoid()\n            )\n            (3): ConvNormActivation(\n              (0): Conv2d(144, 24, kernel_size=(1, 1), stride=(1, 1), bias=False)\n              (1): BatchNorm2d(24, eps=1e-05, momentum=0.1, affine=True, track_running_stats=True)\n            )\n          )\n          (stochastic_depth): StochasticDepth(p=0.034782608695652174, mode=row)\n        )\n      )\n      (3): Sequential(\n        (0): MBConv(\n          (block): Sequential(\n            (0): ConvNormActivation(\n              (0): Conv2d(24, 144, kernel_size=(1, 1), stride=(1, 1), bias=False)\n              (1): BatchNorm2d(144, eps=1e-05, momentum=0.1, affine=True, track_running_stats=True)\n              (2): SiLU(inplace=True)\n            )\n            (1): ConvNormActivation(\n              (0): Conv2d(144, 144, kernel_size=(5, 5), stride=(2, 2), padding=(2, 2), groups=144, bias=False)\n              (1): BatchNorm2d(144, eps=1e-05, momentum=0.1, affine=True, track_running_stats=True)\n              (2): SiLU(inplace=True)\n            )\n            (2): SqueezeExcitation(\n              (avgpool): AdaptiveAvgPool2d(output_size=1)\n              (fc1): Conv2d(144, 6, kernel_size=(1, 1), stride=(1, 1))\n              (fc2): Conv2d(6, 144, kernel_size=(1, 1), stride=(1, 1))\n              (activation): SiLU(inplace=True)\n              (scale_activation): Sigmoid()\n            )\n            (3): ConvNormActivation(\n              (0): Conv2d(144, 40, kernel_size=(1, 1), stride=(1, 1), bias=False)\n              (1): BatchNorm2d(40, eps=1e-05, momentum=0.1, affine=True, track_running_stats=True)\n            )\n          )\n          (stochastic_depth): StochasticDepth(p=0.043478260869565216, mode=row)\n        )\n        (1): MBConv(\n          (block): Sequential(\n            (0): ConvNormActivation(\n              (0): Conv2d(40, 240, kernel_size=(1, 1), stride=(1, 1), bias=False)\n              (1): BatchNorm2d(240, eps=1e-05, momentum=0.1, affine=True, track_running_stats=True)\n              (2): SiLU(inplace=True)\n            )\n            (1): ConvNormActivation(\n              (0): Conv2d(240, 240, kernel_size=(5, 5), stride=(1, 1), padding=(2, 2), groups=240, bias=False)\n              (1): BatchNorm2d(240, eps=1e-05, momentum=0.1, affine=True, track_running_stats=True)\n              (2): SiLU(inplace=True)\n            )\n            (2): SqueezeExcitation(\n              (avgpool): AdaptiveAvgPool2d(output_size=1)\n              (fc1): Conv2d(240, 10, kernel_size=(1, 1), stride=(1, 1))\n              (fc2): Conv2d(10, 240, kernel_size=(1, 1), stride=(1, 1))\n              (activation): SiLU(inplace=True)\n              (scale_activation): Sigmoid()\n            )\n            (3): ConvNormActivation(\n              (0): Conv2d(240, 40, kernel_size=(1, 1), stride=(1, 1), bias=False)\n              (1): BatchNorm2d(40, eps=1e-05, momentum=0.1, affine=True, track_running_stats=True)\n            )\n          )\n          (stochastic_depth): StochasticDepth(p=0.05217391304347827, mode=row)\n        )\n        (2): MBConv(\n          (block): Sequential(\n            (0): ConvNormActivation(\n              (0): Conv2d(40, 240, kernel_size=(1, 1), stride=(1, 1), bias=False)\n              (1): BatchNorm2d(240, eps=1e-05, momentum=0.1, affine=True, track_running_stats=True)\n              (2): SiLU(inplace=True)\n            )\n            (1): ConvNormActivation(\n              (0): Conv2d(240, 240, kernel_size=(5, 5), stride=(1, 1), padding=(2, 2), groups=240, bias=False)\n              (1): BatchNorm2d(240, eps=1e-05, momentum=0.1, affine=True, track_running_stats=True)\n              (2): SiLU(inplace=True)\n            )\n            (2): SqueezeExcitation(\n              (avgpool): AdaptiveAvgPool2d(output_size=1)\n              (fc1): Conv2d(240, 10, kernel_size=(1, 1), stride=(1, 1))\n              (fc2): Conv2d(10, 240, kernel_size=(1, 1), stride=(1, 1))\n              (activation): SiLU(inplace=True)\n              (scale_activation): Sigmoid()\n            )\n            (3): ConvNormActivation(\n              (0): Conv2d(240, 40, kernel_size=(1, 1), stride=(1, 1), bias=False)\n              (1): BatchNorm2d(40, eps=1e-05, momentum=0.1, affine=True, track_running_stats=True)\n            )\n          )\n          (stochastic_depth): StochasticDepth(p=0.06086956521739131, mode=row)\n        )\n      )\n      (4): Sequential(\n        (0): MBConv(\n          (block): Sequential(\n            (0): ConvNormActivation(\n              (0): Conv2d(40, 240, kernel_size=(1, 1), stride=(1, 1), bias=False)\n              (1): BatchNorm2d(240, eps=1e-05, momentum=0.1, affine=True, track_running_stats=True)\n              (2): SiLU(inplace=True)\n            )\n            (1): ConvNormActivation(\n              (0): Conv2d(240, 240, kernel_size=(3, 3), stride=(2, 2), padding=(1, 1), groups=240, bias=False)\n              (1): BatchNorm2d(240, eps=1e-05, momentum=0.1, affine=True, track_running_stats=True)\n              (2): SiLU(inplace=True)\n            )\n            (2): SqueezeExcitation(\n              (avgpool): AdaptiveAvgPool2d(output_size=1)\n              (fc1): Conv2d(240, 10, kernel_size=(1, 1), stride=(1, 1))\n              (fc2): Conv2d(10, 240, kernel_size=(1, 1), stride=(1, 1))\n              (activation): SiLU(inplace=True)\n              (scale_activation): Sigmoid()\n            )\n            (3): ConvNormActivation(\n              (0): Conv2d(240, 80, kernel_size=(1, 1), stride=(1, 1), bias=False)\n              (1): BatchNorm2d(80, eps=1e-05, momentum=0.1, affine=True, track_running_stats=True)\n            )\n          )\n          (stochastic_depth): StochasticDepth(p=0.06956521739130435, mode=row)\n        )\n        (1): MBConv(\n          (block): Sequential(\n            (0): ConvNormActivation(\n              (0): Conv2d(80, 480, kernel_size=(1, 1), stride=(1, 1), bias=False)\n              (1): BatchNorm2d(480, eps=1e-05, momentum=0.1, affine=True, track_running_stats=True)\n              (2): SiLU(inplace=True)\n            )\n            (1): ConvNormActivation(\n              (0): Conv2d(480, 480, kernel_size=(3, 3), stride=(1, 1), padding=(1, 1), groups=480, bias=False)\n              (1): BatchNorm2d(480, eps=1e-05, momentum=0.1, affine=True, track_running_stats=True)\n              (2): SiLU(inplace=True)\n            )\n            (2): SqueezeExcitation(\n              (avgpool): AdaptiveAvgPool2d(output_size=1)\n              (fc1): Conv2d(480, 20, kernel_size=(1, 1), stride=(1, 1))\n              (fc2): Conv2d(20, 480, kernel_size=(1, 1), stride=(1, 1))\n              (activation): SiLU(inplace=True)\n              (scale_activation): Sigmoid()\n            )\n            (3): ConvNormActivation(\n              (0): Conv2d(480, 80, kernel_size=(1, 1), stride=(1, 1), bias=False)\n              (1): BatchNorm2d(80, eps=1e-05, momentum=0.1, affine=True, track_running_stats=True)\n            )\n          )\n          (stochastic_depth): StochasticDepth(p=0.0782608695652174, mode=row)\n        )\n        (2): MBConv(\n          (block): Sequential(\n            (0): ConvNormActivation(\n              (0): Conv2d(80, 480, kernel_size=(1, 1), stride=(1, 1), bias=False)\n              (1): BatchNorm2d(480, eps=1e-05, momentum=0.1, affine=True, track_running_stats=True)\n              (2): SiLU(inplace=True)\n            )\n            (1): ConvNormActivation(\n              (0): Conv2d(480, 480, kernel_size=(3, 3), stride=(1, 1), padding=(1, 1), groups=480, bias=False)\n              (1): BatchNorm2d(480, eps=1e-05, momentum=0.1, affine=True, track_running_stats=True)\n              (2): SiLU(inplace=True)\n            )\n            (2): SqueezeExcitation(\n              (avgpool): AdaptiveAvgPool2d(output_size=1)\n              (fc1): Conv2d(480, 20, kernel_size=(1, 1), stride=(1, 1))\n              (fc2): Conv2d(20, 480, kernel_size=(1, 1), stride=(1, 1))\n              (activation): SiLU(inplace=True)\n              (scale_activation): Sigmoid()\n            )\n            (3): ConvNormActivation(\n              (0): Conv2d(480, 80, kernel_size=(1, 1), stride=(1, 1), bias=False)\n              (1): BatchNorm2d(80, eps=1e-05, momentum=0.1, affine=True, track_running_stats=True)\n            )\n          )\n          (stochastic_depth): StochasticDepth(p=0.08695652173913043, mode=row)\n        )\n        (3): MBConv(\n          (block): Sequential(\n            (0): ConvNormActivation(\n              (0): Conv2d(80, 480, kernel_size=(1, 1), stride=(1, 1), bias=False)\n              (1): BatchNorm2d(480, eps=1e-05, momentum=0.1, affine=True, track_running_stats=True)\n              (2): SiLU(inplace=True)\n            )\n            (1): ConvNormActivation(\n              (0): Conv2d(480, 480, kernel_size=(3, 3), stride=(1, 1), padding=(1, 1), groups=480, bias=False)\n              (1): BatchNorm2d(480, eps=1e-05, momentum=0.1, affine=True, track_running_stats=True)\n              (2): SiLU(inplace=True)\n            )\n            (2): SqueezeExcitation(\n              (avgpool): AdaptiveAvgPool2d(output_size=1)\n              (fc1): Conv2d(480, 20, kernel_size=(1, 1), stride=(1, 1))\n              (fc2): Conv2d(20, 480, kernel_size=(1, 1), stride=(1, 1))\n              (activation): SiLU(inplace=True)\n              (scale_activation): Sigmoid()\n            )\n            (3): ConvNormActivation(\n              (0): Conv2d(480, 80, kernel_size=(1, 1), stride=(1, 1), bias=False)\n              (1): BatchNorm2d(80, eps=1e-05, momentum=0.1, affine=True, track_running_stats=True)\n            )\n          )\n          (stochastic_depth): StochasticDepth(p=0.09565217391304348, mode=row)\n        )\n      )\n      (5): Sequential(\n        (0): MBConv(\n          (block): Sequential(\n            (0): ConvNormActivation(\n              (0): Conv2d(80, 480, kernel_size=(1, 1), stride=(1, 1), bias=False)\n              (1): BatchNorm2d(480, eps=1e-05, momentum=0.1, affine=True, track_running_stats=True)\n              (2): SiLU(inplace=True)\n            )\n            (1): ConvNormActivation(\n              (0): Conv2d(480, 480, kernel_size=(5, 5), stride=(1, 1), padding=(2, 2), groups=480, bias=False)\n              (1): BatchNorm2d(480, eps=1e-05, momentum=0.1, affine=True, track_running_stats=True)\n              (2): SiLU(inplace=True)\n            )\n            (2): SqueezeExcitation(\n              (avgpool): AdaptiveAvgPool2d(output_size=1)\n              (fc1): Conv2d(480, 20, kernel_size=(1, 1), stride=(1, 1))\n              (fc2): Conv2d(20, 480, kernel_size=(1, 1), stride=(1, 1))\n              (activation): SiLU(inplace=True)\n              (scale_activation): Sigmoid()\n            )\n            (3): ConvNormActivation(\n              (0): Conv2d(480, 112, kernel_size=(1, 1), stride=(1, 1), bias=False)\n              (1): BatchNorm2d(112, eps=1e-05, momentum=0.1, affine=True, track_running_stats=True)\n            )\n          )\n          (stochastic_depth): StochasticDepth(p=0.10434782608695654, mode=row)\n        )\n        (1): MBConv(\n          (block): Sequential(\n            (0): ConvNormActivation(\n              (0): Conv2d(112, 672, kernel_size=(1, 1), stride=(1, 1), bias=False)\n              (1): BatchNorm2d(672, eps=1e-05, momentum=0.1, affine=True, track_running_stats=True)\n              (2): SiLU(inplace=True)\n            )\n            (1): ConvNormActivation(\n              (0): Conv2d(672, 672, kernel_size=(5, 5), stride=(1, 1), padding=(2, 2), groups=672, bias=False)\n              (1): BatchNorm2d(672, eps=1e-05, momentum=0.1, affine=True, track_running_stats=True)\n              (2): SiLU(inplace=True)\n            )\n            (2): SqueezeExcitation(\n              (avgpool): AdaptiveAvgPool2d(output_size=1)\n              (fc1): Conv2d(672, 28, kernel_size=(1, 1), stride=(1, 1))\n              (fc2): Conv2d(28, 672, kernel_size=(1, 1), stride=(1, 1))\n              (activation): SiLU(inplace=True)\n              (scale_activation): Sigmoid()\n            )\n            (3): ConvNormActivation(\n              (0): Conv2d(672, 112, kernel_size=(1, 1), stride=(1, 1), bias=False)\n              (1): BatchNorm2d(112, eps=1e-05, momentum=0.1, affine=True, track_running_stats=True)\n            )\n          )\n          (stochastic_depth): StochasticDepth(p=0.11304347826086956, mode=row)\n        )\n        (2): MBConv(\n          (block): Sequential(\n            (0): ConvNormActivation(\n              (0): Conv2d(112, 672, kernel_size=(1, 1), stride=(1, 1), bias=False)\n              (1): BatchNorm2d(672, eps=1e-05, momentum=0.1, affine=True, track_running_stats=True)\n              (2): SiLU(inplace=True)\n            )\n            (1): ConvNormActivation(\n              (0): Conv2d(672, 672, kernel_size=(5, 5), stride=(1, 1), padding=(2, 2), groups=672, bias=False)\n              (1): BatchNorm2d(672, eps=1e-05, momentum=0.1, affine=True, track_running_stats=True)\n              (2): SiLU(inplace=True)\n            )\n            (2): SqueezeExcitation(\n              (avgpool): AdaptiveAvgPool2d(output_size=1)\n              (fc1): Conv2d(672, 28, kernel_size=(1, 1), stride=(1, 1))\n              (fc2): Conv2d(28, 672, kernel_size=(1, 1), stride=(1, 1))\n              (activation): SiLU(inplace=True)\n              (scale_activation): Sigmoid()\n            )\n            (3): ConvNormActivation(\n              (0): Conv2d(672, 112, kernel_size=(1, 1), stride=(1, 1), bias=False)\n              (1): BatchNorm2d(112, eps=1e-05, momentum=0.1, affine=True, track_running_stats=True)\n            )\n          )\n          (stochastic_depth): StochasticDepth(p=0.12173913043478261, mode=row)\n        )\n        (3): MBConv(\n          (block): Sequential(\n            (0): ConvNormActivation(\n              (0): Conv2d(112, 672, kernel_size=(1, 1), stride=(1, 1), bias=False)\n              (1): BatchNorm2d(672, eps=1e-05, momentum=0.1, affine=True, track_running_stats=True)\n              (2): SiLU(inplace=True)\n            )\n            (1): ConvNormActivation(\n              (0): Conv2d(672, 672, kernel_size=(5, 5), stride=(1, 1), padding=(2, 2), groups=672, bias=False)\n              (1): BatchNorm2d(672, eps=1e-05, momentum=0.1, affine=True, track_running_stats=True)\n              (2): SiLU(inplace=True)\n            )\n            (2): SqueezeExcitation(\n              (avgpool): AdaptiveAvgPool2d(output_size=1)\n              (fc1): Conv2d(672, 28, kernel_size=(1, 1), stride=(1, 1))\n              (fc2): Conv2d(28, 672, kernel_size=(1, 1), stride=(1, 1))\n              (activation): SiLU(inplace=True)\n              (scale_activation): Sigmoid()\n            )\n            (3): ConvNormActivation(\n              (0): Conv2d(672, 112, kernel_size=(1, 1), stride=(1, 1), bias=False)\n              (1): BatchNorm2d(112, eps=1e-05, momentum=0.1, affine=True, track_running_stats=True)\n            )\n          )\n          (stochastic_depth): StochasticDepth(p=0.13043478260869565, mode=row)\n        )\n      )\n      (6): Sequential(\n        (0): MBConv(\n          (block): Sequential(\n            (0): ConvNormActivation(\n              (0): Conv2d(112, 672, kernel_size=(1, 1), stride=(1, 1), bias=False)\n              (1): BatchNorm2d(672, eps=1e-05, momentum=0.1, affine=True, track_running_stats=True)\n              (2): SiLU(inplace=True)\n            )\n            (1): ConvNormActivation(\n              (0): Conv2d(672, 672, kernel_size=(5, 5), stride=(2, 2), padding=(2, 2), groups=672, bias=False)\n              (1): BatchNorm2d(672, eps=1e-05, momentum=0.1, affine=True, track_running_stats=True)\n              (2): SiLU(inplace=True)\n            )\n            (2): SqueezeExcitation(\n              (avgpool): AdaptiveAvgPool2d(output_size=1)\n              (fc1): Conv2d(672, 28, kernel_size=(1, 1), stride=(1, 1))\n              (fc2): Conv2d(28, 672, kernel_size=(1, 1), stride=(1, 1))\n              (activation): SiLU(inplace=True)\n              (scale_activation): Sigmoid()\n            )\n            (3): ConvNormActivation(\n              (0): Conv2d(672, 192, kernel_size=(1, 1), stride=(1, 1), bias=False)\n              (1): BatchNorm2d(192, eps=1e-05, momentum=0.1, affine=True, track_running_stats=True)\n            )\n          )\n          (stochastic_depth): StochasticDepth(p=0.1391304347826087, mode=row)\n        )\n        (1): MBConv(\n          (block): Sequential(\n            (0): ConvNormActivation(\n              (0): Conv2d(192, 1152, kernel_size=(1, 1), stride=(1, 1), bias=False)\n              (1): BatchNorm2d(1152, eps=1e-05, momentum=0.1, affine=True, track_running_stats=True)\n              (2): SiLU(inplace=True)\n            )\n            (1): ConvNormActivation(\n              (0): Conv2d(1152, 1152, kernel_size=(5, 5), stride=(1, 1), padding=(2, 2), groups=1152, bias=False)\n              (1): BatchNorm2d(1152, eps=1e-05, momentum=0.1, affine=True, track_running_stats=True)\n              (2): SiLU(inplace=True)\n            )\n            (2): SqueezeExcitation(\n              (avgpool): AdaptiveAvgPool2d(output_size=1)\n              (fc1): Conv2d(1152, 48, kernel_size=(1, 1), stride=(1, 1))\n              (fc2): Conv2d(48, 1152, kernel_size=(1, 1), stride=(1, 1))\n              (activation): SiLU(inplace=True)\n              (scale_activation): Sigmoid()\n            )\n            (3): ConvNormActivation(\n              (0): Conv2d(1152, 192, kernel_size=(1, 1), stride=(1, 1), bias=False)\n              (1): BatchNorm2d(192, eps=1e-05, momentum=0.1, affine=True, track_running_stats=True)\n            )\n          )\n          (stochastic_depth): StochasticDepth(p=0.14782608695652175, mode=row)\n        )\n        (2): MBConv(\n          (block): Sequential(\n            (0): ConvNormActivation(\n              (0): Conv2d(192, 1152, kernel_size=(1, 1), stride=(1, 1), bias=False)\n              (1): BatchNorm2d(1152, eps=1e-05, momentum=0.1, affine=True, track_running_stats=True)\n              (2): SiLU(inplace=True)\n            )\n            (1): ConvNormActivation(\n              (0): Conv2d(1152, 1152, kernel_size=(5, 5), stride=(1, 1), padding=(2, 2), groups=1152, bias=False)\n              (1): BatchNorm2d(1152, eps=1e-05, momentum=0.1, affine=True, track_running_stats=True)\n              (2): SiLU(inplace=True)\n            )\n            (2): SqueezeExcitation(\n              (avgpool): AdaptiveAvgPool2d(output_size=1)\n              (fc1): Conv2d(1152, 48, kernel_size=(1, 1), stride=(1, 1))\n              (fc2): Conv2d(48, 1152, kernel_size=(1, 1), stride=(1, 1))\n              (activation): SiLU(inplace=True)\n              (scale_activation): Sigmoid()\n            )\n            (3): ConvNormActivation(\n              (0): Conv2d(1152, 192, kernel_size=(1, 1), stride=(1, 1), bias=False)\n              (1): BatchNorm2d(192, eps=1e-05, momentum=0.1, affine=True, track_running_stats=True)\n            )\n          )\n          (stochastic_depth): StochasticDepth(p=0.1565217391304348, mode=row)\n        )\n        (3): MBConv(\n          (block): Sequential(\n            (0): ConvNormActivation(\n              (0): Conv2d(192, 1152, kernel_size=(1, 1), stride=(1, 1), bias=False)\n              (1): BatchNorm2d(1152, eps=1e-05, momentum=0.1, affine=True, track_running_stats=True)\n              (2): SiLU(inplace=True)\n            )\n            (1): ConvNormActivation(\n              (0): Conv2d(1152, 1152, kernel_size=(5, 5), stride=(1, 1), padding=(2, 2), groups=1152, bias=False)\n              (1): BatchNorm2d(1152, eps=1e-05, momentum=0.1, affine=True, track_running_stats=True)\n              (2): SiLU(inplace=True)\n            )\n            (2): SqueezeExcitation(\n              (avgpool): AdaptiveAvgPool2d(output_size=1)\n              (fc1): Conv2d(1152, 48, kernel_size=(1, 1), stride=(1, 1))\n              (fc2): Conv2d(48, 1152, kernel_size=(1, 1), stride=(1, 1))\n              (activation): SiLU(inplace=True)\n              (scale_activation): Sigmoid()\n            )\n            (3): ConvNormActivation(\n              (0): Conv2d(1152, 192, kernel_size=(1, 1), stride=(1, 1), bias=False)\n              (1): BatchNorm2d(192, eps=1e-05, momentum=0.1, affine=True, track_running_stats=True)\n            )\n          )\n          (stochastic_depth): StochasticDepth(p=0.16521739130434784, mode=row)\n        )\n        (4): MBConv(\n          (block): Sequential(\n            (0): ConvNormActivation(\n              (0): Conv2d(192, 1152, kernel_size=(1, 1), stride=(1, 1), bias=False)\n              (1): BatchNorm2d(1152, eps=1e-05, momentum=0.1, affine=True, track_running_stats=True)\n              (2): SiLU(inplace=True)\n            )\n            (1): ConvNormActivation(\n              (0): Conv2d(1152, 1152, kernel_size=(5, 5), stride=(1, 1), padding=(2, 2), groups=1152, bias=False)\n              (1): BatchNorm2d(1152, eps=1e-05, momentum=0.1, affine=True, track_running_stats=True)\n              (2): SiLU(inplace=True)\n            )\n            (2): SqueezeExcitation(\n              (avgpool): AdaptiveAvgPool2d(output_size=1)\n              (fc1): Conv2d(1152, 48, kernel_size=(1, 1), stride=(1, 1))\n              (fc2): Conv2d(48, 1152, kernel_size=(1, 1), stride=(1, 1))\n              (activation): SiLU(inplace=True)\n              (scale_activation): Sigmoid()\n            )\n            (3): ConvNormActivation(\n              (0): Conv2d(1152, 192, kernel_size=(1, 1), stride=(1, 1), bias=False)\n              (1): BatchNorm2d(192, eps=1e-05, momentum=0.1, affine=True, track_running_stats=True)\n            )\n          )\n          (stochastic_depth): StochasticDepth(p=0.17391304347826086, mode=row)\n        )\n      )\n      (7): Sequential(\n        (0): MBConv(\n          (block): Sequential(\n            (0): ConvNormActivation(\n              (0): Conv2d(192, 1152, kernel_size=(1, 1), stride=(1, 1), bias=False)\n              (1): BatchNorm2d(1152, eps=1e-05, momentum=0.1, affine=True, track_running_stats=True)\n              (2): SiLU(inplace=True)\n            )\n            (1): ConvNormActivation(\n              (0): Conv2d(1152, 1152, kernel_size=(3, 3), stride=(1, 1), padding=(1, 1), groups=1152, bias=False)\n              (1): BatchNorm2d(1152, eps=1e-05, momentum=0.1, affine=True, track_running_stats=True)\n              (2): SiLU(inplace=True)\n            )\n            (2): SqueezeExcitation(\n              (avgpool): AdaptiveAvgPool2d(output_size=1)\n              (fc1): Conv2d(1152, 48, kernel_size=(1, 1), stride=(1, 1))\n              (fc2): Conv2d(48, 1152, kernel_size=(1, 1), stride=(1, 1))\n              (activation): SiLU(inplace=True)\n              (scale_activation): Sigmoid()\n            )\n            (3): ConvNormActivation(\n              (0): Conv2d(1152, 320, kernel_size=(1, 1), stride=(1, 1), bias=False)\n              (1): BatchNorm2d(320, eps=1e-05, momentum=0.1, affine=True, track_running_stats=True)\n            )\n          )\n          (stochastic_depth): StochasticDepth(p=0.1826086956521739, mode=row)\n        )\n        (1): MBConv(\n          (block): Sequential(\n            (0): ConvNormActivation(\n              (0): Conv2d(320, 1920, kernel_size=(1, 1), stride=(1, 1), bias=False)\n              (1): BatchNorm2d(1920, eps=1e-05, momentum=0.1, affine=True, track_running_stats=True)\n              (2): SiLU(inplace=True)\n            )\n            (1): ConvNormActivation(\n              (0): Conv2d(1920, 1920, kernel_size=(3, 3), stride=(1, 1), padding=(1, 1), groups=1920, bias=False)\n              (1): BatchNorm2d(1920, eps=1e-05, momentum=0.1, affine=True, track_running_stats=True)\n              (2): SiLU(inplace=True)\n            )\n            (2): SqueezeExcitation(\n              (avgpool): AdaptiveAvgPool2d(output_size=1)\n              (fc1): Conv2d(1920, 80, kernel_size=(1, 1), stride=(1, 1))\n              (fc2): Conv2d(80, 1920, kernel_size=(1, 1), stride=(1, 1))\n              (activation): SiLU(inplace=True)\n              (scale_activation): Sigmoid()\n            )\n            (3): ConvNormActivation(\n              (0): Conv2d(1920, 320, kernel_size=(1, 1), stride=(1, 1), bias=False)\n              (1): BatchNorm2d(320, eps=1e-05, momentum=0.1, affine=True, track_running_stats=True)\n            )\n          )\n          (stochastic_depth): StochasticDepth(p=0.19130434782608696, mode=row)\n        )\n      )\n      (8): ConvNormActivation(\n        (0): Conv2d(320, 1280, kernel_size=(1, 1), stride=(1, 1), bias=False)\n        (1): BatchNorm2d(1280, eps=1e-05, momentum=0.1, affine=True, track_running_stats=True)\n        (2): SiLU(inplace=True)\n      )\n    )\n    (avgpool): AdaptiveAvgPool2d(output_size=1)\n    (classifier): Sequential(\n      (0): Dropout(p=0.3, inplace=False)\n      (1): Linear(in_features=1280, out_features=256, bias=True)\n      (2): Dropout(p=0.3, inplace=False)\n      (3): ReLU(inplace=True)\n      (4): Dropout(p=0.3, inplace=False)\n      (5): Linear(in_features=256, out_features=128, bias=True)\n    )\n  )\n  (classifier): Sequential(\n    (0): Linear(in_features=256, out_features=1, bias=True)\n    (1): Sigmoid()\n  )\n)"
     },
     "execution_count": 72,
     "metadata": {},
     "output_type": "execute_result"
    }
   ],
   "source": [
    "efficient_facenet.cpu()"
   ],
   "metadata": {
    "collapsed": false,
    "pycharm": {
     "name": "#%%\n"
    }
   }
  },
  {
   "cell_type": "code",
   "execution_count": 39,
   "metadata": {
    "pycharm": {
     "name": "#%%\n"
    }
   },
   "outputs": [],
   "source": [
    "s=77\n",
    "e=100"
   ]
  },
  {
   "cell_type": "code",
   "execution_count": 40,
   "metadata": {
    "pycharm": {
     "name": "#%%\n"
    }
   },
   "outputs": [
    {
     "ename": "RuntimeError",
     "evalue": "Input type (torch.FloatTensor) and weight type (torch.cuda.FloatTensor) should be the same or input should be a MKLDNN tensor and weight is a dense tensor",
     "output_type": "error",
     "traceback": [
      "\u001B[1;31m---------------------------------------------------------------------------\u001B[0m",
      "\u001B[1;31mRuntimeError\u001B[0m                              Traceback (most recent call last)",
      "Input \u001B[1;32mIn [40]\u001B[0m, in \u001B[0;36m<cell line: 1>\u001B[1;34m()\u001B[0m\n\u001B[0;32m      3\u001B[0m label\u001B[38;5;241m=\u001B[39mtest_data_pd\u001B[38;5;241m.\u001B[39miloc[idx][\u001B[38;5;241m2\u001B[39m]\n\u001B[0;32m      5\u001B[0m face_x_img,face_y_img\u001B[38;5;241m=\u001B[39mdata_load\u001B[38;5;241m.\u001B[39mload_image(face_x_path,test_transform,\u001B[38;5;28;01mTrue\u001B[39;00m),data_load\u001B[38;5;241m.\u001B[39mload_image(face_y_path,test_transform,\u001B[38;5;28;01mTrue\u001B[39;00m)\n\u001B[1;32m----> 6\u001B[0m pred\u001B[38;5;241m=\u001B[39m\u001B[43mefficient_facenet\u001B[49m\u001B[38;5;241;43m.\u001B[39;49m\u001B[43midentify_faces\u001B[49m\u001B[43m(\u001B[49m\u001B[43mface_x_img\u001B[49m\u001B[43m,\u001B[49m\u001B[43mface_y_img\u001B[49m\u001B[43m)\u001B[49m\n\u001B[0;32m      8\u001B[0m \u001B[38;5;28mprint\u001B[39m(\u001B[38;5;124mf\u001B[39m\u001B[38;5;124m\"\u001B[39m\u001B[38;5;124mpredicted Value=\u001B[39m\u001B[38;5;132;01m{\u001B[39;00mpred\u001B[38;5;132;01m}\u001B[39;00m\u001B[38;5;124m actual=\u001B[39m\u001B[38;5;132;01m{\u001B[39;00mlabel\u001B[38;5;132;01m}\u001B[39;00m\u001B[38;5;124m\"\u001B[39m)\n",
      "File \u001B[1;32mC:\\graduation_project\\efficient-facenet\\src\\efficentfacenet\\face_descriptor\\models.py:101\u001B[0m, in \u001B[0;36mEfficientFacenet.identify_faces\u001B[1;34m(self, face_x, face_y, transform)\u001B[0m\n\u001B[0;32m     99\u001B[0m \u001B[38;5;28mself\u001B[39m\u001B[38;5;241m.\u001B[39meval()\n\u001B[0;32m    100\u001B[0m \u001B[38;5;28;01mwith\u001B[39;00m torch\u001B[38;5;241m.\u001B[39mno_grad():\n\u001B[1;32m--> 101\u001B[0m     output \u001B[38;5;241m=\u001B[39m \u001B[38;5;28;43mself\u001B[39;49m\u001B[38;5;241;43m.\u001B[39;49m\u001B[43mforward\u001B[49m\u001B[43m(\u001B[49m\u001B[43mface_x\u001B[49m\u001B[43m,\u001B[49m\u001B[43m \u001B[49m\u001B[43mface_y\u001B[49m\u001B[43m)\u001B[49m\n\u001B[0;32m    102\u001B[0m \u001B[38;5;28;01mreturn\u001B[39;00m output\n",
      "File \u001B[1;32mC:\\graduation_project\\efficient-facenet\\src\\efficentfacenet\\face_descriptor\\models.py:76\u001B[0m, in \u001B[0;36mEfficientFacenet.forward\u001B[1;34m(self, face_x, face_y)\u001B[0m\n\u001B[0;32m     74\u001B[0m \u001B[38;5;28;01massert\u001B[39;00m face_x\u001B[38;5;241m.\u001B[39mshape \u001B[38;5;241m==\u001B[39m face_y\u001B[38;5;241m.\u001B[39mshape\n\u001B[0;32m     75\u001B[0m \u001B[38;5;28;01massert\u001B[39;00m \u001B[38;5;28mlen\u001B[39m(face_x\u001B[38;5;241m.\u001B[39mshape) \u001B[38;5;241m==\u001B[39m \u001B[38;5;28mlen\u001B[39m(face_y\u001B[38;5;241m.\u001B[39mshape) \u001B[38;5;241m==\u001B[39m \u001B[38;5;241m4\u001B[39m\n\u001B[1;32m---> 76\u001B[0m face_x_features \u001B[38;5;241m=\u001B[39m \u001B[38;5;28;43mself\u001B[39;49m\u001B[38;5;241;43m.\u001B[39;49m\u001B[43mdescriptor\u001B[49m\u001B[43m(\u001B[49m\u001B[43mface_x\u001B[49m\u001B[43m)\u001B[49m\n\u001B[0;32m     77\u001B[0m face_y_features \u001B[38;5;241m=\u001B[39m \u001B[38;5;28mself\u001B[39m\u001B[38;5;241m.\u001B[39mdescriptor(face_y)\n\u001B[0;32m     78\u001B[0m classifier_input \u001B[38;5;241m=\u001B[39m torch\u001B[38;5;241m.\u001B[39mcat((face_x_features, face_y_features), dim\u001B[38;5;241m=\u001B[39m\u001B[38;5;241m1\u001B[39m)\n",
      "File \u001B[1;32mC:\\graduation_project\\efficient-facenet\\venv\\lib\\site-packages\\torch\\nn\\modules\\module.py:1110\u001B[0m, in \u001B[0;36mModule._call_impl\u001B[1;34m(self, *input, **kwargs)\u001B[0m\n\u001B[0;32m   1106\u001B[0m \u001B[38;5;66;03m# If we don't have any hooks, we want to skip the rest of the logic in\u001B[39;00m\n\u001B[0;32m   1107\u001B[0m \u001B[38;5;66;03m# this function, and just call forward.\u001B[39;00m\n\u001B[0;32m   1108\u001B[0m \u001B[38;5;28;01mif\u001B[39;00m \u001B[38;5;129;01mnot\u001B[39;00m (\u001B[38;5;28mself\u001B[39m\u001B[38;5;241m.\u001B[39m_backward_hooks \u001B[38;5;129;01mor\u001B[39;00m \u001B[38;5;28mself\u001B[39m\u001B[38;5;241m.\u001B[39m_forward_hooks \u001B[38;5;129;01mor\u001B[39;00m \u001B[38;5;28mself\u001B[39m\u001B[38;5;241m.\u001B[39m_forward_pre_hooks \u001B[38;5;129;01mor\u001B[39;00m _global_backward_hooks\n\u001B[0;32m   1109\u001B[0m         \u001B[38;5;129;01mor\u001B[39;00m _global_forward_hooks \u001B[38;5;129;01mor\u001B[39;00m _global_forward_pre_hooks):\n\u001B[1;32m-> 1110\u001B[0m     \u001B[38;5;28;01mreturn\u001B[39;00m forward_call(\u001B[38;5;241m*\u001B[39m\u001B[38;5;28minput\u001B[39m, \u001B[38;5;241m*\u001B[39m\u001B[38;5;241m*\u001B[39mkwargs)\n\u001B[0;32m   1111\u001B[0m \u001B[38;5;66;03m# Do not call functions when jit is used\u001B[39;00m\n\u001B[0;32m   1112\u001B[0m full_backward_hooks, non_full_backward_hooks \u001B[38;5;241m=\u001B[39m [], []\n",
      "File \u001B[1;32mC:\\graduation_project\\efficient-facenet\\src\\efficentfacenet\\face_descriptor\\models.py:39\u001B[0m, in \u001B[0;36mFaceDescriptorModel.forward\u001B[1;34m(self, x)\u001B[0m\n\u001B[0;32m     38\u001B[0m \u001B[38;5;28;01mdef\u001B[39;00m \u001B[38;5;21mforward\u001B[39m(\u001B[38;5;28mself\u001B[39m, x: Tensor) \u001B[38;5;241m-\u001B[39m\u001B[38;5;241m>\u001B[39m Tensor:\n\u001B[1;32m---> 39\u001B[0m     x \u001B[38;5;241m=\u001B[39m \u001B[38;5;28;43mself\u001B[39;49m\u001B[38;5;241;43m.\u001B[39;49m\u001B[43mfeatures\u001B[49m\u001B[43m(\u001B[49m\u001B[43mx\u001B[49m\u001B[43m)\u001B[49m\n\u001B[0;32m     40\u001B[0m     x \u001B[38;5;241m=\u001B[39m \u001B[38;5;28mself\u001B[39m\u001B[38;5;241m.\u001B[39mavgpool(x)\n\u001B[0;32m     41\u001B[0m     x \u001B[38;5;241m=\u001B[39m \u001B[38;5;28mself\u001B[39m\u001B[38;5;241m.\u001B[39mclassifier(x)\n",
      "File \u001B[1;32mC:\\graduation_project\\efficient-facenet\\venv\\lib\\site-packages\\torch\\nn\\modules\\module.py:1110\u001B[0m, in \u001B[0;36mModule._call_impl\u001B[1;34m(self, *input, **kwargs)\u001B[0m\n\u001B[0;32m   1106\u001B[0m \u001B[38;5;66;03m# If we don't have any hooks, we want to skip the rest of the logic in\u001B[39;00m\n\u001B[0;32m   1107\u001B[0m \u001B[38;5;66;03m# this function, and just call forward.\u001B[39;00m\n\u001B[0;32m   1108\u001B[0m \u001B[38;5;28;01mif\u001B[39;00m \u001B[38;5;129;01mnot\u001B[39;00m (\u001B[38;5;28mself\u001B[39m\u001B[38;5;241m.\u001B[39m_backward_hooks \u001B[38;5;129;01mor\u001B[39;00m \u001B[38;5;28mself\u001B[39m\u001B[38;5;241m.\u001B[39m_forward_hooks \u001B[38;5;129;01mor\u001B[39;00m \u001B[38;5;28mself\u001B[39m\u001B[38;5;241m.\u001B[39m_forward_pre_hooks \u001B[38;5;129;01mor\u001B[39;00m _global_backward_hooks\n\u001B[0;32m   1109\u001B[0m         \u001B[38;5;129;01mor\u001B[39;00m _global_forward_hooks \u001B[38;5;129;01mor\u001B[39;00m _global_forward_pre_hooks):\n\u001B[1;32m-> 1110\u001B[0m     \u001B[38;5;28;01mreturn\u001B[39;00m forward_call(\u001B[38;5;241m*\u001B[39m\u001B[38;5;28minput\u001B[39m, \u001B[38;5;241m*\u001B[39m\u001B[38;5;241m*\u001B[39mkwargs)\n\u001B[0;32m   1111\u001B[0m \u001B[38;5;66;03m# Do not call functions when jit is used\u001B[39;00m\n\u001B[0;32m   1112\u001B[0m full_backward_hooks, non_full_backward_hooks \u001B[38;5;241m=\u001B[39m [], []\n",
      "File \u001B[1;32mC:\\graduation_project\\efficient-facenet\\venv\\lib\\site-packages\\torch\\nn\\modules\\container.py:141\u001B[0m, in \u001B[0;36mSequential.forward\u001B[1;34m(self, input)\u001B[0m\n\u001B[0;32m    139\u001B[0m \u001B[38;5;28;01mdef\u001B[39;00m \u001B[38;5;21mforward\u001B[39m(\u001B[38;5;28mself\u001B[39m, \u001B[38;5;28minput\u001B[39m):\n\u001B[0;32m    140\u001B[0m     \u001B[38;5;28;01mfor\u001B[39;00m module \u001B[38;5;129;01min\u001B[39;00m \u001B[38;5;28mself\u001B[39m:\n\u001B[1;32m--> 141\u001B[0m         \u001B[38;5;28minput\u001B[39m \u001B[38;5;241m=\u001B[39m \u001B[43mmodule\u001B[49m\u001B[43m(\u001B[49m\u001B[38;5;28;43minput\u001B[39;49m\u001B[43m)\u001B[49m\n\u001B[0;32m    142\u001B[0m     \u001B[38;5;28;01mreturn\u001B[39;00m \u001B[38;5;28minput\u001B[39m\n",
      "File \u001B[1;32mC:\\graduation_project\\efficient-facenet\\venv\\lib\\site-packages\\torch\\nn\\modules\\module.py:1110\u001B[0m, in \u001B[0;36mModule._call_impl\u001B[1;34m(self, *input, **kwargs)\u001B[0m\n\u001B[0;32m   1106\u001B[0m \u001B[38;5;66;03m# If we don't have any hooks, we want to skip the rest of the logic in\u001B[39;00m\n\u001B[0;32m   1107\u001B[0m \u001B[38;5;66;03m# this function, and just call forward.\u001B[39;00m\n\u001B[0;32m   1108\u001B[0m \u001B[38;5;28;01mif\u001B[39;00m \u001B[38;5;129;01mnot\u001B[39;00m (\u001B[38;5;28mself\u001B[39m\u001B[38;5;241m.\u001B[39m_backward_hooks \u001B[38;5;129;01mor\u001B[39;00m \u001B[38;5;28mself\u001B[39m\u001B[38;5;241m.\u001B[39m_forward_hooks \u001B[38;5;129;01mor\u001B[39;00m \u001B[38;5;28mself\u001B[39m\u001B[38;5;241m.\u001B[39m_forward_pre_hooks \u001B[38;5;129;01mor\u001B[39;00m _global_backward_hooks\n\u001B[0;32m   1109\u001B[0m         \u001B[38;5;129;01mor\u001B[39;00m _global_forward_hooks \u001B[38;5;129;01mor\u001B[39;00m _global_forward_pre_hooks):\n\u001B[1;32m-> 1110\u001B[0m     \u001B[38;5;28;01mreturn\u001B[39;00m forward_call(\u001B[38;5;241m*\u001B[39m\u001B[38;5;28minput\u001B[39m, \u001B[38;5;241m*\u001B[39m\u001B[38;5;241m*\u001B[39mkwargs)\n\u001B[0;32m   1111\u001B[0m \u001B[38;5;66;03m# Do not call functions when jit is used\u001B[39;00m\n\u001B[0;32m   1112\u001B[0m full_backward_hooks, non_full_backward_hooks \u001B[38;5;241m=\u001B[39m [], []\n",
      "File \u001B[1;32mC:\\graduation_project\\efficient-facenet\\venv\\lib\\site-packages\\torch\\nn\\modules\\container.py:141\u001B[0m, in \u001B[0;36mSequential.forward\u001B[1;34m(self, input)\u001B[0m\n\u001B[0;32m    139\u001B[0m \u001B[38;5;28;01mdef\u001B[39;00m \u001B[38;5;21mforward\u001B[39m(\u001B[38;5;28mself\u001B[39m, \u001B[38;5;28minput\u001B[39m):\n\u001B[0;32m    140\u001B[0m     \u001B[38;5;28;01mfor\u001B[39;00m module \u001B[38;5;129;01min\u001B[39;00m \u001B[38;5;28mself\u001B[39m:\n\u001B[1;32m--> 141\u001B[0m         \u001B[38;5;28minput\u001B[39m \u001B[38;5;241m=\u001B[39m \u001B[43mmodule\u001B[49m\u001B[43m(\u001B[49m\u001B[38;5;28;43minput\u001B[39;49m\u001B[43m)\u001B[49m\n\u001B[0;32m    142\u001B[0m     \u001B[38;5;28;01mreturn\u001B[39;00m \u001B[38;5;28minput\u001B[39m\n",
      "File \u001B[1;32mC:\\graduation_project\\efficient-facenet\\venv\\lib\\site-packages\\torch\\nn\\modules\\module.py:1110\u001B[0m, in \u001B[0;36mModule._call_impl\u001B[1;34m(self, *input, **kwargs)\u001B[0m\n\u001B[0;32m   1106\u001B[0m \u001B[38;5;66;03m# If we don't have any hooks, we want to skip the rest of the logic in\u001B[39;00m\n\u001B[0;32m   1107\u001B[0m \u001B[38;5;66;03m# this function, and just call forward.\u001B[39;00m\n\u001B[0;32m   1108\u001B[0m \u001B[38;5;28;01mif\u001B[39;00m \u001B[38;5;129;01mnot\u001B[39;00m (\u001B[38;5;28mself\u001B[39m\u001B[38;5;241m.\u001B[39m_backward_hooks \u001B[38;5;129;01mor\u001B[39;00m \u001B[38;5;28mself\u001B[39m\u001B[38;5;241m.\u001B[39m_forward_hooks \u001B[38;5;129;01mor\u001B[39;00m \u001B[38;5;28mself\u001B[39m\u001B[38;5;241m.\u001B[39m_forward_pre_hooks \u001B[38;5;129;01mor\u001B[39;00m _global_backward_hooks\n\u001B[0;32m   1109\u001B[0m         \u001B[38;5;129;01mor\u001B[39;00m _global_forward_hooks \u001B[38;5;129;01mor\u001B[39;00m _global_forward_pre_hooks):\n\u001B[1;32m-> 1110\u001B[0m     \u001B[38;5;28;01mreturn\u001B[39;00m forward_call(\u001B[38;5;241m*\u001B[39m\u001B[38;5;28minput\u001B[39m, \u001B[38;5;241m*\u001B[39m\u001B[38;5;241m*\u001B[39mkwargs)\n\u001B[0;32m   1111\u001B[0m \u001B[38;5;66;03m# Do not call functions when jit is used\u001B[39;00m\n\u001B[0;32m   1112\u001B[0m full_backward_hooks, non_full_backward_hooks \u001B[38;5;241m=\u001B[39m [], []\n",
      "File \u001B[1;32mC:\\graduation_project\\efficient-facenet\\venv\\lib\\site-packages\\torch\\nn\\modules\\conv.py:447\u001B[0m, in \u001B[0;36mConv2d.forward\u001B[1;34m(self, input)\u001B[0m\n\u001B[0;32m    446\u001B[0m \u001B[38;5;28;01mdef\u001B[39;00m \u001B[38;5;21mforward\u001B[39m(\u001B[38;5;28mself\u001B[39m, \u001B[38;5;28minput\u001B[39m: Tensor) \u001B[38;5;241m-\u001B[39m\u001B[38;5;241m>\u001B[39m Tensor:\n\u001B[1;32m--> 447\u001B[0m     \u001B[38;5;28;01mreturn\u001B[39;00m \u001B[38;5;28;43mself\u001B[39;49m\u001B[38;5;241;43m.\u001B[39;49m\u001B[43m_conv_forward\u001B[49m\u001B[43m(\u001B[49m\u001B[38;5;28;43minput\u001B[39;49m\u001B[43m,\u001B[49m\u001B[43m \u001B[49m\u001B[38;5;28;43mself\u001B[39;49m\u001B[38;5;241;43m.\u001B[39;49m\u001B[43mweight\u001B[49m\u001B[43m,\u001B[49m\u001B[43m \u001B[49m\u001B[38;5;28;43mself\u001B[39;49m\u001B[38;5;241;43m.\u001B[39;49m\u001B[43mbias\u001B[49m\u001B[43m)\u001B[49m\n",
      "File \u001B[1;32mC:\\graduation_project\\efficient-facenet\\venv\\lib\\site-packages\\torch\\nn\\modules\\conv.py:443\u001B[0m, in \u001B[0;36mConv2d._conv_forward\u001B[1;34m(self, input, weight, bias)\u001B[0m\n\u001B[0;32m    439\u001B[0m \u001B[38;5;28;01mif\u001B[39;00m \u001B[38;5;28mself\u001B[39m\u001B[38;5;241m.\u001B[39mpadding_mode \u001B[38;5;241m!=\u001B[39m \u001B[38;5;124m'\u001B[39m\u001B[38;5;124mzeros\u001B[39m\u001B[38;5;124m'\u001B[39m:\n\u001B[0;32m    440\u001B[0m     \u001B[38;5;28;01mreturn\u001B[39;00m F\u001B[38;5;241m.\u001B[39mconv2d(F\u001B[38;5;241m.\u001B[39mpad(\u001B[38;5;28minput\u001B[39m, \u001B[38;5;28mself\u001B[39m\u001B[38;5;241m.\u001B[39m_reversed_padding_repeated_twice, mode\u001B[38;5;241m=\u001B[39m\u001B[38;5;28mself\u001B[39m\u001B[38;5;241m.\u001B[39mpadding_mode),\n\u001B[0;32m    441\u001B[0m                     weight, bias, \u001B[38;5;28mself\u001B[39m\u001B[38;5;241m.\u001B[39mstride,\n\u001B[0;32m    442\u001B[0m                     _pair(\u001B[38;5;241m0\u001B[39m), \u001B[38;5;28mself\u001B[39m\u001B[38;5;241m.\u001B[39mdilation, \u001B[38;5;28mself\u001B[39m\u001B[38;5;241m.\u001B[39mgroups)\n\u001B[1;32m--> 443\u001B[0m \u001B[38;5;28;01mreturn\u001B[39;00m \u001B[43mF\u001B[49m\u001B[38;5;241;43m.\u001B[39;49m\u001B[43mconv2d\u001B[49m\u001B[43m(\u001B[49m\u001B[38;5;28;43minput\u001B[39;49m\u001B[43m,\u001B[49m\u001B[43m \u001B[49m\u001B[43mweight\u001B[49m\u001B[43m,\u001B[49m\u001B[43m \u001B[49m\u001B[43mbias\u001B[49m\u001B[43m,\u001B[49m\u001B[43m \u001B[49m\u001B[38;5;28;43mself\u001B[39;49m\u001B[38;5;241;43m.\u001B[39;49m\u001B[43mstride\u001B[49m\u001B[43m,\u001B[49m\n\u001B[0;32m    444\u001B[0m \u001B[43m                \u001B[49m\u001B[38;5;28;43mself\u001B[39;49m\u001B[38;5;241;43m.\u001B[39;49m\u001B[43mpadding\u001B[49m\u001B[43m,\u001B[49m\u001B[43m \u001B[49m\u001B[38;5;28;43mself\u001B[39;49m\u001B[38;5;241;43m.\u001B[39;49m\u001B[43mdilation\u001B[49m\u001B[43m,\u001B[49m\u001B[43m \u001B[49m\u001B[38;5;28;43mself\u001B[39;49m\u001B[38;5;241;43m.\u001B[39;49m\u001B[43mgroups\u001B[49m\u001B[43m)\u001B[49m\n",
      "\u001B[1;31mRuntimeError\u001B[0m: Input type (torch.FloatTensor) and weight type (torch.cuda.FloatTensor) should be the same or input should be a MKLDNN tensor and weight is a dense tensor"
     ]
    }
   ],
   "source": [
    "for idx in range(s,e):\n",
    "    face_x_path,face_y_path=f\"{dataset_path}/test/{test_data_pd.iloc[idx][0]}\",f\"{dataset_path}/test/{test_data_pd.iloc[idx][1]}\"\n",
    "    label=test_data_pd.iloc[idx][2]\n",
    "\n",
    "    face_x_img,face_y_img=data_load.load_image(face_x_path,test_transform,True),data_load.load_image(face_y_path,test_transform,True)\n",
    "    pred=efficient_facenet.identify_faces(face_x_img,face_y_img)\n",
    "\n",
    "    print(f\"predicted Value={pred} actual={label}\")"
   ]
  },
  {
   "cell_type": "code",
   "execution_count": 39,
   "metadata": {
    "pycharm": {
     "name": "#%%\n"
    }
   },
   "outputs": [
    {
     "data": {
      "text/plain": [
       "tensor([[0.8023]])"
      ]
     },
     "execution_count": 39,
     "metadata": {},
     "output_type": "execute_result"
    }
   ],
   "source": []
  },
  {
   "cell_type": "code",
   "execution_count": 73,
   "metadata": {
    "pycharm": {
     "name": "#%%\n"
    }
   },
   "outputs": [
    {
     "name": "stderr",
     "output_type": "stream",
     "text": [
      "Clipping input data to the valid range for imshow with RGB data ([0..1] for floats or [0..255] for integers).\n",
      "Clipping input data to the valid range for imshow with RGB data ([0..1] for floats or [0..255] for integers).\n"
     ]
    },
    {
     "name": "stdout",
     "output_type": "stream",
     "text": [
      "0.08477306365966797\n",
      "predicted Value=tensor([0.9411]) actual=tensor([1.])\n"
     ]
    },
    {
     "data": {
      "image/png": "[encoded data removed]",
      "text/plain": [
       "<Figure size 432x288 with 2 Axes>"
      ]
     },
     "metadata": {
      "needs_background": "light"
     },
     "output_type": "display_data"
    }
   ],
   "source": [
    "import time\n",
    "ts=time.time()\n",
    "face_x_img, face_y_img, label = next(iter(pair_test_loader))\n",
    "print(time.time()-ts)\n",
    "i=6\n",
    "fig, ax = plt.subplots(1, 2)\n",
    "ax[0].set_title(\"Face x\")\n",
    "ax[0].imshow(face_x_img[i].numpy().transpose([1,2,0]))\n",
    "\n",
    "\n",
    "ax[1].set_title(\"Face y\")\n",
    "ax[1].imshow(face_y_img[i].numpy().transpose([1,2,0]))\n",
    "\n",
    "pred=efficient_facenet.identify_faces(face_x_img,face_y_img)\n",
    "print(f\"predicted Value={pred[i]} actual={label[i]}\")\n",
    "\n",
    "\n"
   ]
  },
  {
   "cell_type": "markdown",
   "source": [
    "## EfficentNet Hard anchor negative selection"
   ],
   "metadata": {
    "collapsed": false,
    "pycharm": {
     "name": "#%% md\n"
    }
   }
  },
  {
   "cell_type": "code",
   "execution_count": 3,
   "outputs": [],
   "source": [],
   "metadata": {
    "collapsed": false,
    "pycharm": {
     "name": "#%%\n"
    }
   }
  },
  {
   "cell_type": "code",
   "execution_count": 8,
   "outputs": [],
   "source": [
    "train_notes=\" facenet classifier Hard pair training with convnext backens descriptor train classifier only (256,128),Relu,(128.1) , Sigmoid dec learn rate to 0.0001\"\n",
    "model_weights_path=\"../model_weights/classifier\""
   ],
   "metadata": {
    "collapsed": false,
    "pycharm": {
     "name": "#%%\n"
    }
   }
  },
  {
   "cell_type": "code",
   "execution_count": 9,
   "outputs": [],
   "source": [
    "pair_train_dataset=data_load.FacesPairDataset(f\"{dataset_path}/train\",10000,train_transform)\n",
    "pair_test_dataset=data_load.FacesPairDataset(f\"{dataset_path}/test\",5000,test_transform)"
   ],
   "metadata": {
    "collapsed": false,
    "pycharm": {
     "name": "#%%\n"
    }
   }
  },
  {
   "cell_type": "code",
   "execution_count": 32,
   "outputs": [],
   "source": [
    "pair_train_loader=DataLoader(pair_train_dataset,16,shuffle=False)\n",
    "pair_test_loader=DataLoader(pair_test_dataset,16,shuffle=False)"
   ],
   "metadata": {
    "collapsed": false,
    "pycharm": {
     "name": "#%%\n"
    }
   }
  },
  {
   "cell_type": "code",
   "execution_count": 30,
   "outputs": [],
   "source": [],
   "metadata": {
    "collapsed": false,
    "pycharm": {
     "name": "#%%\n"
    }
   }
  },
  {
   "cell_type": "code",
   "execution_count": 31,
   "outputs": [],
   "source": [
    "efficient_facenet=face_descriptor.EfficientFacenet(128)\n",
    "efficient_facenet.load_local_weights(get_last_weights_path(model_weights_path), cuda_weights=True)\n",
    "for i in range(0):\n",
    "    for param in efficient_facenet.descriptor.features[i]:\n",
    "        param.requires_grad=False"
   ],
   "metadata": {
    "collapsed": false,
    "pycharm": {
     "name": "#%%\n"
    }
   }
  },
  {
   "cell_type": "code",
   "execution_count": 35,
   "outputs": [
    {
     "name": "stdout",
     "output_type": "stream",
     "text": [
      "Testing before training ...\n",
      " Testing  [==========] time remaining = 0.0 Avg Test_Loss=0.029022Test Loss before Training=0.029255083046853543\n",
      " epoch 1 [=======...] time remaining = 1.284648 Avg Train_Loss=0.051285"
     ]
    },
    {
     "ename": "KeyboardInterrupt",
     "evalue": "",
     "output_type": "error",
     "traceback": [
      "\u001B[1;31m---------------------------------------------------------------------------\u001B[0m",
      "\u001B[1;31mKeyboardInterrupt\u001B[0m                         Traceback (most recent call last)",
      "Input \u001B[1;32mIn [35]\u001B[0m, in \u001B[0;36m<cell line: 1>\u001B[1;34m()\u001B[0m\n\u001B[1;32m----> 1\u001B[0m train_losses \u001B[38;5;241m=\u001B[39m \u001B[43mmodels_train\u001B[49m\u001B[38;5;241;43m.\u001B[39;49m\u001B[43mmodel_train\u001B[49m\u001B[43m(\u001B[49m\u001B[43mefficient_facenet\u001B[49m\u001B[43m,\u001B[49m\u001B[43m \u001B[49m\u001B[43mepochs\u001B[49m\u001B[38;5;241;43m=\u001B[39;49m\u001B[38;5;241;43m1\u001B[39;49m\u001B[43m,\u001B[49m\u001B[43m \u001B[49m\u001B[43mlearn_rate\u001B[49m\u001B[38;5;241;43m=\u001B[39;49m\u001B[38;5;241;43m0.001\u001B[39;49m\u001B[43m,\u001B[49m\n\u001B[0;32m      2\u001B[0m \u001B[43m                                            \u001B[49m\u001B[43mtrain_loader\u001B[49m\u001B[38;5;241;43m=\u001B[39;49m\u001B[43mpair_train_loader\u001B[49m\u001B[43m,\u001B[49m\u001B[43m \u001B[49m\u001B[43mtest_loader\u001B[49m\u001B[38;5;241;43m=\u001B[39;49m\u001B[43mpair_test_loader\u001B[49m\u001B[43m,\u001B[49m\u001B[43m \u001B[49m\u001B[43mtrain_mod\u001B[49m\u001B[38;5;241;43m=\u001B[39;49m\u001B[38;5;124;43m\"\u001B[39;49m\u001B[38;5;124;43mpair\u001B[39;49m\u001B[38;5;124;43m\"\u001B[39;49m\u001B[43m,\u001B[49m\n\u001B[0;32m      3\u001B[0m \u001B[43m                                            \u001B[49m\u001B[43mcuda\u001B[49m\u001B[38;5;241;43m=\u001B[39;49m\u001B[38;5;28;43;01mTrue\u001B[39;49;00m\u001B[43m,\u001B[49m\u001B[43m \u001B[49m\u001B[43mweight_saving_path\u001B[49m\u001B[38;5;241;43m=\u001B[39;49m\u001B[43mmodel_weights_path\u001B[49m\u001B[43m,\u001B[49m\n\u001B[0;32m      4\u001B[0m \u001B[43m                                            \u001B[49m\u001B[43mepoch_data_saving_path\u001B[49m\u001B[38;5;241;43m=\u001B[39;49m\u001B[43mtrain_data_save_path\u001B[49m\u001B[43m,\u001B[49m\u001B[43m \u001B[49m\u001B[43mnotes\u001B[49m\u001B[38;5;241;43m=\u001B[39;49m\u001B[43mtrain_notes\u001B[49m\u001B[43m,\u001B[49m\n\u001B[0;32m      5\u001B[0m \u001B[43m                                            \u001B[49m\u001B[43m)\u001B[49m\n",
      "File \u001B[1;32mC:\\graduation_project\\efficient-facenet\\src\\efficentnet_train\\models_train.py:88\u001B[0m, in \u001B[0;36mmodel_train\u001B[1;34m(model, epochs, learn_rate, train_loader, test_loader, train_mod, cuda, weight_saving_path, epoch_data_saving_path, notes, **kwargs)\u001B[0m\n\u001B[0;32m     86\u001B[0m cnt \u001B[38;5;241m=\u001B[39m \u001B[38;5;241m0.0\u001B[39m\n\u001B[0;32m     87\u001B[0m time_sum \u001B[38;5;241m=\u001B[39m \u001B[38;5;241m0.0\u001B[39m\n\u001B[1;32m---> 88\u001B[0m \u001B[38;5;28;01mfor\u001B[39;00m data \u001B[38;5;129;01min\u001B[39;00m train_loader:\n\u001B[0;32m     89\u001B[0m     batch_start_t \u001B[38;5;241m=\u001B[39m time\u001B[38;5;241m.\u001B[39mtime()\n\u001B[0;32m     91\u001B[0m     \u001B[38;5;28;01mif\u001B[39;00m train_mod \u001B[38;5;241m==\u001B[39m \u001B[38;5;124m\"\u001B[39m\u001B[38;5;124mtriplet\u001B[39m\u001B[38;5;124m\"\u001B[39m:\n",
      "File \u001B[1;32mC:\\graduation_project\\efficient-facenet\\venv\\lib\\site-packages\\torch\\utils\\data\\dataloader.py:530\u001B[0m, in \u001B[0;36m_BaseDataLoaderIter.__next__\u001B[1;34m(self)\u001B[0m\n\u001B[0;32m    528\u001B[0m \u001B[38;5;28;01mif\u001B[39;00m \u001B[38;5;28mself\u001B[39m\u001B[38;5;241m.\u001B[39m_sampler_iter \u001B[38;5;129;01mis\u001B[39;00m \u001B[38;5;28;01mNone\u001B[39;00m:\n\u001B[0;32m    529\u001B[0m     \u001B[38;5;28mself\u001B[39m\u001B[38;5;241m.\u001B[39m_reset()\n\u001B[1;32m--> 530\u001B[0m data \u001B[38;5;241m=\u001B[39m \u001B[38;5;28;43mself\u001B[39;49m\u001B[38;5;241;43m.\u001B[39;49m\u001B[43m_next_data\u001B[49m\u001B[43m(\u001B[49m\u001B[43m)\u001B[49m\n\u001B[0;32m    531\u001B[0m \u001B[38;5;28mself\u001B[39m\u001B[38;5;241m.\u001B[39m_num_yielded \u001B[38;5;241m+\u001B[39m\u001B[38;5;241m=\u001B[39m \u001B[38;5;241m1\u001B[39m\n\u001B[0;32m    532\u001B[0m \u001B[38;5;28;01mif\u001B[39;00m \u001B[38;5;28mself\u001B[39m\u001B[38;5;241m.\u001B[39m_dataset_kind \u001B[38;5;241m==\u001B[39m _DatasetKind\u001B[38;5;241m.\u001B[39mIterable \u001B[38;5;129;01mand\u001B[39;00m \\\n\u001B[0;32m    533\u001B[0m         \u001B[38;5;28mself\u001B[39m\u001B[38;5;241m.\u001B[39m_IterableDataset_len_called \u001B[38;5;129;01mis\u001B[39;00m \u001B[38;5;129;01mnot\u001B[39;00m \u001B[38;5;28;01mNone\u001B[39;00m \u001B[38;5;129;01mand\u001B[39;00m \\\n\u001B[0;32m    534\u001B[0m         \u001B[38;5;28mself\u001B[39m\u001B[38;5;241m.\u001B[39m_num_yielded \u001B[38;5;241m>\u001B[39m \u001B[38;5;28mself\u001B[39m\u001B[38;5;241m.\u001B[39m_IterableDataset_len_called:\n",
      "File \u001B[1;32mC:\\graduation_project\\efficient-facenet\\venv\\lib\\site-packages\\torch\\utils\\data\\dataloader.py:570\u001B[0m, in \u001B[0;36m_SingleProcessDataLoaderIter._next_data\u001B[1;34m(self)\u001B[0m\n\u001B[0;32m    568\u001B[0m \u001B[38;5;28;01mdef\u001B[39;00m \u001B[38;5;21m_next_data\u001B[39m(\u001B[38;5;28mself\u001B[39m):\n\u001B[0;32m    569\u001B[0m     index \u001B[38;5;241m=\u001B[39m \u001B[38;5;28mself\u001B[39m\u001B[38;5;241m.\u001B[39m_next_index()  \u001B[38;5;66;03m# may raise StopIteration\u001B[39;00m\n\u001B[1;32m--> 570\u001B[0m     data \u001B[38;5;241m=\u001B[39m \u001B[38;5;28;43mself\u001B[39;49m\u001B[38;5;241;43m.\u001B[39;49m\u001B[43m_dataset_fetcher\u001B[49m\u001B[38;5;241;43m.\u001B[39;49m\u001B[43mfetch\u001B[49m\u001B[43m(\u001B[49m\u001B[43mindex\u001B[49m\u001B[43m)\u001B[49m  \u001B[38;5;66;03m# may raise StopIteration\u001B[39;00m\n\u001B[0;32m    571\u001B[0m     \u001B[38;5;28;01mif\u001B[39;00m \u001B[38;5;28mself\u001B[39m\u001B[38;5;241m.\u001B[39m_pin_memory:\n\u001B[0;32m    572\u001B[0m         data \u001B[38;5;241m=\u001B[39m _utils\u001B[38;5;241m.\u001B[39mpin_memory\u001B[38;5;241m.\u001B[39mpin_memory(data)\n",
      "File \u001B[1;32mC:\\graduation_project\\efficient-facenet\\venv\\lib\\site-packages\\torch\\utils\\data\\_utils\\fetch.py:32\u001B[0m, in \u001B[0;36m_IterableDatasetFetcher.fetch\u001B[1;34m(self, possibly_batched_index)\u001B[0m\n\u001B[0;32m     30\u001B[0m \u001B[38;5;28;01mfor\u001B[39;00m _ \u001B[38;5;129;01min\u001B[39;00m possibly_batched_index:\n\u001B[0;32m     31\u001B[0m     \u001B[38;5;28;01mtry\u001B[39;00m:\n\u001B[1;32m---> 32\u001B[0m         data\u001B[38;5;241m.\u001B[39mappend(\u001B[38;5;28;43mnext\u001B[39;49m\u001B[43m(\u001B[49m\u001B[38;5;28;43mself\u001B[39;49m\u001B[38;5;241;43m.\u001B[39;49m\u001B[43mdataset_iter\u001B[49m\u001B[43m)\u001B[49m)\n\u001B[0;32m     33\u001B[0m     \u001B[38;5;28;01mexcept\u001B[39;00m \u001B[38;5;167;01mStopIteration\u001B[39;00m:\n\u001B[0;32m     34\u001B[0m         \u001B[38;5;28mself\u001B[39m\u001B[38;5;241m.\u001B[39mended \u001B[38;5;241m=\u001B[39m \u001B[38;5;28;01mTrue\u001B[39;00m\n",
      "File \u001B[1;32mC:\\graduation_project\\efficient-facenet\\src\\efficentnet_train\\data_load.py:249\u001B[0m, in \u001B[0;36mFacesPairDataset.__iter__\u001B[1;34m(self)\u001B[0m\n\u001B[0;32m    246\u001B[0m n_img_name \u001B[38;5;241m=\u001B[39m \u001B[38;5;28mself\u001B[39m\u001B[38;5;241m.\u001B[39mget_min_dist_face(anchor_per_name, anchor_img_name\u001B[38;5;241m=\u001B[39mrandom_two_same_pics[\u001B[38;5;241m0\u001B[39m])\n\u001B[0;32m    248\u001B[0m a_img \u001B[38;5;241m=\u001B[39m \u001B[38;5;28mself\u001B[39m\u001B[38;5;241m.\u001B[39mload_img(a_img_name)\n\u001B[1;32m--> 249\u001B[0m p_img \u001B[38;5;241m=\u001B[39m \u001B[38;5;28;43mself\u001B[39;49m\u001B[38;5;241;43m.\u001B[39;49m\u001B[43mload_img\u001B[49m\u001B[43m(\u001B[49m\u001B[43mp_img_name\u001B[49m\u001B[43m)\u001B[49m\n\u001B[0;32m    250\u001B[0m n_img \u001B[38;5;241m=\u001B[39m \u001B[38;5;28mself\u001B[39m\u001B[38;5;241m.\u001B[39mload_img(n_img_name)\n\u001B[0;32m    252\u001B[0m \u001B[38;5;28;01myield\u001B[39;00m a_img, p_img, torch\u001B[38;5;241m.\u001B[39mtensor([\u001B[38;5;241m1.0\u001B[39m])\n",
      "File \u001B[1;32mC:\\graduation_project\\efficient-facenet\\src\\efficentnet_train\\data_load.py:184\u001B[0m, in \u001B[0;36mFacesDataset.load_img\u001B[1;34m(self, img_path)\u001B[0m\n\u001B[0;32m    181\u001B[0m     img \u001B[38;5;241m=\u001B[39m \u001B[38;5;28mself\u001B[39m\u001B[38;5;241m.\u001B[39mimages_dict[img_path]\n\u001B[0;32m    183\u001B[0m \u001B[38;5;28;01mif\u001B[39;00m \u001B[38;5;28mself\u001B[39m\u001B[38;5;241m.\u001B[39mtransform \u001B[38;5;129;01mis\u001B[39;00m \u001B[38;5;129;01mnot\u001B[39;00m \u001B[38;5;28;01mNone\u001B[39;00m:\n\u001B[1;32m--> 184\u001B[0m     img \u001B[38;5;241m=\u001B[39m \u001B[38;5;28;43mself\u001B[39;49m\u001B[38;5;241;43m.\u001B[39;49m\u001B[43mtransform\u001B[49m\u001B[43m(\u001B[49m\u001B[43mimg\u001B[49m\u001B[43m)\u001B[49m\n\u001B[0;32m    185\u001B[0m \u001B[38;5;28;01mreturn\u001B[39;00m img\n",
      "File \u001B[1;32mC:\\graduation_project\\efficient-facenet\\venv\\lib\\site-packages\\torchvision\\transforms\\transforms.py:95\u001B[0m, in \u001B[0;36mCompose.__call__\u001B[1;34m(self, img)\u001B[0m\n\u001B[0;32m     93\u001B[0m \u001B[38;5;28;01mdef\u001B[39;00m \u001B[38;5;21m__call__\u001B[39m(\u001B[38;5;28mself\u001B[39m, img):\n\u001B[0;32m     94\u001B[0m     \u001B[38;5;28;01mfor\u001B[39;00m t \u001B[38;5;129;01min\u001B[39;00m \u001B[38;5;28mself\u001B[39m\u001B[38;5;241m.\u001B[39mtransforms:\n\u001B[1;32m---> 95\u001B[0m         img \u001B[38;5;241m=\u001B[39m \u001B[43mt\u001B[49m\u001B[43m(\u001B[49m\u001B[43mimg\u001B[49m\u001B[43m)\u001B[49m\n\u001B[0;32m     96\u001B[0m     \u001B[38;5;28;01mreturn\u001B[39;00m img\n",
      "File \u001B[1;32mC:\\graduation_project\\efficient-facenet\\venv\\lib\\site-packages\\torchvision\\transforms\\transforms.py:135\u001B[0m, in \u001B[0;36mToTensor.__call__\u001B[1;34m(self, pic)\u001B[0m\n\u001B[0;32m    127\u001B[0m \u001B[38;5;28;01mdef\u001B[39;00m \u001B[38;5;21m__call__\u001B[39m(\u001B[38;5;28mself\u001B[39m, pic):\n\u001B[0;32m    128\u001B[0m     \u001B[38;5;124;03m\"\"\"\u001B[39;00m\n\u001B[0;32m    129\u001B[0m \u001B[38;5;124;03m    Args:\u001B[39;00m\n\u001B[0;32m    130\u001B[0m \u001B[38;5;124;03m        pic (PIL Image or numpy.ndarray): Image to be converted to tensor.\u001B[39;00m\n\u001B[1;32m   (...)\u001B[0m\n\u001B[0;32m    133\u001B[0m \u001B[38;5;124;03m        Tensor: Converted image.\u001B[39;00m\n\u001B[0;32m    134\u001B[0m \u001B[38;5;124;03m    \"\"\"\u001B[39;00m\n\u001B[1;32m--> 135\u001B[0m     \u001B[38;5;28;01mreturn\u001B[39;00m \u001B[43mF\u001B[49m\u001B[38;5;241;43m.\u001B[39;49m\u001B[43mto_tensor\u001B[49m\u001B[43m(\u001B[49m\u001B[43mpic\u001B[49m\u001B[43m)\u001B[49m\n",
      "File \u001B[1;32mC:\\graduation_project\\efficient-facenet\\venv\\lib\\site-packages\\torchvision\\transforms\\functional.py:136\u001B[0m, in \u001B[0;36mto_tensor\u001B[1;34m(pic)\u001B[0m\n\u001B[0;32m    134\u001B[0m \u001B[38;5;66;03m# backward compatibility\u001B[39;00m\n\u001B[0;32m    135\u001B[0m \u001B[38;5;28;01mif\u001B[39;00m \u001B[38;5;28misinstance\u001B[39m(img, torch\u001B[38;5;241m.\u001B[39mByteTensor):\n\u001B[1;32m--> 136\u001B[0m     \u001B[38;5;28;01mreturn\u001B[39;00m \u001B[43mimg\u001B[49m\u001B[38;5;241;43m.\u001B[39;49m\u001B[43mto\u001B[49m\u001B[43m(\u001B[49m\u001B[43mdtype\u001B[49m\u001B[38;5;241;43m=\u001B[39;49m\u001B[43mdefault_float_dtype\u001B[49m\u001B[43m)\u001B[49m\u001B[38;5;241;43m.\u001B[39;49m\u001B[43mdiv\u001B[49m\u001B[43m(\u001B[49m\u001B[38;5;241;43m255\u001B[39;49m\u001B[43m)\u001B[49m\n\u001B[0;32m    137\u001B[0m \u001B[38;5;28;01melse\u001B[39;00m:\n\u001B[0;32m    138\u001B[0m     \u001B[38;5;28;01mreturn\u001B[39;00m img\n",
      "\u001B[1;31mKeyboardInterrupt\u001B[0m: "
     ]
    }
   ],
   "source": [
    "\n",
    "train_losses = models_train.model_train(efficient_facenet, epochs=1, learn_rate=0.001,\n",
    "                                            train_loader=pair_train_loader, test_loader=pair_test_loader, train_mod=\"pair\",\n",
    "                                            cuda=True, weight_saving_path=model_weights_path,\n",
    "                                            epoch_data_saving_path=train_data_save_path, notes=train_notes,\n",
    "                                            )\n"
   ],
   "metadata": {
    "collapsed": false,
    "pycharm": {
     "name": "#%%\n"
    }
   }
  },
  {
   "cell_type": "code",
   "execution_count": null,
   "metadata": {
    "pycharm": {
     "name": "#%%\n"
    }
   },
   "outputs": [
    {
     "name": "stdout",
     "output_type": "stream",
     "text": [
      " epoch 2 [==========] time remaining = 0.0 Avg Train_Loss=0.05028350309\n",
      " Testing  [==========] time remaining = 0.0 Avg Test_Loss=0.03464334532\n",
      " epoch 2 train_loss =0.05032330514192581 test_loss=0.03492090210318565\n",
      " epoch 3 [==========] time remaining = 0.0 Avg Train_Loss=0.04984849823\n",
      " Testing  [==========] time remaining = 0.0 Avg Test_Loss=0.03135731285\n",
      " epoch 3 train_loss =0.049888686388731 test_loss=0.03160853345692158\n",
      " epoch 4 [==========] time remaining = 0.0 Avg Train_Loss=0.04873048692\n",
      " Testing  [==========] time remaining = 0.0 Avg Test_Loss=0.03254032692\n",
      " epoch 4 train_loss =0.04876924257278442 test_loss=0.03280064143240452\n",
      " epoch 5 [==========] time remaining = 0.0 Avg Train_Loss=0.04859248538\n",
      " Testing  [==========] time remaining = 0.0 Avg Test_Loss=0.03276532811\n",
      " epoch 5 train_loss =0.04863095901012421 test_loss=0.03302793485671282\n",
      " epoch 6 [==========] time remaining = 0.0 Avg Train_Loss=0.04834648407\n",
      " Testing  [==========] time remaining = 0.0 Avg Test_Loss=0.03316833061\n",
      " epoch 6 train_loss =0.04838514516353607 test_loss=0.03343434252589941\n",
      " epoch 7 [==========] time remaining = 0.0 Avg Train_Loss=0.04859348565\n",
      " Testing  [==========] time remaining = 0.0 Avg Test_Loss=0.03373033594\n",
      " epoch 7 train_loss =0.04863247802257538 test_loss=0.03400024172663689\n",
      " epoch 8 [==========] time remaining = 0.0 Avg Train_Loss=0.04781447814\n",
      " Testing  [==========] time remaining = 0.0 Avg Test_Loss=0.03122031364\n",
      " epoch 8 train_loss =0.047852458012104034 test_loss=0.0314699225872755\n",
      " epoch 9 [==========] time remaining = 0.0 Avg Train_Loss=0.04755747553\n",
      " Testing  [==========] time remaining = 0.0 Avg Test_Loss=0.02880828922\n",
      " epoch 9 train_loss =0.047596013289690015 test_loss=0.029038671903312205\n",
      "new minimum test loss 0.029038  achieved, model weights saved \n",
      " epoch 10 [==========] time remaining = 0.0 Avg Train_Loss=0.04797948037\n",
      " Testing  [==========] time remaining = 0.0 Avg Test_Loss=0.03117931406\n",
      " epoch 10 train_loss =0.048017601296305654 test_loss=0.03142929185926914\n",
      " data processed [==========] time remaing=-0.00Testing before training ...\n",
      " Testing  [==========] time remaining = 0.0 Avg Test_Loss=0.031109Test Loss before Training=0.03135820536315441\n",
      " epoch 1 [==========] time remaining = 0.0 Avg Train_Loss=0.04921949265\n",
      " Testing  [==========] time remaining = 0.0 Avg Test_Loss=0.03493332421\n",
      " epoch 1 train_loss =0.049258476036787034 test_loss=0.03521258319914341\n",
      " epoch 2 [==========] time remaining = 0.0 Avg Train_Loss=0.04879948798\n",
      " Testing  [==========] time remaining = 0.0 Avg Test_Loss=0.03011630068\n",
      " epoch 2 train_loss =0.04883861792683601 test_loss=0.030357685908675193\n",
      "new minimum test loss 0.030357  achieved, model weights saved \n",
      " epoch 3 [==========] time remaining = 0.0 Avg Train_Loss=0.04771447654\n",
      " Testing  [==========] time remaining = 0.0 Avg Test_Loss=0.03179831457\n",
      " epoch 3 train_loss =0.0477524344176054 test_loss=0.03205297690629959\n",
      " epoch 4 [==========] time remaining = 0.0 Avg Train_Loss=0.04751047490\n",
      " Testing  [==========] time remaining = 0.0 Avg Test_Loss=0.03168331620\n",
      " epoch 4 train_loss =0.047548961001634596 test_loss=0.03193727327883244\n",
      " epoch 5 [==========] time remaining = 0.0 Avg Train_Loss=0.04730147283\n",
      " Testing  [==========] time remaining = 0.0 Avg Test_Loss=0.03058830400\n",
      " epoch 5 train_loss =0.047339610850811 test_loss=0.03083317543566227\n",
      " epoch 6 [==========] time remaining = 0.0 Avg Train_Loss=0.04776447763\n",
      " Testing  [==========] time remaining = 0.0 Avg Test_Loss=0.03016530076\n",
      " epoch 6 train_loss =0.04780307579636574 test_loss=0.030406799003481866\n",
      " epoch 7 [==========] time remaining = 0.0 Avg Train_Loss=0.04712747146\n",
      " Testing  [==========] time remaining = 0.0 Avg Test_Loss=0.03151831753\n",
      " epoch 7 train_loss =0.04716526774764061 test_loss=0.031770855709910395\n",
      " epoch 8 [=======...] time remaining = 1.239191 Avg Train_Loss=0.047539"
     ]
    },
    {
     "ename": "KeyboardInterrupt",
     "evalue": "",
     "output_type": "error",
     "traceback": [
      "\u001B[1;31m---------------------------------------------------------------------------\u001B[0m",
      "\u001B[1;31mKeyboardInterrupt\u001B[0m                         Traceback (most recent call last)",
      "Input \u001B[1;32mIn [11]\u001B[0m, in \u001B[0;36m<cell line: 10>\u001B[1;34m()\u001B[0m\n\u001B[0;32m     18\u001B[0m pair_train_loader\u001B[38;5;241m=\u001B[39mDataLoader(pair_train_dataset,\u001B[38;5;241m12\u001B[39m,shuffle\u001B[38;5;241m=\u001B[39m\u001B[38;5;28;01mFalse\u001B[39;00m)\n\u001B[0;32m     19\u001B[0m pair_test_loader\u001B[38;5;241m=\u001B[39mDataLoader(pair_test_dataset,\u001B[38;5;241m12\u001B[39m,shuffle\u001B[38;5;241m=\u001B[39m\u001B[38;5;28;01mFalse\u001B[39;00m)\n\u001B[1;32m---> 21\u001B[0m train_losses \u001B[38;5;241m=\u001B[39m \u001B[43mmodels_train\u001B[49m\u001B[38;5;241;43m.\u001B[39;49m\u001B[43mmodel_train\u001B[49m\u001B[43m(\u001B[49m\u001B[43mefficient_facenet\u001B[49m\u001B[43m,\u001B[49m\u001B[43m \u001B[49m\u001B[43mepochs\u001B[49m\u001B[38;5;241;43m=\u001B[39;49m\u001B[43mupdate_features_every_epochs\u001B[49m\u001B[43m,\u001B[49m\u001B[43m \u001B[49m\u001B[43mlearn_rate\u001B[49m\u001B[38;5;241;43m=\u001B[39;49m\u001B[38;5;241;43m0.001\u001B[39;49m\u001B[43m,\u001B[49m\n\u001B[0;32m     22\u001B[0m \u001B[43m                                        \u001B[49m\u001B[43mtrain_loader\u001B[49m\u001B[38;5;241;43m=\u001B[39;49m\u001B[43mpair_train_loader\u001B[49m\u001B[43m,\u001B[49m\u001B[43m \u001B[49m\u001B[43mtest_loader\u001B[49m\u001B[38;5;241;43m=\u001B[39;49m\u001B[43mpair_test_loader\u001B[49m\u001B[43m,\u001B[49m\u001B[43m \u001B[49m\u001B[43mtrain_mod\u001B[49m\u001B[38;5;241;43m=\u001B[39;49m\u001B[38;5;124;43m\"\u001B[39;49m\u001B[38;5;124;43mpair\u001B[39;49m\u001B[38;5;124;43m\"\u001B[39;49m\u001B[43m,\u001B[49m\n\u001B[0;32m     23\u001B[0m \u001B[43m                                        \u001B[49m\u001B[43mcuda\u001B[49m\u001B[38;5;241;43m=\u001B[39;49m\u001B[38;5;28;43;01mTrue\u001B[39;49;00m\u001B[43m,\u001B[49m\u001B[43m \u001B[49m\u001B[43mweight_saving_path\u001B[49m\u001B[38;5;241;43m=\u001B[39;49m\u001B[43mmodel_weights_path\u001B[49m\u001B[43m,\u001B[49m\n\u001B[0;32m     24\u001B[0m \u001B[43m                                        \u001B[49m\u001B[43mepoch_data_saving_path\u001B[49m\u001B[38;5;241;43m=\u001B[39;49m\u001B[43mtrain_data_save_path\u001B[49m\u001B[43m,\u001B[49m\u001B[43m \u001B[49m\u001B[43mnotes\u001B[49m\u001B[38;5;241;43m=\u001B[39;49m\u001B[43mtrain_notes\u001B[49m\u001B[43m,\u001B[49m\n\u001B[0;32m     25\u001B[0m \u001B[43m                                        \u001B[49m\u001B[43moptimizer\u001B[49m\u001B[38;5;241;43m=\u001B[39;49m\u001B[43moptimizer\u001B[49m\u001B[43m)\u001B[49m\n\u001B[0;32m     26\u001B[0m img_features \u001B[38;5;241m=\u001B[39m \u001B[38;5;28;01mNone\u001B[39;00m\n\u001B[0;32m     27\u001B[0m efficient_facenet\u001B[38;5;241m.\u001B[39mload_local_weights(get_last_weights_path(model_weights_path), cuda_weights\u001B[38;5;241m=\u001B[39m\u001B[38;5;28;01mTrue\u001B[39;00m)\n",
      "File \u001B[1;32mC:\\graduation_project\\efficient-facenet\\src\\efficentnet_train\\models_train.py:97\u001B[0m, in \u001B[0;36mmodel_train\u001B[1;34m(model, epochs, learn_rate, train_loader, test_loader, train_mod, cuda, weight_saving_path, epoch_data_saving_path, notes, **kwargs)\u001B[0m\n\u001B[0;32m     95\u001B[0m \u001B[38;5;28;01melif\u001B[39;00m train_mod \u001B[38;5;241m==\u001B[39m \u001B[38;5;124m\"\u001B[39m\u001B[38;5;124mpair\u001B[39m\u001B[38;5;124m\"\u001B[39m:\n\u001B[0;32m     96\u001B[0m     face_x, face_y, label \u001B[38;5;241m=\u001B[39m data\n\u001B[1;32m---> 97\u001B[0m     loss_sum \u001B[38;5;241m+\u001B[39m\u001B[38;5;241m=\u001B[39m \u001B[43mpair_train_step\u001B[49m\u001B[43m(\u001B[49m\u001B[43mmodel\u001B[49m\u001B[43m,\u001B[49m\u001B[43m \u001B[49m\u001B[43moptimizer\u001B[49m\u001B[43m,\u001B[49m\u001B[43m \u001B[49m\u001B[43mloss_function\u001B[49m\u001B[43m,\u001B[49m\u001B[43m \u001B[49m\u001B[43mface_x\u001B[49m\u001B[43m,\u001B[49m\u001B[43m \u001B[49m\u001B[43mface_y\u001B[49m\u001B[43m,\u001B[49m\u001B[43m \u001B[49m\u001B[43mlabel\u001B[49m\u001B[43m,\u001B[49m\u001B[43m \u001B[49m\u001B[43mcuda\u001B[49m\u001B[43m)\u001B[49m\n\u001B[0;32m     98\u001B[0m \u001B[38;5;28;01melse\u001B[39;00m:\n\u001B[0;32m     99\u001B[0m     \u001B[38;5;28;01mraise\u001B[39;00m \u001B[38;5;167;01mValueError\u001B[39;00m(\u001B[38;5;124m\"\u001B[39m\u001B[38;5;124minvalid train mod\u001B[39m\u001B[38;5;124m\"\u001B[39m)\n",
      "File \u001B[1;32mC:\\graduation_project\\efficient-facenet\\src\\efficentnet_train\\models_train.py:216\u001B[0m, in \u001B[0;36mpair_train_step\u001B[1;34m(model, optimizer, loss_function, face_x, face_y, label, cuda)\u001B[0m\n\u001B[0;32m    214\u001B[0m loss\u001B[38;5;241m.\u001B[39mbackward()\n\u001B[0;32m    215\u001B[0m optimizer\u001B[38;5;241m.\u001B[39mstep()\n\u001B[1;32m--> 216\u001B[0m \u001B[38;5;28;01mreturn\u001B[39;00m \u001B[38;5;28;43mfloat\u001B[39;49m\u001B[43m(\u001B[49m\u001B[43mloss\u001B[49m\u001B[43m)\u001B[49m\n",
      "\u001B[1;31mKeyboardInterrupt\u001B[0m: "
     ]
    }
   ],
   "source": [
    "\n",
    "efficient_facenet=face_descriptor.EfficientFacenet(128)\n",
    "efficient_facenet.load_local_weights(get_last_weights_path(model_weights_path), cuda_weights=True)\n",
    "img_features = None\n",
    "import torch\n",
    "update_features_every_epochs = 10\n",
    "epochs = 50\n",
    "learning_rate = 0.0001\n",
    "optimizer = torch.optim.Adam(params=efficient_facenet.parameters(), lr=learning_rate)\n",
    "\n",
    "for i in range(int(epochs / update_features_every_epochs)):\n",
    "    if img_features is None:\n",
    "        img_features = data_load.get_pic_features_dict(dataset_path + \"/train\", model=efficient_facenet.descriptor, transform=test_transform,cuda=True,batch_size=10)\n",
    "    pair_train_dataset=data_load.FacesPairDataset(f\"{dataset_path}/train\",5000,train_transform,load_imgs_from_dict=False, img_features_dict=img_features,\n",
    "                                                  select_from_negative_cnt=5)\n",
    "    pair_test_dataset=data_load.FacesPairDataset(f\"{dataset_path}/test\",1000,test_transform)\n",
    "\n",
    "\n",
    "    pair_train_loader=DataLoader(pair_train_dataset,12,shuffle=False)\n",
    "    pair_test_loader=DataLoader(pair_test_dataset,12,shuffle=False)\n",
    "\n",
    "    train_losses = models_train.model_train(efficient_facenet, epochs=update_features_every_epochs, learn_rate=0.001,\n",
    "                                            train_loader=pair_train_loader, test_loader=pair_test_loader, train_mod=\"pair\",\n",
    "                                            cuda=True, weight_saving_path=model_weights_path,\n",
    "                                            epoch_data_saving_path=train_data_save_path, notes=train_notes,\n",
    "                                            optimizer=optimizer)\n",
    "    img_features = None\n",
    "    efficient_facenet.load_local_weights(get_last_weights_path(model_weights_path), cuda_weights=True)\n"
   ]
  },
  {
   "cell_type": "code",
   "execution_count": 13,
   "outputs": [
    {
     "name": "stdout",
     "output_type": "stream",
     "text": [
      " data processed [==========] time remaing=-0.00"
     ]
    }
   ],
   "source": [
    "celeb_subset_data_path = \"../dataset/preprocessed/img_celeb_test\"\n",
    "imgs_features_dict = data_load.get_pic_features_dict(celeb_subset_data_path, model=efficient_facenet.descriptor,\n",
    "                                                     transform=test_transform, cuda=True,batch_size=10)\n",
    "\n"
   ],
   "metadata": {
    "collapsed": false,
    "pycharm": {
     "name": "#%%\n"
    }
   }
  },
  {
   "cell_type": "code",
   "execution_count": 14,
   "outputs": [],
   "source": [
    "full_test_data_pd = pd.DataFrame(generate_dataset.generate_testing_data_set_frame(img_celeb_subset, False))\n",
    "full_test_data_pd = full_test_data_pd.sample(frac=1)\n",
    "test_data_pd = full_test_data_pd.iloc[:10000, :]"
   ],
   "metadata": {
    "collapsed": false,
    "pycharm": {
     "name": "#%%\n"
    }
   }
  },
  {
   "cell_type": "code",
   "execution_count": 20,
   "outputs": [
    {
     "name": "stdout",
     "output_type": "stream",
     "text": [
      " Testing  [==========] time remaining = 0.0 Accuracy =84.42Accuracy now equal --> 84.4200%\n"
     ]
    }
   ],
   "source": [
    "\n",
    "error_table, confusion_table = evaluation.model_test(imgs_features_dict, test_data_pd, results_path=\"\", threshold=0.47,\n",
    "                                                     classifier=efficient_facenet.classify_face_features, cuda=True)"
   ],
   "metadata": {
    "collapsed": false,
    "pycharm": {
     "name": "#%%\n"
    }
   }
  },
  {
   "cell_type": "code",
   "execution_count": 21,
   "outputs": [
    {
     "data": {
      "text/plain": "                              Mertic         Value\n0                     processed rows       10000.0\n1  Model accuracy on Proceed Faces %         84.42\n2                     False Positive           824\n3                     False Negative           734\n4                          precision      0.838362\n5                             recall       0.85341\n6                        fbeta-score      0.433511\n7           avg same person distance  [0.65422565]\n8           avg diff person distance  [0.18741547]\n9                    Model tolerance          0.47",
      "text/html": "<div>\n<style scoped>\n    .dataframe tbody tr th:only-of-type {\n        vertical-align: middle;\n    }\n\n    .dataframe tbody tr th {\n        vertical-align: top;\n    }\n\n    .dataframe thead th {\n        text-align: right;\n    }\n</style>\n<table border=\"1\" class=\"dataframe\">\n  <thead>\n    <tr style=\"text-align: right;\">\n      <th></th>\n      <th>Mertic</th>\n      <th>Value</th>\n    </tr>\n  </thead>\n  <tbody>\n    <tr>\n      <th>0</th>\n      <td>processed rows</td>\n      <td>10000.0</td>\n    </tr>\n    <tr>\n      <th>1</th>\n      <td>Model accuracy on Proceed Faces %</td>\n      <td>84.42</td>\n    </tr>\n    <tr>\n      <th>2</th>\n      <td>False Positive</td>\n      <td>824</td>\n    </tr>\n    <tr>\n      <th>3</th>\n      <td>False Negative</td>\n      <td>734</td>\n    </tr>\n    <tr>\n      <th>4</th>\n      <td>precision</td>\n      <td>0.838362</td>\n    </tr>\n    <tr>\n      <th>5</th>\n      <td>recall</td>\n      <td>0.85341</td>\n    </tr>\n    <tr>\n      <th>6</th>\n      <td>fbeta-score</td>\n      <td>0.433511</td>\n    </tr>\n    <tr>\n      <th>7</th>\n      <td>avg same person distance</td>\n      <td>[0.65422565]</td>\n    </tr>\n    <tr>\n      <th>8</th>\n      <td>avg diff person distance</td>\n      <td>[0.18741547]</td>\n    </tr>\n    <tr>\n      <th>9</th>\n      <td>Model tolerance</td>\n      <td>0.47</td>\n    </tr>\n  </tbody>\n</table>\n</div>"
     },
     "execution_count": 21,
     "metadata": {},
     "output_type": "execute_result"
    }
   ],
   "source": [
    "error_table"
   ],
   "metadata": {
    "collapsed": false,
    "pycharm": {
     "name": "#%%\n"
    }
   }
  },
  {
   "cell_type": "code",
   "execution_count": 55,
   "outputs": [],
   "source": [
    "xxx=torch.tensor([[1,2,3],[1,2,3]])"
   ],
   "metadata": {
    "collapsed": false,
    "pycharm": {
     "name": "#%%\n"
    }
   }
  },
  {
   "cell_type": "code",
   "execution_count": 56,
   "outputs": [
    {
     "data": {
      "text/plain": "torch.Size([2, 3])"
     },
     "execution_count": 56,
     "metadata": {},
     "output_type": "execute_result"
    }
   ],
   "source": [
    "xxx.size()"
   ],
   "metadata": {
    "collapsed": false,
    "pycharm": {
     "name": "#%%\n"
    }
   }
  },
  {
   "cell_type": "code",
   "execution_count": 18,
   "outputs": [
    {
     "data": {
      "text/plain": "tensor([[0.],\n        [0.],\n        [0.],\n        [0.],\n        [0.]])"
     },
     "execution_count": 18,
     "metadata": {},
     "output_type": "execute_result"
    }
   ],
   "source": [
    "import torch\n",
    "torch.zeros((5,1))"
   ],
   "metadata": {
    "collapsed": false,
    "pycharm": {
     "name": "#%%\n"
    }
   }
  },
  {
   "cell_type": "code",
   "execution_count": null,
   "outputs": [],
   "source": [],
   "metadata": {
    "collapsed": false,
    "pycharm": {
     "name": "#%%\n"
    }
   }
  }
 ],
 "metadata": {
  "kernelspec": {
   "display_name": "Python 3 (ipykernel)",
   "language": "python",
   "name": "python3"
  },
  "language_info": {
   "codemirror_mode": {
    "name": "ipython",
    "version": 3
   },
   "file_extension": ".py",
   "mimetype": "text/x-python",
   "name": "python",
   "nbconvert_exporter": "python",
   "pygments_lexer": "ipython3",
   "version": "3.10.4"
  }
 },
 "nbformat": 4,
 "nbformat_minor": 1
}