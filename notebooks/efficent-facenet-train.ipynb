{
 "cells": [
  {
   "cell_type": "code",
   "execution_count": null,
   "metadata": {
    "pycharm": {
     "name": "#%%\n"
    }
   },
   "outputs": [],
   "source": [
    "import os.path\n",
    "import time\n",
    "\n",
    "import torch\n",
    "torch.cuda.empty_cache()"
   ]
  },
  {
   "cell_type": "markdown",
   "metadata": {
    "pycharm": {
     "name": "#%% md\n"
    }
   },
   "source": [
    "# Imports\n"
   ]
  },
  {
   "cell_type": "code",
   "execution_count": 1,
   "metadata": {
    "pycharm": {
     "name": "#%%\n"
    }
   },
   "outputs": [],
   "source": [
    "from src.efficentnet_train import data_load,models_train,visualization,utils,generate_dataset,evaluation\n",
    "import matplotlib.pyplot as plt\n",
    "from torch.utils.data import DataLoader\n",
    "from src.efficentfacenet import face_descriptor\n",
    "from torchvision import transforms\n",
    "import pandas as pd\n",
    "import time\n",
    "import os\n",
    "def get_last_weights_path(weights_path):\n",
    "    files=os.listdir(weights_path)\n",
    "    files.sort()\n",
    "    last_weight_file_name=files[-1]\n",
    "    return f\"{weights_path}/{last_weight_file_name}\""
   ]
  },
  {
   "cell_type": "code",
   "execution_count": 2,
   "metadata": {
    "pycharm": {
     "name": "#%%\n"
    }
   },
   "outputs": [],
   "source": [
    "dataset_path = \"../dataset/preprocessed/img_celeb_full\"\n",
    "model_weights_path=\"../model_weights/convnext_tiny\"\n",
    "train_data_save_path=\"../training log/convnext\"\n",
    "lfw_dataset_path=\"../dataset/preprocessed/lfw_prep\"\n",
    "img_celeb_subset=\"../dataset/preprocessed/img_celeb_test\"\n",
    "batch_size=6\n",
    "stop_n_layers=5"
   ]
  },
  {
   "cell_type": "code",
   "execution_count": 2,
   "metadata": {
    "pycharm": {
     "name": "#%%\n"
    }
   },
   "outputs": [
    {
     "ename": "NameError",
     "evalue": "name 'pd' is not defined",
     "output_type": "error",
     "traceback": [
      "\u001B[1;31m---------------------------------------------------------------------------\u001B[0m",
      "\u001B[1;31mNameError\u001B[0m                                 Traceback (most recent call last)",
      "Input \u001B[1;32mIn [2]\u001B[0m, in \u001B[0;36m<cell line: 1>\u001B[1;34m()\u001B[0m\n\u001B[1;32m----> 1\u001B[0m train_history\u001B[38;5;241m=\u001B[39m\u001B[43mpd\u001B[49m\u001B[38;5;241m.\u001B[39mread_csv(train_data_save_path\u001B[38;5;241m+\u001B[39m\u001B[38;5;124m\"\u001B[39m\u001B[38;5;124m/train_data.csv\u001B[39m\u001B[38;5;124m\"\u001B[39m,index_col\u001B[38;5;241m=\u001B[39m\u001B[38;5;28;01mFalse\u001B[39;00m)\n",
      "\u001B[1;31mNameError\u001B[0m: name 'pd' is not defined"
     ]
    }
   ],
   "source": [
    "train_history=pd.read_csv(train_data_save_path+\"/train_data.csv\",index_col=False)"
   ]
  },
  {
   "cell_type": "code",
   "execution_count": null,
   "metadata": {
    "pycharm": {
     "name": "#%%\n"
    }
   },
   "outputs": [],
   "source": []
  },
  {
   "cell_type": "code",
   "execution_count": 4,
   "metadata": {
    "pycharm": {
     "name": "#%%\n"
    }
   },
   "outputs": [
    {
     "data": {
      "text/html": [
       "<div>\n",
       "<style scoped>\n",
       "    .dataframe tbody tr th:only-of-type {\n",
       "        vertical-align: middle;\n",
       "    }\n",
       "\n",
       "    .dataframe tbody tr th {\n",
       "        vertical-align: top;\n",
       "    }\n",
       "\n",
       "    .dataframe thead th {\n",
       "        text-align: right;\n",
       "    }\n",
       "</style>\n",
       "<table border=\"1\" class=\"dataframe\">\n",
       "  <thead>\n",
       "    <tr style=\"text-align: right;\">\n",
       "      <th></th>\n",
       "      <th>Train Loss</th>\n",
       "      <th>no train rows</th>\n",
       "      <th>Test Loss</th>\n",
       "      <th>No test rows</th>\n",
       "      <th>Time taken (M)</th>\n",
       "      <th>Notes</th>\n",
       "      <th>Date</th>\n",
       "      <th>Time</th>\n",
       "    </tr>\n",
       "  </thead>\n",
       "  <tbody>\n",
       "    <tr>\n",
       "      <th>0</th>\n",
       "      <td>0.280173</td>\n",
       "      <td>100000</td>\n",
       "      <td>0.342320</td>\n",
       "      <td>25000</td>\n",
       "      <td>65.2</td>\n",
       "      <td>remove sigmoid from classifier + input normali...</td>\n",
       "      <td>15/05/2022</td>\n",
       "      <td>23:26:00</td>\n",
       "    </tr>\n",
       "    <tr>\n",
       "      <th>1</th>\n",
       "      <td>0.989897</td>\n",
       "      <td>100000</td>\n",
       "      <td>1.000320</td>\n",
       "      <td>25000</td>\n",
       "      <td>60.1</td>\n",
       "      <td>remove sigmoid from classifier + input normali...</td>\n",
       "      <td>16/05/2022</td>\n",
       "      <td>0:27:00</td>\n",
       "    </tr>\n",
       "    <tr>\n",
       "      <th>2</th>\n",
       "      <td>1.000000</td>\n",
       "      <td>100000</td>\n",
       "      <td>1.000320</td>\n",
       "      <td>25000</td>\n",
       "      <td>60.2</td>\n",
       "      <td>remove sigmoid from classifier + input normali...</td>\n",
       "      <td>16/05/2022</td>\n",
       "      <td>1:27:00</td>\n",
       "    </tr>\n",
       "    <tr>\n",
       "      <th>3</th>\n",
       "      <td>0.173325</td>\n",
       "      <td>50000</td>\n",
       "      <td>0.284327</td>\n",
       "      <td>10000</td>\n",
       "      <td>63.0</td>\n",
       "      <td>remove sigmoid from classifier + input normali...</td>\n",
       "      <td>16/05/2022</td>\n",
       "      <td>19:28:00</td>\n",
       "    </tr>\n",
       "    <tr>\n",
       "      <th>4</th>\n",
       "      <td>0.243919</td>\n",
       "      <td>50000</td>\n",
       "      <td>0.281481</td>\n",
       "      <td>10000</td>\n",
       "      <td>60.0</td>\n",
       "      <td>remove sigmoid from classifier + input normali...</td>\n",
       "      <td>16/05/2022</td>\n",
       "      <td>20:28:00</td>\n",
       "    </tr>\n",
       "    <tr>\n",
       "      <th>...</th>\n",
       "      <td>...</td>\n",
       "      <td>...</td>\n",
       "      <td>...</td>\n",
       "      <td>...</td>\n",
       "      <td>...</td>\n",
       "      <td>...</td>\n",
       "      <td>...</td>\n",
       "      <td>...</td>\n",
       "    </tr>\n",
       "    <tr>\n",
       "      <th>141</th>\n",
       "      <td>0.099156</td>\n",
       "      <td>10000</td>\n",
       "      <td>0.173237</td>\n",
       "      <td>2500</td>\n",
       "      <td>18.4</td>\n",
       "      <td>Classifier --&gt;(1280,256,128)+ full train , ran...</td>\n",
       "      <td>21/05/2022</td>\n",
       "      <td>11:59:00</td>\n",
       "    </tr>\n",
       "    <tr>\n",
       "      <th>142</th>\n",
       "      <td>0.098474</td>\n",
       "      <td>10000</td>\n",
       "      <td>0.151633</td>\n",
       "      <td>2500</td>\n",
       "      <td>19.1</td>\n",
       "      <td>Classifier --&gt;(1280,256,128)+ full train , ran...</td>\n",
       "      <td>21/05/2022</td>\n",
       "      <td>12:19:00</td>\n",
       "    </tr>\n",
       "    <tr>\n",
       "      <th>143</th>\n",
       "      <td>0.093220</td>\n",
       "      <td>10000</td>\n",
       "      <td>0.161684</td>\n",
       "      <td>2500</td>\n",
       "      <td>20.1</td>\n",
       "      <td>Classifier --&gt;(1280,256,128)+ full train , ran...</td>\n",
       "      <td>21/05/2022</td>\n",
       "      <td>12:39:00</td>\n",
       "    </tr>\n",
       "    <tr>\n",
       "      <th>144</th>\n",
       "      <td>0.099141</td>\n",
       "      <td>10000</td>\n",
       "      <td>0.121382</td>\n",
       "      <td>2500</td>\n",
       "      <td>20.0</td>\n",
       "      <td>Classifier --&gt;(1280,256,128)+ full train , ran...</td>\n",
       "      <td>21/05/2022</td>\n",
       "      <td>12:59:00</td>\n",
       "    </tr>\n",
       "    <tr>\n",
       "      <th>145</th>\n",
       "      <td>0.084116</td>\n",
       "      <td>10000</td>\n",
       "      <td>0.148259</td>\n",
       "      <td>2500</td>\n",
       "      <td>20.3</td>\n",
       "      <td>Classifier --&gt;(1280,256,128)+ full train , ran...</td>\n",
       "      <td>21/05/2022</td>\n",
       "      <td>13:19:00</td>\n",
       "    </tr>\n",
       "  </tbody>\n",
       "</table>\n",
       "<p>146 rows × 8 columns</p>\n",
       "</div>"
      ],
      "text/plain": [
       "     Train Loss  no train rows  Test Loss  No test rows  Time taken (M)  \\\n",
       "0      0.280173         100000   0.342320         25000            65.2   \n",
       "1      0.989897         100000   1.000320         25000            60.1   \n",
       "2      1.000000         100000   1.000320         25000            60.2   \n",
       "3      0.173325          50000   0.284327         10000            63.0   \n",
       "4      0.243919          50000   0.281481         10000            60.0   \n",
       "..          ...            ...        ...           ...             ...   \n",
       "141    0.099156          10000   0.173237          2500            18.4   \n",
       "142    0.098474          10000   0.151633          2500            19.1   \n",
       "143    0.093220          10000   0.161684          2500            20.1   \n",
       "144    0.099141          10000   0.121382          2500            20.0   \n",
       "145    0.084116          10000   0.148259          2500            20.3   \n",
       "\n",
       "                                                 Notes        Date      Time  \n",
       "0    remove sigmoid from classifier + input normali...  15/05/2022  23:26:00  \n",
       "1    remove sigmoid from classifier + input normali...  16/05/2022   0:27:00  \n",
       "2    remove sigmoid from classifier + input normali...  16/05/2022   1:27:00  \n",
       "3    remove sigmoid from classifier + input normali...  16/05/2022  19:28:00  \n",
       "4    remove sigmoid from classifier + input normali...  16/05/2022  20:28:00  \n",
       "..                                                 ...         ...       ...  \n",
       "141  Classifier -->(1280,256,128)+ full train , ran...  21/05/2022  11:59:00  \n",
       "142  Classifier -->(1280,256,128)+ full train , ran...  21/05/2022  12:19:00  \n",
       "143  Classifier -->(1280,256,128)+ full train , ran...  21/05/2022  12:39:00  \n",
       "144  Classifier -->(1280,256,128)+ full train , ran...  21/05/2022  12:59:00  \n",
       "145  Classifier -->(1280,256,128)+ full train , ran...  21/05/2022  13:19:00  \n",
       "\n",
       "[146 rows x 8 columns]"
      ]
     },
     "execution_count": 4,
     "metadata": {},
     "output_type": "execute_result"
    }
   ],
   "source": [
    "train_history"
   ]
  },
  {
   "cell_type": "markdown",
   "metadata": {
    "pycharm": {
     "name": "#%% md\n"
    }
   },
   "source": [
    "# Load Data"
   ]
  },
  {
   "cell_type": "markdown",
   "source": [],
   "metadata": {
    "collapsed": false
   }
  },
  {
   "cell_type": "code",
   "execution_count": 3,
   "metadata": {
    "pycharm": {
     "name": "#%%\n"
    }
   },
   "outputs": [],
   "source": [
    "train_transform = transforms.Compose([transforms.ToTensor(),transforms.RandomHorizontalFlip(),transforms.RandomRotation(10),data_load.Normalize()])\n",
    "test_transform=transforms.Compose([transforms.ToTensor(),data_load.Normalize()])"
   ]
  },
  {
   "cell_type": "markdown",
   "metadata": {
    "pycharm": {
     "name": "#%% md\n"
    }
   },
   "source": [
    "# Face descriptor model train"
   ]
  },
  {
   "cell_type": "code",
   "execution_count": 4,
   "outputs": [],
   "source": [
    "train_data_features=utils.load_dict_from_json(\"train_face_features_0.018.json\")"
   ],
   "metadata": {
    "collapsed": false,
    "pycharm": {
     "name": "#%%\n"
    }
   }
  },
  {
   "cell_type": "code",
   "execution_count": 4,
   "metadata": {
    "pycharm": {
     "name": "#%%\n"
    }
   },
   "outputs": [],
   "source": [
    "train_dataset = data_load.FacesTripletDataset(f\"{dataset_path}/train\", 5000, train_transform,load_imgs_from_dict=False)\n",
    "test_dataset=data_load.FacesTripletDataset(f\"{dataset_path}/test\", 2500, test_transform,False)\n"
   ]
  },
  {
   "cell_type": "code",
   "execution_count": 5,
   "metadata": {
    "pycharm": {
     "name": "#%%\n"
    }
   },
   "outputs": [],
   "source": [
    "train_loader = DataLoader(train_dataset, batch_size=batch_size, shuffle=False)\n",
    "test_loader = DataLoader(test_dataset, batch_size=batch_size, shuffle=False)"
   ]
  },
  {
   "cell_type": "code",
   "execution_count": 21,
   "metadata": {
    "pycharm": {
     "name": "#%%\n"
    }
   },
   "outputs": [
    {
     "name": "stderr",
     "output_type": "stream",
     "text": [
      "Clipping input data to the valid range for imshow with RGB data ([0..1] for floats or [0..255] for integers).\n",
      "Clipping input data to the valid range for imshow with RGB data ([0..1] for floats or [0..255] for integers).\n",
      "Clipping input data to the valid range for imshow with RGB data ([0..1] for floats or [0..255] for integers).\n",
      "Clipping input data to the valid range for imshow with RGB data ([0..1] for floats or [0..255] for integers).\n",
      "Clipping input data to the valid range for imshow with RGB data ([0..1] for floats or [0..255] for integers).\n",
      "Clipping input data to the valid range for imshow with RGB data ([0..1] for floats or [0..255] for integers).\n",
      "Clipping input data to the valid range for imshow with RGB data ([0..1] for floats or [0..255] for integers).\n",
      "Clipping input data to the valid range for imshow with RGB data ([0..1] for floats or [0..255] for integers).\n",
      "Clipping input data to the valid range for imshow with RGB data ([0..1] for floats or [0..255] for integers).\n",
      "Clipping input data to the valid range for imshow with RGB data ([0..1] for floats or [0..255] for integers).\n"
     ]
    },
    {
     "name": "stdout",
     "output_type": "stream",
     "text": [
      "0.11421680450439453\n"
     ]
    },
    {
     "name": "stderr",
     "output_type": "stream",
     "text": [
      "Clipping input data to the valid range for imshow with RGB data ([0..1] for floats or [0..255] for integers).\n",
      "Clipping input data to the valid range for imshow with RGB data ([0..1] for floats or [0..255] for integers).\n"
     ]
    },
    {
     "data": {
      "text/plain": "<Figure size 432x288 with 3 Axes>",
      "image/png": "[encoded data removed]"
     },
     "metadata": {
      "needs_background": "light"
     },
     "output_type": "display_data"
    },
    {
     "data": {
      "text/plain": "<Figure size 432x288 with 3 Axes>",
      "image/png": "[encoded data removed]"
     },
     "metadata": {
      "needs_background": "light"
     },
     "output_type": "display_data"
    },
    {
     "data": {
      "text/plain": "<Figure size 432x288 with 3 Axes>",
      "image/png": "[encoded data removed]"
     },
     "metadata": {
      "needs_background": "light"
     },
     "output_type": "display_data"
    },
    {
     "data": {
      "text/plain": "<Figure size 432x288 with 3 Axes>",
      "image/png": "[encoded data removed]"
     },
     "metadata": {
      "needs_background": "light"
     },
     "output_type": "display_data"
    }
   ],
   "source": [
    "ts=time.time()\n",
    "a_batch, p_batch, n_batch = next(iter(train_loader))\n",
    "print(time.time()-ts)\n",
    "for i in range(batch_size):\n",
    "    fig, ax = plt.subplots(1, 3)\n",
    "    ax[0].set_title(\"anchor\")\n",
    "    ax[0].imshow(a_batch[i].numpy().transpose([1,2,0]))\n",
    "\n",
    "\n",
    "    ax[1].set_title(\"positive\")\n",
    "    ax[1].imshow(p_batch[i].numpy().transpose([1,2,0]))\n",
    "\n",
    "\n",
    "\n",
    "    ax[2].set_title(\"negative\")\n",
    "    ax[2].imshow(n_batch[i].numpy().transpose([1,2,0]))\n",
    "\n"
   ]
  },
  {
   "cell_type": "code",
   "execution_count": 6,
   "outputs": [],
   "source": [
    "import torchvision\n",
    "import torch.nn as nn"
   ],
   "metadata": {
    "collapsed": false,
    "pycharm": {
     "name": "#%%\n"
    }
   }
  },
  {
   "cell_type": "code",
   "execution_count": 7,
   "metadata": {
    "pycharm": {
     "name": "#%%\n"
    }
   },
   "outputs": [],
   "source": [
    "model = torchvision.models.convnext_tiny(pretrained=True)"
   ]
  },
  {
   "cell_type": "code",
   "execution_count": 8,
   "outputs": [
    {
     "data": {
      "text/plain": "Sequential(\n  (0): LayerNorm2d((768,), eps=1e-06, elementwise_affine=True)\n  (1): Flatten(start_dim=1, end_dim=-1)\n  (2): Linear(in_features=768, out_features=1000, bias=True)\n)"
     },
     "execution_count": 8,
     "metadata": {},
     "output_type": "execute_result"
    }
   ],
   "source": [
    "model.classifier\n"
   ],
   "metadata": {
    "collapsed": false,
    "pycharm": {
     "name": "#%%\n"
    }
   }
  },
  {
   "cell_type": "code",
   "execution_count": 9,
   "metadata": {
    "pycharm": {
     "name": "#%%\n"
    }
   },
   "outputs": [],
   "source": [
    "model.classifier[2]=nn.Linear(768,128)"
   ]
  },
  {
   "cell_type": "code",
   "execution_count": 10,
   "metadata": {
    "pycharm": {
     "name": "#%%\n"
    }
   },
   "outputs": [],
   "source": [
    "# model.load_local_weights(\"../model_weights/training/05_25 22_43 Train_(0.019421) Test_(0.015686).pt\",True)\n",
    "# model.load_local_weights(\"../model_weights/training/05_26 08_09 Train_(0.026858) Test_(0.019528).pt\",True)\n",
    "model.load_local_weights(\"../model_weights/training/05_28 06_31 Train_(0.042632) Test_(0.015599).pt\",True)\n",
    "# model.load_local_weights(\"../model_weights/training/06_03 15_01 Train_(0.126938) Test_(0.167481).pt\",True)\n"
   ]
  },
  {
   "cell_type": "code",
   "execution_count": null,
   "outputs": [],
   "source": [],
   "metadata": {
    "collapsed": false,
    "pycharm": {
     "name": "#%%\n"
    }
   }
  },
  {
   "cell_type": "code",
   "execution_count": 13,
   "outputs": [],
   "source": [
    "for i in range (len(model.features)):\n",
    "      for parm in model.features[i].parameters():\n",
    "            parm.requires_grad=True"
   ],
   "metadata": {
    "collapsed": false,
    "pycharm": {
     "name": "#%%\n"
    }
   }
  },
  {
   "cell_type": "code",
   "execution_count": 22,
   "outputs": [],
   "source": [
    "for i in range(stop_n_layers):\n",
    "  for parm in model.features[i].parameters():\n",
    "    parm.requires_grad=False\n"
   ],
   "metadata": {
    "collapsed": false,
    "pycharm": {
     "name": "#%%\n"
    }
   }
  },
  {
   "cell_type": "code",
   "execution_count": 10,
   "outputs": [],
   "source": [
    "for parm in model.parameters():\n",
    "    parm.requires_grad=True"
   ],
   "metadata": {
    "collapsed": false,
    "pycharm": {
     "name": "#%%\n"
    }
   }
  },
  {
   "cell_type": "code",
   "execution_count": 11,
   "outputs": [],
   "source": [
    "epochs=15\n",
    "learning_rate=0.01\n",
    "train_notes=\"descriptor with  standardization classifier (768,128)\"\n"
   ],
   "metadata": {
    "collapsed": false,
    "pycharm": {
     "name": "#%%\n"
    }
   }
  },
  {
   "cell_type": "code",
   "execution_count": null,
   "outputs": [],
   "source": [],
   "metadata": {
    "collapsed": false,
    "pycharm": {
     "name": "#%%\n"
    }
   }
  },
  {
   "cell_type": "code",
   "execution_count": null,
   "outputs": [
    {
     "name": "stdout",
     "output_type": "stream",
     "text": [
      " data processed [..........] time remaing=250.1"
     ]
    }
   ],
   "source": [
    "# train_data_features=data_load.get_pic_features_dict(dataset_path+\"/train\",model=model,transform=test_transform,cuda=True)"
   ],
   "metadata": {
    "collapsed": false,
    "pycharm": {
     "name": "#%%\n"
    }
   }
  },
  {
   "cell_type": "code",
   "execution_count": 14,
   "outputs": [],
   "source": [
    "utils.save_dict_to_json(\"train_face_features_0.018.json\",train_data_features)"
   ],
   "metadata": {
    "collapsed": false,
    "pycharm": {
     "name": "#%%\n"
    }
   }
  },
  {
   "cell_type": "code",
   "execution_count": null,
   "outputs": [],
   "source": [],
   "metadata": {
    "collapsed": false,
    "pycharm": {
     "name": "#%%\n"
    }
   }
  },
  {
   "cell_type": "code",
   "execution_count": 17,
   "metadata": {
    "pycharm": {
     "name": "#%%\n"
    }
   },
   "outputs": [
    {
     "name": "stdout",
     "output_type": "stream",
     "text": [
      "Testing before training ...\n",
      " Testing  [==========] time remaining = 0.0 Avg Test_Loss=0.241380Test Loss before Training=0.24157346686462405\n",
      " epoch 1 [==========] time remaining = 0.0 Avg Train_Loss=0.25046750767\n",
      " Testing  [==========] time remaining = 0.0 Avg Test_Loss=0.20038200802\n",
      " epoch 1 train_loss =0.25066744523282397 test_loss=0.20054270577253774\n",
      "new minimum test loss 0.200542  achieved, model weights saved \n",
      " epoch 2 [==========] time remaining = 0.0 Avg Train_Loss=0.21584316102\n",
      " Testing  [==========] time remaining = 0.0 Avg Test_Loss=0.19152391352\n",
      " epoch 2 train_loss =0.2160162446510978 test_loss=0.19167705652881414\n",
      "new minimum test loss 0.191677  achieved, model weights saved \n",
      " epoch 3 [==========] time remaining = 0.0 Avg Train_Loss=0.20561805865\n",
      " Testing  [==========] time remaining = 0.0 Avg Test_Loss=0.16495263987\n",
      " epoch 3 train_loss =0.2057831488441676 test_loss=0.16508416789169422\n",
      "new minimum test loss 0.165084  achieved, model weights saved \n",
      " epoch 4 [==========] time remaining = 0.0 Avg Train_Loss=0.19563295867\n",
      " Testing  [==========] time remaining = 0.0 Avg Test_Loss=0.17544474237\n",
      " epoch 4 train_loss =0.1957892766485922 test_loss=0.1755852578269376\n",
      " epoch 5 [==========] time remaining = 0.0 Avg Train_Loss=0.18552585747\n",
      " Testing  [==========] time remaining = 0.0 Avg Test_Loss=0.15990960294\n",
      " epoch 5 train_loss =0.18567342676914997 test_loss=0.16003759047472849\n",
      "new minimum test loss 0.160037  achieved, model weights saved \n",
      " epoch 6 [==========] time remaining = 0.0 Avg Train_Loss=0.16844468646\n",
      " Testing  [==========] time remaining = 0.0 Avg Test_Loss=0.15300253143\n",
      " epoch 6 train_loss =0.1685792584997138 test_loss=0.15312443327112124\n",
      "new minimum test loss 0.153124  achieved, model weights saved \n",
      " epoch 7 [==========] time remaining = 0.0 Avg Train_Loss=0.16760866814\n",
      " Testing  [==========] time remaining = 0.0 Avg Test_Loss=0.17259872679\n",
      " epoch 7 train_loss =0.1677430756262038 test_loss=0.17273662397372536\n",
      "!!!Warning Overfitting!!!\n",
      " epoch 8 [==========] time remaining = 0.0 Avg Train_Loss=0.17256672774\n",
      " Testing  [==========] time remaining = 0.0 Avg Test_Loss=0.15118850569\n",
      " epoch 8 train_loss =0.17270494363582692 test_loss=0.15130915498808026\n",
      "new minimum test loss 0.151309  achieved, model weights saved \n",
      " epoch 9 [==========] time remaining = 0.0 Avg Train_Loss=0.17866478879\n",
      " Testing  [==========] time remaining = 0.0 Avg Test_Loss=0.14023840575\n",
      " epoch 9 train_loss =0.17880769535173313 test_loss=0.14035077659636735\n",
      "new minimum test loss 0.140350  achieved, model weights saved \n",
      " epoch 10 [==========] time remaining = 0.0 Avg Train_Loss=0.14560245777\n",
      " Testing  [==========] time remaining = 0.0 Avg Test_Loss=0.14312843472\n",
      " epoch 10 train_loss =0.14571915228264698 test_loss=0.14324339409051462\n",
      " epoch 11 [==========] time remaining = 0.0 Avg Train_Loss=0.15028350464\n",
      " Testing  [==========] time remaining = 0.0 Avg Test_Loss=0.13653535091\n",
      " epoch 11 train_loss =0.15040403481861722 test_loss=0.13664481148598714\n",
      "new minimum test loss 0.136644  achieved, model weights saved \n",
      " epoch 12 [==========] time remaining = 0.0 Avg Train_Loss=0.15477754963\n",
      " Testing  [==========] time remaining = 0.0 Avg Test_Loss=0.13099631311\n",
      " epoch 12 train_loss =0.15490159225291572 test_loss=0.13110167995803057\n",
      "new minimum test loss 0.131101  achieved, model weights saved \n",
      " epoch 13 [==========] time remaining = 0.0 Avg Train_Loss=0.15350353687\n",
      " Testing  [==========] time remaining = 0.0 Avg Test_Loss=0.13367033991\n",
      " epoch 13 train_loss =0.15362594692055137 test_loss=0.1337772102175746\n",
      " epoch 14 [==========] time remaining = 0.0 Avg Train_Loss=0.14655246728\n",
      " Testing  [==========] time remaining = 0.0 Avg Test_Loss=0.13810738026\n",
      " epoch 14 train_loss =0.14666952946996317 test_loss=0.1382180972553324\n",
      " epoch 15 [==========] time remaining = 0.0 Avg Train_Loss=0.14449944672\n",
      " Testing  [==========] time remaining = 0.0 Avg Test_Loss=0.12430123954\n",
      " epoch 15 train_loss =0.14461483872570097 test_loss=0.12440058530084788\n",
      "new minimum test loss 0.124400  achieved, model weights saved \n"
     ]
    }
   ],
   "source": [
    "train_losses=models_train.model_train(model,epochs=15,learn_rate=0.00001,train_loader=train_loader,test_loader=test_loader,train_mod=\"triplet\",cuda=True,weight_saving_path=model_weights_path,epoch_data_saving_path=train_data_save_path,notes=train_notes)"
   ]
  },
  {
   "cell_type": "code",
   "execution_count": 21,
   "metadata": {
    "pycharm": {
     "name": "#%%\n"
    }
   },
   "outputs": [],
   "source": [
    "model.load_local_weights(model_weights_path+\"/05_25 22_43 Train_(0.019421) Test_(0.015686).pt\",cuda_weights=True)"
   ]
  },
  {
   "cell_type": "markdown",
   "source": [
    "## Descriptor Hard anchor negative selection"
   ],
   "metadata": {
    "collapsed": false,
    "pycharm": {
     "name": "#%% md\n"
    }
   }
  },
  {
   "cell_type": "code",
   "execution_count": 5,
   "outputs": [],
   "source": [
    "# model = face_descriptor.FaceDescriptorModel(download_weights=True, version=\"efficientnet_b1\")\n",
    "#\n",
    "# model.load_local_weights(model_weights_path+\"/05_25 22_43 Train_(0.019421) Test_(0.015686).pt\",cuda_weights=True)\n"
   ],
   "metadata": {
    "collapsed": false,
    "pycharm": {
     "name": "#%%\n"
    }
   }
  },
  {
   "cell_type": "code",
   "execution_count": 6,
   "outputs": [],
   "source": [
    "img_features=None\n",
    "stop_n_layers=4"
   ],
   "metadata": {
    "collapsed": false,
    "pycharm": {
     "name": "#%%\n"
    }
   }
  },
  {
   "cell_type": "code",
   "execution_count": 41,
   "outputs": [
    {
     "data": {
      "text/plain": "<All keys matched successfully>"
     },
     "execution_count": 41,
     "metadata": {},
     "output_type": "execute_result"
    }
   ],
   "source": [
    "state_dict=torch.load(model_weights_path+\"/06_04 10_54 Train_(0.130768) Test_(0.111294).pt\")\n",
    "model.load_state_dict(state_dict)"
   ],
   "metadata": {
    "collapsed": false,
    "pycharm": {
     "name": "#%%\n"
    }
   }
  },
  {
   "cell_type": "code",
   "execution_count": 42,
   "outputs": [
    {
     "name": "stdout",
     "output_type": "stream",
     "text": [
      " Testing  [==========] time remaining = 0.0 Avg Test_Loss=0.13087429669"
     ]
    },
    {
     "data": {
      "text/plain": "0.13097954012753907"
     },
     "execution_count": 42,
     "metadata": {},
     "output_type": "execute_result"
    }
   ],
   "source": [
    "import torch.nn as nn\n",
    "models_train.model_test(model=model,test_loader=test_loader,loss_function=nn.TripletMarginLoss(),test_mod=\"triplet\",cuda=True)"
   ],
   "metadata": {
    "collapsed": false,
    "pycharm": {
     "name": "#%%\n"
    }
   }
  },
  {
   "cell_type": "code",
   "execution_count": 7,
   "outputs": [],
   "source": [
    "for i in range(stop_n_layers):\n",
    "    for param in model.features[i].parameters():\n",
    "        param.requires_grad=False"
   ],
   "metadata": {
    "collapsed": false,
    "pycharm": {
     "name": "#%%\n"
    }
   }
  },
  {
   "cell_type": "code",
   "execution_count": 13,
   "outputs": [],
   "source": [
    "import torch\n",
    "epochs=25\n",
    "learning_rate=0.00001\n",
    "train_notes=\"descriptor hard negative selection , starting with test 0.2 loss calculation fixed\"\n",
    "optimizer=torch.optim.Adam(params=model.parameters(),lr=learning_rate)\n"
   ],
   "metadata": {
    "collapsed": false,
    "pycharm": {
     "name": "#%%\n"
    }
   }
  },
  {
   "cell_type": "code",
   "execution_count": 14,
   "outputs": [],
   "source": [
    "# img_features=data_load.get_pic_features_dict(dataset_path+\"/train\",model=model,transform=test_transform,cuda=True,batch_size=10)\n",
    "# img_features=utils.load_dict_from_json(\"train_face_features_0.13.json\")\n",
    "img_features=None"
   ],
   "metadata": {
    "collapsed": false,
    "pycharm": {
     "name": "#%%\n"
    }
   }
  },
  {
   "cell_type": "code",
   "execution_count": 18,
   "outputs": [
    {
     "name": "stdout",
     "output_type": "stream",
     "text": [
      " data processed [==========] time remaing=-0.00"
     ]
    }
   ],
   "source": [
    "train_dataset = data_load.FacesHardTripletDataset(model,True,f\"{dataset_path}/train\", 10000, train_transform,load_imgs_from_dict=False,img_features_dict=img_features,select_from_negative_cnt=5)\n",
    "test_dataset=data_load.FacesTripletDataset(f\"{dataset_path}/test\", 5000, test_transform,False)"
   ],
   "metadata": {
    "collapsed": false,
    "pycharm": {
     "name": "#%%\n"
    }
   }
  },
  {
   "cell_type": "code",
   "execution_count": 57,
   "outputs": [],
   "source": [
    "train_loader = DataLoader(train_dataset, batch_size=batch_size, shuffle=False)\n",
    "test_loader = DataLoader(test_dataset, batch_size=batch_size, shuffle=False)"
   ],
   "metadata": {
    "collapsed": false,
    "pycharm": {
     "name": "#%%\n"
    }
   }
  },
  {
   "cell_type": "code",
   "execution_count": 58,
   "outputs": [
    {
     "name": "stdout",
     "output_type": "stream",
     "text": [
      "Testing before training ...\n",
      " Testing  [==========] time remaining = 0.0 Avg Test_Loss=0.086685Test Loss before Training=0.08675528185410658\n",
      " epoch 1 [=========.] time remaining = 0.022734 Avg Train_Loss=0.272573\n",
      "mean of unique pictures usage count = 2.47 and std = 4.418 , no of unique pictures used =121440\n",
      " epoch 1 [==========] time remaining = 0.0 Avg Train_Loss=0.272474\n",
      " Testing  [==========] time remaining = 0.0 Avg Test_Loss=0.09058790585\n",
      " epoch 1 train_loss =0.27252935653121674 test_loss=0.09065987140164944\n",
      " epoch 2 [=========.] time remaining = 0.022705 Avg Train_Loss=0.267975\n",
      "mean of unique pictures usage count = 2.631 and std = 5.164 , no of unique pictures used =125407\n",
      " epoch 2 [==========] time remaining = 0.0 Avg Train_Loss=0.268164\n",
      " Testing  [==========] time remaining = 0.0 Avg Test_Loss=0.09483194944\n",
      " epoch 2 train_loss =0.2682184025419294 test_loss=0.0949069442092732\n",
      " epoch 3 [=========.] time remaining = 0.022678 Avg Train_Loss=0.244899\n",
      "mean of unique pictures usage count = 2.794 and std = 5.942 , no of unique pictures used =128852\n",
      " epoch 3 [==========] time remaining = 0.0 Avg Train_Loss=0.244776\n",
      " Testing  [==========] time remaining = 0.0 Avg Test_Loss=0.08609386197\n",
      " epoch 3 train_loss =0.2448259209500975 test_loss=0.08616263597568032\n",
      "new minimum test loss 0.086162  achieved, model weights saved \n",
      " epoch 4 [=========.] time remaining = 0.022862 Avg Train_Loss=0.243061\n",
      "mean of unique pictures usage count = 2.96 and std = 6.775 , no of unique pictures used =131747\n",
      " epoch 4 [==========] time remaining = 0.0 Avg Train_Loss=0.243330\n",
      " Testing  [==========] time remaining = 0.0 Avg Test_Loss=0.08875288665\n",
      " epoch 4 train_loss =0.24337905669284518 test_loss=0.08882315862835385\n",
      " epoch 5 [=========.] time remaining = 0.022730 Avg Train_Loss=0.252690\n",
      "mean of unique pictures usage count = 3.13 and std = 7.666 , no of unique pictures used =134195\n",
      " epoch 5 [==========] time remaining = 0.0 Avg Train_Loss=0.252793\n",
      " Testing  [==========] time remaining = 0.0 Avg Test_Loss=0.07860578699\n",
      " epoch 5 train_loss =0.25284391454968136 test_loss=0.0786679266453255\n",
      "new minimum test loss 0.078667  achieved, model weights saved \n",
      " epoch 6 [=========.] time remaining = 0.022695 Avg Train_Loss=0.244563\n",
      "mean of unique pictures usage count = 3.304 and std = 8.614 , no of unique pictures used =136218\n",
      " epoch 6 [==========] time remaining = 0.0 Avg Train_Loss=0.244634\n",
      " Testing  [==========] time remaining = 0.0 Avg Test_Loss=0.08261782716\n",
      " epoch 6 train_loss =0.24468386269537004 test_loss=0.08268375815358013\n",
      " epoch 7 [=========.] time remaining = 0.022702 Avg Train_Loss=0.232577\n",
      "mean of unique pictures usage count = 3.478 and std = 9.607 , no of unique pictures used =137996\n",
      " epoch 7 [==========] time remaining = 0.0 Avg Train_Loss=0.232475\n",
      " Testing  [==========] time remaining = 0.0 Avg Test_Loss=0.08318483284\n",
      " epoch 7 train_loss =0.23252181665731478 test_loss=0.08325101282912073\n",
      " epoch 8 [=========.] time remaining = 0.022685 Avg Train_Loss=0.238878\n",
      "mean of unique pictures usage count = 3.657 and std = 10.678 , no of unique pictures used =139464\n",
      " epoch 8 [==========] time remaining = 0.0 Avg Train_Loss=0.239126\n",
      " Testing  [==========] time remaining = 0.0 Avg Test_Loss=0.07541975510\n",
      " epoch 8 train_loss =0.23917482059027825 test_loss=0.07548017915964592\n",
      "new minimum test loss 0.075480  achieved, model weights saved \n",
      " epoch 9 [=========.] time remaining = 0.022679 Avg Train_Loss=0.234578\n",
      "mean of unique pictures usage count = 3.837 and std = 11.782 , no of unique pictures used =140724\n",
      " epoch 9 [==========] time remaining = 0.0 Avg Train_Loss=0.234548\n",
      " Testing  [==========] time remaining = 0.0 Avg Test_Loss=0.07884678799\n",
      " epoch 9 train_loss =0.23459502163156284 test_loss=0.07891004580772715\n",
      " epoch 10 [=========.] time remaining = 0.022704 Avg Train_Loss=0.226342\n",
      "mean of unique pictures usage count = 4.019 and std = 12.938 , no of unique pictures used =141841\n",
      " epoch 10 [==========] time remaining = 0.0 Avg Train_Loss=0.226238\n",
      " Testing  [==========] time remaining = 0.0 Avg Test_Loss=0.07190071986\n",
      " epoch 10 train_loss =0.2262835620914935 test_loss=0.07195776207530871\n",
      "new minimum test loss 0.071957  achieved, model weights saved \n",
      " epoch 11 [=========.] time remaining = 0.022692 Avg Train_Loss=0.222802\n",
      "mean of unique pictures usage count = 4.204 and std = 14.124 , no of unique pictures used =142720\n",
      " epoch 11 [==========] time remaining = 0.0 Avg Train_Loss=0.222739\n",
      " Testing  [==========] time remaining = 0.0 Avg Test_Loss=0.08228582268\n",
      " epoch 11 train_loss =0.2227836245897168 test_loss=0.08235121470966843\n",
      " epoch 12 [=========.] time remaining = 0.022692 Avg Train_Loss=0.222127\n",
      "mean of unique pictures usage count = 4.39 and std = 15.415 , no of unique pictures used =143495\n",
      " epoch 12 [==========] time remaining = 0.0 Avg Train_Loss=0.221994\n",
      " Testing  [==========] time remaining = 0.0 Avg Test_Loss=0.07557375350\n",
      " epoch 12 train_loss =0.22203871226422633 test_loss=0.07563388676224568\n",
      " epoch 13 [=========.] time remaining = 0.022711 Avg Train_Loss=0.212255\n",
      "mean of unique pictures usage count = 4.581 and std = 16.765 , no of unique pictures used =144071\n",
      " epoch 13 [==========] time remaining = 0.0 Avg Train_Loss=0.212128\n",
      " Testing  [==========] time remaining = 0.0 Avg Test_Loss=0.07434274431\n",
      " epoch 13 train_loss =0.21217106199776753 test_loss=0.07440205602608621\n",
      " epoch 14 [=========.] time remaining = 0.022688 Avg Train_Loss=0.210050\n",
      "mean of unique pictures usage count = 4.771 and std = 18.144 , no of unique pictures used =144638\n",
      " epoch 14 [==========] time remaining = 0.0 Avg Train_Loss=0.209973\n",
      " Testing  [==========] time remaining = 0.0 Avg Test_Loss=0.07517875268\n",
      " epoch 14 train_loss =0.2100154983809218 test_loss=0.07523832352400059\n",
      " epoch 15 [=========.] time remaining = 0.022720 Avg Train_Loss=0.211426\n",
      "mean of unique pictures usage count = 4.963 and std = 19.584 , no of unique pictures used =145073\n",
      " epoch 15 [==========] time remaining = 0.0 Avg Train_Loss=0.211299\n",
      " Testing  [==========] time remaining = 0.0 Avg Test_Loss=0.07394774036\n",
      " epoch 15 train_loss =0.21134151670043502 test_loss=0.07400702196942294\n",
      " epoch 16 [=========.] time remaining = 0.022705 Avg Train_Loss=0.194575\n",
      "mean of unique pictures usage count = 5.154 and std = 21.104 , no of unique pictures used =145525\n",
      " epoch 16 [==========] time remaining = 0.0 Avg Train_Loss=0.194458\n",
      " Testing  [==========] time remaining = 0.0 Avg Test_Loss=0.07382973918\n",
      " epoch 16 train_loss =0.19449749825123291 test_loss=0.07388845615298487\n",
      " data processed [..........] time remaing=10.14"
     ]
    },
    {
     "ename": "KeyboardInterrupt",
     "evalue": "",
     "output_type": "error",
     "traceback": [
      "\u001B[1;31m---------------------------------------------------------------------------\u001B[0m",
      "\u001B[1;31mKeyboardInterrupt\u001B[0m                         Traceback (most recent call last)",
      "Input \u001B[1;32mIn [58]\u001B[0m, in \u001B[0;36m<cell line: 1>\u001B[1;34m()\u001B[0m\n\u001B[1;32m----> 1\u001B[0m train_losses\u001B[38;5;241m=\u001B[39m\u001B[43mmodels_train\u001B[49m\u001B[38;5;241;43m.\u001B[39;49m\u001B[43mmodel_train\u001B[49m\u001B[43m(\u001B[49m\u001B[43mmodel\u001B[49m\u001B[43m,\u001B[49m\u001B[43mepochs\u001B[49m\u001B[38;5;241;43m=\u001B[39;49m\u001B[43mepochs\u001B[49m\u001B[43m,\u001B[49m\u001B[43mlearn_rate\u001B[49m\u001B[38;5;241;43m=\u001B[39;49m\u001B[43mlearning_rate\u001B[49m\u001B[43m,\u001B[49m\u001B[43mtrain_loader\u001B[49m\u001B[38;5;241;43m=\u001B[39;49m\u001B[43mtrain_loader\u001B[49m\u001B[43m,\u001B[49m\u001B[43mtest_loader\u001B[49m\u001B[38;5;241;43m=\u001B[39;49m\u001B[43mtest_loader\u001B[49m\u001B[43m,\u001B[49m\u001B[43mtrain_mod\u001B[49m\u001B[38;5;241;43m=\u001B[39;49m\u001B[38;5;124;43m\"\u001B[39;49m\u001B[38;5;124;43mtriplet\u001B[39;49m\u001B[38;5;124;43m\"\u001B[39;49m\u001B[43m,\u001B[49m\u001B[43mcuda\u001B[49m\u001B[38;5;241;43m=\u001B[39;49m\u001B[38;5;28;43;01mTrue\u001B[39;49;00m\u001B[43m,\u001B[49m\u001B[43mweight_saving_path\u001B[49m\u001B[38;5;241;43m=\u001B[39;49m\u001B[43mmodel_weights_path\u001B[49m\u001B[43m,\u001B[49m\u001B[43mepoch_data_saving_path\u001B[49m\u001B[38;5;241;43m=\u001B[39;49m\u001B[43mtrain_data_save_path\u001B[49m\u001B[43m,\u001B[49m\u001B[43mnotes\u001B[49m\u001B[38;5;241;43m=\u001B[39;49m\u001B[43mtrain_notes\u001B[49m\u001B[43m,\u001B[49m\u001B[43moptimizer\u001B[49m\u001B[38;5;241;43m=\u001B[39;49m\u001B[43moptimizer\u001B[49m\u001B[43m)\u001B[49m\n",
      "File \u001B[1;32mC:\\graduation_project\\efficient-facenet\\src\\efficentnet_train\\models_train.py:89\u001B[0m, in \u001B[0;36mmodel_train\u001B[1;34m(model, epochs, learn_rate, train_loader, test_loader, train_mod, cuda, weight_saving_path, epoch_data_saving_path, notes, **kwargs)\u001B[0m\n\u001B[0;32m     87\u001B[0m cnt \u001B[38;5;241m=\u001B[39m \u001B[38;5;241m0.0\u001B[39m\n\u001B[0;32m     88\u001B[0m time_sum \u001B[38;5;241m=\u001B[39m \u001B[38;5;241m0.0\u001B[39m\n\u001B[1;32m---> 89\u001B[0m \u001B[38;5;28;01mfor\u001B[39;00m data \u001B[38;5;129;01min\u001B[39;00m train_loader:\n\u001B[0;32m     90\u001B[0m     batch_start_t \u001B[38;5;241m=\u001B[39m time\u001B[38;5;241m.\u001B[39mtime()\n\u001B[0;32m     92\u001B[0m     \u001B[38;5;28;01mif\u001B[39;00m train_mod \u001B[38;5;241m==\u001B[39m \u001B[38;5;124m\"\u001B[39m\u001B[38;5;124mtriplet\u001B[39m\u001B[38;5;124m\"\u001B[39m:\n",
      "File \u001B[1;32mC:\\graduation_project\\efficient-facenet\\venv\\lib\\site-packages\\torch\\utils\\data\\dataloader.py:530\u001B[0m, in \u001B[0;36m_BaseDataLoaderIter.__next__\u001B[1;34m(self)\u001B[0m\n\u001B[0;32m    528\u001B[0m \u001B[38;5;28;01mif\u001B[39;00m \u001B[38;5;28mself\u001B[39m\u001B[38;5;241m.\u001B[39m_sampler_iter \u001B[38;5;129;01mis\u001B[39;00m \u001B[38;5;28;01mNone\u001B[39;00m:\n\u001B[0;32m    529\u001B[0m     \u001B[38;5;28mself\u001B[39m\u001B[38;5;241m.\u001B[39m_reset()\n\u001B[1;32m--> 530\u001B[0m data \u001B[38;5;241m=\u001B[39m \u001B[38;5;28;43mself\u001B[39;49m\u001B[38;5;241;43m.\u001B[39;49m\u001B[43m_next_data\u001B[49m\u001B[43m(\u001B[49m\u001B[43m)\u001B[49m\n\u001B[0;32m    531\u001B[0m \u001B[38;5;28mself\u001B[39m\u001B[38;5;241m.\u001B[39m_num_yielded \u001B[38;5;241m+\u001B[39m\u001B[38;5;241m=\u001B[39m \u001B[38;5;241m1\u001B[39m\n\u001B[0;32m    532\u001B[0m \u001B[38;5;28;01mif\u001B[39;00m \u001B[38;5;28mself\u001B[39m\u001B[38;5;241m.\u001B[39m_dataset_kind \u001B[38;5;241m==\u001B[39m _DatasetKind\u001B[38;5;241m.\u001B[39mIterable \u001B[38;5;129;01mand\u001B[39;00m \\\n\u001B[0;32m    533\u001B[0m         \u001B[38;5;28mself\u001B[39m\u001B[38;5;241m.\u001B[39m_IterableDataset_len_called \u001B[38;5;129;01mis\u001B[39;00m \u001B[38;5;129;01mnot\u001B[39;00m \u001B[38;5;28;01mNone\u001B[39;00m \u001B[38;5;129;01mand\u001B[39;00m \\\n\u001B[0;32m    534\u001B[0m         \u001B[38;5;28mself\u001B[39m\u001B[38;5;241m.\u001B[39m_num_yielded \u001B[38;5;241m>\u001B[39m \u001B[38;5;28mself\u001B[39m\u001B[38;5;241m.\u001B[39m_IterableDataset_len_called:\n",
      "File \u001B[1;32mC:\\graduation_project\\efficient-facenet\\venv\\lib\\site-packages\\torch\\utils\\data\\dataloader.py:570\u001B[0m, in \u001B[0;36m_SingleProcessDataLoaderIter._next_data\u001B[1;34m(self)\u001B[0m\n\u001B[0;32m    568\u001B[0m \u001B[38;5;28;01mdef\u001B[39;00m \u001B[38;5;21m_next_data\u001B[39m(\u001B[38;5;28mself\u001B[39m):\n\u001B[0;32m    569\u001B[0m     index \u001B[38;5;241m=\u001B[39m \u001B[38;5;28mself\u001B[39m\u001B[38;5;241m.\u001B[39m_next_index()  \u001B[38;5;66;03m# may raise StopIteration\u001B[39;00m\n\u001B[1;32m--> 570\u001B[0m     data \u001B[38;5;241m=\u001B[39m \u001B[38;5;28;43mself\u001B[39;49m\u001B[38;5;241;43m.\u001B[39;49m\u001B[43m_dataset_fetcher\u001B[49m\u001B[38;5;241;43m.\u001B[39;49m\u001B[43mfetch\u001B[49m\u001B[43m(\u001B[49m\u001B[43mindex\u001B[49m\u001B[43m)\u001B[49m  \u001B[38;5;66;03m# may raise StopIteration\u001B[39;00m\n\u001B[0;32m    571\u001B[0m     \u001B[38;5;28;01mif\u001B[39;00m \u001B[38;5;28mself\u001B[39m\u001B[38;5;241m.\u001B[39m_pin_memory:\n\u001B[0;32m    572\u001B[0m         data \u001B[38;5;241m=\u001B[39m _utils\u001B[38;5;241m.\u001B[39mpin_memory\u001B[38;5;241m.\u001B[39mpin_memory(data)\n",
      "File \u001B[1;32mC:\\graduation_project\\efficient-facenet\\venv\\lib\\site-packages\\torch\\utils\\data\\_utils\\fetch.py:32\u001B[0m, in \u001B[0;36m_IterableDatasetFetcher.fetch\u001B[1;34m(self, possibly_batched_index)\u001B[0m\n\u001B[0;32m     30\u001B[0m \u001B[38;5;28;01mfor\u001B[39;00m _ \u001B[38;5;129;01min\u001B[39;00m possibly_batched_index:\n\u001B[0;32m     31\u001B[0m     \u001B[38;5;28;01mtry\u001B[39;00m:\n\u001B[1;32m---> 32\u001B[0m         data\u001B[38;5;241m.\u001B[39mappend(\u001B[38;5;28;43mnext\u001B[39;49m\u001B[43m(\u001B[49m\u001B[38;5;28;43mself\u001B[39;49m\u001B[38;5;241;43m.\u001B[39;49m\u001B[43mdataset_iter\u001B[49m\u001B[43m)\u001B[49m)\n\u001B[0;32m     33\u001B[0m     \u001B[38;5;28;01mexcept\u001B[39;00m \u001B[38;5;167;01mStopIteration\u001B[39;00m:\n\u001B[0;32m     34\u001B[0m         \u001B[38;5;28mself\u001B[39m\u001B[38;5;241m.\u001B[39mended \u001B[38;5;241m=\u001B[39m \u001B[38;5;28;01mTrue\u001B[39;00m\n",
      "File \u001B[1;32mC:\\graduation_project\\efficient-facenet\\src\\efficentnet_train\\data_load.py:239\u001B[0m, in \u001B[0;36mFacesHardTripletDataset.__iter__\u001B[1;34m(self)\u001B[0m\n\u001B[0;32m    237\u001B[0m \u001B[38;5;28;01mdef\u001B[39;00m \u001B[38;5;21m__iter__\u001B[39m(\u001B[38;5;28mself\u001B[39m):\n\u001B[0;32m    238\u001B[0m     random\u001B[38;5;241m.\u001B[39mshuffle(\u001B[38;5;28mself\u001B[39m\u001B[38;5;241m.\u001B[39mperson_imgs_list)\n\u001B[1;32m--> 239\u001B[0m     \u001B[38;5;28;43mself\u001B[39;49m\u001B[38;5;241;43m.\u001B[39;49m\u001B[43mupdate_features_dict\u001B[49m\u001B[43m(\u001B[49m\u001B[43m)\u001B[49m\n\u001B[0;32m    240\u001B[0m     \u001B[38;5;28;01mfor\u001B[39;00m i \u001B[38;5;129;01min\u001B[39;00m \u001B[38;5;28mrange\u001B[39m(\u001B[38;5;28mself\u001B[39m\u001B[38;5;241m.\u001B[39mno_of_rows):\n\u001B[0;32m    241\u001B[0m         \u001B[38;5;66;03m# 1- select random anchor person\u001B[39;00m\n\u001B[0;32m    242\u001B[0m         anchor_per_name, anchor_imgs \u001B[38;5;241m=\u001B[39m random\u001B[38;5;241m.\u001B[39mchoice(\u001B[38;5;28mself\u001B[39m\u001B[38;5;241m.\u001B[39mperson_imgs_list)\n",
      "File \u001B[1;32mC:\\graduation_project\\efficient-facenet\\src\\efficentnet_train\\data_load.py:273\u001B[0m, in \u001B[0;36mFacesHardTripletDataset.update_features_dict\u001B[1;34m(self)\u001B[0m\n\u001B[0;32m    272\u001B[0m \u001B[38;5;28;01mdef\u001B[39;00m \u001B[38;5;21mupdate_features_dict\u001B[39m(\u001B[38;5;28mself\u001B[39m):\n\u001B[1;32m--> 273\u001B[0m     used_pics_features \u001B[38;5;241m=\u001B[39m \u001B[43mget_pic_features_dict\u001B[49m\u001B[43m(\u001B[49m\u001B[38;5;28;43mself\u001B[39;49m\u001B[38;5;241;43m.\u001B[39;49m\u001B[43mdataset_path\u001B[49m\u001B[43m,\u001B[49m\u001B[43m \u001B[49m\u001B[38;5;28;43mself\u001B[39;49m\u001B[38;5;241;43m.\u001B[39;49m\u001B[43mmodel\u001B[49m\u001B[43m,\u001B[49m\u001B[43m \u001B[49m\u001B[38;5;28;43mself\u001B[39;49m\u001B[38;5;241;43m.\u001B[39;49m\u001B[43mtransform\u001B[49m\u001B[43m,\u001B[49m\u001B[43m \u001B[49m\u001B[38;5;28;43mself\u001B[39;49m\u001B[38;5;241;43m.\u001B[39;49m\u001B[43mcuda\u001B[49m\u001B[43m,\u001B[49m\n\u001B[0;32m    274\u001B[0m \u001B[43m                                               \u001B[49m\u001B[43mbatch_size\u001B[49m\u001B[38;5;241;43m=\u001B[39;49m\u001B[38;5;241;43m10\u001B[39;49m\u001B[43m,\u001B[49m\u001B[43m \u001B[49m\u001B[43mimg_paths\u001B[49m\u001B[38;5;241;43m=\u001B[39;49m\u001B[38;5;28;43mlist\u001B[39;49m\u001B[43m(\u001B[49m\u001B[38;5;28;43mself\u001B[39;49m\u001B[38;5;241;43m.\u001B[39;49m\u001B[43mcurr_epoch_used_pics\u001B[49m\u001B[43m)\u001B[49m\u001B[43m)\u001B[49m\n\u001B[0;32m    275\u001B[0m     \u001B[38;5;28mself\u001B[39m\u001B[38;5;241m.\u001B[39mcurr_epoch_used_pics \u001B[38;5;241m=\u001B[39m \u001B[38;5;28mset\u001B[39m()\n\u001B[0;32m    276\u001B[0m     \u001B[38;5;28;01mfor\u001B[39;00m key, item \u001B[38;5;129;01min\u001B[39;00m used_pics_features\u001B[38;5;241m.\u001B[39mitems():\n",
      "File \u001B[1;32mC:\\graduation_project\\efficient-facenet\\src\\efficentnet_train\\data_load.py:59\u001B[0m, in \u001B[0;36mget_pic_features_dict\u001B[1;34m(dataset_pth, model, transform, cuda, batch_size, img_paths)\u001B[0m\n\u001B[0;32m     57\u001B[0m \u001B[38;5;28;01mif\u001B[39;00m cuda:\n\u001B[0;32m     58\u001B[0m     imgs \u001B[38;5;241m=\u001B[39m imgs\u001B[38;5;241m.\u001B[39mcuda()\n\u001B[1;32m---> 59\u001B[0m     features_vectors \u001B[38;5;241m=\u001B[39m \u001B[43mmodel\u001B[49m\u001B[43m(\u001B[49m\u001B[43mimgs\u001B[49m\u001B[43m)\u001B[49m\u001B[38;5;241;43m.\u001B[39;49m\u001B[43mcpu\u001B[49m\u001B[43m(\u001B[49m\u001B[43m)\u001B[49m\u001B[38;5;241m.\u001B[39mtolist()\n\u001B[0;32m     60\u001B[0m \u001B[38;5;28;01melse\u001B[39;00m:\n\u001B[0;32m     61\u001B[0m     features_vectors \u001B[38;5;241m=\u001B[39m model(imgs)\u001B[38;5;241m.\u001B[39mtolist()\n",
      "\u001B[1;31mKeyboardInterrupt\u001B[0m: "
     ]
    }
   ],
   "source": [
    "train_losses=models_train.model_train(model,epochs=epochs,learn_rate=learning_rate,train_loader=train_loader,test_loader=test_loader,train_mod=\"triplet\",cuda=True,weight_saving_path=model_weights_path,epoch_data_saving_path=train_data_save_path,notes=train_notes,optimizer=optimizer)"
   ],
   "metadata": {
    "collapsed": false,
    "pycharm": {
     "name": "#%%\n"
    }
   }
  },
  {
   "cell_type": "code",
   "execution_count": 59,
   "outputs": [
    {
     "data": {
      "text/plain": "'../model_weights/convnext_tiny/06_05 12_32 Train_(0.194497) Test_(0.073888).pt'"
     },
     "execution_count": 59,
     "metadata": {},
     "output_type": "execute_result"
    }
   ],
   "source": [
    "models_train.save_train_weights(model,0.19449749825,0.073888456152,model_weights_path)"
   ],
   "metadata": {
    "collapsed": false,
    "pycharm": {
     "name": "#%%\n"
    }
   }
  },
  {
   "cell_type": "code",
   "execution_count": 14,
   "outputs": [],
   "source": [
    "utils.save_dict_to_json(\"train_face_features_0.13.json\",train_dataset.img_features_dict)"
   ],
   "metadata": {
    "collapsed": false,
    "pycharm": {
     "name": "#%%\n"
    }
   }
  },
  {
   "cell_type": "markdown",
   "source": [
    "# Face descriptor evaluation"
   ],
   "metadata": {
    "collapsed": false
   }
  },
  {
   "cell_type": "code",
   "execution_count": 76,
   "outputs": [
    {
     "data": {
      "text/plain": "<All keys matched successfully>"
     },
     "execution_count": 76,
     "metadata": {},
     "output_type": "execute_result"
    }
   ],
   "source": [
    "state_dict=torch.load(model_weights_path+\"/06_05 06_56 Train_(0.226283) Test_(0.071957).pt\")\n",
    "model.load_state_dict(state_dict)"
   ],
   "metadata": {
    "collapsed": false,
    "pycharm": {
     "name": "#%%\n"
    }
   }
  },
  {
   "cell_type": "code",
   "execution_count": 78,
   "outputs": [
    {
     "name": "stdout",
     "output_type": "stream",
     "text": [
      " data processed [==========] time remaing=-0.00"
     ]
    }
   ],
   "source": [
    "features_dict=data_load.get_pic_features_dict(img_celeb_subset,model,test_transform,cuda=True,batch_size=10)"
   ],
   "metadata": {
    "collapsed": false,
    "pycharm": {
     "name": "#%%\n"
    }
   }
  },
  {
   "cell_type": "code",
   "execution_count": 21,
   "outputs": [],
   "source": [
    "# features_dict=train_dataset.img_features_dict"
   ],
   "metadata": {
    "collapsed": false,
    "pycharm": {
     "name": "#%%\n"
    }
   }
  },
  {
   "cell_type": "code",
   "execution_count": 19,
   "outputs": [],
   "source": [
    "utils.save_dict_to_json(\"face_features.json\",img_features)"
   ],
   "metadata": {
    "collapsed": false,
    "pycharm": {
     "name": "#%%\n"
    }
   }
  },
  {
   "cell_type": "markdown",
   "source": [],
   "metadata": {
    "collapsed": false
   }
  },
  {
   "cell_type": "code",
   "execution_count": 77,
   "outputs": [
    {
     "ename": "KeyboardInterrupt",
     "evalue": "",
     "output_type": "error",
     "traceback": [
      "\u001B[1;31m---------------------------------------------------------------------------\u001B[0m",
      "\u001B[1;31mKeyboardInterrupt\u001B[0m                         Traceback (most recent call last)",
      "Input \u001B[1;32mIn [77]\u001B[0m, in \u001B[0;36m<cell line: 1>\u001B[1;34m()\u001B[0m\n\u001B[1;32m----> 1\u001B[0m features_dict\u001B[38;5;241m=\u001B[39mimgs_features_dict\u001B[38;5;241m=\u001B[39m\u001B[43mutils\u001B[49m\u001B[38;5;241;43m.\u001B[39;49m\u001B[43mload_dict_from_json\u001B[49m\u001B[43m(\u001B[49m\u001B[38;5;124;43m\"\u001B[39;49m\u001B[38;5;124;43mface_features.json\u001B[39;49m\u001B[38;5;124;43m\"\u001B[39;49m\u001B[43m)\u001B[49m\n",
      "File \u001B[1;32mC:\\graduation_project\\efficient-facenet\\src\\efficentnet_train\\utils.py:45\u001B[0m, in \u001B[0;36mload_dict_from_json\u001B[1;34m(path_file)\u001B[0m\n\u001B[0;32m     43\u001B[0m \u001B[38;5;28;01mdef\u001B[39;00m \u001B[38;5;21mload_dict_from_json\u001B[39m(path_file):\n\u001B[0;32m     44\u001B[0m     \u001B[38;5;28;01mwith\u001B[39;00m \u001B[38;5;28mopen\u001B[39m(path_file) \u001B[38;5;28;01mas\u001B[39;00m json_file:\n\u001B[1;32m---> 45\u001B[0m         data \u001B[38;5;241m=\u001B[39m \u001B[43mjson\u001B[49m\u001B[38;5;241;43m.\u001B[39;49m\u001B[43mload\u001B[49m\u001B[43m(\u001B[49m\u001B[43mjson_file\u001B[49m\u001B[43m)\u001B[49m\n\u001B[0;32m     46\u001B[0m     \u001B[38;5;28;01mreturn\u001B[39;00m data\n",
      "File \u001B[1;32m~\\AppData\\Local\\Programs\\Python\\Python310\\lib\\json\\__init__.py:293\u001B[0m, in \u001B[0;36mload\u001B[1;34m(fp, cls, object_hook, parse_float, parse_int, parse_constant, object_pairs_hook, **kw)\u001B[0m\n\u001B[0;32m    274\u001B[0m \u001B[38;5;28;01mdef\u001B[39;00m \u001B[38;5;21mload\u001B[39m(fp, \u001B[38;5;241m*\u001B[39m, \u001B[38;5;28mcls\u001B[39m\u001B[38;5;241m=\u001B[39m\u001B[38;5;28;01mNone\u001B[39;00m, object_hook\u001B[38;5;241m=\u001B[39m\u001B[38;5;28;01mNone\u001B[39;00m, parse_float\u001B[38;5;241m=\u001B[39m\u001B[38;5;28;01mNone\u001B[39;00m,\n\u001B[0;32m    275\u001B[0m         parse_int\u001B[38;5;241m=\u001B[39m\u001B[38;5;28;01mNone\u001B[39;00m, parse_constant\u001B[38;5;241m=\u001B[39m\u001B[38;5;28;01mNone\u001B[39;00m, object_pairs_hook\u001B[38;5;241m=\u001B[39m\u001B[38;5;28;01mNone\u001B[39;00m, \u001B[38;5;241m*\u001B[39m\u001B[38;5;241m*\u001B[39mkw):\n\u001B[0;32m    276\u001B[0m     \u001B[38;5;124;03m\"\"\"Deserialize ``fp`` (a ``.read()``-supporting file-like object containing\u001B[39;00m\n\u001B[0;32m    277\u001B[0m \u001B[38;5;124;03m    a JSON document) to a Python object.\u001B[39;00m\n\u001B[0;32m    278\u001B[0m \n\u001B[1;32m   (...)\u001B[0m\n\u001B[0;32m    291\u001B[0m \u001B[38;5;124;03m    kwarg; otherwise ``JSONDecoder`` is used.\u001B[39;00m\n\u001B[0;32m    292\u001B[0m \u001B[38;5;124;03m    \"\"\"\u001B[39;00m\n\u001B[1;32m--> 293\u001B[0m     \u001B[38;5;28;01mreturn\u001B[39;00m loads(fp\u001B[38;5;241m.\u001B[39mread(),\n\u001B[0;32m    294\u001B[0m         \u001B[38;5;28mcls\u001B[39m\u001B[38;5;241m=\u001B[39m\u001B[38;5;28mcls\u001B[39m, object_hook\u001B[38;5;241m=\u001B[39mobject_hook,\n\u001B[0;32m    295\u001B[0m         parse_float\u001B[38;5;241m=\u001B[39mparse_float, parse_int\u001B[38;5;241m=\u001B[39mparse_int,\n\u001B[0;32m    296\u001B[0m         parse_constant\u001B[38;5;241m=\u001B[39mparse_constant, object_pairs_hook\u001B[38;5;241m=\u001B[39mobject_pairs_hook, \u001B[38;5;241m*\u001B[39m\u001B[38;5;241m*\u001B[39mkw)\n",
      "File \u001B[1;32m~\\AppData\\Local\\Programs\\Python\\Python310\\lib\\json\\__init__.py:346\u001B[0m, in \u001B[0;36mloads\u001B[1;34m(s, cls, object_hook, parse_float, parse_int, parse_constant, object_pairs_hook, **kw)\u001B[0m\n\u001B[0;32m    341\u001B[0m     s \u001B[38;5;241m=\u001B[39m s\u001B[38;5;241m.\u001B[39mdecode(detect_encoding(s), \u001B[38;5;124m'\u001B[39m\u001B[38;5;124msurrogatepass\u001B[39m\u001B[38;5;124m'\u001B[39m)\n\u001B[0;32m    343\u001B[0m \u001B[38;5;28;01mif\u001B[39;00m (\u001B[38;5;28mcls\u001B[39m \u001B[38;5;129;01mis\u001B[39;00m \u001B[38;5;28;01mNone\u001B[39;00m \u001B[38;5;129;01mand\u001B[39;00m object_hook \u001B[38;5;129;01mis\u001B[39;00m \u001B[38;5;28;01mNone\u001B[39;00m \u001B[38;5;129;01mand\u001B[39;00m\n\u001B[0;32m    344\u001B[0m         parse_int \u001B[38;5;129;01mis\u001B[39;00m \u001B[38;5;28;01mNone\u001B[39;00m \u001B[38;5;129;01mand\u001B[39;00m parse_float \u001B[38;5;129;01mis\u001B[39;00m \u001B[38;5;28;01mNone\u001B[39;00m \u001B[38;5;129;01mand\u001B[39;00m\n\u001B[0;32m    345\u001B[0m         parse_constant \u001B[38;5;129;01mis\u001B[39;00m \u001B[38;5;28;01mNone\u001B[39;00m \u001B[38;5;129;01mand\u001B[39;00m object_pairs_hook \u001B[38;5;129;01mis\u001B[39;00m \u001B[38;5;28;01mNone\u001B[39;00m \u001B[38;5;129;01mand\u001B[39;00m \u001B[38;5;129;01mnot\u001B[39;00m kw):\n\u001B[1;32m--> 346\u001B[0m     \u001B[38;5;28;01mreturn\u001B[39;00m \u001B[43m_default_decoder\u001B[49m\u001B[38;5;241;43m.\u001B[39;49m\u001B[43mdecode\u001B[49m\u001B[43m(\u001B[49m\u001B[43ms\u001B[49m\u001B[43m)\u001B[49m\n\u001B[0;32m    347\u001B[0m \u001B[38;5;28;01mif\u001B[39;00m \u001B[38;5;28mcls\u001B[39m \u001B[38;5;129;01mis\u001B[39;00m \u001B[38;5;28;01mNone\u001B[39;00m:\n\u001B[0;32m    348\u001B[0m     \u001B[38;5;28mcls\u001B[39m \u001B[38;5;241m=\u001B[39m JSONDecoder\n",
      "File \u001B[1;32m~\\AppData\\Local\\Programs\\Python\\Python310\\lib\\json\\decoder.py:337\u001B[0m, in \u001B[0;36mJSONDecoder.decode\u001B[1;34m(self, s, _w)\u001B[0m\n\u001B[0;32m    332\u001B[0m \u001B[38;5;28;01mdef\u001B[39;00m \u001B[38;5;21mdecode\u001B[39m(\u001B[38;5;28mself\u001B[39m, s, _w\u001B[38;5;241m=\u001B[39mWHITESPACE\u001B[38;5;241m.\u001B[39mmatch):\n\u001B[0;32m    333\u001B[0m     \u001B[38;5;124;03m\"\"\"Return the Python representation of ``s`` (a ``str`` instance\u001B[39;00m\n\u001B[0;32m    334\u001B[0m \u001B[38;5;124;03m    containing a JSON document).\u001B[39;00m\n\u001B[0;32m    335\u001B[0m \n\u001B[0;32m    336\u001B[0m \u001B[38;5;124;03m    \"\"\"\u001B[39;00m\n\u001B[1;32m--> 337\u001B[0m     obj, end \u001B[38;5;241m=\u001B[39m \u001B[38;5;28;43mself\u001B[39;49m\u001B[38;5;241;43m.\u001B[39;49m\u001B[43mraw_decode\u001B[49m\u001B[43m(\u001B[49m\u001B[43ms\u001B[49m\u001B[43m,\u001B[49m\u001B[43m \u001B[49m\u001B[43midx\u001B[49m\u001B[38;5;241;43m=\u001B[39;49m\u001B[43m_w\u001B[49m\u001B[43m(\u001B[49m\u001B[43ms\u001B[49m\u001B[43m,\u001B[49m\u001B[43m \u001B[49m\u001B[38;5;241;43m0\u001B[39;49m\u001B[43m)\u001B[49m\u001B[38;5;241;43m.\u001B[39;49m\u001B[43mend\u001B[49m\u001B[43m(\u001B[49m\u001B[43m)\u001B[49m\u001B[43m)\u001B[49m\n\u001B[0;32m    338\u001B[0m     end \u001B[38;5;241m=\u001B[39m _w(s, end)\u001B[38;5;241m.\u001B[39mend()\n\u001B[0;32m    339\u001B[0m     \u001B[38;5;28;01mif\u001B[39;00m end \u001B[38;5;241m!=\u001B[39m \u001B[38;5;28mlen\u001B[39m(s):\n",
      "\u001B[1;31mKeyboardInterrupt\u001B[0m: "
     ]
    }
   ],
   "source": [
    "features_dict=imgs_features_dict=utils.load_dict_from_json(\"face_features.json\")\n"
   ],
   "metadata": {
    "collapsed": false,
    "pycharm": {
     "name": "#%%\n"
    }
   }
  },
  {
   "cell_type": "code",
   "execution_count": 79,
   "metadata": {
    "pycharm": {
     "name": "#%%\n"
    }
   },
   "outputs": [],
   "source": [
    "test_data_pd_full=pd.DataFrame(generate_dataset.generate_testing_data_set_frame(img_celeb_subset,False))"
   ]
  },
  {
   "cell_type": "code",
   "execution_count": 97,
   "outputs": [],
   "source": [
    "full_test_data_pd = test_data_pd_full.sample(frac=1)\n",
    "test_data_pd = full_test_data_pd"
   ],
   "metadata": {
    "collapsed": false,
    "pycharm": {
     "name": "#%%\n"
    }
   }
  },
  {
   "cell_type": "code",
   "execution_count": 65,
   "outputs": [],
   "source": [
    "# model.load_local_weights(get_last_weights_path(model_weights_path), cuda_weights=True)"
   ],
   "metadata": {
    "collapsed": false,
    "pycharm": {
     "name": "#%%\n"
    }
   }
  },
  {
   "cell_type": "code",
   "execution_count": 98,
   "metadata": {
    "pycharm": {
     "name": "#%%\n"
    }
   },
   "outputs": [
    {
     "name": "stdout",
     "output_type": "stream",
     "text": [
      " Testing  [==========] time remaining = 0.0 Accuracy =91.034Accuracy now equal --> 91.0336%\n"
     ]
    },
    {
     "data": {
      "text/plain": "(                              Mertic          Value\n 0                     processed rows  399058.000000\n 1  Model accuracy on Proceed Faces %      91.034000\n 2                     False Positive   17630.000000\n 3                     False Negative   18151.000000\n 4                          precision       0.911406\n 5                             recall       0.909026\n 6                        fbeta-score       0.484639\n 7           avg same person distance       5.829306\n 8           avg diff person distance      10.100322\n 9                    Model tolerance       7.550000,\n                  Actual True  Actual False\n Predicted True        181378         17630\n Predicted False        18151        181899)"
     },
     "execution_count": 98,
     "metadata": {},
     "output_type": "execute_result"
    }
   ],
   "source": [
    "evaluation.model_test(features_dict,test_data_pd,results_path=\"\",threshold=7.55)"
   ]
  },
  {
   "cell_type": "markdown",
   "source": [
    "## test from outside data"
   ],
   "metadata": {
    "collapsed": false,
    "pycharm": {
     "name": "#%% md\n"
    }
   }
  },
  {
   "cell_type": "code",
   "execution_count": null,
   "outputs": [],
   "source": [],
   "metadata": {
    "collapsed": false,
    "pycharm": {
     "name": "#%%\n"
    }
   }
  },
  {
   "cell_type": "markdown",
   "metadata": {
    "pycharm": {
     "name": "#%% md\n"
    }
   },
   "source": [
    "# Efficient-Facenet model train\n",
    "- the trained descriptor + classifier"
   ]
  },
  {
   "cell_type": "code",
   "execution_count": 4,
   "metadata": {
    "pycharm": {
     "name": "#%%\n"
    }
   },
   "outputs": [],
   "source": [
    "# descriptor_weights=\"../model_weights/training/05_26 18_02 Train_(0.022302) Test_(0.018650).pt\"\n",
    "descriptor_weights=\"../model_weights/training/05_31 23_30 Train_(0.024103) Test_(0.018524).pt\"\n",
    "effnet_weights_path=\"../model_weights/efficient_facenet\""
   ]
  },
  {
   "cell_type": "code",
   "execution_count": 5,
   "metadata": {
    "pycharm": {
     "name": "#%%\n"
    }
   },
   "outputs": [],
   "source": [
    "pair_train_dataset=data_load.FacesPairDataset(f\"{dataset_path}/train\",5000,train_transform)\n",
    "pair_test_dataset=data_load.FacesPairDataset(f\"{dataset_path}/test\",1000,test_transform)"
   ]
  },
  {
   "cell_type": "code",
   "execution_count": 6,
   "metadata": {
    "pycharm": {
     "name": "#%%\n"
    }
   },
   "outputs": [],
   "source": [
    "pair_train_loader=DataLoader(pair_train_dataset,64,shuffle=False)\n",
    "pair_test_loader=DataLoader(pair_test_dataset,64,shuffle=False)"
   ]
  },
  {
   "cell_type": "code",
   "execution_count": 34,
   "outputs": [],
   "source": [],
   "metadata": {
    "collapsed": false,
    "pycharm": {
     "name": "#%%\n"
    }
   }
  },
  {
   "cell_type": "code",
   "execution_count": 34,
   "outputs": [],
   "source": [],
   "metadata": {
    "collapsed": false,
    "pycharm": {
     "name": "#%%\n"
    }
   }
  },
  {
   "cell_type": "code",
   "execution_count": 8,
   "metadata": {
    "pycharm": {
     "name": "#%%\n"
    }
   },
   "outputs": [],
   "source": [
    "efficient_facenet=face_descriptor.EfficientFacenet(128,descriptor_weights)"
   ]
  },
  {
   "cell_type": "code",
   "execution_count": 32,
   "metadata": {
    "pycharm": {
     "name": "#%%\n"
    }
   },
   "outputs": [],
   "source": [
    "for i in range(4):\n",
    "    for param in efficient_facenet.descriptor.features[i]:\n",
    "        param.requires_grad=False"
   ]
  },
  {
   "cell_type": "code",
   "execution_count": 20,
   "outputs": [],
   "source": [
    "for param in efficient_facenet.parameters():\n",
    "    param.requires_grad=True"
   ],
   "metadata": {
    "collapsed": false,
    "pycharm": {
     "name": "#%%\n"
    }
   }
  },
  {
   "cell_type": "code",
   "execution_count": 9,
   "outputs": [],
   "source": [
    "for param in efficient_facenet.descriptor.parameters():\n",
    "    param.requires_grad=False"
   ],
   "metadata": {
    "collapsed": false,
    "pycharm": {
     "name": "#%%\n"
    }
   }
  },
  {
   "cell_type": "code",
   "execution_count": 11,
   "metadata": {
    "pycharm": {
     "name": "#%%\n"
    }
   },
   "outputs": [],
   "source": [
    "train_notes=\"efficient facenet classifier on full img_net photos , Relu activation before output layer and sigmoid at output layer\"\n",
    "model_weights_path=\"../model_weights/efficient_facenet\""
   ]
  },
  {
   "cell_type": "code",
   "execution_count": 73,
   "outputs": [],
   "source": [
    "efficient_facenet.load_local_weights(model_weights_path+\"/05_27 11_23 Train_(0.003062) Test_(0.002435).pt\")"
   ],
   "metadata": {
    "collapsed": false,
    "pycharm": {
     "name": "#%%\n"
    }
   }
  },
  {
   "cell_type": "code",
   "execution_count": 108,
   "outputs": [],
   "source": [
    "efficient_facenet.descriptor.load_local_weights(descriptor_weights)"
   ],
   "metadata": {
    "collapsed": false,
    "pycharm": {
     "name": "#%%\n"
    }
   }
  },
  {
   "cell_type": "code",
   "execution_count": 40,
   "outputs": [],
   "source": [
    "efficient_facenet=face_descriptor.EfficientFacenet(128,descriptor_weights)\n",
    "efficient_facenet.load_local_weights(model_weights_path+\"/05_27 11_23 Train_(0.003062) Test_(0.002435).pt\")\n",
    "efficient_facenet.descriptor=model"
   ],
   "metadata": {
    "collapsed": false,
    "pycharm": {
     "name": "#%%\n"
    }
   }
  },
  {
   "cell_type": "code",
   "execution_count": 12,
   "metadata": {
    "pycharm": {
     "name": "#%%\n"
    }
   },
   "outputs": [
    {
     "name": "stdout",
     "output_type": "stream",
     "text": [
      "Testing before training ...\n",
      " Testing  [==========] time remaining = 0.0 Avg Test_Loss=0.694854Test Loss before Training=0.7115307426452637\n",
      " epoch 1 [==========] time remaining = 0.0 Avg Train_Loss=0.61645216757\n",
      " Testing  [==========] time remaining = 0.0 Avg Test_Loss=0.50944205276\n",
      " epoch 1 train_loss =0.6233571617126464 test_loss=0.5216694755554199\n",
      "new minimum test loss 0.521669  achieved, model weights saved \n",
      " epoch 2 [==========] time remaining = 0.0 Avg Train_Loss=0.54214542085\n",
      " Testing  [==========] time remaining = 0.0 Avg Test_Loss=0.46185961730\n",
      " epoch 2 train_loss =0.5482178268432617 test_loss=0.47294405364990233\n",
      "new minimum test loss 0.472944  achieved, model weights saved \n",
      " epoch 3 [==========] time remaining = 0.0 Avg Train_Loss=0.50915410015\n",
      " Testing  [==========] time remaining = 0.0 Avg Test_Loss=0.47202872003\n",
      " epoch 3 train_loss =0.5148574687957763 test_loss=0.48335670852661133\n",
      " epoch 4 [==========] time remaining = 0.0 Avg Train_Loss=0.47795479245\n",
      " Testing  [==========] time remaining = 0.0 Avg Test_Loss=0.41430115661\n",
      " epoch 4 train_loss =0.4833074253082275 test_loss=0.4242447109222412\n",
      "new minimum test loss 0.424244  achieved, model weights saved \n",
      " epoch 5 [==========] time remaining = 0.0 Avg Train_Loss=0.46207265853\n",
      " Testing  [==========] time remaining = 0.0 Avg Test_Loss=0.34115545326\n",
      " epoch 5 train_loss =0.467248105430603 test_loss=0.34934354400634765\n",
      "new minimum test loss 0.349343  achieved, model weights saved \n",
      " epoch 6 [==========] time remaining = 0.0 Avg Train_Loss=0.45308252278\n",
      " Testing  [==========] time remaining = 0.0 Avg Test_Loss=0.37745373547\n",
      " epoch 6 train_loss =0.45815713272094727 test_loss=0.38651275253295897\n",
      " epoch 7 [==========] time remaining = 0.0 Avg Train_Loss=0.44353740198\n",
      " Testing  [==========] time remaining = 0.0 Avg Test_Loss=0.36988866258\n",
      " epoch 7 train_loss =0.4485046997070313 test_loss=0.3787656478881836\n",
      " epoch 8 [==========] time remaining = 0.0 Avg Train_Loss=0.43491336138\n",
      " Testing  [==========] time remaining = 0.0 Avg Test_Loss=0.34544636724\n",
      " epoch 8 train_loss =0.43978425369262697 test_loss=0.3537370357513428\n",
      " epoch 9 [==========] time remaining = 0.0 Avg Train_Loss=0.43203830715\n",
      " Testing  [==========] time remaining = 0.0 Avg Test_Loss=0.33090029954\n",
      " epoch 9 train_loss =0.4368768581390381 test_loss=0.33884176540374755\n",
      "new minimum test loss 0.338841  achieved, model weights saved \n",
      " epoch 10 [..........] time remaining = 0.995401 Avg Train_Loss=0.437542"
     ]
    },
    {
     "ename": "KeyboardInterrupt",
     "evalue": "",
     "output_type": "error",
     "traceback": [
      "\u001B[1;31m---------------------------------------------------------------------------\u001B[0m",
      "\u001B[1;31mKeyboardInterrupt\u001B[0m                         Traceback (most recent call last)",
      "Input \u001B[1;32mIn [12]\u001B[0m, in \u001B[0;36m<cell line: 1>\u001B[1;34m()\u001B[0m\n\u001B[1;32m----> 1\u001B[0m \u001B[43mmodels_train\u001B[49m\u001B[38;5;241;43m.\u001B[39;49m\u001B[43mmodel_train\u001B[49m\u001B[43m(\u001B[49m\u001B[43mefficient_facenet\u001B[49m\u001B[43m,\u001B[49m\u001B[38;5;241;43m100\u001B[39;49m\u001B[43m,\u001B[49m\u001B[38;5;241;43m0.001\u001B[39;49m\u001B[43m,\u001B[49m\u001B[43mpair_train_loader\u001B[49m\u001B[43m,\u001B[49m\u001B[43mpair_test_loader\u001B[49m\u001B[43m,\u001B[49m\u001B[38;5;124;43m\"\u001B[39;49m\u001B[38;5;124;43mpair\u001B[39;49m\u001B[38;5;124;43m\"\u001B[39;49m\u001B[43m,\u001B[49m\u001B[43mcuda\u001B[49m\u001B[38;5;241;43m=\u001B[39;49m\u001B[38;5;28;43;01mTrue\u001B[39;49;00m\u001B[43m,\u001B[49m\u001B[43mweight_saving_path\u001B[49m\u001B[38;5;241;43m=\u001B[39;49m\u001B[43mmodel_weights_path\u001B[49m\u001B[43m,\u001B[49m\u001B[43mepoch_data_saving_path\u001B[49m\u001B[38;5;241;43m=\u001B[39;49m\u001B[43mtrain_data_save_path\u001B[49m\u001B[43m,\u001B[49m\u001B[43mnotes\u001B[49m\u001B[38;5;241;43m=\u001B[39;49m\u001B[43mtrain_notes\u001B[49m\u001B[43m)\u001B[49m\n",
      "File \u001B[1;32mC:\\graduation_project\\efficient-facenet\\src\\efficentnet_train\\models_train.py:97\u001B[0m, in \u001B[0;36mmodel_train\u001B[1;34m(model, epochs, learn_rate, train_loader, test_loader, train_mod, cuda, weight_saving_path, epoch_data_saving_path, notes, **kwargs)\u001B[0m\n\u001B[0;32m     95\u001B[0m \u001B[38;5;28;01melif\u001B[39;00m train_mod \u001B[38;5;241m==\u001B[39m \u001B[38;5;124m\"\u001B[39m\u001B[38;5;124mpair\u001B[39m\u001B[38;5;124m\"\u001B[39m:\n\u001B[0;32m     96\u001B[0m     face_x, face_y, label \u001B[38;5;241m=\u001B[39m data\n\u001B[1;32m---> 97\u001B[0m     loss_sum \u001B[38;5;241m+\u001B[39m\u001B[38;5;241m=\u001B[39m \u001B[43mpair_train_step\u001B[49m\u001B[43m(\u001B[49m\u001B[43mmodel\u001B[49m\u001B[43m,\u001B[49m\u001B[43m \u001B[49m\u001B[43moptimizer\u001B[49m\u001B[43m,\u001B[49m\u001B[43m \u001B[49m\u001B[43mloss_function\u001B[49m\u001B[43m,\u001B[49m\u001B[43m \u001B[49m\u001B[43mface_x\u001B[49m\u001B[43m,\u001B[49m\u001B[43m \u001B[49m\u001B[43mface_y\u001B[49m\u001B[43m,\u001B[49m\u001B[43m \u001B[49m\u001B[43mlabel\u001B[49m\u001B[43m,\u001B[49m\u001B[43m \u001B[49m\u001B[43mcuda\u001B[49m\u001B[43m)\u001B[49m\u001B[38;5;241m*\u001B[39mbatch_size\n\u001B[0;32m     98\u001B[0m \u001B[38;5;28;01melse\u001B[39;00m:\n\u001B[0;32m     99\u001B[0m     \u001B[38;5;28;01mraise\u001B[39;00m \u001B[38;5;167;01mValueError\u001B[39;00m(\u001B[38;5;124m\"\u001B[39m\u001B[38;5;124minvalid train mod\u001B[39m\u001B[38;5;124m\"\u001B[39m)\n",
      "File \u001B[1;32mC:\\graduation_project\\efficient-facenet\\src\\efficentnet_train\\models_train.py:216\u001B[0m, in \u001B[0;36mpair_train_step\u001B[1;34m(model, optimizer, loss_function, face_x, face_y, label, cuda)\u001B[0m\n\u001B[0;32m    214\u001B[0m loss\u001B[38;5;241m.\u001B[39mbackward()\n\u001B[0;32m    215\u001B[0m optimizer\u001B[38;5;241m.\u001B[39mstep()\n\u001B[1;32m--> 216\u001B[0m \u001B[38;5;28;01mreturn\u001B[39;00m \u001B[38;5;28;43mfloat\u001B[39;49m\u001B[43m(\u001B[49m\u001B[43mloss\u001B[49m\u001B[43m)\u001B[49m\n",
      "\u001B[1;31mKeyboardInterrupt\u001B[0m: "
     ]
    }
   ],
   "source": [
    "models_train.model_train(efficient_facenet,100,0.001,pair_train_loader,pair_test_loader,\"pair\",cuda=True,weight_saving_path=model_weights_path,epoch_data_saving_path=train_data_save_path,notes=train_notes)"
   ]
  },
  {
   "cell_type": "code",
   "execution_count": 13,
   "metadata": {
    "pycharm": {
     "name": "#%%\n"
    }
   },
   "outputs": [],
   "source": [
    "efficient_facenet.load_local_weights(get_last_weights_path(effnet_weights_path),True)"
   ]
  },
  {
   "cell_type": "code",
   "execution_count": 15,
   "metadata": {
    "pycharm": {
     "name": "#%%\n"
    }
   },
   "outputs": [
    {
     "name": "stdout",
     "output_type": "stream",
     "text": [
      " data processed [==========] time remaing=-0.00"
     ]
    }
   ],
   "source": [
    "celeb_subset_data_path=\"../dataset/preprocessed/img_celeb_test\"\n",
    "imgs_features_dict=data_load.get_pic_features_dict(celeb_subset_data_path,model=efficient_facenet.descriptor,transform=test_transform,cuda=True,batch_size=10)"
   ]
  },
  {
   "cell_type": "code",
   "execution_count": 48,
   "outputs": [],
   "source": [
    "\n",
    "imgs_features_dict=utils.load_dict_from_json(\"face_features.json\")"
   ],
   "metadata": {
    "collapsed": false,
    "pycharm": {
     "name": "#%%\n"
    }
   }
  },
  {
   "cell_type": "code",
   "execution_count": 111,
   "outputs": [],
   "source": [
    "imgs_features_dict=features_dict"
   ],
   "metadata": {
    "collapsed": false,
    "pycharm": {
     "name": "#%%\n"
    }
   }
  },
  {
   "cell_type": "code",
   "execution_count": 15,
   "metadata": {
    "pycharm": {
     "name": "#%%\n"
    }
   },
   "outputs": [],
   "source": [
    "utils.save_dict_to_json(\"lfw_face_features.json\",imgs_features_dict)\n"
   ]
  },
  {
   "cell_type": "code",
   "execution_count": 11,
   "metadata": {
    "pycharm": {
     "name": "#%%\n"
    }
   },
   "outputs": [],
   "source": [
    "imgs_features_dict=utils.load_dict_from_json(\"face_features.json\")"
   ]
  },
  {
   "cell_type": "code",
   "execution_count": 16,
   "metadata": {
    "pycharm": {
     "name": "#%%\n"
    }
   },
   "outputs": [],
   "source": [
    "full_test_data_pd=pd.DataFrame(generate_dataset.generate_testing_data_set_frame(img_celeb_subset,False))"
   ]
  },
  {
   "cell_type": "code",
   "execution_count": null,
   "metadata": {
    "pycharm": {
     "name": "#%%\n"
    }
   },
   "outputs": [],
   "source": [
    "efficient_facenet.cuda()"
   ]
  },
  {
   "cell_type": "code",
   "execution_count": 32,
   "outputs": [],
   "source": [
    "full_test_data_pd=full_test_data_pd.sample(frac=1)\n",
    "test_data_pd=full_test_data_pd[:9000]"
   ],
   "metadata": {
    "collapsed": false,
    "pycharm": {
     "name": "#%%\n"
    }
   }
  },
  {
   "cell_type": "code",
   "execution_count": 33,
   "metadata": {
    "pycharm": {
     "name": "#%%\n"
    }
   },
   "outputs": [
    {
     "name": "stdout",
     "output_type": "stream",
     "text": [
      " Testing  [==========] time remaining = 0.0 Accuracy =84.533Accuracy now equal --> 84.5333%\n"
     ]
    }
   ],
   "source": [
    "error_table, confusion_table=evaluation.model_test(imgs_features_dict,test_data_pd,results_path=\"\",threshold=0.7,classifier=efficient_facenet.classify_face_features,cuda=True)"
   ]
  },
  {
   "cell_type": "code",
   "execution_count": 31,
   "outputs": [
    {
     "data": {
      "text/plain": "                              Mertic         Value\n0                     processed rows        1000.0\n1  Model accuracy on Proceed Faces %          83.2\n2                     False Positive            84\n3                     False Negative            84\n4                          precision      0.830339\n5                             recall      0.830339\n6                        fbeta-score      0.422896\n7           avg same person distance  [0.76855516]\n8           avg diff person distance   [0.2861738]\n9                    Model tolerance           0.7",
      "text/html": "<div>\n<style scoped>\n    .dataframe tbody tr th:only-of-type {\n        vertical-align: middle;\n    }\n\n    .dataframe tbody tr th {\n        vertical-align: top;\n    }\n\n    .dataframe thead th {\n        text-align: right;\n    }\n</style>\n<table border=\"1\" class=\"dataframe\">\n  <thead>\n    <tr style=\"text-align: right;\">\n      <th></th>\n      <th>Mertic</th>\n      <th>Value</th>\n    </tr>\n  </thead>\n  <tbody>\n    <tr>\n      <th>0</th>\n      <td>processed rows</td>\n      <td>1000.0</td>\n    </tr>\n    <tr>\n      <th>1</th>\n      <td>Model accuracy on Proceed Faces %</td>\n      <td>83.2</td>\n    </tr>\n    <tr>\n      <th>2</th>\n      <td>False Positive</td>\n      <td>84</td>\n    </tr>\n    <tr>\n      <th>3</th>\n      <td>False Negative</td>\n      <td>84</td>\n    </tr>\n    <tr>\n      <th>4</th>\n      <td>precision</td>\n      <td>0.830339</td>\n    </tr>\n    <tr>\n      <th>5</th>\n      <td>recall</td>\n      <td>0.830339</td>\n    </tr>\n    <tr>\n      <th>6</th>\n      <td>fbeta-score</td>\n      <td>0.422896</td>\n    </tr>\n    <tr>\n      <th>7</th>\n      <td>avg same person distance</td>\n      <td>[0.76855516]</td>\n    </tr>\n    <tr>\n      <th>8</th>\n      <td>avg diff person distance</td>\n      <td>[0.2861738]</td>\n    </tr>\n    <tr>\n      <th>9</th>\n      <td>Model tolerance</td>\n      <td>0.7</td>\n    </tr>\n  </tbody>\n</table>\n</div>"
     },
     "execution_count": 31,
     "metadata": {},
     "output_type": "execute_result"
    }
   ],
   "source": [
    "error_table"
   ],
   "metadata": {
    "collapsed": false,
    "pycharm": {
     "name": "#%%\n"
    }
   }
  },
  {
   "cell_type": "code",
   "execution_count": 75,
   "outputs": [
    {
     "data": {
      "text/plain": "                              Mertic         Value\n0                     processed rows       10000.0\n1  Model accuracy on Proceed Faces %         85.29\n2                     False Positive           765\n3                     False Negative           706\n4                          precision      0.850186\n5                             recall      0.860111\n6                        fbeta-score      0.441012\n7           avg same person distance  [0.77617145]\n8           avg diff person distance  [0.28642783]\n9                    Model tolerance          0.65",
      "text/html": "<div>\n<style scoped>\n    .dataframe tbody tr th:only-of-type {\n        vertical-align: middle;\n    }\n\n    .dataframe tbody tr th {\n        vertical-align: top;\n    }\n\n    .dataframe thead th {\n        text-align: right;\n    }\n</style>\n<table border=\"1\" class=\"dataframe\">\n  <thead>\n    <tr style=\"text-align: right;\">\n      <th></th>\n      <th>Mertic</th>\n      <th>Value</th>\n    </tr>\n  </thead>\n  <tbody>\n    <tr>\n      <th>0</th>\n      <td>processed rows</td>\n      <td>10000.0</td>\n    </tr>\n    <tr>\n      <th>1</th>\n      <td>Model accuracy on Proceed Faces %</td>\n      <td>85.29</td>\n    </tr>\n    <tr>\n      <th>2</th>\n      <td>False Positive</td>\n      <td>765</td>\n    </tr>\n    <tr>\n      <th>3</th>\n      <td>False Negative</td>\n      <td>706</td>\n    </tr>\n    <tr>\n      <th>4</th>\n      <td>precision</td>\n      <td>0.850186</td>\n    </tr>\n    <tr>\n      <th>5</th>\n      <td>recall</td>\n      <td>0.860111</td>\n    </tr>\n    <tr>\n      <th>6</th>\n      <td>fbeta-score</td>\n      <td>0.441012</td>\n    </tr>\n    <tr>\n      <th>7</th>\n      <td>avg same person distance</td>\n      <td>[0.77617145]</td>\n    </tr>\n    <tr>\n      <th>8</th>\n      <td>avg diff person distance</td>\n      <td>[0.28642783]</td>\n    </tr>\n    <tr>\n      <th>9</th>\n      <td>Model tolerance</td>\n      <td>0.65</td>\n    </tr>\n  </tbody>\n</table>\n</div>"
     },
     "execution_count": 75,
     "metadata": {},
     "output_type": "execute_result"
    }
   ],
   "source": [
    "error_table"
   ],
   "metadata": {
    "collapsed": false,
    "pycharm": {
     "name": "#%%\n"
    }
   }
  },
  {
   "cell_type": "code",
   "execution_count": 68,
   "outputs": [
    {
     "data": {
      "text/plain": "                              Mertic         Value\n0                     processed rows       10000.0\n1  Model accuracy on Proceed Faces %         85.59\n2                     False Positive           923\n3                     False Negative           518\n4                          precision      0.829079\n5                             recall      0.896221\n6                        fbeta-score       0.44155\n7           avg same person distance   [0.7575226]\n8           avg diff person distance  [0.28016078]\n9                    Model tolerance          0.57",
      "text/html": "<div>\n<style scoped>\n    .dataframe tbody tr th:only-of-type {\n        vertical-align: middle;\n    }\n\n    .dataframe tbody tr th {\n        vertical-align: top;\n    }\n\n    .dataframe thead th {\n        text-align: right;\n    }\n</style>\n<table border=\"1\" class=\"dataframe\">\n  <thead>\n    <tr style=\"text-align: right;\">\n      <th></th>\n      <th>Mertic</th>\n      <th>Value</th>\n    </tr>\n  </thead>\n  <tbody>\n    <tr>\n      <th>0</th>\n      <td>processed rows</td>\n      <td>10000.0</td>\n    </tr>\n    <tr>\n      <th>1</th>\n      <td>Model accuracy on Proceed Faces %</td>\n      <td>85.59</td>\n    </tr>\n    <tr>\n      <th>2</th>\n      <td>False Positive</td>\n      <td>923</td>\n    </tr>\n    <tr>\n      <th>3</th>\n      <td>False Negative</td>\n      <td>518</td>\n    </tr>\n    <tr>\n      <th>4</th>\n      <td>precision</td>\n      <td>0.829079</td>\n    </tr>\n    <tr>\n      <th>5</th>\n      <td>recall</td>\n      <td>0.896221</td>\n    </tr>\n    <tr>\n      <th>6</th>\n      <td>fbeta-score</td>\n      <td>0.44155</td>\n    </tr>\n    <tr>\n      <th>7</th>\n      <td>avg same person distance</td>\n      <td>[0.7575226]</td>\n    </tr>\n    <tr>\n      <th>8</th>\n      <td>avg diff person distance</td>\n      <td>[0.28016078]</td>\n    </tr>\n    <tr>\n      <th>9</th>\n      <td>Model tolerance</td>\n      <td>0.57</td>\n    </tr>\n  </tbody>\n</table>\n</div>"
     },
     "execution_count": 68,
     "metadata": {},
     "output_type": "execute_result"
    }
   ],
   "source": [
    "error_table"
   ],
   "metadata": {
    "collapsed": false,
    "pycharm": {
     "name": "#%%\n"
    }
   }
  },
  {
   "cell_type": "code",
   "execution_count": 85,
   "outputs": [
    {
     "data": {
      "text/plain": "                              Mertic         Value\n0                     processed rows       10000.0\n1  Model accuracy on Proceed Faces %         86.31\n2                     False Positive           848\n3                     False Negative           521\n4                          precision      0.840653\n5                             recall      0.895621\n6                        fbeta-score      0.446928\n7           avg same person distance  [0.76668626]\n8           avg diff person distance  [0.22067705]\n9                    Model tolerance          0.56",
      "text/html": "<div>\n<style scoped>\n    .dataframe tbody tr th:only-of-type {\n        vertical-align: middle;\n    }\n\n    .dataframe tbody tr th {\n        vertical-align: top;\n    }\n\n    .dataframe thead th {\n        text-align: right;\n    }\n</style>\n<table border=\"1\" class=\"dataframe\">\n  <thead>\n    <tr style=\"text-align: right;\">\n      <th></th>\n      <th>Mertic</th>\n      <th>Value</th>\n    </tr>\n  </thead>\n  <tbody>\n    <tr>\n      <th>0</th>\n      <td>processed rows</td>\n      <td>10000.0</td>\n    </tr>\n    <tr>\n      <th>1</th>\n      <td>Model accuracy on Proceed Faces %</td>\n      <td>86.31</td>\n    </tr>\n    <tr>\n      <th>2</th>\n      <td>False Positive</td>\n      <td>848</td>\n    </tr>\n    <tr>\n      <th>3</th>\n      <td>False Negative</td>\n      <td>521</td>\n    </tr>\n    <tr>\n      <th>4</th>\n      <td>precision</td>\n      <td>0.840653</td>\n    </tr>\n    <tr>\n      <th>5</th>\n      <td>recall</td>\n      <td>0.895621</td>\n    </tr>\n    <tr>\n      <th>6</th>\n      <td>fbeta-score</td>\n      <td>0.446928</td>\n    </tr>\n    <tr>\n      <th>7</th>\n      <td>avg same person distance</td>\n      <td>[0.76668626]</td>\n    </tr>\n    <tr>\n      <th>8</th>\n      <td>avg diff person distance</td>\n      <td>[0.22067705]</td>\n    </tr>\n    <tr>\n      <th>9</th>\n      <td>Model tolerance</td>\n      <td>0.56</td>\n    </tr>\n  </tbody>\n</table>\n</div>"
     },
     "execution_count": 85,
     "metadata": {},
     "output_type": "execute_result"
    }
   ],
   "source": [
    "error_table"
   ],
   "metadata": {
    "collapsed": false,
    "pycharm": {
     "name": "#%%\n"
    }
   }
  },
  {
   "cell_type": "code",
   "execution_count": 86,
   "outputs": [
    {
     "data": {
      "text/plain": "                 Actual True  Actual False\nPredicted True          4479           848\nPredicted False          521          4152",
      "text/html": "<div>\n<style scoped>\n    .dataframe tbody tr th:only-of-type {\n        vertical-align: middle;\n    }\n\n    .dataframe tbody tr th {\n        vertical-align: top;\n    }\n\n    .dataframe thead th {\n        text-align: right;\n    }\n</style>\n<table border=\"1\" class=\"dataframe\">\n  <thead>\n    <tr style=\"text-align: right;\">\n      <th></th>\n      <th>Actual True</th>\n      <th>Actual False</th>\n    </tr>\n  </thead>\n  <tbody>\n    <tr>\n      <th>Predicted True</th>\n      <td>4479</td>\n      <td>848</td>\n    </tr>\n    <tr>\n      <th>Predicted False</th>\n      <td>521</td>\n      <td>4152</td>\n    </tr>\n  </tbody>\n</table>\n</div>"
     },
     "execution_count": 86,
     "metadata": {},
     "output_type": "execute_result"
    }
   ],
   "source": [
    "confusion_table"
   ],
   "metadata": {
    "collapsed": false,
    "pycharm": {
     "name": "#%%\n"
    }
   }
  },
  {
   "cell_type": "code",
   "execution_count": 14,
   "metadata": {
    "pycharm": {
     "name": "#%%\n"
    }
   },
   "outputs": [],
   "source": [
    "import torch\n",
    "x=torch.tensor([1,2])\n",
    "y=[1,2]"
   ]
  },
  {
   "cell_type": "code",
   "execution_count": 16,
   "metadata": {
    "pycharm": {
     "name": "#%%\n"
    }
   },
   "outputs": [
    {
     "name": "stdout",
     "output_type": "stream",
     "text": [
      "False\n"
     ]
    }
   ],
   "source": [
    "print(isinstance(y,torch.Tensor))"
   ]
  },
  {
   "cell_type": "code",
   "execution_count": 17,
   "metadata": {
    "pycharm": {
     "name": "#%%\n"
    }
   },
   "outputs": [
    {
     "data": {
      "text/plain": [
       "array([1, 2], dtype=int64)"
      ]
     },
     "execution_count": 17,
     "metadata": {},
     "output_type": "execute_result"
    }
   ],
   "source": [
    "x.numpy()"
   ]
  },
  {
   "cell_type": "code",
   "execution_count": 34,
   "metadata": {
    "pycharm": {
     "name": "#%%\n"
    }
   },
   "outputs": [
    {
     "data": {
      "text/html": [
       "<div>\n",
       "<style scoped>\n",
       "    .dataframe tbody tr th:only-of-type {\n",
       "        vertical-align: middle;\n",
       "    }\n",
       "\n",
       "    .dataframe tbody tr th {\n",
       "        vertical-align: top;\n",
       "    }\n",
       "\n",
       "    .dataframe thead th {\n",
       "        text-align: right;\n",
       "    }\n",
       "</style>\n",
       "<table border=\"1\" class=\"dataframe\">\n",
       "  <thead>\n",
       "    <tr style=\"text-align: right;\">\n",
       "      <th></th>\n",
       "      <th>0</th>\n",
       "      <th>1</th>\n",
       "      <th>2</th>\n",
       "    </tr>\n",
       "  </thead>\n",
       "  <tbody>\n",
       "    <tr>\n",
       "      <th>0</th>\n",
       "      <td>9236/042921.jpg</td>\n",
       "      <td>9236/052346.jpg</td>\n",
       "      <td>1</td>\n",
       "    </tr>\n",
       "    <tr>\n",
       "      <th>1</th>\n",
       "      <td>9236/042921.jpg</td>\n",
       "      <td>8647/101929.jpg</td>\n",
       "      <td>0</td>\n",
       "    </tr>\n",
       "    <tr>\n",
       "      <th>2</th>\n",
       "      <td>9236/042921.jpg</td>\n",
       "      <td>9236/071430.jpg</td>\n",
       "      <td>1</td>\n",
       "    </tr>\n",
       "    <tr>\n",
       "      <th>3</th>\n",
       "      <td>9236/042921.jpg</td>\n",
       "      <td>281/129193.jpg</td>\n",
       "      <td>0</td>\n",
       "    </tr>\n",
       "    <tr>\n",
       "      <th>4</th>\n",
       "      <td>9236/042921.jpg</td>\n",
       "      <td>9236/082375.jpg</td>\n",
       "      <td>1</td>\n",
       "    </tr>\n",
       "  </tbody>\n",
       "</table>\n",
       "</div>"
      ],
      "text/plain": [
       "                 0                1  2\n",
       "0  9236/042921.jpg  9236/052346.jpg  1\n",
       "1  9236/042921.jpg  8647/101929.jpg  0\n",
       "2  9236/042921.jpg  9236/071430.jpg  1\n",
       "3  9236/042921.jpg   281/129193.jpg  0\n",
       "4  9236/042921.jpg  9236/082375.jpg  1"
      ]
     },
     "execution_count": 34,
     "metadata": {},
     "output_type": "execute_result"
    }
   ],
   "source": [
    "test_data_pd.head()"
   ]
  },
  {
   "cell_type": "code",
   "execution_count": 72,
   "outputs": [
    {
     "data": {
      "text/plain": "EfficientFacenet(\n  (descriptor): FaceDescriptorModel(\n    (features): Sequential(\n      (0): ConvNormActivation(\n        (0): Conv2d(3, 32, kernel_size=(3, 3), stride=(2, 2), padding=(1, 1), bias=False)\n        (1): BatchNorm2d(32, eps=1e-05, momentum=0.1, affine=True, track_running_stats=True)\n        (2): SiLU(inplace=True)\n      )\n      (1): Sequential(\n        (0): MBConv(\n          (block): Sequential(\n            (0): ConvNormActivation(\n              (0): Conv2d(32, 32, kernel_size=(3, 3), stride=(1, 1), padding=(1, 1), groups=32, bias=False)\n              (1): BatchNorm2d(32, eps=1e-05, momentum=0.1, affine=True, track_running_stats=True)\n              (2): SiLU(inplace=True)\n            )\n            (1): SqueezeExcitation(\n              (avgpool): AdaptiveAvgPool2d(output_size=1)\n              (fc1): Conv2d(32, 8, kernel_size=(1, 1), stride=(1, 1))\n              (fc2): Conv2d(8, 32, kernel_size=(1, 1), stride=(1, 1))\n              (activation): SiLU(inplace=True)\n              (scale_activation): Sigmoid()\n            )\n            (2): ConvNormActivation(\n              (0): Conv2d(32, 16, kernel_size=(1, 1), stride=(1, 1), bias=False)\n              (1): BatchNorm2d(16, eps=1e-05, momentum=0.1, affine=True, track_running_stats=True)\n            )\n          )\n          (stochastic_depth): StochasticDepth(p=0.0, mode=row)\n        )\n        (1): MBConv(\n          (block): Sequential(\n            (0): ConvNormActivation(\n              (0): Conv2d(16, 16, kernel_size=(3, 3), stride=(1, 1), padding=(1, 1), groups=16, bias=False)\n              (1): BatchNorm2d(16, eps=1e-05, momentum=0.1, affine=True, track_running_stats=True)\n              (2): SiLU(inplace=True)\n            )\n            (1): SqueezeExcitation(\n              (avgpool): AdaptiveAvgPool2d(output_size=1)\n              (fc1): Conv2d(16, 4, kernel_size=(1, 1), stride=(1, 1))\n              (fc2): Conv2d(4, 16, kernel_size=(1, 1), stride=(1, 1))\n              (activation): SiLU(inplace=True)\n              (scale_activation): Sigmoid()\n            )\n            (2): ConvNormActivation(\n              (0): Conv2d(16, 16, kernel_size=(1, 1), stride=(1, 1), bias=False)\n              (1): BatchNorm2d(16, eps=1e-05, momentum=0.1, affine=True, track_running_stats=True)\n            )\n          )\n          (stochastic_depth): StochasticDepth(p=0.008695652173913044, mode=row)\n        )\n      )\n      (2): Sequential(\n        (0): MBConv(\n          (block): Sequential(\n            (0): ConvNormActivation(\n              (0): Conv2d(16, 96, kernel_size=(1, 1), stride=(1, 1), bias=False)\n              (1): BatchNorm2d(96, eps=1e-05, momentum=0.1, affine=True, track_running_stats=True)\n              (2): SiLU(inplace=True)\n            )\n            (1): ConvNormActivation(\n              (0): Conv2d(96, 96, kernel_size=(3, 3), stride=(2, 2), padding=(1, 1), groups=96, bias=False)\n              (1): BatchNorm2d(96, eps=1e-05, momentum=0.1, affine=True, track_running_stats=True)\n              (2): SiLU(inplace=True)\n            )\n            (2): SqueezeExcitation(\n              (avgpool): AdaptiveAvgPool2d(output_size=1)\n              (fc1): Conv2d(96, 4, kernel_size=(1, 1), stride=(1, 1))\n              (fc2): Conv2d(4, 96, kernel_size=(1, 1), stride=(1, 1))\n              (activation): SiLU(inplace=True)\n              (scale_activation): Sigmoid()\n            )\n            (3): ConvNormActivation(\n              (0): Conv2d(96, 24, kernel_size=(1, 1), stride=(1, 1), bias=False)\n              (1): BatchNorm2d(24, eps=1e-05, momentum=0.1, affine=True, track_running_stats=True)\n            )\n          )\n          (stochastic_depth): StochasticDepth(p=0.017391304347826087, mode=row)\n        )\n        (1): MBConv(\n          (block): Sequential(\n            (0): ConvNormActivation(\n              (0): Conv2d(24, 144, kernel_size=(1, 1), stride=(1, 1), bias=False)\n              (1): BatchNorm2d(144, eps=1e-05, momentum=0.1, affine=True, track_running_stats=True)\n              (2): SiLU(inplace=True)\n            )\n            (1): ConvNormActivation(\n              (0): Conv2d(144, 144, kernel_size=(3, 3), stride=(1, 1), padding=(1, 1), groups=144, bias=False)\n              (1): BatchNorm2d(144, eps=1e-05, momentum=0.1, affine=True, track_running_stats=True)\n              (2): SiLU(inplace=True)\n            )\n            (2): SqueezeExcitation(\n              (avgpool): AdaptiveAvgPool2d(output_size=1)\n              (fc1): Conv2d(144, 6, kernel_size=(1, 1), stride=(1, 1))\n              (fc2): Conv2d(6, 144, kernel_size=(1, 1), stride=(1, 1))\n              (activation): SiLU(inplace=True)\n              (scale_activation): Sigmoid()\n            )\n            (3): ConvNormActivation(\n              (0): Conv2d(144, 24, kernel_size=(1, 1), stride=(1, 1), bias=False)\n              (1): BatchNorm2d(24, eps=1e-05, momentum=0.1, affine=True, track_running_stats=True)\n            )\n          )\n          (stochastic_depth): StochasticDepth(p=0.026086956521739136, mode=row)\n        )\n        (2): MBConv(\n          (block): Sequential(\n            (0): ConvNormActivation(\n              (0): Conv2d(24, 144, kernel_size=(1, 1), stride=(1, 1), bias=False)\n              (1): BatchNorm2d(144, eps=1e-05, momentum=0.1, affine=True, track_running_stats=True)\n              (2): SiLU(inplace=True)\n            )\n            (1): ConvNormActivation(\n              (0): Conv2d(144, 144, kernel_size=(3, 3), stride=(1, 1), padding=(1, 1), groups=144, bias=False)\n              (1): BatchNorm2d(144, eps=1e-05, momentum=0.1, affine=True, track_running_stats=True)\n              (2): SiLU(inplace=True)\n            )\n            (2): SqueezeExcitation(\n              (avgpool): AdaptiveAvgPool2d(output_size=1)\n              (fc1): Conv2d(144, 6, kernel_size=(1, 1), stride=(1, 1))\n              (fc2): Conv2d(6, 144, kernel_size=(1, 1), stride=(1, 1))\n              (activation): SiLU(inplace=True)\n              (scale_activation): Sigmoid()\n            )\n            (3): ConvNormActivation(\n              (0): Conv2d(144, 24, kernel_size=(1, 1), stride=(1, 1), bias=False)\n              (1): BatchNorm2d(24, eps=1e-05, momentum=0.1, affine=True, track_running_stats=True)\n            )\n          )\n          (stochastic_depth): StochasticDepth(p=0.034782608695652174, mode=row)\n        )\n      )\n      (3): Sequential(\n        (0): MBConv(\n          (block): Sequential(\n            (0): ConvNormActivation(\n              (0): Conv2d(24, 144, kernel_size=(1, 1), stride=(1, 1), bias=False)\n              (1): BatchNorm2d(144, eps=1e-05, momentum=0.1, affine=True, track_running_stats=True)\n              (2): SiLU(inplace=True)\n            )\n            (1): ConvNormActivation(\n              (0): Conv2d(144, 144, kernel_size=(5, 5), stride=(2, 2), padding=(2, 2), groups=144, bias=False)\n              (1): BatchNorm2d(144, eps=1e-05, momentum=0.1, affine=True, track_running_stats=True)\n              (2): SiLU(inplace=True)\n            )\n            (2): SqueezeExcitation(\n              (avgpool): AdaptiveAvgPool2d(output_size=1)\n              (fc1): Conv2d(144, 6, kernel_size=(1, 1), stride=(1, 1))\n              (fc2): Conv2d(6, 144, kernel_size=(1, 1), stride=(1, 1))\n              (activation): SiLU(inplace=True)\n              (scale_activation): Sigmoid()\n            )\n            (3): ConvNormActivation(\n              (0): Conv2d(144, 40, kernel_size=(1, 1), stride=(1, 1), bias=False)\n              (1): BatchNorm2d(40, eps=1e-05, momentum=0.1, affine=True, track_running_stats=True)\n            )\n          )\n          (stochastic_depth): StochasticDepth(p=0.043478260869565216, mode=row)\n        )\n        (1): MBConv(\n          (block): Sequential(\n            (0): ConvNormActivation(\n              (0): Conv2d(40, 240, kernel_size=(1, 1), stride=(1, 1), bias=False)\n              (1): BatchNorm2d(240, eps=1e-05, momentum=0.1, affine=True, track_running_stats=True)\n              (2): SiLU(inplace=True)\n            )\n            (1): ConvNormActivation(\n              (0): Conv2d(240, 240, kernel_size=(5, 5), stride=(1, 1), padding=(2, 2), groups=240, bias=False)\n              (1): BatchNorm2d(240, eps=1e-05, momentum=0.1, affine=True, track_running_stats=True)\n              (2): SiLU(inplace=True)\n            )\n            (2): SqueezeExcitation(\n              (avgpool): AdaptiveAvgPool2d(output_size=1)\n              (fc1): Conv2d(240, 10, kernel_size=(1, 1), stride=(1, 1))\n              (fc2): Conv2d(10, 240, kernel_size=(1, 1), stride=(1, 1))\n              (activation): SiLU(inplace=True)\n              (scale_activation): Sigmoid()\n            )\n            (3): ConvNormActivation(\n              (0): Conv2d(240, 40, kernel_size=(1, 1), stride=(1, 1), bias=False)\n              (1): BatchNorm2d(40, eps=1e-05, momentum=0.1, affine=True, track_running_stats=True)\n            )\n          )\n          (stochastic_depth): StochasticDepth(p=0.05217391304347827, mode=row)\n        )\n        (2): MBConv(\n          (block): Sequential(\n            (0): ConvNormActivation(\n              (0): Conv2d(40, 240, kernel_size=(1, 1), stride=(1, 1), bias=False)\n              (1): BatchNorm2d(240, eps=1e-05, momentum=0.1, affine=True, track_running_stats=True)\n              (2): SiLU(inplace=True)\n            )\n            (1): ConvNormActivation(\n              (0): Conv2d(240, 240, kernel_size=(5, 5), stride=(1, 1), padding=(2, 2), groups=240, bias=False)\n              (1): BatchNorm2d(240, eps=1e-05, momentum=0.1, affine=True, track_running_stats=True)\n              (2): SiLU(inplace=True)\n            )\n            (2): SqueezeExcitation(\n              (avgpool): AdaptiveAvgPool2d(output_size=1)\n              (fc1): Conv2d(240, 10, kernel_size=(1, 1), stride=(1, 1))\n              (fc2): Conv2d(10, 240, kernel_size=(1, 1), stride=(1, 1))\n              (activation): SiLU(inplace=True)\n              (scale_activation): Sigmoid()\n            )\n            (3): ConvNormActivation(\n              (0): Conv2d(240, 40, kernel_size=(1, 1), stride=(1, 1), bias=False)\n              (1): BatchNorm2d(40, eps=1e-05, momentum=0.1, affine=True, track_running_stats=True)\n            )\n          )\n          (stochastic_depth): StochasticDepth(p=0.06086956521739131, mode=row)\n        )\n      )\n      (4): Sequential(\n        (0): MBConv(\n          (block): Sequential(\n            (0): ConvNormActivation(\n              (0): Conv2d(40, 240, kernel_size=(1, 1), stride=(1, 1), bias=False)\n              (1): BatchNorm2d(240, eps=1e-05, momentum=0.1, affine=True, track_running_stats=True)\n              (2): SiLU(inplace=True)\n            )\n            (1): ConvNormActivation(\n              (0): Conv2d(240, 240, kernel_size=(3, 3), stride=(2, 2), padding=(1, 1), groups=240, bias=False)\n              (1): BatchNorm2d(240, eps=1e-05, momentum=0.1, affine=True, track_running_stats=True)\n              (2): SiLU(inplace=True)\n            )\n            (2): SqueezeExcitation(\n              (avgpool): AdaptiveAvgPool2d(output_size=1)\n              (fc1): Conv2d(240, 10, kernel_size=(1, 1), stride=(1, 1))\n              (fc2): Conv2d(10, 240, kernel_size=(1, 1), stride=(1, 1))\n              (activation): SiLU(inplace=True)\n              (scale_activation): Sigmoid()\n            )\n            (3): ConvNormActivation(\n              (0): Conv2d(240, 80, kernel_size=(1, 1), stride=(1, 1), bias=False)\n              (1): BatchNorm2d(80, eps=1e-05, momentum=0.1, affine=True, track_running_stats=True)\n            )\n          )\n          (stochastic_depth): StochasticDepth(p=0.06956521739130435, mode=row)\n        )\n        (1): MBConv(\n          (block): Sequential(\n            (0): ConvNormActivation(\n              (0): Conv2d(80, 480, kernel_size=(1, 1), stride=(1, 1), bias=False)\n              (1): BatchNorm2d(480, eps=1e-05, momentum=0.1, affine=True, track_running_stats=True)\n              (2): SiLU(inplace=True)\n            )\n            (1): ConvNormActivation(\n              (0): Conv2d(480, 480, kernel_size=(3, 3), stride=(1, 1), padding=(1, 1), groups=480, bias=False)\n              (1): BatchNorm2d(480, eps=1e-05, momentum=0.1, affine=True, track_running_stats=True)\n              (2): SiLU(inplace=True)\n            )\n            (2): SqueezeExcitation(\n              (avgpool): AdaptiveAvgPool2d(output_size=1)\n              (fc1): Conv2d(480, 20, kernel_size=(1, 1), stride=(1, 1))\n              (fc2): Conv2d(20, 480, kernel_size=(1, 1), stride=(1, 1))\n              (activation): SiLU(inplace=True)\n              (scale_activation): Sigmoid()\n            )\n            (3): ConvNormActivation(\n              (0): Conv2d(480, 80, kernel_size=(1, 1), stride=(1, 1), bias=False)\n              (1): BatchNorm2d(80, eps=1e-05, momentum=0.1, affine=True, track_running_stats=True)\n            )\n          )\n          (stochastic_depth): StochasticDepth(p=0.0782608695652174, mode=row)\n        )\n        (2): MBConv(\n          (block): Sequential(\n            (0): ConvNormActivation(\n              (0): Conv2d(80, 480, kernel_size=(1, 1), stride=(1, 1), bias=False)\n              (1): BatchNorm2d(480, eps=1e-05, momentum=0.1, affine=True, track_running_stats=True)\n              (2): SiLU(inplace=True)\n            )\n            (1): ConvNormActivation(\n              (0): Conv2d(480, 480, kernel_size=(3, 3), stride=(1, 1), padding=(1, 1), groups=480, bias=False)\n              (1): BatchNorm2d(480, eps=1e-05, momentum=0.1, affine=True, track_running_stats=True)\n              (2): SiLU(inplace=True)\n            )\n            (2): SqueezeExcitation(\n              (avgpool): AdaptiveAvgPool2d(output_size=1)\n              (fc1): Conv2d(480, 20, kernel_size=(1, 1), stride=(1, 1))\n              (fc2): Conv2d(20, 480, kernel_size=(1, 1), stride=(1, 1))\n              (activation): SiLU(inplace=True)\n              (scale_activation): Sigmoid()\n            )\n            (3): ConvNormActivation(\n              (0): Conv2d(480, 80, kernel_size=(1, 1), stride=(1, 1), bias=False)\n              (1): BatchNorm2d(80, eps=1e-05, momentum=0.1, affine=True, track_running_stats=True)\n            )\n          )\n          (stochastic_depth): StochasticDepth(p=0.08695652173913043, mode=row)\n        )\n        (3): MBConv(\n          (block): Sequential(\n            (0): ConvNormActivation(\n              (0): Conv2d(80, 480, kernel_size=(1, 1), stride=(1, 1), bias=False)\n              (1): BatchNorm2d(480, eps=1e-05, momentum=0.1, affine=True, track_running_stats=True)\n              (2): SiLU(inplace=True)\n            )\n            (1): ConvNormActivation(\n              (0): Conv2d(480, 480, kernel_size=(3, 3), stride=(1, 1), padding=(1, 1), groups=480, bias=False)\n              (1): BatchNorm2d(480, eps=1e-05, momentum=0.1, affine=True, track_running_stats=True)\n              (2): SiLU(inplace=True)\n            )\n            (2): SqueezeExcitation(\n              (avgpool): AdaptiveAvgPool2d(output_size=1)\n              (fc1): Conv2d(480, 20, kernel_size=(1, 1), stride=(1, 1))\n              (fc2): Conv2d(20, 480, kernel_size=(1, 1), stride=(1, 1))\n              (activation): SiLU(inplace=True)\n              (scale_activation): Sigmoid()\n            )\n            (3): ConvNormActivation(\n              (0): Conv2d(480, 80, kernel_size=(1, 1), stride=(1, 1), bias=False)\n              (1): BatchNorm2d(80, eps=1e-05, momentum=0.1, affine=True, track_running_stats=True)\n            )\n          )\n          (stochastic_depth): StochasticDepth(p=0.09565217391304348, mode=row)\n        )\n      )\n      (5): Sequential(\n        (0): MBConv(\n          (block): Sequential(\n            (0): ConvNormActivation(\n              (0): Conv2d(80, 480, kernel_size=(1, 1), stride=(1, 1), bias=False)\n              (1): BatchNorm2d(480, eps=1e-05, momentum=0.1, affine=True, track_running_stats=True)\n              (2): SiLU(inplace=True)\n            )\n            (1): ConvNormActivation(\n              (0): Conv2d(480, 480, kernel_size=(5, 5), stride=(1, 1), padding=(2, 2), groups=480, bias=False)\n              (1): BatchNorm2d(480, eps=1e-05, momentum=0.1, affine=True, track_running_stats=True)\n              (2): SiLU(inplace=True)\n            )\n            (2): SqueezeExcitation(\n              (avgpool): AdaptiveAvgPool2d(output_size=1)\n              (fc1): Conv2d(480, 20, kernel_size=(1, 1), stride=(1, 1))\n              (fc2): Conv2d(20, 480, kernel_size=(1, 1), stride=(1, 1))\n              (activation): SiLU(inplace=True)\n              (scale_activation): Sigmoid()\n            )\n            (3): ConvNormActivation(\n              (0): Conv2d(480, 112, kernel_size=(1, 1), stride=(1, 1), bias=False)\n              (1): BatchNorm2d(112, eps=1e-05, momentum=0.1, affine=True, track_running_stats=True)\n            )\n          )\n          (stochastic_depth): StochasticDepth(p=0.10434782608695654, mode=row)\n        )\n        (1): MBConv(\n          (block): Sequential(\n            (0): ConvNormActivation(\n              (0): Conv2d(112, 672, kernel_size=(1, 1), stride=(1, 1), bias=False)\n              (1): BatchNorm2d(672, eps=1e-05, momentum=0.1, affine=True, track_running_stats=True)\n              (2): SiLU(inplace=True)\n            )\n            (1): ConvNormActivation(\n              (0): Conv2d(672, 672, kernel_size=(5, 5), stride=(1, 1), padding=(2, 2), groups=672, bias=False)\n              (1): BatchNorm2d(672, eps=1e-05, momentum=0.1, affine=True, track_running_stats=True)\n              (2): SiLU(inplace=True)\n            )\n            (2): SqueezeExcitation(\n              (avgpool): AdaptiveAvgPool2d(output_size=1)\n              (fc1): Conv2d(672, 28, kernel_size=(1, 1), stride=(1, 1))\n              (fc2): Conv2d(28, 672, kernel_size=(1, 1), stride=(1, 1))\n              (activation): SiLU(inplace=True)\n              (scale_activation): Sigmoid()\n            )\n            (3): ConvNormActivation(\n              (0): Conv2d(672, 112, kernel_size=(1, 1), stride=(1, 1), bias=False)\n              (1): BatchNorm2d(112, eps=1e-05, momentum=0.1, affine=True, track_running_stats=True)\n            )\n          )\n          (stochastic_depth): StochasticDepth(p=0.11304347826086956, mode=row)\n        )\n        (2): MBConv(\n          (block): Sequential(\n            (0): ConvNormActivation(\n              (0): Conv2d(112, 672, kernel_size=(1, 1), stride=(1, 1), bias=False)\n              (1): BatchNorm2d(672, eps=1e-05, momentum=0.1, affine=True, track_running_stats=True)\n              (2): SiLU(inplace=True)\n            )\n            (1): ConvNormActivation(\n              (0): Conv2d(672, 672, kernel_size=(5, 5), stride=(1, 1), padding=(2, 2), groups=672, bias=False)\n              (1): BatchNorm2d(672, eps=1e-05, momentum=0.1, affine=True, track_running_stats=True)\n              (2): SiLU(inplace=True)\n            )\n            (2): SqueezeExcitation(\n              (avgpool): AdaptiveAvgPool2d(output_size=1)\n              (fc1): Conv2d(672, 28, kernel_size=(1, 1), stride=(1, 1))\n              (fc2): Conv2d(28, 672, kernel_size=(1, 1), stride=(1, 1))\n              (activation): SiLU(inplace=True)\n              (scale_activation): Sigmoid()\n            )\n            (3): ConvNormActivation(\n              (0): Conv2d(672, 112, kernel_size=(1, 1), stride=(1, 1), bias=False)\n              (1): BatchNorm2d(112, eps=1e-05, momentum=0.1, affine=True, track_running_stats=True)\n            )\n          )\n          (stochastic_depth): StochasticDepth(p=0.12173913043478261, mode=row)\n        )\n        (3): MBConv(\n          (block): Sequential(\n            (0): ConvNormActivation(\n              (0): Conv2d(112, 672, kernel_size=(1, 1), stride=(1, 1), bias=False)\n              (1): BatchNorm2d(672, eps=1e-05, momentum=0.1, affine=True, track_running_stats=True)\n              (2): SiLU(inplace=True)\n            )\n            (1): ConvNormActivation(\n              (0): Conv2d(672, 672, kernel_size=(5, 5), stride=(1, 1), padding=(2, 2), groups=672, bias=False)\n              (1): BatchNorm2d(672, eps=1e-05, momentum=0.1, affine=True, track_running_stats=True)\n              (2): SiLU(inplace=True)\n            )\n            (2): SqueezeExcitation(\n              (avgpool): AdaptiveAvgPool2d(output_size=1)\n              (fc1): Conv2d(672, 28, kernel_size=(1, 1), stride=(1, 1))\n              (fc2): Conv2d(28, 672, kernel_size=(1, 1), stride=(1, 1))\n              (activation): SiLU(inplace=True)\n              (scale_activation): Sigmoid()\n            )\n            (3): ConvNormActivation(\n              (0): Conv2d(672, 112, kernel_size=(1, 1), stride=(1, 1), bias=False)\n              (1): BatchNorm2d(112, eps=1e-05, momentum=0.1, affine=True, track_running_stats=True)\n            )\n          )\n          (stochastic_depth): StochasticDepth(p=0.13043478260869565, mode=row)\n        )\n      )\n      (6): Sequential(\n        (0): MBConv(\n          (block): Sequential(\n            (0): ConvNormActivation(\n              (0): Conv2d(112, 672, kernel_size=(1, 1), stride=(1, 1), bias=False)\n              (1): BatchNorm2d(672, eps=1e-05, momentum=0.1, affine=True, track_running_stats=True)\n              (2): SiLU(inplace=True)\n            )\n            (1): ConvNormActivation(\n              (0): Conv2d(672, 672, kernel_size=(5, 5), stride=(2, 2), padding=(2, 2), groups=672, bias=False)\n              (1): BatchNorm2d(672, eps=1e-05, momentum=0.1, affine=True, track_running_stats=True)\n              (2): SiLU(inplace=True)\n            )\n            (2): SqueezeExcitation(\n              (avgpool): AdaptiveAvgPool2d(output_size=1)\n              (fc1): Conv2d(672, 28, kernel_size=(1, 1), stride=(1, 1))\n              (fc2): Conv2d(28, 672, kernel_size=(1, 1), stride=(1, 1))\n              (activation): SiLU(inplace=True)\n              (scale_activation): Sigmoid()\n            )\n            (3): ConvNormActivation(\n              (0): Conv2d(672, 192, kernel_size=(1, 1), stride=(1, 1), bias=False)\n              (1): BatchNorm2d(192, eps=1e-05, momentum=0.1, affine=True, track_running_stats=True)\n            )\n          )\n          (stochastic_depth): StochasticDepth(p=0.1391304347826087, mode=row)\n        )\n        (1): MBConv(\n          (block): Sequential(\n            (0): ConvNormActivation(\n              (0): Conv2d(192, 1152, kernel_size=(1, 1), stride=(1, 1), bias=False)\n              (1): BatchNorm2d(1152, eps=1e-05, momentum=0.1, affine=True, track_running_stats=True)\n              (2): SiLU(inplace=True)\n            )\n            (1): ConvNormActivation(\n              (0): Conv2d(1152, 1152, kernel_size=(5, 5), stride=(1, 1), padding=(2, 2), groups=1152, bias=False)\n              (1): BatchNorm2d(1152, eps=1e-05, momentum=0.1, affine=True, track_running_stats=True)\n              (2): SiLU(inplace=True)\n            )\n            (2): SqueezeExcitation(\n              (avgpool): AdaptiveAvgPool2d(output_size=1)\n              (fc1): Conv2d(1152, 48, kernel_size=(1, 1), stride=(1, 1))\n              (fc2): Conv2d(48, 1152, kernel_size=(1, 1), stride=(1, 1))\n              (activation): SiLU(inplace=True)\n              (scale_activation): Sigmoid()\n            )\n            (3): ConvNormActivation(\n              (0): Conv2d(1152, 192, kernel_size=(1, 1), stride=(1, 1), bias=False)\n              (1): BatchNorm2d(192, eps=1e-05, momentum=0.1, affine=True, track_running_stats=True)\n            )\n          )\n          (stochastic_depth): StochasticDepth(p=0.14782608695652175, mode=row)\n        )\n        (2): MBConv(\n          (block): Sequential(\n            (0): ConvNormActivation(\n              (0): Conv2d(192, 1152, kernel_size=(1, 1), stride=(1, 1), bias=False)\n              (1): BatchNorm2d(1152, eps=1e-05, momentum=0.1, affine=True, track_running_stats=True)\n              (2): SiLU(inplace=True)\n            )\n            (1): ConvNormActivation(\n              (0): Conv2d(1152, 1152, kernel_size=(5, 5), stride=(1, 1), padding=(2, 2), groups=1152, bias=False)\n              (1): BatchNorm2d(1152, eps=1e-05, momentum=0.1, affine=True, track_running_stats=True)\n              (2): SiLU(inplace=True)\n            )\n            (2): SqueezeExcitation(\n              (avgpool): AdaptiveAvgPool2d(output_size=1)\n              (fc1): Conv2d(1152, 48, kernel_size=(1, 1), stride=(1, 1))\n              (fc2): Conv2d(48, 1152, kernel_size=(1, 1), stride=(1, 1))\n              (activation): SiLU(inplace=True)\n              (scale_activation): Sigmoid()\n            )\n            (3): ConvNormActivation(\n              (0): Conv2d(1152, 192, kernel_size=(1, 1), stride=(1, 1), bias=False)\n              (1): BatchNorm2d(192, eps=1e-05, momentum=0.1, affine=True, track_running_stats=True)\n            )\n          )\n          (stochastic_depth): StochasticDepth(p=0.1565217391304348, mode=row)\n        )\n        (3): MBConv(\n          (block): Sequential(\n            (0): ConvNormActivation(\n              (0): Conv2d(192, 1152, kernel_size=(1, 1), stride=(1, 1), bias=False)\n              (1): BatchNorm2d(1152, eps=1e-05, momentum=0.1, affine=True, track_running_stats=True)\n              (2): SiLU(inplace=True)\n            )\n            (1): ConvNormActivation(\n              (0): Conv2d(1152, 1152, kernel_size=(5, 5), stride=(1, 1), padding=(2, 2), groups=1152, bias=False)\n              (1): BatchNorm2d(1152, eps=1e-05, momentum=0.1, affine=True, track_running_stats=True)\n              (2): SiLU(inplace=True)\n            )\n            (2): SqueezeExcitation(\n              (avgpool): AdaptiveAvgPool2d(output_size=1)\n              (fc1): Conv2d(1152, 48, kernel_size=(1, 1), stride=(1, 1))\n              (fc2): Conv2d(48, 1152, kernel_size=(1, 1), stride=(1, 1))\n              (activation): SiLU(inplace=True)\n              (scale_activation): Sigmoid()\n            )\n            (3): ConvNormActivation(\n              (0): Conv2d(1152, 192, kernel_size=(1, 1), stride=(1, 1), bias=False)\n              (1): BatchNorm2d(192, eps=1e-05, momentum=0.1, affine=True, track_running_stats=True)\n            )\n          )\n          (stochastic_depth): StochasticDepth(p=0.16521739130434784, mode=row)\n        )\n        (4): MBConv(\n          (block): Sequential(\n            (0): ConvNormActivation(\n              (0): Conv2d(192, 1152, kernel_size=(1, 1), stride=(1, 1), bias=False)\n              (1): BatchNorm2d(1152, eps=1e-05, momentum=0.1, affine=True, track_running_stats=True)\n              (2): SiLU(inplace=True)\n            )\n            (1): ConvNormActivation(\n              (0): Conv2d(1152, 1152, kernel_size=(5, 5), stride=(1, 1), padding=(2, 2), groups=1152, bias=False)\n              (1): BatchNorm2d(1152, eps=1e-05, momentum=0.1, affine=True, track_running_stats=True)\n              (2): SiLU(inplace=True)\n            )\n            (2): SqueezeExcitation(\n              (avgpool): AdaptiveAvgPool2d(output_size=1)\n              (fc1): Conv2d(1152, 48, kernel_size=(1, 1), stride=(1, 1))\n              (fc2): Conv2d(48, 1152, kernel_size=(1, 1), stride=(1, 1))\n              (activation): SiLU(inplace=True)\n              (scale_activation): Sigmoid()\n            )\n            (3): ConvNormActivation(\n              (0): Conv2d(1152, 192, kernel_size=(1, 1), stride=(1, 1), bias=False)\n              (1): BatchNorm2d(192, eps=1e-05, momentum=0.1, affine=True, track_running_stats=True)\n            )\n          )\n          (stochastic_depth): StochasticDepth(p=0.17391304347826086, mode=row)\n        )\n      )\n      (7): Sequential(\n        (0): MBConv(\n          (block): Sequential(\n            (0): ConvNormActivation(\n              (0): Conv2d(192, 1152, kernel_size=(1, 1), stride=(1, 1), bias=False)\n              (1): BatchNorm2d(1152, eps=1e-05, momentum=0.1, affine=True, track_running_stats=True)\n              (2): SiLU(inplace=True)\n            )\n            (1): ConvNormActivation(\n              (0): Conv2d(1152, 1152, kernel_size=(3, 3), stride=(1, 1), padding=(1, 1), groups=1152, bias=False)\n              (1): BatchNorm2d(1152, eps=1e-05, momentum=0.1, affine=True, track_running_stats=True)\n              (2): SiLU(inplace=True)\n            )\n            (2): SqueezeExcitation(\n              (avgpool): AdaptiveAvgPool2d(output_size=1)\n              (fc1): Conv2d(1152, 48, kernel_size=(1, 1), stride=(1, 1))\n              (fc2): Conv2d(48, 1152, kernel_size=(1, 1), stride=(1, 1))\n              (activation): SiLU(inplace=True)\n              (scale_activation): Sigmoid()\n            )\n            (3): ConvNormActivation(\n              (0): Conv2d(1152, 320, kernel_size=(1, 1), stride=(1, 1), bias=False)\n              (1): BatchNorm2d(320, eps=1e-05, momentum=0.1, affine=True, track_running_stats=True)\n            )\n          )\n          (stochastic_depth): StochasticDepth(p=0.1826086956521739, mode=row)\n        )\n        (1): MBConv(\n          (block): Sequential(\n            (0): ConvNormActivation(\n              (0): Conv2d(320, 1920, kernel_size=(1, 1), stride=(1, 1), bias=False)\n              (1): BatchNorm2d(1920, eps=1e-05, momentum=0.1, affine=True, track_running_stats=True)\n              (2): SiLU(inplace=True)\n            )\n            (1): ConvNormActivation(\n              (0): Conv2d(1920, 1920, kernel_size=(3, 3), stride=(1, 1), padding=(1, 1), groups=1920, bias=False)\n              (1): BatchNorm2d(1920, eps=1e-05, momentum=0.1, affine=True, track_running_stats=True)\n              (2): SiLU(inplace=True)\n            )\n            (2): SqueezeExcitation(\n              (avgpool): AdaptiveAvgPool2d(output_size=1)\n              (fc1): Conv2d(1920, 80, kernel_size=(1, 1), stride=(1, 1))\n              (fc2): Conv2d(80, 1920, kernel_size=(1, 1), stride=(1, 1))\n              (activation): SiLU(inplace=True)\n              (scale_activation): Sigmoid()\n            )\n            (3): ConvNormActivation(\n              (0): Conv2d(1920, 320, kernel_size=(1, 1), stride=(1, 1), bias=False)\n              (1): BatchNorm2d(320, eps=1e-05, momentum=0.1, affine=True, track_running_stats=True)\n            )\n          )\n          (stochastic_depth): StochasticDepth(p=0.19130434782608696, mode=row)\n        )\n      )\n      (8): ConvNormActivation(\n        (0): Conv2d(320, 1280, kernel_size=(1, 1), stride=(1, 1), bias=False)\n        (1): BatchNorm2d(1280, eps=1e-05, momentum=0.1, affine=True, track_running_stats=True)\n        (2): SiLU(inplace=True)\n      )\n    )\n    (avgpool): AdaptiveAvgPool2d(output_size=1)\n    (classifier): Sequential(\n      (0): Dropout(p=0.3, inplace=False)\n      (1): Linear(in_features=1280, out_features=256, bias=True)\n      (2): Dropout(p=0.3, inplace=False)\n      (3): ReLU(inplace=True)\n      (4): Dropout(p=0.3, inplace=False)\n      (5): Linear(in_features=256, out_features=128, bias=True)\n    )\n  )\n  (classifier): Sequential(\n    (0): Linear(in_features=256, out_features=1, bias=True)\n    (1): Sigmoid()\n  )\n)"
     },
     "execution_count": 72,
     "metadata": {},
     "output_type": "execute_result"
    }
   ],
   "source": [
    "efficient_facenet.cpu()"
   ],
   "metadata": {
    "collapsed": false,
    "pycharm": {
     "name": "#%%\n"
    }
   }
  },
  {
   "cell_type": "code",
   "execution_count": 79,
   "metadata": {
    "pycharm": {
     "name": "#%%\n"
    }
   },
   "outputs": [],
   "source": [
    "s=77\n",
    "e=100"
   ]
  },
  {
   "cell_type": "code",
   "execution_count": 80,
   "metadata": {
    "pycharm": {
     "name": "#%%\n"
    }
   },
   "outputs": [
    {
     "ename": "RuntimeError",
     "evalue": "Input type (torch.FloatTensor) and weight type (torch.cuda.FloatTensor) should be the same or input should be a MKLDNN tensor and weight is a dense tensor",
     "output_type": "error",
     "traceback": [
      "\u001B[1;31m---------------------------------------------------------------------------\u001B[0m",
      "\u001B[1;31mRuntimeError\u001B[0m                              Traceback (most recent call last)",
      "Input \u001B[1;32mIn [80]\u001B[0m, in \u001B[0;36m<cell line: 1>\u001B[1;34m()\u001B[0m\n\u001B[0;32m      3\u001B[0m label\u001B[38;5;241m=\u001B[39mtest_data_pd\u001B[38;5;241m.\u001B[39miloc[idx][\u001B[38;5;241m2\u001B[39m]\n\u001B[0;32m      5\u001B[0m face_x_img,face_y_img\u001B[38;5;241m=\u001B[39mdata_load\u001B[38;5;241m.\u001B[39mload_image(face_x_path,test_transform,\u001B[38;5;28;01mTrue\u001B[39;00m),data_load\u001B[38;5;241m.\u001B[39mload_image(face_y_path,test_transform,\u001B[38;5;28;01mTrue\u001B[39;00m)\n\u001B[1;32m----> 6\u001B[0m pred\u001B[38;5;241m=\u001B[39m\u001B[43mefficient_facenet\u001B[49m\u001B[38;5;241;43m.\u001B[39;49m\u001B[43midentify_faces\u001B[49m\u001B[43m(\u001B[49m\u001B[43mface_x_img\u001B[49m\u001B[43m,\u001B[49m\u001B[43mface_y_img\u001B[49m\u001B[43m)\u001B[49m\n\u001B[0;32m      8\u001B[0m \u001B[38;5;28mprint\u001B[39m(\u001B[38;5;124mf\u001B[39m\u001B[38;5;124m\"\u001B[39m\u001B[38;5;124mpredicted Value=\u001B[39m\u001B[38;5;132;01m{\u001B[39;00mpred\u001B[38;5;132;01m}\u001B[39;00m\u001B[38;5;124m actual=\u001B[39m\u001B[38;5;132;01m{\u001B[39;00mlabel\u001B[38;5;132;01m}\u001B[39;00m\u001B[38;5;124m\"\u001B[39m)\n",
      "File \u001B[1;32mC:\\graduation_project\\efficient-facenet\\src\\efficentfacenet\\face_descriptor\\models.py:100\u001B[0m, in \u001B[0;36mEfficientFacenet.identify_faces\u001B[1;34m(self, face_x, face_y, transform)\u001B[0m\n\u001B[0;32m     98\u001B[0m \u001B[38;5;28mself\u001B[39m\u001B[38;5;241m.\u001B[39meval()\n\u001B[0;32m     99\u001B[0m \u001B[38;5;28;01mwith\u001B[39;00m torch\u001B[38;5;241m.\u001B[39mno_grad():\n\u001B[1;32m--> 100\u001B[0m     output \u001B[38;5;241m=\u001B[39m \u001B[38;5;28;43mself\u001B[39;49m\u001B[38;5;241;43m.\u001B[39;49m\u001B[43mforward\u001B[49m\u001B[43m(\u001B[49m\u001B[43mface_x\u001B[49m\u001B[43m,\u001B[49m\u001B[43m \u001B[49m\u001B[43mface_y\u001B[49m\u001B[43m)\u001B[49m\n\u001B[0;32m    101\u001B[0m \u001B[38;5;28;01mreturn\u001B[39;00m output\n",
      "File \u001B[1;32mC:\\graduation_project\\efficient-facenet\\src\\efficentfacenet\\face_descriptor\\models.py:75\u001B[0m, in \u001B[0;36mEfficientFacenet.forward\u001B[1;34m(self, face_x, face_y)\u001B[0m\n\u001B[0;32m     73\u001B[0m \u001B[38;5;28;01massert\u001B[39;00m face_x\u001B[38;5;241m.\u001B[39mshape \u001B[38;5;241m==\u001B[39m face_y\u001B[38;5;241m.\u001B[39mshape\n\u001B[0;32m     74\u001B[0m \u001B[38;5;28;01massert\u001B[39;00m \u001B[38;5;28mlen\u001B[39m(face_x\u001B[38;5;241m.\u001B[39mshape) \u001B[38;5;241m==\u001B[39m \u001B[38;5;28mlen\u001B[39m(face_y\u001B[38;5;241m.\u001B[39mshape) \u001B[38;5;241m==\u001B[39m \u001B[38;5;241m4\u001B[39m\n\u001B[1;32m---> 75\u001B[0m face_x_features \u001B[38;5;241m=\u001B[39m \u001B[38;5;28;43mself\u001B[39;49m\u001B[38;5;241;43m.\u001B[39;49m\u001B[43mdescriptor\u001B[49m\u001B[43m(\u001B[49m\u001B[43mface_x\u001B[49m\u001B[43m)\u001B[49m\n\u001B[0;32m     76\u001B[0m face_y_features \u001B[38;5;241m=\u001B[39m \u001B[38;5;28mself\u001B[39m\u001B[38;5;241m.\u001B[39mdescriptor(face_y)\n\u001B[0;32m     77\u001B[0m classifier_input \u001B[38;5;241m=\u001B[39m torch\u001B[38;5;241m.\u001B[39mcat((face_x_features, face_y_features), dim\u001B[38;5;241m=\u001B[39m\u001B[38;5;241m1\u001B[39m)\n",
      "File \u001B[1;32mC:\\graduation_project\\efficient-facenet\\venv\\lib\\site-packages\\torch\\nn\\modules\\module.py:1110\u001B[0m, in \u001B[0;36mModule._call_impl\u001B[1;34m(self, *input, **kwargs)\u001B[0m\n\u001B[0;32m   1106\u001B[0m \u001B[38;5;66;03m# If we don't have any hooks, we want to skip the rest of the logic in\u001B[39;00m\n\u001B[0;32m   1107\u001B[0m \u001B[38;5;66;03m# this function, and just call forward.\u001B[39;00m\n\u001B[0;32m   1108\u001B[0m \u001B[38;5;28;01mif\u001B[39;00m \u001B[38;5;129;01mnot\u001B[39;00m (\u001B[38;5;28mself\u001B[39m\u001B[38;5;241m.\u001B[39m_backward_hooks \u001B[38;5;129;01mor\u001B[39;00m \u001B[38;5;28mself\u001B[39m\u001B[38;5;241m.\u001B[39m_forward_hooks \u001B[38;5;129;01mor\u001B[39;00m \u001B[38;5;28mself\u001B[39m\u001B[38;5;241m.\u001B[39m_forward_pre_hooks \u001B[38;5;129;01mor\u001B[39;00m _global_backward_hooks\n\u001B[0;32m   1109\u001B[0m         \u001B[38;5;129;01mor\u001B[39;00m _global_forward_hooks \u001B[38;5;129;01mor\u001B[39;00m _global_forward_pre_hooks):\n\u001B[1;32m-> 1110\u001B[0m     \u001B[38;5;28;01mreturn\u001B[39;00m forward_call(\u001B[38;5;241m*\u001B[39m\u001B[38;5;28minput\u001B[39m, \u001B[38;5;241m*\u001B[39m\u001B[38;5;241m*\u001B[39mkwargs)\n\u001B[0;32m   1111\u001B[0m \u001B[38;5;66;03m# Do not call functions when jit is used\u001B[39;00m\n\u001B[0;32m   1112\u001B[0m full_backward_hooks, non_full_backward_hooks \u001B[38;5;241m=\u001B[39m [], []\n",
      "File \u001B[1;32mC:\\graduation_project\\efficient-facenet\\venv\\lib\\site-packages\\torchvision\\models\\efficientnet.py:267\u001B[0m, in \u001B[0;36mEfficientNet.forward\u001B[1;34m(self, x)\u001B[0m\n\u001B[0;32m    266\u001B[0m \u001B[38;5;28;01mdef\u001B[39;00m \u001B[38;5;21mforward\u001B[39m(\u001B[38;5;28mself\u001B[39m, x: Tensor) \u001B[38;5;241m-\u001B[39m\u001B[38;5;241m>\u001B[39m Tensor:\n\u001B[1;32m--> 267\u001B[0m     \u001B[38;5;28;01mreturn\u001B[39;00m \u001B[38;5;28;43mself\u001B[39;49m\u001B[38;5;241;43m.\u001B[39;49m\u001B[43m_forward_impl\u001B[49m\u001B[43m(\u001B[49m\u001B[43mx\u001B[49m\u001B[43m)\u001B[49m\n",
      "File \u001B[1;32mC:\\graduation_project\\efficient-facenet\\venv\\lib\\site-packages\\torchvision\\models\\efficientnet.py:257\u001B[0m, in \u001B[0;36mEfficientNet._forward_impl\u001B[1;34m(self, x)\u001B[0m\n\u001B[0;32m    256\u001B[0m \u001B[38;5;28;01mdef\u001B[39;00m \u001B[38;5;21m_forward_impl\u001B[39m(\u001B[38;5;28mself\u001B[39m, x: Tensor) \u001B[38;5;241m-\u001B[39m\u001B[38;5;241m>\u001B[39m Tensor:\n\u001B[1;32m--> 257\u001B[0m     x \u001B[38;5;241m=\u001B[39m \u001B[38;5;28;43mself\u001B[39;49m\u001B[38;5;241;43m.\u001B[39;49m\u001B[43mfeatures\u001B[49m\u001B[43m(\u001B[49m\u001B[43mx\u001B[49m\u001B[43m)\u001B[49m\n\u001B[0;32m    259\u001B[0m     x \u001B[38;5;241m=\u001B[39m \u001B[38;5;28mself\u001B[39m\u001B[38;5;241m.\u001B[39mavgpool(x)\n\u001B[0;32m    260\u001B[0m     x \u001B[38;5;241m=\u001B[39m torch\u001B[38;5;241m.\u001B[39mflatten(x, \u001B[38;5;241m1\u001B[39m)\n",
      "File \u001B[1;32mC:\\graduation_project\\efficient-facenet\\venv\\lib\\site-packages\\torch\\nn\\modules\\module.py:1110\u001B[0m, in \u001B[0;36mModule._call_impl\u001B[1;34m(self, *input, **kwargs)\u001B[0m\n\u001B[0;32m   1106\u001B[0m \u001B[38;5;66;03m# If we don't have any hooks, we want to skip the rest of the logic in\u001B[39;00m\n\u001B[0;32m   1107\u001B[0m \u001B[38;5;66;03m# this function, and just call forward.\u001B[39;00m\n\u001B[0;32m   1108\u001B[0m \u001B[38;5;28;01mif\u001B[39;00m \u001B[38;5;129;01mnot\u001B[39;00m (\u001B[38;5;28mself\u001B[39m\u001B[38;5;241m.\u001B[39m_backward_hooks \u001B[38;5;129;01mor\u001B[39;00m \u001B[38;5;28mself\u001B[39m\u001B[38;5;241m.\u001B[39m_forward_hooks \u001B[38;5;129;01mor\u001B[39;00m \u001B[38;5;28mself\u001B[39m\u001B[38;5;241m.\u001B[39m_forward_pre_hooks \u001B[38;5;129;01mor\u001B[39;00m _global_backward_hooks\n\u001B[0;32m   1109\u001B[0m         \u001B[38;5;129;01mor\u001B[39;00m _global_forward_hooks \u001B[38;5;129;01mor\u001B[39;00m _global_forward_pre_hooks):\n\u001B[1;32m-> 1110\u001B[0m     \u001B[38;5;28;01mreturn\u001B[39;00m forward_call(\u001B[38;5;241m*\u001B[39m\u001B[38;5;28minput\u001B[39m, \u001B[38;5;241m*\u001B[39m\u001B[38;5;241m*\u001B[39mkwargs)\n\u001B[0;32m   1111\u001B[0m \u001B[38;5;66;03m# Do not call functions when jit is used\u001B[39;00m\n\u001B[0;32m   1112\u001B[0m full_backward_hooks, non_full_backward_hooks \u001B[38;5;241m=\u001B[39m [], []\n",
      "File \u001B[1;32mC:\\graduation_project\\efficient-facenet\\venv\\lib\\site-packages\\torch\\nn\\modules\\container.py:141\u001B[0m, in \u001B[0;36mSequential.forward\u001B[1;34m(self, input)\u001B[0m\n\u001B[0;32m    139\u001B[0m \u001B[38;5;28;01mdef\u001B[39;00m \u001B[38;5;21mforward\u001B[39m(\u001B[38;5;28mself\u001B[39m, \u001B[38;5;28minput\u001B[39m):\n\u001B[0;32m    140\u001B[0m     \u001B[38;5;28;01mfor\u001B[39;00m module \u001B[38;5;129;01min\u001B[39;00m \u001B[38;5;28mself\u001B[39m:\n\u001B[1;32m--> 141\u001B[0m         \u001B[38;5;28minput\u001B[39m \u001B[38;5;241m=\u001B[39m \u001B[43mmodule\u001B[49m\u001B[43m(\u001B[49m\u001B[38;5;28;43minput\u001B[39;49m\u001B[43m)\u001B[49m\n\u001B[0;32m    142\u001B[0m     \u001B[38;5;28;01mreturn\u001B[39;00m \u001B[38;5;28minput\u001B[39m\n",
      "File \u001B[1;32mC:\\graduation_project\\efficient-facenet\\venv\\lib\\site-packages\\torch\\nn\\modules\\module.py:1110\u001B[0m, in \u001B[0;36mModule._call_impl\u001B[1;34m(self, *input, **kwargs)\u001B[0m\n\u001B[0;32m   1106\u001B[0m \u001B[38;5;66;03m# If we don't have any hooks, we want to skip the rest of the logic in\u001B[39;00m\n\u001B[0;32m   1107\u001B[0m \u001B[38;5;66;03m# this function, and just call forward.\u001B[39;00m\n\u001B[0;32m   1108\u001B[0m \u001B[38;5;28;01mif\u001B[39;00m \u001B[38;5;129;01mnot\u001B[39;00m (\u001B[38;5;28mself\u001B[39m\u001B[38;5;241m.\u001B[39m_backward_hooks \u001B[38;5;129;01mor\u001B[39;00m \u001B[38;5;28mself\u001B[39m\u001B[38;5;241m.\u001B[39m_forward_hooks \u001B[38;5;129;01mor\u001B[39;00m \u001B[38;5;28mself\u001B[39m\u001B[38;5;241m.\u001B[39m_forward_pre_hooks \u001B[38;5;129;01mor\u001B[39;00m _global_backward_hooks\n\u001B[0;32m   1109\u001B[0m         \u001B[38;5;129;01mor\u001B[39;00m _global_forward_hooks \u001B[38;5;129;01mor\u001B[39;00m _global_forward_pre_hooks):\n\u001B[1;32m-> 1110\u001B[0m     \u001B[38;5;28;01mreturn\u001B[39;00m forward_call(\u001B[38;5;241m*\u001B[39m\u001B[38;5;28minput\u001B[39m, \u001B[38;5;241m*\u001B[39m\u001B[38;5;241m*\u001B[39mkwargs)\n\u001B[0;32m   1111\u001B[0m \u001B[38;5;66;03m# Do not call functions when jit is used\u001B[39;00m\n\u001B[0;32m   1112\u001B[0m full_backward_hooks, non_full_backward_hooks \u001B[38;5;241m=\u001B[39m [], []\n",
      "File \u001B[1;32mC:\\graduation_project\\efficient-facenet\\venv\\lib\\site-packages\\torch\\nn\\modules\\container.py:141\u001B[0m, in \u001B[0;36mSequential.forward\u001B[1;34m(self, input)\u001B[0m\n\u001B[0;32m    139\u001B[0m \u001B[38;5;28;01mdef\u001B[39;00m \u001B[38;5;21mforward\u001B[39m(\u001B[38;5;28mself\u001B[39m, \u001B[38;5;28minput\u001B[39m):\n\u001B[0;32m    140\u001B[0m     \u001B[38;5;28;01mfor\u001B[39;00m module \u001B[38;5;129;01min\u001B[39;00m \u001B[38;5;28mself\u001B[39m:\n\u001B[1;32m--> 141\u001B[0m         \u001B[38;5;28minput\u001B[39m \u001B[38;5;241m=\u001B[39m \u001B[43mmodule\u001B[49m\u001B[43m(\u001B[49m\u001B[38;5;28;43minput\u001B[39;49m\u001B[43m)\u001B[49m\n\u001B[0;32m    142\u001B[0m     \u001B[38;5;28;01mreturn\u001B[39;00m \u001B[38;5;28minput\u001B[39m\n",
      "File \u001B[1;32mC:\\graduation_project\\efficient-facenet\\venv\\lib\\site-packages\\torch\\nn\\modules\\module.py:1110\u001B[0m, in \u001B[0;36mModule._call_impl\u001B[1;34m(self, *input, **kwargs)\u001B[0m\n\u001B[0;32m   1106\u001B[0m \u001B[38;5;66;03m# If we don't have any hooks, we want to skip the rest of the logic in\u001B[39;00m\n\u001B[0;32m   1107\u001B[0m \u001B[38;5;66;03m# this function, and just call forward.\u001B[39;00m\n\u001B[0;32m   1108\u001B[0m \u001B[38;5;28;01mif\u001B[39;00m \u001B[38;5;129;01mnot\u001B[39;00m (\u001B[38;5;28mself\u001B[39m\u001B[38;5;241m.\u001B[39m_backward_hooks \u001B[38;5;129;01mor\u001B[39;00m \u001B[38;5;28mself\u001B[39m\u001B[38;5;241m.\u001B[39m_forward_hooks \u001B[38;5;129;01mor\u001B[39;00m \u001B[38;5;28mself\u001B[39m\u001B[38;5;241m.\u001B[39m_forward_pre_hooks \u001B[38;5;129;01mor\u001B[39;00m _global_backward_hooks\n\u001B[0;32m   1109\u001B[0m         \u001B[38;5;129;01mor\u001B[39;00m _global_forward_hooks \u001B[38;5;129;01mor\u001B[39;00m _global_forward_pre_hooks):\n\u001B[1;32m-> 1110\u001B[0m     \u001B[38;5;28;01mreturn\u001B[39;00m forward_call(\u001B[38;5;241m*\u001B[39m\u001B[38;5;28minput\u001B[39m, \u001B[38;5;241m*\u001B[39m\u001B[38;5;241m*\u001B[39mkwargs)\n\u001B[0;32m   1111\u001B[0m \u001B[38;5;66;03m# Do not call functions when jit is used\u001B[39;00m\n\u001B[0;32m   1112\u001B[0m full_backward_hooks, non_full_backward_hooks \u001B[38;5;241m=\u001B[39m [], []\n",
      "File \u001B[1;32mC:\\graduation_project\\efficient-facenet\\venv\\lib\\site-packages\\torch\\nn\\modules\\conv.py:447\u001B[0m, in \u001B[0;36mConv2d.forward\u001B[1;34m(self, input)\u001B[0m\n\u001B[0;32m    446\u001B[0m \u001B[38;5;28;01mdef\u001B[39;00m \u001B[38;5;21mforward\u001B[39m(\u001B[38;5;28mself\u001B[39m, \u001B[38;5;28minput\u001B[39m: Tensor) \u001B[38;5;241m-\u001B[39m\u001B[38;5;241m>\u001B[39m Tensor:\n\u001B[1;32m--> 447\u001B[0m     \u001B[38;5;28;01mreturn\u001B[39;00m \u001B[38;5;28;43mself\u001B[39;49m\u001B[38;5;241;43m.\u001B[39;49m\u001B[43m_conv_forward\u001B[49m\u001B[43m(\u001B[49m\u001B[38;5;28;43minput\u001B[39;49m\u001B[43m,\u001B[49m\u001B[43m \u001B[49m\u001B[38;5;28;43mself\u001B[39;49m\u001B[38;5;241;43m.\u001B[39;49m\u001B[43mweight\u001B[49m\u001B[43m,\u001B[49m\u001B[43m \u001B[49m\u001B[38;5;28;43mself\u001B[39;49m\u001B[38;5;241;43m.\u001B[39;49m\u001B[43mbias\u001B[49m\u001B[43m)\u001B[49m\n",
      "File \u001B[1;32mC:\\graduation_project\\efficient-facenet\\venv\\lib\\site-packages\\torch\\nn\\modules\\conv.py:443\u001B[0m, in \u001B[0;36mConv2d._conv_forward\u001B[1;34m(self, input, weight, bias)\u001B[0m\n\u001B[0;32m    439\u001B[0m \u001B[38;5;28;01mif\u001B[39;00m \u001B[38;5;28mself\u001B[39m\u001B[38;5;241m.\u001B[39mpadding_mode \u001B[38;5;241m!=\u001B[39m \u001B[38;5;124m'\u001B[39m\u001B[38;5;124mzeros\u001B[39m\u001B[38;5;124m'\u001B[39m:\n\u001B[0;32m    440\u001B[0m     \u001B[38;5;28;01mreturn\u001B[39;00m F\u001B[38;5;241m.\u001B[39mconv2d(F\u001B[38;5;241m.\u001B[39mpad(\u001B[38;5;28minput\u001B[39m, \u001B[38;5;28mself\u001B[39m\u001B[38;5;241m.\u001B[39m_reversed_padding_repeated_twice, mode\u001B[38;5;241m=\u001B[39m\u001B[38;5;28mself\u001B[39m\u001B[38;5;241m.\u001B[39mpadding_mode),\n\u001B[0;32m    441\u001B[0m                     weight, bias, \u001B[38;5;28mself\u001B[39m\u001B[38;5;241m.\u001B[39mstride,\n\u001B[0;32m    442\u001B[0m                     _pair(\u001B[38;5;241m0\u001B[39m), \u001B[38;5;28mself\u001B[39m\u001B[38;5;241m.\u001B[39mdilation, \u001B[38;5;28mself\u001B[39m\u001B[38;5;241m.\u001B[39mgroups)\n\u001B[1;32m--> 443\u001B[0m \u001B[38;5;28;01mreturn\u001B[39;00m \u001B[43mF\u001B[49m\u001B[38;5;241;43m.\u001B[39;49m\u001B[43mconv2d\u001B[49m\u001B[43m(\u001B[49m\u001B[38;5;28;43minput\u001B[39;49m\u001B[43m,\u001B[49m\u001B[43m \u001B[49m\u001B[43mweight\u001B[49m\u001B[43m,\u001B[49m\u001B[43m \u001B[49m\u001B[43mbias\u001B[49m\u001B[43m,\u001B[49m\u001B[43m \u001B[49m\u001B[38;5;28;43mself\u001B[39;49m\u001B[38;5;241;43m.\u001B[39;49m\u001B[43mstride\u001B[49m\u001B[43m,\u001B[49m\n\u001B[0;32m    444\u001B[0m \u001B[43m                \u001B[49m\u001B[38;5;28;43mself\u001B[39;49m\u001B[38;5;241;43m.\u001B[39;49m\u001B[43mpadding\u001B[49m\u001B[43m,\u001B[49m\u001B[43m \u001B[49m\u001B[38;5;28;43mself\u001B[39;49m\u001B[38;5;241;43m.\u001B[39;49m\u001B[43mdilation\u001B[49m\u001B[43m,\u001B[49m\u001B[43m \u001B[49m\u001B[38;5;28;43mself\u001B[39;49m\u001B[38;5;241;43m.\u001B[39;49m\u001B[43mgroups\u001B[49m\u001B[43m)\u001B[49m\n",
      "\u001B[1;31mRuntimeError\u001B[0m: Input type (torch.FloatTensor) and weight type (torch.cuda.FloatTensor) should be the same or input should be a MKLDNN tensor and weight is a dense tensor"
     ]
    }
   ],
   "source": [
    "for idx in range(s,e):\n",
    "    face_x_path,face_y_path=f\"{dataset_path}/test/{test_data_pd.iloc[idx][0]}\",f\"{dataset_path}/test/{test_data_pd.iloc[idx][1]}\"\n",
    "    label=test_data_pd.iloc[idx][2]\n",
    "\n",
    "    face_x_img,face_y_img=data_load.load_image(face_x_path,test_transform,True),data_load.load_image(face_y_path,test_transform,True)\n",
    "    pred=efficient_facenet.identify_faces(face_x_img,face_y_img)\n",
    "\n",
    "    print(f\"predicted Value={pred} actual={label}\")"
   ]
  },
  {
   "cell_type": "code",
   "execution_count": 39,
   "metadata": {
    "pycharm": {
     "name": "#%%\n"
    }
   },
   "outputs": [
    {
     "data": {
      "text/plain": [
       "tensor([[0.8023]])"
      ]
     },
     "execution_count": 39,
     "metadata": {},
     "output_type": "execute_result"
    }
   ],
   "source": []
  },
  {
   "cell_type": "code",
   "execution_count": 73,
   "metadata": {
    "pycharm": {
     "name": "#%%\n"
    }
   },
   "outputs": [
    {
     "name": "stderr",
     "output_type": "stream",
     "text": [
      "Clipping input data to the valid range for imshow with RGB data ([0..1] for floats or [0..255] for integers).\n",
      "Clipping input data to the valid range for imshow with RGB data ([0..1] for floats or [0..255] for integers).\n"
     ]
    },
    {
     "name": "stdout",
     "output_type": "stream",
     "text": [
      "0.08477306365966797\n",
      "predicted Value=tensor([0.9411]) actual=tensor([1.])\n"
     ]
    },
    {
     "data": {
      "image/png": "[encoded data removed]",
      "text/plain": [
       "<Figure size 432x288 with 2 Axes>"
      ]
     },
     "metadata": {
      "needs_background": "light"
     },
     "output_type": "display_data"
    }
   ],
   "source": [
    "import time\n",
    "ts=time.time()\n",
    "face_x_img, face_y_img, label = next(iter(pair_test_loader))\n",
    "print(time.time()-ts)\n",
    "i=6\n",
    "fig, ax = plt.subplots(1, 2)\n",
    "ax[0].set_title(\"Face x\")\n",
    "ax[0].imshow(face_x_img[i].numpy().transpose([1,2,0]))\n",
    "\n",
    "\n",
    "ax[1].set_title(\"Face y\")\n",
    "ax[1].imshow(face_y_img[i].numpy().transpose([1,2,0]))\n",
    "\n",
    "pred=efficient_facenet.identify_faces(face_x_img,face_y_img)\n",
    "print(f\"predicted Value={pred[i]} actual={label[i]}\")\n",
    "\n",
    "\n"
   ]
  },
  {
   "cell_type": "markdown",
   "source": [
    "## EfficentNet Hard anchor negative selection"
   ],
   "metadata": {
    "collapsed": false,
    "pycharm": {
     "name": "#%% md\n"
    }
   }
  },
  {
   "cell_type": "code",
   "execution_count": 27,
   "outputs": [],
   "source": [],
   "metadata": {
    "collapsed": false,
    "pycharm": {
     "name": "#%%\n"
    }
   }
  },
  {
   "cell_type": "code",
   "execution_count": 28,
   "outputs": [],
   "source": [
    "train_notes=\"efficient facenet classifier on full img_net photos , hard negative selection\"\n",
    "model_weights_path=\"../model_weights/efficient_facenet\""
   ],
   "metadata": {
    "collapsed": false,
    "pycharm": {
     "name": "#%%\n"
    }
   }
  },
  {
   "cell_type": "code",
   "execution_count": 29,
   "outputs": [],
   "source": [
    "pair_train_dataset=data_load.FacesPairDataset(f\"{dataset_path}/train\",5000,train_transform)\n",
    "pair_test_dataset=data_load.FacesPairDataset(f\"{dataset_path}/test\",1000,test_transform)"
   ],
   "metadata": {
    "collapsed": false,
    "pycharm": {
     "name": "#%%\n"
    }
   }
  },
  {
   "cell_type": "code",
   "execution_count": 30,
   "outputs": [],
   "source": [
    "pair_train_loader=DataLoader(pair_train_dataset,12,shuffle=False)\n",
    "pair_test_loader=DataLoader(pair_test_dataset,12,shuffle=False)"
   ],
   "metadata": {
    "collapsed": false,
    "pycharm": {
     "name": "#%%\n"
    }
   }
  },
  {
   "cell_type": "code",
   "execution_count": 30,
   "outputs": [],
   "source": [],
   "metadata": {
    "collapsed": false,
    "pycharm": {
     "name": "#%%\n"
    }
   }
  },
  {
   "cell_type": "code",
   "execution_count": 31,
   "outputs": [],
   "source": [
    "efficient_facenet=face_descriptor.EfficientFacenet(128)\n",
    "efficient_facenet.load_local_weights(get_last_weights_path(model_weights_path), cuda_weights=True)\n",
    "for i in range(0):\n",
    "    for param in efficient_facenet.descriptor.features[i]:\n",
    "        param.requires_grad=False"
   ],
   "metadata": {
    "collapsed": false,
    "pycharm": {
     "name": "#%%\n"
    }
   }
  },
  {
   "cell_type": "code",
   "execution_count": 35,
   "outputs": [
    {
     "name": "stdout",
     "output_type": "stream",
     "text": [
      "Testing before training ...\n",
      " Testing  [==========] time remaining = 0.0 Avg Test_Loss=0.029022Test Loss before Training=0.029255083046853543\n",
      " epoch 1 [=======...] time remaining = 1.284648 Avg Train_Loss=0.051285"
     ]
    },
    {
     "ename": "KeyboardInterrupt",
     "evalue": "",
     "output_type": "error",
     "traceback": [
      "\u001B[1;31m---------------------------------------------------------------------------\u001B[0m",
      "\u001B[1;31mKeyboardInterrupt\u001B[0m                         Traceback (most recent call last)",
      "Input \u001B[1;32mIn [35]\u001B[0m, in \u001B[0;36m<cell line: 1>\u001B[1;34m()\u001B[0m\n\u001B[1;32m----> 1\u001B[0m train_losses \u001B[38;5;241m=\u001B[39m \u001B[43mmodels_train\u001B[49m\u001B[38;5;241;43m.\u001B[39;49m\u001B[43mmodel_train\u001B[49m\u001B[43m(\u001B[49m\u001B[43mefficient_facenet\u001B[49m\u001B[43m,\u001B[49m\u001B[43m \u001B[49m\u001B[43mepochs\u001B[49m\u001B[38;5;241;43m=\u001B[39;49m\u001B[38;5;241;43m1\u001B[39;49m\u001B[43m,\u001B[49m\u001B[43m \u001B[49m\u001B[43mlearn_rate\u001B[49m\u001B[38;5;241;43m=\u001B[39;49m\u001B[38;5;241;43m0.001\u001B[39;49m\u001B[43m,\u001B[49m\n\u001B[0;32m      2\u001B[0m \u001B[43m                                            \u001B[49m\u001B[43mtrain_loader\u001B[49m\u001B[38;5;241;43m=\u001B[39;49m\u001B[43mpair_train_loader\u001B[49m\u001B[43m,\u001B[49m\u001B[43m \u001B[49m\u001B[43mtest_loader\u001B[49m\u001B[38;5;241;43m=\u001B[39;49m\u001B[43mpair_test_loader\u001B[49m\u001B[43m,\u001B[49m\u001B[43m \u001B[49m\u001B[43mtrain_mod\u001B[49m\u001B[38;5;241;43m=\u001B[39;49m\u001B[38;5;124;43m\"\u001B[39;49m\u001B[38;5;124;43mpair\u001B[39;49m\u001B[38;5;124;43m\"\u001B[39;49m\u001B[43m,\u001B[49m\n\u001B[0;32m      3\u001B[0m \u001B[43m                                            \u001B[49m\u001B[43mcuda\u001B[49m\u001B[38;5;241;43m=\u001B[39;49m\u001B[38;5;28;43;01mTrue\u001B[39;49;00m\u001B[43m,\u001B[49m\u001B[43m \u001B[49m\u001B[43mweight_saving_path\u001B[49m\u001B[38;5;241;43m=\u001B[39;49m\u001B[43mmodel_weights_path\u001B[49m\u001B[43m,\u001B[49m\n\u001B[0;32m      4\u001B[0m \u001B[43m                                            \u001B[49m\u001B[43mepoch_data_saving_path\u001B[49m\u001B[38;5;241;43m=\u001B[39;49m\u001B[43mtrain_data_save_path\u001B[49m\u001B[43m,\u001B[49m\u001B[43m \u001B[49m\u001B[43mnotes\u001B[49m\u001B[38;5;241;43m=\u001B[39;49m\u001B[43mtrain_notes\u001B[49m\u001B[43m,\u001B[49m\n\u001B[0;32m      5\u001B[0m \u001B[43m                                            \u001B[49m\u001B[43m)\u001B[49m\n",
      "File \u001B[1;32mC:\\graduation_project\\efficient-facenet\\src\\efficentnet_train\\models_train.py:88\u001B[0m, in \u001B[0;36mmodel_train\u001B[1;34m(model, epochs, learn_rate, train_loader, test_loader, train_mod, cuda, weight_saving_path, epoch_data_saving_path, notes, **kwargs)\u001B[0m\n\u001B[0;32m     86\u001B[0m cnt \u001B[38;5;241m=\u001B[39m \u001B[38;5;241m0.0\u001B[39m\n\u001B[0;32m     87\u001B[0m time_sum \u001B[38;5;241m=\u001B[39m \u001B[38;5;241m0.0\u001B[39m\n\u001B[1;32m---> 88\u001B[0m \u001B[38;5;28;01mfor\u001B[39;00m data \u001B[38;5;129;01min\u001B[39;00m train_loader:\n\u001B[0;32m     89\u001B[0m     batch_start_t \u001B[38;5;241m=\u001B[39m time\u001B[38;5;241m.\u001B[39mtime()\n\u001B[0;32m     91\u001B[0m     \u001B[38;5;28;01mif\u001B[39;00m train_mod \u001B[38;5;241m==\u001B[39m \u001B[38;5;124m\"\u001B[39m\u001B[38;5;124mtriplet\u001B[39m\u001B[38;5;124m\"\u001B[39m:\n",
      "File \u001B[1;32mC:\\graduation_project\\efficient-facenet\\venv\\lib\\site-packages\\torch\\utils\\data\\dataloader.py:530\u001B[0m, in \u001B[0;36m_BaseDataLoaderIter.__next__\u001B[1;34m(self)\u001B[0m\n\u001B[0;32m    528\u001B[0m \u001B[38;5;28;01mif\u001B[39;00m \u001B[38;5;28mself\u001B[39m\u001B[38;5;241m.\u001B[39m_sampler_iter \u001B[38;5;129;01mis\u001B[39;00m \u001B[38;5;28;01mNone\u001B[39;00m:\n\u001B[0;32m    529\u001B[0m     \u001B[38;5;28mself\u001B[39m\u001B[38;5;241m.\u001B[39m_reset()\n\u001B[1;32m--> 530\u001B[0m data \u001B[38;5;241m=\u001B[39m \u001B[38;5;28;43mself\u001B[39;49m\u001B[38;5;241;43m.\u001B[39;49m\u001B[43m_next_data\u001B[49m\u001B[43m(\u001B[49m\u001B[43m)\u001B[49m\n\u001B[0;32m    531\u001B[0m \u001B[38;5;28mself\u001B[39m\u001B[38;5;241m.\u001B[39m_num_yielded \u001B[38;5;241m+\u001B[39m\u001B[38;5;241m=\u001B[39m \u001B[38;5;241m1\u001B[39m\n\u001B[0;32m    532\u001B[0m \u001B[38;5;28;01mif\u001B[39;00m \u001B[38;5;28mself\u001B[39m\u001B[38;5;241m.\u001B[39m_dataset_kind \u001B[38;5;241m==\u001B[39m _DatasetKind\u001B[38;5;241m.\u001B[39mIterable \u001B[38;5;129;01mand\u001B[39;00m \\\n\u001B[0;32m    533\u001B[0m         \u001B[38;5;28mself\u001B[39m\u001B[38;5;241m.\u001B[39m_IterableDataset_len_called \u001B[38;5;129;01mis\u001B[39;00m \u001B[38;5;129;01mnot\u001B[39;00m \u001B[38;5;28;01mNone\u001B[39;00m \u001B[38;5;129;01mand\u001B[39;00m \\\n\u001B[0;32m    534\u001B[0m         \u001B[38;5;28mself\u001B[39m\u001B[38;5;241m.\u001B[39m_num_yielded \u001B[38;5;241m>\u001B[39m \u001B[38;5;28mself\u001B[39m\u001B[38;5;241m.\u001B[39m_IterableDataset_len_called:\n",
      "File \u001B[1;32mC:\\graduation_project\\efficient-facenet\\venv\\lib\\site-packages\\torch\\utils\\data\\dataloader.py:570\u001B[0m, in \u001B[0;36m_SingleProcessDataLoaderIter._next_data\u001B[1;34m(self)\u001B[0m\n\u001B[0;32m    568\u001B[0m \u001B[38;5;28;01mdef\u001B[39;00m \u001B[38;5;21m_next_data\u001B[39m(\u001B[38;5;28mself\u001B[39m):\n\u001B[0;32m    569\u001B[0m     index \u001B[38;5;241m=\u001B[39m \u001B[38;5;28mself\u001B[39m\u001B[38;5;241m.\u001B[39m_next_index()  \u001B[38;5;66;03m# may raise StopIteration\u001B[39;00m\n\u001B[1;32m--> 570\u001B[0m     data \u001B[38;5;241m=\u001B[39m \u001B[38;5;28;43mself\u001B[39;49m\u001B[38;5;241;43m.\u001B[39;49m\u001B[43m_dataset_fetcher\u001B[49m\u001B[38;5;241;43m.\u001B[39;49m\u001B[43mfetch\u001B[49m\u001B[43m(\u001B[49m\u001B[43mindex\u001B[49m\u001B[43m)\u001B[49m  \u001B[38;5;66;03m# may raise StopIteration\u001B[39;00m\n\u001B[0;32m    571\u001B[0m     \u001B[38;5;28;01mif\u001B[39;00m \u001B[38;5;28mself\u001B[39m\u001B[38;5;241m.\u001B[39m_pin_memory:\n\u001B[0;32m    572\u001B[0m         data \u001B[38;5;241m=\u001B[39m _utils\u001B[38;5;241m.\u001B[39mpin_memory\u001B[38;5;241m.\u001B[39mpin_memory(data)\n",
      "File \u001B[1;32mC:\\graduation_project\\efficient-facenet\\venv\\lib\\site-packages\\torch\\utils\\data\\_utils\\fetch.py:32\u001B[0m, in \u001B[0;36m_IterableDatasetFetcher.fetch\u001B[1;34m(self, possibly_batched_index)\u001B[0m\n\u001B[0;32m     30\u001B[0m \u001B[38;5;28;01mfor\u001B[39;00m _ \u001B[38;5;129;01min\u001B[39;00m possibly_batched_index:\n\u001B[0;32m     31\u001B[0m     \u001B[38;5;28;01mtry\u001B[39;00m:\n\u001B[1;32m---> 32\u001B[0m         data\u001B[38;5;241m.\u001B[39mappend(\u001B[38;5;28;43mnext\u001B[39;49m\u001B[43m(\u001B[49m\u001B[38;5;28;43mself\u001B[39;49m\u001B[38;5;241;43m.\u001B[39;49m\u001B[43mdataset_iter\u001B[49m\u001B[43m)\u001B[49m)\n\u001B[0;32m     33\u001B[0m     \u001B[38;5;28;01mexcept\u001B[39;00m \u001B[38;5;167;01mStopIteration\u001B[39;00m:\n\u001B[0;32m     34\u001B[0m         \u001B[38;5;28mself\u001B[39m\u001B[38;5;241m.\u001B[39mended \u001B[38;5;241m=\u001B[39m \u001B[38;5;28;01mTrue\u001B[39;00m\n",
      "File \u001B[1;32mC:\\graduation_project\\efficient-facenet\\src\\efficentnet_train\\data_load.py:249\u001B[0m, in \u001B[0;36mFacesPairDataset.__iter__\u001B[1;34m(self)\u001B[0m\n\u001B[0;32m    246\u001B[0m n_img_name \u001B[38;5;241m=\u001B[39m \u001B[38;5;28mself\u001B[39m\u001B[38;5;241m.\u001B[39mget_min_dist_face(anchor_per_name, anchor_img_name\u001B[38;5;241m=\u001B[39mrandom_two_same_pics[\u001B[38;5;241m0\u001B[39m])\n\u001B[0;32m    248\u001B[0m a_img \u001B[38;5;241m=\u001B[39m \u001B[38;5;28mself\u001B[39m\u001B[38;5;241m.\u001B[39mload_img(a_img_name)\n\u001B[1;32m--> 249\u001B[0m p_img \u001B[38;5;241m=\u001B[39m \u001B[38;5;28;43mself\u001B[39;49m\u001B[38;5;241;43m.\u001B[39;49m\u001B[43mload_img\u001B[49m\u001B[43m(\u001B[49m\u001B[43mp_img_name\u001B[49m\u001B[43m)\u001B[49m\n\u001B[0;32m    250\u001B[0m n_img \u001B[38;5;241m=\u001B[39m \u001B[38;5;28mself\u001B[39m\u001B[38;5;241m.\u001B[39mload_img(n_img_name)\n\u001B[0;32m    252\u001B[0m \u001B[38;5;28;01myield\u001B[39;00m a_img, p_img, torch\u001B[38;5;241m.\u001B[39mtensor([\u001B[38;5;241m1.0\u001B[39m])\n",
      "File \u001B[1;32mC:\\graduation_project\\efficient-facenet\\src\\efficentnet_train\\data_load.py:184\u001B[0m, in \u001B[0;36mFacesDataset.load_img\u001B[1;34m(self, img_path)\u001B[0m\n\u001B[0;32m    181\u001B[0m     img \u001B[38;5;241m=\u001B[39m \u001B[38;5;28mself\u001B[39m\u001B[38;5;241m.\u001B[39mimages_dict[img_path]\n\u001B[0;32m    183\u001B[0m \u001B[38;5;28;01mif\u001B[39;00m \u001B[38;5;28mself\u001B[39m\u001B[38;5;241m.\u001B[39mtransform \u001B[38;5;129;01mis\u001B[39;00m \u001B[38;5;129;01mnot\u001B[39;00m \u001B[38;5;28;01mNone\u001B[39;00m:\n\u001B[1;32m--> 184\u001B[0m     img \u001B[38;5;241m=\u001B[39m \u001B[38;5;28;43mself\u001B[39;49m\u001B[38;5;241;43m.\u001B[39;49m\u001B[43mtransform\u001B[49m\u001B[43m(\u001B[49m\u001B[43mimg\u001B[49m\u001B[43m)\u001B[49m\n\u001B[0;32m    185\u001B[0m \u001B[38;5;28;01mreturn\u001B[39;00m img\n",
      "File \u001B[1;32mC:\\graduation_project\\efficient-facenet\\venv\\lib\\site-packages\\torchvision\\transforms\\transforms.py:95\u001B[0m, in \u001B[0;36mCompose.__call__\u001B[1;34m(self, img)\u001B[0m\n\u001B[0;32m     93\u001B[0m \u001B[38;5;28;01mdef\u001B[39;00m \u001B[38;5;21m__call__\u001B[39m(\u001B[38;5;28mself\u001B[39m, img):\n\u001B[0;32m     94\u001B[0m     \u001B[38;5;28;01mfor\u001B[39;00m t \u001B[38;5;129;01min\u001B[39;00m \u001B[38;5;28mself\u001B[39m\u001B[38;5;241m.\u001B[39mtransforms:\n\u001B[1;32m---> 95\u001B[0m         img \u001B[38;5;241m=\u001B[39m \u001B[43mt\u001B[49m\u001B[43m(\u001B[49m\u001B[43mimg\u001B[49m\u001B[43m)\u001B[49m\n\u001B[0;32m     96\u001B[0m     \u001B[38;5;28;01mreturn\u001B[39;00m img\n",
      "File \u001B[1;32mC:\\graduation_project\\efficient-facenet\\venv\\lib\\site-packages\\torchvision\\transforms\\transforms.py:135\u001B[0m, in \u001B[0;36mToTensor.__call__\u001B[1;34m(self, pic)\u001B[0m\n\u001B[0;32m    127\u001B[0m \u001B[38;5;28;01mdef\u001B[39;00m \u001B[38;5;21m__call__\u001B[39m(\u001B[38;5;28mself\u001B[39m, pic):\n\u001B[0;32m    128\u001B[0m     \u001B[38;5;124;03m\"\"\"\u001B[39;00m\n\u001B[0;32m    129\u001B[0m \u001B[38;5;124;03m    Args:\u001B[39;00m\n\u001B[0;32m    130\u001B[0m \u001B[38;5;124;03m        pic (PIL Image or numpy.ndarray): Image to be converted to tensor.\u001B[39;00m\n\u001B[1;32m   (...)\u001B[0m\n\u001B[0;32m    133\u001B[0m \u001B[38;5;124;03m        Tensor: Converted image.\u001B[39;00m\n\u001B[0;32m    134\u001B[0m \u001B[38;5;124;03m    \"\"\"\u001B[39;00m\n\u001B[1;32m--> 135\u001B[0m     \u001B[38;5;28;01mreturn\u001B[39;00m \u001B[43mF\u001B[49m\u001B[38;5;241;43m.\u001B[39;49m\u001B[43mto_tensor\u001B[49m\u001B[43m(\u001B[49m\u001B[43mpic\u001B[49m\u001B[43m)\u001B[49m\n",
      "File \u001B[1;32mC:\\graduation_project\\efficient-facenet\\venv\\lib\\site-packages\\torchvision\\transforms\\functional.py:136\u001B[0m, in \u001B[0;36mto_tensor\u001B[1;34m(pic)\u001B[0m\n\u001B[0;32m    134\u001B[0m \u001B[38;5;66;03m# backward compatibility\u001B[39;00m\n\u001B[0;32m    135\u001B[0m \u001B[38;5;28;01mif\u001B[39;00m \u001B[38;5;28misinstance\u001B[39m(img, torch\u001B[38;5;241m.\u001B[39mByteTensor):\n\u001B[1;32m--> 136\u001B[0m     \u001B[38;5;28;01mreturn\u001B[39;00m \u001B[43mimg\u001B[49m\u001B[38;5;241;43m.\u001B[39;49m\u001B[43mto\u001B[49m\u001B[43m(\u001B[49m\u001B[43mdtype\u001B[49m\u001B[38;5;241;43m=\u001B[39;49m\u001B[43mdefault_float_dtype\u001B[49m\u001B[43m)\u001B[49m\u001B[38;5;241;43m.\u001B[39;49m\u001B[43mdiv\u001B[49m\u001B[43m(\u001B[49m\u001B[38;5;241;43m255\u001B[39;49m\u001B[43m)\u001B[49m\n\u001B[0;32m    137\u001B[0m \u001B[38;5;28;01melse\u001B[39;00m:\n\u001B[0;32m    138\u001B[0m     \u001B[38;5;28;01mreturn\u001B[39;00m img\n",
      "\u001B[1;31mKeyboardInterrupt\u001B[0m: "
     ]
    }
   ],
   "source": [
    "\n",
    "train_losses = models_train.model_train(efficient_facenet, epochs=1, learn_rate=0.001,\n",
    "                                            train_loader=pair_train_loader, test_loader=pair_test_loader, train_mod=\"pair\",\n",
    "                                            cuda=True, weight_saving_path=model_weights_path,\n",
    "                                            epoch_data_saving_path=train_data_save_path, notes=train_notes,\n",
    "                                            )\n"
   ],
   "metadata": {
    "collapsed": false,
    "pycharm": {
     "name": "#%%\n"
    }
   }
  },
  {
   "cell_type": "code",
   "execution_count": null,
   "metadata": {
    "pycharm": {
     "name": "#%%\n"
    }
   },
   "outputs": [
    {
     "name": "stdout",
     "output_type": "stream",
     "text": [
      " epoch 2 [==========] time remaining = 0.0 Avg Train_Loss=0.05028350309\n",
      " Testing  [==========] time remaining = 0.0 Avg Test_Loss=0.03464334532\n",
      " epoch 2 train_loss =0.05032330514192581 test_loss=0.03492090210318565\n",
      " epoch 3 [==========] time remaining = 0.0 Avg Train_Loss=0.04984849823\n",
      " Testing  [==========] time remaining = 0.0 Avg Test_Loss=0.03135731285\n",
      " epoch 3 train_loss =0.049888686388731 test_loss=0.03160853345692158\n",
      " epoch 4 [==========] time remaining = 0.0 Avg Train_Loss=0.04873048692\n",
      " Testing  [==========] time remaining = 0.0 Avg Test_Loss=0.03254032692\n",
      " epoch 4 train_loss =0.04876924257278442 test_loss=0.03280064143240452\n",
      " epoch 5 [==========] time remaining = 0.0 Avg Train_Loss=0.04859248538\n",
      " Testing  [==========] time remaining = 0.0 Avg Test_Loss=0.03276532811\n",
      " epoch 5 train_loss =0.04863095901012421 test_loss=0.03302793485671282\n",
      " epoch 6 [==========] time remaining = 0.0 Avg Train_Loss=0.04834648407\n",
      " Testing  [==========] time remaining = 0.0 Avg Test_Loss=0.03316833061\n",
      " epoch 6 train_loss =0.04838514516353607 test_loss=0.03343434252589941\n",
      " epoch 7 [==========] time remaining = 0.0 Avg Train_Loss=0.04859348565\n",
      " Testing  [==========] time remaining = 0.0 Avg Test_Loss=0.03373033594\n",
      " epoch 7 train_loss =0.04863247802257538 test_loss=0.03400024172663689\n",
      " epoch 8 [==========] time remaining = 0.0 Avg Train_Loss=0.04781447814\n",
      " Testing  [==========] time remaining = 0.0 Avg Test_Loss=0.03122031364\n",
      " epoch 8 train_loss =0.047852458012104034 test_loss=0.0314699225872755\n",
      " epoch 9 [==========] time remaining = 0.0 Avg Train_Loss=0.04755747553\n",
      " Testing  [==========] time remaining = 0.0 Avg Test_Loss=0.02880828922\n",
      " epoch 9 train_loss =0.047596013289690015 test_loss=0.029038671903312205\n",
      "new minimum test loss 0.029038  achieved, model weights saved \n",
      " epoch 10 [==========] time remaining = 0.0 Avg Train_Loss=0.04797948037\n",
      " Testing  [==========] time remaining = 0.0 Avg Test_Loss=0.03117931406\n",
      " epoch 10 train_loss =0.048017601296305654 test_loss=0.03142929185926914\n",
      " data processed [==========] time remaing=-0.00Testing before training ...\n",
      " Testing  [==========] time remaining = 0.0 Avg Test_Loss=0.031109Test Loss before Training=0.03135820536315441\n",
      " epoch 1 [==========] time remaining = 0.0 Avg Train_Loss=0.04921949265\n",
      " Testing  [==========] time remaining = 0.0 Avg Test_Loss=0.03493332421\n",
      " epoch 1 train_loss =0.049258476036787034 test_loss=0.03521258319914341\n",
      " epoch 2 [==========] time remaining = 0.0 Avg Train_Loss=0.04879948798\n",
      " Testing  [==========] time remaining = 0.0 Avg Test_Loss=0.03011630068\n",
      " epoch 2 train_loss =0.04883861792683601 test_loss=0.030357685908675193\n",
      "new minimum test loss 0.030357  achieved, model weights saved \n",
      " epoch 3 [==========] time remaining = 0.0 Avg Train_Loss=0.04771447654\n",
      " Testing  [==========] time remaining = 0.0 Avg Test_Loss=0.03179831457\n",
      " epoch 3 train_loss =0.0477524344176054 test_loss=0.03205297690629959\n",
      " epoch 4 [==========] time remaining = 0.0 Avg Train_Loss=0.04751047490\n",
      " Testing  [==========] time remaining = 0.0 Avg Test_Loss=0.03168331620\n",
      " epoch 4 train_loss =0.047548961001634596 test_loss=0.03193727327883244\n",
      " epoch 5 [==========] time remaining = 0.0 Avg Train_Loss=0.04730147283\n",
      " Testing  [==========] time remaining = 0.0 Avg Test_Loss=0.03058830400\n",
      " epoch 5 train_loss =0.047339610850811 test_loss=0.03083317543566227\n",
      " epoch 6 [==========] time remaining = 0.0 Avg Train_Loss=0.04776447763\n",
      " Testing  [==========] time remaining = 0.0 Avg Test_Loss=0.03016530076\n",
      " epoch 6 train_loss =0.04780307579636574 test_loss=0.030406799003481866\n",
      " epoch 7 [==========] time remaining = 0.0 Avg Train_Loss=0.04712747146\n",
      " Testing  [==========] time remaining = 0.0 Avg Test_Loss=0.03151831753\n",
      " epoch 7 train_loss =0.04716526774764061 test_loss=0.031770855709910395\n",
      " epoch 8 [=======...] time remaining = 1.239191 Avg Train_Loss=0.047539"
     ]
    },
    {
     "ename": "KeyboardInterrupt",
     "evalue": "",
     "output_type": "error",
     "traceback": [
      "\u001B[1;31m---------------------------------------------------------------------------\u001B[0m",
      "\u001B[1;31mKeyboardInterrupt\u001B[0m                         Traceback (most recent call last)",
      "Input \u001B[1;32mIn [11]\u001B[0m, in \u001B[0;36m<cell line: 10>\u001B[1;34m()\u001B[0m\n\u001B[0;32m     18\u001B[0m pair_train_loader\u001B[38;5;241m=\u001B[39mDataLoader(pair_train_dataset,\u001B[38;5;241m12\u001B[39m,shuffle\u001B[38;5;241m=\u001B[39m\u001B[38;5;28;01mFalse\u001B[39;00m)\n\u001B[0;32m     19\u001B[0m pair_test_loader\u001B[38;5;241m=\u001B[39mDataLoader(pair_test_dataset,\u001B[38;5;241m12\u001B[39m,shuffle\u001B[38;5;241m=\u001B[39m\u001B[38;5;28;01mFalse\u001B[39;00m)\n\u001B[1;32m---> 21\u001B[0m train_losses \u001B[38;5;241m=\u001B[39m \u001B[43mmodels_train\u001B[49m\u001B[38;5;241;43m.\u001B[39;49m\u001B[43mmodel_train\u001B[49m\u001B[43m(\u001B[49m\u001B[43mefficient_facenet\u001B[49m\u001B[43m,\u001B[49m\u001B[43m \u001B[49m\u001B[43mepochs\u001B[49m\u001B[38;5;241;43m=\u001B[39;49m\u001B[43mupdate_features_every_epochs\u001B[49m\u001B[43m,\u001B[49m\u001B[43m \u001B[49m\u001B[43mlearn_rate\u001B[49m\u001B[38;5;241;43m=\u001B[39;49m\u001B[38;5;241;43m0.001\u001B[39;49m\u001B[43m,\u001B[49m\n\u001B[0;32m     22\u001B[0m \u001B[43m                                        \u001B[49m\u001B[43mtrain_loader\u001B[49m\u001B[38;5;241;43m=\u001B[39;49m\u001B[43mpair_train_loader\u001B[49m\u001B[43m,\u001B[49m\u001B[43m \u001B[49m\u001B[43mtest_loader\u001B[49m\u001B[38;5;241;43m=\u001B[39;49m\u001B[43mpair_test_loader\u001B[49m\u001B[43m,\u001B[49m\u001B[43m \u001B[49m\u001B[43mtrain_mod\u001B[49m\u001B[38;5;241;43m=\u001B[39;49m\u001B[38;5;124;43m\"\u001B[39;49m\u001B[38;5;124;43mpair\u001B[39;49m\u001B[38;5;124;43m\"\u001B[39;49m\u001B[43m,\u001B[49m\n\u001B[0;32m     23\u001B[0m \u001B[43m                                        \u001B[49m\u001B[43mcuda\u001B[49m\u001B[38;5;241;43m=\u001B[39;49m\u001B[38;5;28;43;01mTrue\u001B[39;49;00m\u001B[43m,\u001B[49m\u001B[43m \u001B[49m\u001B[43mweight_saving_path\u001B[49m\u001B[38;5;241;43m=\u001B[39;49m\u001B[43mmodel_weights_path\u001B[49m\u001B[43m,\u001B[49m\n\u001B[0;32m     24\u001B[0m \u001B[43m                                        \u001B[49m\u001B[43mepoch_data_saving_path\u001B[49m\u001B[38;5;241;43m=\u001B[39;49m\u001B[43mtrain_data_save_path\u001B[49m\u001B[43m,\u001B[49m\u001B[43m \u001B[49m\u001B[43mnotes\u001B[49m\u001B[38;5;241;43m=\u001B[39;49m\u001B[43mtrain_notes\u001B[49m\u001B[43m,\u001B[49m\n\u001B[0;32m     25\u001B[0m \u001B[43m                                        \u001B[49m\u001B[43moptimizer\u001B[49m\u001B[38;5;241;43m=\u001B[39;49m\u001B[43moptimizer\u001B[49m\u001B[43m)\u001B[49m\n\u001B[0;32m     26\u001B[0m img_features \u001B[38;5;241m=\u001B[39m \u001B[38;5;28;01mNone\u001B[39;00m\n\u001B[0;32m     27\u001B[0m efficient_facenet\u001B[38;5;241m.\u001B[39mload_local_weights(get_last_weights_path(model_weights_path), cuda_weights\u001B[38;5;241m=\u001B[39m\u001B[38;5;28;01mTrue\u001B[39;00m)\n",
      "File \u001B[1;32mC:\\graduation_project\\efficient-facenet\\src\\efficentnet_train\\models_train.py:97\u001B[0m, in \u001B[0;36mmodel_train\u001B[1;34m(model, epochs, learn_rate, train_loader, test_loader, train_mod, cuda, weight_saving_path, epoch_data_saving_path, notes, **kwargs)\u001B[0m\n\u001B[0;32m     95\u001B[0m \u001B[38;5;28;01melif\u001B[39;00m train_mod \u001B[38;5;241m==\u001B[39m \u001B[38;5;124m\"\u001B[39m\u001B[38;5;124mpair\u001B[39m\u001B[38;5;124m\"\u001B[39m:\n\u001B[0;32m     96\u001B[0m     face_x, face_y, label \u001B[38;5;241m=\u001B[39m data\n\u001B[1;32m---> 97\u001B[0m     loss_sum \u001B[38;5;241m+\u001B[39m\u001B[38;5;241m=\u001B[39m \u001B[43mpair_train_step\u001B[49m\u001B[43m(\u001B[49m\u001B[43mmodel\u001B[49m\u001B[43m,\u001B[49m\u001B[43m \u001B[49m\u001B[43moptimizer\u001B[49m\u001B[43m,\u001B[49m\u001B[43m \u001B[49m\u001B[43mloss_function\u001B[49m\u001B[43m,\u001B[49m\u001B[43m \u001B[49m\u001B[43mface_x\u001B[49m\u001B[43m,\u001B[49m\u001B[43m \u001B[49m\u001B[43mface_y\u001B[49m\u001B[43m,\u001B[49m\u001B[43m \u001B[49m\u001B[43mlabel\u001B[49m\u001B[43m,\u001B[49m\u001B[43m \u001B[49m\u001B[43mcuda\u001B[49m\u001B[43m)\u001B[49m\n\u001B[0;32m     98\u001B[0m \u001B[38;5;28;01melse\u001B[39;00m:\n\u001B[0;32m     99\u001B[0m     \u001B[38;5;28;01mraise\u001B[39;00m \u001B[38;5;167;01mValueError\u001B[39;00m(\u001B[38;5;124m\"\u001B[39m\u001B[38;5;124minvalid train mod\u001B[39m\u001B[38;5;124m\"\u001B[39m)\n",
      "File \u001B[1;32mC:\\graduation_project\\efficient-facenet\\src\\efficentnet_train\\models_train.py:216\u001B[0m, in \u001B[0;36mpair_train_step\u001B[1;34m(model, optimizer, loss_function, face_x, face_y, label, cuda)\u001B[0m\n\u001B[0;32m    214\u001B[0m loss\u001B[38;5;241m.\u001B[39mbackward()\n\u001B[0;32m    215\u001B[0m optimizer\u001B[38;5;241m.\u001B[39mstep()\n\u001B[1;32m--> 216\u001B[0m \u001B[38;5;28;01mreturn\u001B[39;00m \u001B[38;5;28;43mfloat\u001B[39;49m\u001B[43m(\u001B[49m\u001B[43mloss\u001B[49m\u001B[43m)\u001B[49m\n",
      "\u001B[1;31mKeyboardInterrupt\u001B[0m: "
     ]
    }
   ],
   "source": [
    "\n",
    "efficient_facenet=face_descriptor.EfficientFacenet(128)\n",
    "efficient_facenet.load_local_weights(get_last_weights_path(model_weights_path), cuda_weights=True)\n",
    "img_features = None\n",
    "import torch\n",
    "update_features_every_epochs = 10\n",
    "epochs = 50\n",
    "learning_rate = 0.0001\n",
    "optimizer = torch.optim.Adam(params=efficient_facenet.parameters(), lr=learning_rate)\n",
    "\n",
    "for i in range(int(epochs / update_features_every_epochs)):\n",
    "    if img_features is None:\n",
    "        img_features = data_load.get_pic_features_dict(dataset_path + \"/train\", model=efficient_facenet.descriptor, transform=test_transform,cuda=True,batch_size=10)\n",
    "    pair_train_dataset=data_load.FacesPairDataset(f\"{dataset_path}/train\",5000,train_transform,load_imgs_from_dict=False, img_features_dict=img_features,\n",
    "                                                  select_from_negative_cnt=5)\n",
    "    pair_test_dataset=data_load.FacesPairDataset(f\"{dataset_path}/test\",1000,test_transform)\n",
    "\n",
    "\n",
    "    pair_train_loader=DataLoader(pair_train_dataset,12,shuffle=False)\n",
    "    pair_test_loader=DataLoader(pair_test_dataset,12,shuffle=False)\n",
    "\n",
    "    train_losses = models_train.model_train(efficient_facenet, epochs=update_features_every_epochs, learn_rate=0.001,\n",
    "                                            train_loader=pair_train_loader, test_loader=pair_test_loader, train_mod=\"pair\",\n",
    "                                            cuda=True, weight_saving_path=model_weights_path,\n",
    "                                            epoch_data_saving_path=train_data_save_path, notes=train_notes,\n",
    "                                            optimizer=optimizer)\n",
    "    img_features = None\n",
    "    efficient_facenet.load_local_weights(get_last_weights_path(model_weights_path), cuda_weights=True)\n"
   ]
  },
  {
   "cell_type": "code",
   "execution_count": 13,
   "outputs": [
    {
     "name": "stdout",
     "output_type": "stream",
     "text": [
      " data processed [==========] time remaing=-0.00"
     ]
    }
   ],
   "source": [
    "celeb_subset_data_path = \"../dataset/preprocessed/img_celeb_test\"\n",
    "imgs_features_dict = data_load.get_pic_features_dict(celeb_subset_data_path, model=efficient_facenet.descriptor,\n",
    "                                                     transform=test_transform, cuda=True,batch_size=10)\n",
    "\n"
   ],
   "metadata": {
    "collapsed": false,
    "pycharm": {
     "name": "#%%\n"
    }
   }
  },
  {
   "cell_type": "code",
   "execution_count": 14,
   "outputs": [],
   "source": [
    "full_test_data_pd = pd.DataFrame(generate_dataset.generate_testing_data_set_frame(img_celeb_subset, False))\n",
    "full_test_data_pd = full_test_data_pd.sample(frac=1)\n",
    "test_data_pd = full_test_data_pd.iloc[:10000, :]"
   ],
   "metadata": {
    "collapsed": false,
    "pycharm": {
     "name": "#%%\n"
    }
   }
  },
  {
   "cell_type": "code",
   "execution_count": 20,
   "outputs": [
    {
     "name": "stdout",
     "output_type": "stream",
     "text": [
      " Testing  [==========] time remaining = 0.0 Accuracy =84.42Accuracy now equal --> 84.4200%\n"
     ]
    }
   ],
   "source": [
    "\n",
    "error_table, confusion_table = evaluation.model_test(imgs_features_dict, test_data_pd, results_path=\"\", threshold=0.47,\n",
    "                                                     classifier=efficient_facenet.classify_face_features, cuda=True)"
   ],
   "metadata": {
    "collapsed": false,
    "pycharm": {
     "name": "#%%\n"
    }
   }
  },
  {
   "cell_type": "code",
   "execution_count": 21,
   "outputs": [
    {
     "data": {
      "text/plain": "                              Mertic         Value\n0                     processed rows       10000.0\n1  Model accuracy on Proceed Faces %         84.42\n2                     False Positive           824\n3                     False Negative           734\n4                          precision      0.838362\n5                             recall       0.85341\n6                        fbeta-score      0.433511\n7           avg same person distance  [0.65422565]\n8           avg diff person distance  [0.18741547]\n9                    Model tolerance          0.47",
      "text/html": "<div>\n<style scoped>\n    .dataframe tbody tr th:only-of-type {\n        vertical-align: middle;\n    }\n\n    .dataframe tbody tr th {\n        vertical-align: top;\n    }\n\n    .dataframe thead th {\n        text-align: right;\n    }\n</style>\n<table border=\"1\" class=\"dataframe\">\n  <thead>\n    <tr style=\"text-align: right;\">\n      <th></th>\n      <th>Mertic</th>\n      <th>Value</th>\n    </tr>\n  </thead>\n  <tbody>\n    <tr>\n      <th>0</th>\n      <td>processed rows</td>\n      <td>10000.0</td>\n    </tr>\n    <tr>\n      <th>1</th>\n      <td>Model accuracy on Proceed Faces %</td>\n      <td>84.42</td>\n    </tr>\n    <tr>\n      <th>2</th>\n      <td>False Positive</td>\n      <td>824</td>\n    </tr>\n    <tr>\n      <th>3</th>\n      <td>False Negative</td>\n      <td>734</td>\n    </tr>\n    <tr>\n      <th>4</th>\n      <td>precision</td>\n      <td>0.838362</td>\n    </tr>\n    <tr>\n      <th>5</th>\n      <td>recall</td>\n      <td>0.85341</td>\n    </tr>\n    <tr>\n      <th>6</th>\n      <td>fbeta-score</td>\n      <td>0.433511</td>\n    </tr>\n    <tr>\n      <th>7</th>\n      <td>avg same person distance</td>\n      <td>[0.65422565]</td>\n    </tr>\n    <tr>\n      <th>8</th>\n      <td>avg diff person distance</td>\n      <td>[0.18741547]</td>\n    </tr>\n    <tr>\n      <th>9</th>\n      <td>Model tolerance</td>\n      <td>0.47</td>\n    </tr>\n  </tbody>\n</table>\n</div>"
     },
     "execution_count": 21,
     "metadata": {},
     "output_type": "execute_result"
    }
   ],
   "source": [
    "error_table"
   ],
   "metadata": {
    "collapsed": false,
    "pycharm": {
     "name": "#%%\n"
    }
   }
  },
  {
   "cell_type": "code",
   "execution_count": null,
   "outputs": [],
   "source": [],
   "metadata": {
    "collapsed": false,
    "pycharm": {
     "name": "#%%\n"
    }
   }
  }
 ],
 "metadata": {
  "kernelspec": {
   "display_name": "Python 3 (ipykernel)",
   "language": "python",
   "name": "python3"
  },
  "language_info": {
   "codemirror_mode": {
    "name": "ipython",
    "version": 3
   },
   "file_extension": ".py",
   "mimetype": "text/x-python",
   "name": "python",
   "nbconvert_exporter": "python",
   "pygments_lexer": "ipython3",
   "version": "3.10.4"
  }
 },
 "nbformat": 4,
 "nbformat_minor": 1
}