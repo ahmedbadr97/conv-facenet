{
 "cells": [
  {
   "cell_type": "code",
   "execution_count": null,
   "outputs": [],
   "source": [],
   "metadata": {
    "collapsed": false,
    "pycharm": {
     "name": "#%%\n"
    }
   }
  },
  {
   "cell_type": "code",
   "execution_count": 1,
   "outputs": [],
   "source": [
    "import sys\n",
    "import time\n",
    "\n",
    "from src.efficentnet_train import data_loader,data_preprocessing\n",
    "import matplotlib.pyplot as plt\n",
    "from torch.utils.data import DataLoader\n",
    "from src.efficentfacenet import face_descriptor\n",
    "from torchvision import transforms\n",
    "\n"
   ],
   "metadata": {
    "collapsed": false,
    "pycharm": {
     "name": "#%%\n"
    }
   }
  },
  {
   "cell_type": "code",
   "execution_count": 2,
   "outputs": [],
   "source": [
    "\n",
    "dataset_path=\"../dataset/preprocessed/lfw_prep\""
   ],
   "metadata": {
    "collapsed": false,
    "pycharm": {
     "name": "#%%\n"
    }
   }
  },
  {
   "cell_type": "code",
   "execution_count": 3,
   "outputs": [
    {
     "name": "stdout",
     "output_type": "stream",
     "text": [
      " 100.0 % of the folders processed img dict loaded in 0.48 m\n"
     ]
    }
   ],
   "source": [
    "imgs_dict=data_loader.get_imgs_dict(dataset_path)"
   ],
   "metadata": {
    "collapsed": false,
    "pycharm": {
     "name": "#%%\n"
    }
   }
  },
  {
   "cell_type": "code",
   "execution_count": 4,
   "outputs": [
    {
     "data": {
      "text/plain": "12646"
     },
     "execution_count": 4,
     "metadata": {},
     "output_type": "execute_result"
    }
   ],
   "source": [
    "len(imgs_dict)"
   ],
   "metadata": {
    "collapsed": false,
    "pycharm": {
     "name": "#%%\n"
    }
   }
  },
  {
   "cell_type": "code",
   "execution_count": 5,
   "outputs": [],
   "source": [
    "train_data_loader=data_loader.data_generator(32,imgs_dict,dataset_path)"
   ],
   "metadata": {
    "collapsed": false,
    "pycharm": {
     "name": "#%%\n"
    }
   }
  },
  {
   "cell_type": "code",
   "execution_count": 6,
   "outputs": [],
   "source": [
    "a,p,n=next(train_data_loader)"
   ],
   "metadata": {
    "collapsed": false,
    "pycharm": {
     "name": "#%%\n"
    }
   }
  },
  {
   "cell_type": "code",
   "execution_count": 7,
   "outputs": [
    {
     "data": {
      "text/plain": "(32, 160, 160, 3)"
     },
     "execution_count": 7,
     "metadata": {},
     "output_type": "execute_result"
    }
   ],
   "source": [
    "a.shape"
   ],
   "metadata": {
    "collapsed": false,
    "pycharm": {
     "name": "#%%\n"
    }
   }
  },
  {
   "cell_type": "code",
   "execution_count": 8,
   "outputs": [],
   "source": [
    "# for i in range(30):\n",
    "#     _,ax=plt.subplots(1,3)\n",
    "#     ax[0].set_title(\"Anchor\")\n",
    "#     ax[0].imshow(a[i])\n",
    "#\n",
    "#     ax[1].set_title(\"Positive\")\n",
    "#     ax[1].imshow(p[i])\n",
    "#\n",
    "#     ax[2].set_title(\"Negative\")\n",
    "#     ax[2].imshow(n[i])"
   ],
   "metadata": {
    "collapsed": false,
    "pycharm": {
     "name": "#%%\n"
    }
   }
  },
  {
   "cell_type": "code",
   "execution_count": 6,
   "outputs": [],
   "source": [
    "model=face_descriptor.FaceDescriptorModel(download_weights=True,version=\"efficientnet_b1\")\n",
    "trans=transforms.Compose([transforms.ToTensor(),transforms.Resize((240,240))])"
   ],
   "metadata": {
    "collapsed": false,
    "pycharm": {
     "name": "#%%\n"
    }
   }
  },
  {
   "cell_type": "code",
   "execution_count": 7,
   "outputs": [],
   "source": [
    "dataset=data_loader.FacesDataset(dataset_path,1024,trans)"
   ],
   "metadata": {
    "collapsed": false,
    "pycharm": {
     "name": "#%%\n"
    }
   }
  },
  {
   "cell_type": "code",
   "execution_count": 10,
   "outputs": [],
   "source": [],
   "metadata": {
    "collapsed": false,
    "pycharm": {
     "name": "#%%\n"
    }
   }
  },
  {
   "cell_type": "code",
   "execution_count": 11,
   "outputs": [],
   "source": [],
   "metadata": {
    "collapsed": false,
    "pycharm": {
     "name": "#%%\n"
    }
   }
  },
  {
   "cell_type": "code",
   "execution_count": 8,
   "outputs": [],
   "source": [
    "from torch import optim\n",
    "from torch.nn import TripletMarginLoss\n",
    "import time\n",
    "epochs=5\n",
    "batch_size=16\n",
    "lr=0.01\n",
    "optimizer=optim.Adam(model.parameters(),lr=lr)\n",
    "loss_function=TripletMarginLoss()\n",
    "train_loader=DataLoader(dataset,batch_size=batch_size,shuffle=True)\n",
    "data_size=float(len(train_loader.dataset))"
   ],
   "metadata": {
    "collapsed": false,
    "pycharm": {
     "name": "#%%\n"
    }
   }
  },
  {
   "cell_type": "code",
   "execution_count": 14,
   "outputs": [
    {
     "name": "stdout",
     "output_type": "stream",
     "text": [
      "\n"
     ]
    }
   ],
   "source": [
    "print()"
   ],
   "metadata": {
    "collapsed": false,
    "pycharm": {
     "name": "#%%\n"
    }
   }
  },
  {
   "cell_type": "code",
   "execution_count": 9,
   "outputs": [],
   "source": [
    "for p in model.parameters():\n",
    "    p.requires_grad=True"
   ],
   "metadata": {
    "collapsed": false,
    "pycharm": {
     "name": "#%%\n"
    }
   }
  },
  {
   "cell_type": "code",
   "execution_count": null,
   "outputs": [],
   "source": [
    "for e in range(epochs):\n",
    "    loss_sum=0.0\n",
    "    ts=time.time()\n",
    "    for anchor_img,positive_img,negative_img in train_loader:\n",
    "        optimizer.zero_grad()\n",
    "        anchor_img.requires_grad=True\n",
    "        positive_img.requires_grad=True\n",
    "        negative_img.requires_grad=True\n",
    "\n",
    "        anchor_vector=model(anchor_img)\n",
    "        positive_vector=model(positive_img)\n",
    "        negative_vector=model(negative_img)\n",
    "\n",
    "        loss=loss_function(anchor_img,positive_img,negative_img)\n",
    "        loss.backward()\n",
    "\n",
    "        loss_sum+=loss.item()*batch_size\n",
    "        optimizer.step()\n",
    "    te=time.time()\n",
    "    sys.stdout.flush()\n",
    "    sys.stdout.write(\"\\r loss=\"+str(loss_sum/data_size)+\" time for one epoch= \"+str((te-ts)/60.0)[0:4])"
   ],
   "metadata": {
    "collapsed": false,
    "pycharm": {
     "name": "#%%\n"
    }
   }
  },
  {
   "cell_type": "code",
   "execution_count": 15,
   "outputs": [
    {
     "data": {
      "text/plain": "Sequential(\n  (0): Dropout(p=0.2, inplace=False)\n  (1): Linear(in_features=1280, out_features=128, bias=True)\n)"
     },
     "execution_count": 15,
     "metadata": {},
     "output_type": "execute_result"
    }
   ],
   "source": [],
   "metadata": {
    "collapsed": false,
    "pycharm": {
     "name": "#%%\n"
    }
   }
  },
  {
   "cell_type": "code",
   "execution_count": 14,
   "outputs": [
    {
     "data": {
      "text/plain": "Sequential(\n  (0): Dropout(p=0.2, inplace=False)\n  (1): Linear(in_features=1280, out_features=128, bias=True)\n)"
     },
     "execution_count": 14,
     "metadata": {},
     "output_type": "execute_result"
    }
   ],
   "source": [
    "model.classifier.requires_grad_()"
   ],
   "metadata": {
    "collapsed": false,
    "pycharm": {
     "name": "#%%\n"
    }
   }
  },
  {
   "cell_type": "code",
   "execution_count": null,
   "outputs": [],
   "source": [],
   "metadata": {
    "collapsed": false,
    "pycharm": {
     "name": "#%%\n"
    }
   }
  }
 ],
 "metadata": {
  "kernelspec": {
   "display_name": "Python 3",
   "language": "python",
   "name": "python3"
  },
  "language_info": {
   "codemirror_mode": {
    "name": "ipython",
    "version": 2
   },
   "file_extension": ".py",
   "mimetype": "text/x-python",
   "name": "python",
   "nbconvert_exporter": "python",
   "pygments_lexer": "ipython2",
   "version": "2.7.6"
  }
 },
 "nbformat": 4,
 "nbformat_minor": 0
}